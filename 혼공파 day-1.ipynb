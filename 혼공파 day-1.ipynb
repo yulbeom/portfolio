{
 "cells": [
  {
   "cell_type": "code",
   "execution_count": null,
   "id": "bc0d736f",
   "metadata": {},
   "outputs": [],
   "source": [
    "print(\"test\")"
   ]
  },
  {
   "cell_type": "code",
   "execution_count": null,
   "id": "12a85170",
   "metadata": {
    "scrolled": true
   },
   "outputs": [],
   "source": [
    "import keyword\n",
    "print(keyword.kwlist)"
   ]
  },
  {
   "cell_type": "markdown",
   "id": "6d71b234",
   "metadata": {},
   "source": [
    "# python code \n",
    "-- print 설명\n",
    ". test\n",
    "1. 456\n",
    "\n"
   ]
  },
  {
   "cell_type": "code",
   "execution_count": null,
   "id": "76ce846f",
   "metadata": {},
   "outputs": [],
   "source": [
    "a = 10 + 20\n",
    "print(a)"
   ]
  },
  {
   "cell_type": "code",
   "execution_count": null,
   "id": "6be0bd49",
   "metadata": {},
   "outputs": [],
   "source": [
    "print(10, 20, 'print test')\n",
    "print(50)\n",
    "a\n",
    "\n",
    "# print('a = ', a)\n",
    "b = 20\n",
    "b"
   ]
  },
  {
   "cell_type": "code",
   "execution_count": null,
   "id": "4f5573da",
   "metadata": {},
   "outputs": [],
   "source": [
    "\n",
    "# 여러 개를 출력합니다.\n",
    "print(\"# 여러 개를 출력합니다.\")\n",
    "print(10, 20, 30, 40, 50)\n",
    "print(\"안녕하세요\", \"저의\", \"이름은\", \"윤인성입니다!\")\n",
    "print()\n",
    "\n",
    "# 하나만 출력합니다.\n",
    "print(\"# 하나만 출력합니다.\")\n",
    "print(\"Hello Python Programming...!\")\n",
    "print()\n",
    "\n",
    "# 아무것도 입력하지 않으면 단순하게 줄바꿈합니다.\n",
    "print(\"# 아무것도 출력하지 않습니다.\")\n",
    "print(\"--- 확인 전용선 ---\")\n",
    "print()\n",
    "print()\n",
    "print(\"--- 확인 전용선 ---\")"
   ]
  },
  {
   "cell_type": "code",
   "execution_count": null,
   "id": "537b3232",
   "metadata": {},
   "outputs": [],
   "source": [
    "# print() 함수 사용\n",
    "print(type('test'), type(12), type(True), type(35.0), sep='\\t')\n",
    "print('test123', 'blank')\n",
    "# \"를 출력  \\\"  escape 문자사용\n",
    "print(\"\\\"hello !!\\\\\\\"\")\n",
    "\n",
    "# \\t, \\n, \\특수문자 (\", ', \\)"
   ]
  },
  {
   "cell_type": "code",
   "execution_count": null,
   "id": "53ae54fb",
   "metadata": {
    "scrolled": true
   },
   "outputs": [],
   "source": [
    "# \\t 를 사용하여 자리수 맞춤으로 출력\n",
    "print(\"이름\\t나이\\t지역\\n\")\n",
    "print()\n",
    "print(\"윤인성\\t25\\t강서구\\n\")\n",
    "print(\"윤아린\\t24\\t강서구\")\n",
    "print(\"구름\\t3\\t강서구\")"
   ]
  },
  {
   "cell_type": "code",
   "execution_count": null,
   "id": "e60ac72f",
   "metadata": {},
   "outputs": [],
   "source": [
    "# 여러 라인의 문자열 => \"\"\" 문자열 \"\"\"    \n",
    "# 문자열 연산 : +  => 문자열 + 문자열\n",
    "print(\"Good\" + \" afternoon !!\" + \" end!!\")\n",
    "# print(\"Good\" + 1)   # error "
   ]
  },
  {
   "cell_type": "code",
   "execution_count": null,
   "id": "6161f25d",
   "metadata": {},
   "outputs": [],
   "source": [
    "# 문자열 * 숫자 => 숫자만큼 문자열 반복\n",
    "# 숫자 * 문자열\n",
    "print('test ' * 3)\n",
    "print(3 * 'test')"
   ]
  },
  {
   "cell_type": "code",
   "execution_count": null,
   "id": "3cc8be15",
   "metadata": {},
   "outputs": [],
   "source": [
    "# 0 인덱스 -> 문자열[인덱스]\n",
    "a_str = '안녕하세요'\n",
    "print(a_str[0])\n",
    "print(a_str[-1])\n",
    "print(a_str[-2]) # 세"
   ]
  },
  {
   "cell_type": "code",
   "execution_count": null,
   "id": "d50c7a03",
   "metadata": {},
   "outputs": [],
   "source": [
    "# 범위의 자료를 검색  [ start : end ]  : start는 포함, end는 포함하지 않음\n",
    " # 안녕만 출력\n",
    " # '하'부터 끝까지 출력\n",
    " # 처음부터'하' 까지만 출력\n",
    "  # 마지막 글자만 제외하고 출력\n",
    "  # 모든 문자 출력\n",
    "\n",
    "# print(a_str[10]) index out of range"
   ]
  },
  {
   "cell_type": "code",
   "execution_count": null,
   "id": "69cce99d",
   "metadata": {},
   "outputs": [],
   "source": [
    "# 자료의 타입을 알려주는 함수 : type()\n",
    "# 문자열의 길이를 구하는 함수 : len()\n",
    "print(len(a_str))\n",
    " # a_str[ 2: 5 - 1]\n",
    "print(type(a_str))"
   ]
  },
  {
   "cell_type": "code",
   "execution_count": null,
   "id": "fec3ab84",
   "metadata": {},
   "outputs": [],
   "source": [
    "# 숫자 연산자 : +, -, *, /, //, %, **\n",
    "print(4 + 2, 4-2, 3 *2, 3 /2, 3%2, 3//2, 3**2)\n",
    "a = 10; b = 3\n",
    "print(a, \"+\", b, \"=\", a+b)\n",
    "print(a, \"//\", b, \"=\", a//b)\n",
    "print(a, \"%\", b, \"=\", a%b)"
   ]
  },
  {
   "cell_type": "code",
   "execution_count": null,
   "id": "ca6a73c9",
   "metadata": {},
   "outputs": [],
   "source": [
    "# 변수 선언과 참조\n",
    "a  = 10\n",
    "print(a + b)\n",
    "\n",
    "a = 11\n",
    "a+b  # 14"
   ]
  },
  {
   "cell_type": "code",
   "execution_count": null,
   "id": "89a144a3",
   "metadata": {},
   "outputs": [],
   "source": []
  },
  {
   "cell_type": "code",
   "execution_count": null,
   "id": "78dfe8fb",
   "metadata": {},
   "outputs": [],
   "source": [
    "a=10\n",
    "b=3\n",
    "a+b"
   ]
  },
  {
   "cell_type": "code",
   "execution_count": null,
   "id": "16b68b67",
   "metadata": {},
   "outputs": [],
   "source": [
    "# a += 3   # a <- 13, 16, 19\n",
    "a + b   #  16  19 22"
   ]
  },
  {
   "cell_type": "code",
   "execution_count": null,
   "id": "11bb3f2b",
   "metadata": {},
   "outputs": [],
   "source": [
    "# 키보드에서 입력 받는 함수 input()\n",
    "input_data = input('자료 입력 > ')  # 값\n",
    "print(input_data, type(input_data))\n",
    "\n",
    "# 데이터 타입 변경 -> int(), float(), str()\n",
    "print(float(input_data) + 100)\n",
    "print(str(float(input_data)) + '1') # str -> float -> str "
   ]
  },
  {
   "cell_type": "code",
   "execution_count": null,
   "id": "77a00a99",
   "metadata": {},
   "outputs": [],
   "source": [
    "# 키보드로 부터 두 수를 입력 받아 두 수의 합과, 곱의 결과를 구하세요\n"
   ]
  },
  {
   "cell_type": "code",
   "execution_count": null,
   "id": "de0af0ea",
   "metadata": {},
   "outputs": [],
   "source": [
    "# 문자열 관련 함수  : \"{} {} \".format(data1, data2)\n",
    "print(\"{} {}\".format('test', 123))\n",
    "print(\"{:5.2f} + {:5.2f} = {:5.2f}\".format(input_a, input_b , input_a + input_b))\n",
    "print(\"input_a type : {}\\t input_b type : {}\".\\\n",
    "      format(type(input_a),type(input_b)))"
   ]
  },
  {
   "cell_type": "code",
   "execution_count": null,
   "id": "fb5ab2f0",
   "metadata": {},
   "outputs": [],
   "source": [
    "# 키보드에서 영문자 입력 -> input_str에 저장\n",
    "# 소문자로 출력  문자열.lower()\n",
    "# 대문자로 출력   문자열.upper()\n"
   ]
  },
  {
   "cell_type": "markdown",
   "id": "11970394",
   "metadata": {},
   "source": [
    "## 식별자 \n",
    " - 문자로 시작 ,_만 포함 , 숫자포함, 공백 포함 안됨\n",
    " - 키워드 안됨\n",
    " - 스네이크 타입(단어를 _으로 연결 ), 캐멀 타입 (단어의 첫글자만 대문자)\n",
    " - 스네이크 ( 변수명, 함수명), 캐멀타입 (클래스명)\n",
    " \n",
    "## 파이썬 데이터 타입 \n",
    "  - 숫자, 문자 , 불리언\n",
    "  - 문자는 \" \" 또는 ' ' 안에 선언\n",
    "  - 숫자의 종류 : int, float\n",
    "  - 불리언 : True, False\n",
    "  \n",
    "## 기본 함수\n",
    "  - print()\n",
    "  - input()\n",
    "  - type()\n",
    "  - len()\n",
    " \n",
    "## 문자열 관련 함수\n",
    " - 문자열.format()\n",
    " - 문자열.lower()\n",
    " - 문자열.upper()"
   ]
  }
 ],
 "metadata": {
  "kernelspec": {
   "display_name": "Python 3 (ipykernel)",
   "language": "python",
   "name": "python3"
  },
  "language_info": {
   "codemirror_mode": {
    "name": "ipython",
    "version": 3
   },
   "file_extension": ".py",
   "mimetype": "text/x-python",
   "name": "python",
   "nbconvert_exporter": "python",
   "pygments_lexer": "ipython3",
   "version": "3.9.7"
  }
 },
 "nbformat": 4,
 "nbformat_minor": 5
}
