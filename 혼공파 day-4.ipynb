{
 "cells": [
  {
   "cell_type": "code",
   "execution_count": 7,
   "id": "91bc2a71",
   "metadata": {},
   "outputs": [],
   "source": [
    "# 재귀함수\n",
    "# 반복문으로 팩토리얼 수 구하기\n",
    "def fact(n):\n",
    "    global counter\n",
    "    output = 1\n",
    "    for i in range(1,n+1):\n",
    "        output *= i\n",
    "        counter += 1\n",
    "    return output\n",
    "# 재귀 함수로 팩토리얼 구하기\n",
    "def fact_rec(n):    # n*fact_rec(n-1)\n",
    "    # n이 0이면 1을 return\n",
    "    global counter\n",
    "    counter += 1\n",
    "    if n == 0:\n",
    "        return 1\n",
    "    else:\n",
    "        return n * fact_rec(n-1)\n"
   ]
  },
  {
   "cell_type": "code",
   "execution_count": 6,
   "id": "85149c39",
   "metadata": {},
   "outputs": [
    {
     "name": "stdout",
     "output_type": "stream",
     "text": [
      "720 6\n"
     ]
    }
   ],
   "source": [
    "counter = 0\n",
    "print(fact(6), counter) # 2! 구함"
   ]
  },
  {
   "cell_type": "code",
   "execution_count": 10,
   "id": "51dafe33",
   "metadata": {},
   "outputs": [
    {
     "name": "stdout",
     "output_type": "stream",
     "text": [
      "10333147966386144929666651337523200000000 36\n"
     ]
    }
   ],
   "source": [
    "counter = 0\n",
    "print(fact_rec(35), counter) # 6! 구함"
   ]
  },
  {
   "cell_type": "code",
   "execution_count": 29,
   "id": "0aea0d56",
   "metadata": {},
   "outputs": [],
   "source": [
    "# 피보나치 수열 : 1=1, 2=1, f(n) = f(n-1) + f(n-2)\n",
    "def fibo(n):   # 실행 속도가 느림 -> 함수 호출 횟수가 중복해서 호출\n",
    "#     print(\"fibonacci({}) 를 구함 \".format(n))\n",
    "    global counter \n",
    "    counter += 1\n",
    "    if n == 1 :\n",
    "        return 1\n",
    "    if n == 2:\n",
    "        return 1\n",
    "    return fibo(n-1) + fibo(n-2)\n",
    "\n",
    "def fibo_memo(n):\n",
    "    global counter \n",
    "    counter += 1\n",
    "    if n in dictionary:\n",
    "        return dictionary[n]\n",
    "\n",
    "    output = fibo_memo(n-1) + fibo_memo(n-2)\n",
    "    dictionary[n] = output\n",
    "    return output\n",
    "    "
   ]
  },
  {
   "cell_type": "code",
   "execution_count": 30,
   "id": "60e15b3f",
   "metadata": {},
   "outputs": [
    {
     "name": "stdout",
     "output_type": "stream",
     "text": [
      "fibo() 실행횟수 : 18454929 \n",
      "fibo_memo() 실행횟수 : 67 \n",
      "{1: 1, 2: 1, 3: 2, 4: 3, 5: 5, 6: 8, 7: 13, 8: 21, 9: 34, 10: 55, 11: 89, 12: 144, 13: 233, 14: 377, 15: 610, 16: 987, 17: 1597, 18: 2584, 19: 4181, 20: 6765, 21: 10946, 22: 17711, 23: 28657, 24: 46368, 25: 75025, 26: 121393, 27: 196418, 28: 317811, 29: 514229, 30: 832040, 31: 1346269, 32: 2178309, 33: 3524578, 34: 5702887, 35: 9227465}\n"
     ]
    }
   ],
   "source": [
    "counter = 0\n",
    "fibo(35)\n",
    "print(\"fibo() 실행횟수 : {} \".format(counter))\n",
    "\n",
    "dictionary = {1:1, 2:1}\n",
    "counter = 0\n",
    "fibo_memo(35)\n",
    "print(\"fibo_memo() 실행횟수 : {} \".format(counter))\n",
    "print(dictionary)"
   ]
  },
  {
   "cell_type": "code",
   "execution_count": 35,
   "id": "6b03e917",
   "metadata": {},
   "outputs": [],
   "source": [
    "# 고급 함수 :  lambda \n",
    "# 함수를 매개변수로 전달하는 대표적인 표준함수\n",
    "# map(함수, 리스트) : 리스트의 각 요소에 함수를 적용\n",
    "# filter( 함수, 리스트) : 리스트의 각 요소중 조건에 맞는 요소만 함수를 적용\n",
    "def power(item):\n",
    "    return item * item\n",
    "def under_3(item):\n",
    "    return item < 3\n",
    "\n",
    "power_1 = lambda x: x*x\n",
    "under_3_1 = lambda x: x < 3"
   ]
  },
  {
   "cell_type": "code",
   "execution_count": 36,
   "id": "204bef28",
   "metadata": {},
   "outputs": [
    {
     "name": "stdout",
     "output_type": "stream",
     "text": [
      "[1, 4, 9, 16, 25]\n",
      "[1, 2]\n"
     ]
    }
   ],
   "source": [
    "list_a = [1,2,3,4,5]\n",
    "# map() 함수를 사용\n",
    "output_a = map(power_1, list_a)\n",
    "print(list(output_a))\n",
    "\n",
    "# filter() 함수를 사용\n",
    "output_b = filter(under_3_1, list_a)\n",
    "print(list(output_b))"
   ]
  },
  {
   "cell_type": "code",
   "execution_count": 37,
   "id": "97f3865d",
   "metadata": {},
   "outputs": [
    {
     "name": "stdout",
     "output_type": "stream",
     "text": [
      "[1, 4, 9, 16, 25]\n",
      "[1, 2]\n"
     ]
    }
   ],
   "source": [
    "list_a = [1,2,3,4,5]\n",
    "# map() 함수를 사용, inline lambda\n",
    "output_a = map(lambda x: x*x, list_a)\n",
    "print(list(output_a))\n",
    "\n",
    "# filter() 함수를 사용\n",
    "output_b = filter(lambda x: x < 3, list_a)\n",
    "print(list(output_b))"
   ]
  },
  {
   "cell_type": "code",
   "execution_count": 46,
   "id": "86ff5854",
   "metadata": {},
   "outputs": [
    {
     "data": {
      "text/plain": [
       "18"
      ]
     },
     "execution_count": 46,
     "metadata": {},
     "output_type": "execute_result"
    }
   ],
   "source": [
    "# 파일 처리 : fp = open(\"파일명\", \"모드\")  ~ fp.close()\n",
    "fp = open(\"./basic1.txt\", \"w\")\n",
    "fp.write(\"file write test!!!\")\n",
    "# fp.close()\n"
   ]
  },
  {
   "cell_type": "code",
   "execution_count": 47,
   "id": "13bf8f0e",
   "metadata": {},
   "outputs": [],
   "source": [
    "fp.close()"
   ]
  },
  {
   "cell_type": "code",
   "execution_count": 121,
   "id": "e1413599",
   "metadata": {},
   "outputs": [],
   "source": [
    "# with 키워드를 사용해서 file open, with구문 종료시 file 자동 close\n",
    "with open(\"basic.txt\", \"a\") as fp:\n",
    "    fp.write(\"with file write test\\n\")\n"
   ]
  },
  {
   "cell_type": "code",
   "execution_count": 65,
   "id": "18c59d64",
   "metadata": {},
   "outputs": [
    {
     "name": "stdout",
     "output_type": "stream",
     "text": [
      "111  ['with file write test\\n', 'with file write test\\n', 'with file write test\\n', 'with file write testwith file write testwith file write test\\n', 'with file write test\\n']\n",
      "222 with file write test\n",
      "\n",
      "222 with file write test\n",
      "\n",
      "222 with file write test\n",
      "\n",
      "222 with file write testwith file write testwith file write test\n",
      "\n",
      "222 with file write test\n",
      "\n"
     ]
    }
   ],
   "source": [
    "# file read\n",
    "with open(\"basic.txt\", \"r\") as fp:\n",
    "    content = fp.read()  # 파일의 전체 데이처 읽음\n",
    "    fp.seek(0)   # 파일의 처음으로 이동\n",
    "    print(\"111 \", fp.readlines())\n",
    "    fp.seek(0)    \n",
    "    for line in fp.readlines():   # \\n을 기준으로 데이터를 읽음\n",
    "        print(\"222\",line)"
   ]
  },
  {
   "cell_type": "code",
   "execution_count": 66,
   "id": "123b4cae",
   "metadata": {},
   "outputs": [
    {
     "name": "stdout",
     "output_type": "stream",
     "text": [
      "계산식 입력 : 10 + 20 의 형식 10 + 20\n",
      "10 + 20 = 30\n"
     ]
    }
   ],
   "source": [
    "# lambda 함수 사용\n",
    "def input_func():\n",
    "    while True:\n",
    "        input_data = input(\"계산식 입력 : 10 + 20 의 형식 \").split()\n",
    "        num_list = [ int(data) for data in input_data if data.isdigit() ]\n",
    "        if input_data[1] in  '+-*/':\n",
    "            return (num_list, input_data[1])\n",
    "num, buho= input_func()\n",
    "# print(input_data)\n",
    "if buho == '+':\n",
    "    result = (lambda x,y : x+y)(num[0], num[1])\n",
    "elif buho == '-':\n",
    "    result = (lambda x,y : x-y)(num[0], num[1])\n",
    "elif buho == '*':\n",
    "    result = (lambda x,y : x*y)(num[0], num[1])\n",
    "else:\n",
    "    result = (lambda x,y : x/y)(num[0], num[1])    \n",
    "print(\"{} {} {} = {}\".format(num[0],  buho,num[1], result))"
   ]
  },
  {
   "cell_type": "code",
   "execution_count": null,
   "id": "4b05f502",
   "metadata": {},
   "outputs": [],
   "source": [
    "# 이름 국어 영어 수학 점수를 입력 받아 파일에 저장 한 후\n",
    "# 파일의 내용을 가져와서 이름을 키로 성적을 데이터로 딕셔너리에 저장 후\n",
    "# 학생 이름 국어 영어 수학 총점 평균을 출력하는 프로그램 작성\n",
    "# 파일명은 student.txt , 딕셔너리는 student 로 하세요\n",
    "# 입력은 이름에 'q'가 입력되면 종료\n",
    "# 홍길동,90,80,70  이 형식으로 파일에 저장"
   ]
  },
  {
   "cell_type": "code",
   "execution_count": 124,
   "id": "1e3c1b9b",
   "metadata": {},
   "outputs": [
    {
     "name": "stdout",
     "output_type": "stream",
     "text": [
      "이름 입력 (홍길동)>q\n"
     ]
    }
   ],
   "source": [
    "# student  = {}\n",
    "fp = open(\"student.txt\", \"a+\")  # w+, r+, a+\n",
    "while True:\n",
    "    name = input(\"이름 입력 (홍길동)>\")\n",
    "    # 입력된 이름이 'q' 이면 입력 종료\n",
    "    if name == 'q':\n",
    "        break\n",
    "    while True:   # 3과목 점수가 입력되지 않으면 입력 반복\n",
    "        input_score = input(\"국어 영어 수학 점수 입력 >\").split()\n",
    "        if len(input_score) == 3:\n",
    "            break\n",
    "    output = name + ','+ ','.join(input_score) + '\\n'\n",
    "    fp.write(output)"
   ]
  },
  {
   "cell_type": "code",
   "execution_count": 128,
   "id": "1c4cdf2c",
   "metadata": {},
   "outputs": [
    {
     "name": "stdout",
     "output_type": "stream",
     "text": [
      "/홍길동 ,99,88,77\n",
      "/\n",
      "line_list :  ['홍길동 ', '99', '88', '77']\n",
      "/김철수,99,88,100\n",
      "/\n",
      "line_list :  ['김철수', '99', '88', '100']\n",
      "/개나리,90,80,90\n",
      "/\n",
      "line_list :  ['개나리', '90', '80', '90']\n",
      "{'홍길동 ': [99, 88, 77], '김철수': [99, 88, 100], '개나리': [90, 80, 90]}\n"
     ]
    }
   ],
   "source": [
    "student = {}\n",
    "fp.seek(0,0)\n",
    "for line in fp.readlines():  # 라인 단위로 데이터 읽어 옴\n",
    "    print(\"/{}/\".format(line))\n",
    "    line_list = line.strip('\\n').split(',')  # 마지막 '\\n'제거 후 ','로 분리\n",
    "    print(\"line_list : \", line_list)\n",
    "#     student[line_list[0]] = list(map(lambda x:int(x),\n",
    "#                                 [ line_list[i] for i in range(1,4) ] ))\n",
    "    student[line_list[0]] = [ int(line_list[i]) for i in range(1,4) ]  \n",
    "print(student)\n",
    "# fp.close()"
   ]
  },
  {
   "cell_type": "code",
   "execution_count": 151,
   "id": "c09ace91",
   "metadata": {},
   "outputs": [
    {
     "name": "stdout",
     "output_type": "stream",
     "text": [
      "홍길동 : 99\t88\t77\t264  88.00\n",
      "김철수 : 99\t88\t100\t287  95.67\n",
      "개나리 : 90\t80\t90\t260  86.67\n"
     ]
    }
   ],
   "source": [
    "for key, score in student.items():\n",
    "#     print(\"{}: {} {} {:3.2f} \".format( key,\n",
    "#               score, sum(score), sum(score)/3))\n",
    "    print(key.strip(), end=' : ')\n",
    "    for i in score:\n",
    "        print(i,end='\\t')\n",
    "    print(\"{}  {:.2f}\".format(sum(score), sum(score)/3))"
   ]
  },
  {
   "cell_type": "code",
   "execution_count": 155,
   "id": "94a6270c",
   "metadata": {},
   "outputs": [
    {
     "name": "stdout",
     "output_type": "stream",
     "text": [
      "first \n",
      "Second\n",
      "test func\n",
      "<generator object test at 0x000002E3DAE0F510>\n"
     ]
    }
   ],
   "source": [
    "# 제너레이터 함수 : yeild 가 존재하면 함수를 호충해도 실행되지 않음\n",
    "# next() 함수를 사용하여 실행\n",
    "def test():\n",
    "    print(\"test func\")\n",
    "    yield \"test\"\n",
    "\n",
    "# 함수 호출\n",
    "print(\"first \")\n",
    "test()\n",
    "\n",
    "print(\"Second\")\n",
    "next(test())\n",
    "print(test())"
   ]
  },
  {
   "cell_type": "code",
   "execution_count": 175,
   "id": "60eea4fa",
   "metadata": {},
   "outputs": [
    {
     "name": "stdout",
     "output_type": "stream",
     "text": [
      "D 지점 통과\n",
      "A 지점 통과\n",
      "1\n",
      "E 지점 통과\n",
      "B 지점 통과\n",
      "2\n",
      "C 지점 통과\n"
     ]
    }
   ],
   "source": [
    "# 제너레이터 함수는 next(제너레이터 함수명)으로 실행 , yeild을 만나면 멈춤\n",
    "def test():\n",
    "    print(\"A 지점 통과\")\n",
    "    yield 1\n",
    "    print(\"B 지점 통과\")\n",
    "    yield 2\n",
    "    print(\"C 지점 통과\")   \n",
    "    yield\n",
    "#함수 호출\n",
    "func = test()\n",
    "print(\"D 지점 통과\")   # 1 \n",
    "print(next(func))    # A 지점 통과,  1\n",
    "print(\"E 지점 통과\")   # E 지점 통과\n",
    "print(next(func))   # B 지점 통과, 2\n",
    "next(func)"
   ]
  },
  {
   "cell_type": "code",
   "execution_count": 179,
   "id": "8add10d6",
   "metadata": {},
   "outputs": [
    {
     "data": {
      "text/plain": [
       "0.3333333333333333"
      ]
     },
     "execution_count": 179,
     "metadata": {},
     "output_type": "execute_result"
    }
   ],
   "source": [
    "(lambda x, y: x/y )(1, 3)\n",
    "# func(값, .. )"
   ]
  },
  {
   "cell_type": "code",
   "execution_count": 180,
   "id": "c479e900",
   "metadata": {},
   "outputs": [
    {
     "name": "stdout",
     "output_type": "stream",
     "text": [
      "정수 입력 a\n",
      "정수를 입력하세요\n"
     ]
    }
   ],
   "source": [
    "# try ~ except  ~ else: 프로그램 실행시 예외 발생시 처리하는 구문\n",
    "# try:\n",
    "#    예외 발생 가능성 있는 코드\n",
    "# except :\n",
    "#    예외 발생시 실행하는 코드\n",
    "# else :\n",
    "#    정상 작동시 실행하는 코드\n",
    "# finally :\n",
    "#    무조건 실행하는 코드\n",
    "try:\n",
    "    input_num = int(input(\"정수 입력 \"))\n",
    "    print(input_num * 2)\n",
    "except:\n",
    "    pass\n",
    "#     print(\"정수를 입력하세요\")"
   ]
  },
  {
   "cell_type": "code",
   "execution_count": 193,
   "id": "5cfbb2a2",
   "metadata": {},
   "outputs": [
    {
     "name": "stdout",
     "output_type": "stream",
     "text": [
      "run time error\n",
      "[Errno 2] No such file or directory: 'info11.txt'\n",
      "The end\n",
      "file closed :  True\n"
     ]
    }
   ],
   "source": [
    "try:\n",
    "    fp = open(\"info11.txt\", \"r\")\n",
    "    fp.write(\"try test file \\n\")\n",
    "except Exception as e:\n",
    "    print(\"run time error\")\n",
    "    print(e)\n",
    "else:\n",
    "    print(\"file read\")\n",
    "    try:\n",
    "        fp.read()\n",
    "    except:\n",
    "        print(\"file read error\")  \n",
    "finally:\n",
    "    print(\"The end\")\n",
    "    fp.close()   \n",
    "    \n",
    "print(\"file closed : \", fp.closed)"
   ]
  },
  {
   "cell_type": "code",
   "execution_count": 194,
   "id": "1b7d1971",
   "metadata": {},
   "outputs": [
    {
     "name": "stdout",
     "output_type": "stream",
     "text": [
      "func start\n",
      "try 구문 실행\n",
      "finally 실행\n"
     ]
    }
   ],
   "source": [
    "# try ~ except ~ else ~ finally ~ : finally는 어느 경우에도 무조건 실행함 \n",
    "def test():\n",
    "    print(\"func start\")\n",
    "    try:\n",
    "        print(\"try 구문 실행\")\n",
    "        return\n",
    "    except:\n",
    "        print(\"except 구문 실행\")\n",
    "    finally:\n",
    "        print(\"finally 실행\")\n",
    "    print(\"test end\")\n",
    "    \n",
    "test()"
   ]
  },
  {
   "cell_type": "code",
   "execution_count": 232,
   "id": "d4e4f057",
   "metadata": {},
   "outputs": [],
   "source": [
    "def input_data(fp):\n",
    "    while True:\n",
    "        try:\n",
    "            i_data = input(\"이름 성적 입력 \").split()\n",
    "            name = i_data[0]\n",
    "            if name == 'q':   \n",
    "                return\n",
    "            score = i_data[1]\n",
    "            fp.write(','.join(i_data)+'\\n')\n",
    "        except Exception as e:\n",
    "            print(\"입력 오류 -> 다시 입력하세요 :\", e)\n",
    "        finally :\n",
    "            print(\"입력 종료\")\n",
    "            \n",
    "def read_file():\n",
    "    global fp\n",
    "    fp.seek(0,0)\n",
    "    for line in fp:\n",
    "        line_list = line.split(',')\n",
    "        print(\"{} : {}\".format(line_list[0], line_list[1]))"
   ]
  },
  {
   "cell_type": "code",
   "execution_count": 233,
   "id": "d093bc4c",
   "metadata": {},
   "outputs": [
    {
     "name": "stdout",
     "output_type": "stream",
     "text": [
      "이름 성적 입력 a 10\n",
      "입력 종료\n",
      "이름 성적 입력 b\n",
      "입력 오류 -> 다시 입력하세요 : list index out of range\n",
      "입력 종료\n",
      "이름 성적 입력 d 10\n",
      "입력 종료\n",
      "이름 성적 입력 q\n",
      "입력 종료\n",
      "a : 10\n",
      "\n",
      "d : 10\n",
      "\n",
      "file close\n",
      "progeam end\n"
     ]
    }
   ],
   "source": [
    "# 이름과 성적을 입력 받아 파일에 저장하는 프로그램 작성\n",
    "# try ~ except ~ finally 를 사용하여 입력 자료 검증\n",
    "# 이름은 isalpha , 점수는 isdigit인지 확인\n",
    "# 이름에 'q'가 입력되면 종료\n",
    "try:\n",
    "    fp = open(\"student.csv\", \"w+\")\n",
    "    input_data(fp)  #  이름과 성적 입력\n",
    "    read_file()\n",
    "except Exception as e:\n",
    "    print(e)\n",
    "finally:\n",
    "    print(\"file close\")\n",
    "    fp.close()\n",
    "print(\"progeam end\")"
   ]
  }
 ],
 "metadata": {
  "kernelspec": {
   "display_name": "Python 3 (ipykernel)",
   "language": "python",
   "name": "python3"
  },
  "language_info": {
   "codemirror_mode": {
    "name": "ipython",
    "version": 3
   },
   "file_extension": ".py",
   "mimetype": "text/x-python",
   "name": "python",
   "nbconvert_exporter": "python",
   "pygments_lexer": "ipython3",
   "version": "3.9.7"
  }
 },
 "nbformat": 4,
 "nbformat_minor": 5
}
