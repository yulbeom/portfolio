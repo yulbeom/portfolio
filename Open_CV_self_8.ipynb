{
 "cells": [
  {
   "cell_type": "code",
   "execution_count": 1,
   "metadata": {},
   "outputs": [
    {
     "name": "stdout",
     "output_type": "stream",
     "text": [
      "Requirement already satisfied: opencv-python in c:\\users\\chanb\\anaconda3\\envs\\ai7\\lib\\site-packages (4.6.0.66)\n",
      "Requirement already satisfied: numpy>=1.19.3 in c:\\users\\chanb\\anaconda3\\envs\\ai7\\lib\\site-packages (from opencv-python) (1.21.5)\n"
     ]
    }
   ],
   "source": [
    "! pip install opencv-python"
   ]
  },
  {
   "cell_type": "code",
   "execution_count": 2,
   "metadata": {},
   "outputs": [],
   "source": [
    "import numpy as np\n",
    "import cv2\n",
    "import sys\n",
    "import matplotlib.pyplot as plt"
   ]
  },
  {
   "cell_type": "markdown",
   "metadata": {},
   "source": [
    "# 복습"
   ]
  },
  {
   "cell_type": "code",
   "execution_count": 3,
   "metadata": {},
   "outputs": [],
   "source": [
    "import glob"
   ]
  },
  {
   "cell_type": "code",
   "execution_count": 7,
   "metadata": {},
   "outputs": [],
   "source": [
    "img_files = glob.glob('./fig/images/*.*') # ??\n",
    "\n",
    "cv2.namedWindow('scene', cv2.WINDOW_NORMAL)\n",
    "cv2.setWindowProperty('scene', cv2.WND_PROP_FULLSCREEN, cv2.WINDOW_FULLSCREEN) \n",
    "\n",
    "idx = 0\n",
    "\n",
    "while True:\n",
    "    img = cv2.imread(img_files[idx])\n",
    "    \n",
    "    cv2.imshow('scene', img)\n",
    "\n",
    "    if cv2.waitKey(3000) == 27:\n",
    "        break\n",
    "\n",
    "    idx += 1\n",
    "    if idx >= len(img_files):\n",
    "        idx = 0\n",
    "\n",
    "cv2.destroyAllWindows()"
   ]
  },
  {
   "cell_type": "code",
   "execution_count": null,
   "metadata": {},
   "outputs": [],
   "source": [
    "src = cv2.imread('./fig/images/imgbin_sunglasses_1.png', cv2.IMREAD_UNCHANGED) # UNCHANGED -> 알파 채널 있을때만\n",
    "\n",
    "mask = src[:, :, -1]\n",
    "\n",
    "cv2.imshow('mask', mask)\n",
    "cv2.waitkey()\n",
    "cv2.destroyAllWindows()"
   ]
  },
  {
   "cell_type": "code",
   "execution_count": 3,
   "metadata": {},
   "outputs": [],
   "source": [
    "img = np.full((600, 1200, 3), 255, np.uint8)\n",
    "\n",
    "cv2.line(img, (50, 50), (200, 100), (0, 0, 255), 5, cv2.LINE_AA)\n",
    "\n",
    "\n",
    "cv2.imshow('img', img)\n",
    "\n",
    "cv2.waitKey()\n",
    "cv2.destroyAllWindows()"
   ]
  },
  {
   "cell_type": "code",
   "execution_count": 4,
   "metadata": {},
   "outputs": [],
   "source": [
    "# 영상\n",
    "cap = cv2.VideoCapture(0) \n",
    "\n",
    "if not cap.isOpened():\n",
    "    print('video open failed')\n",
    "    sys.exit()\n",
    "\n",
    "w = int(cap.get(cv2.CAP_PROP_FRAME_WIDTH))\n",
    "h = int(cap.get(cv2.CAP_PROP_FRAME_HEIGHT))\n",
    "fps = int(cap.get(cv2.CAP_PROP_FPS)*0.7)\n",
    "fourcc = cv2.VideoWriter_fourcc(*'DIVX')\n",
    "\n",
    "out = cv2.VideoWriter('output.avi', fourcc, fps, (w, h)) \n",
    "\n",
    "while True:\n",
    "\n",
    "    ret, frame = cap.read()\n",
    "\n",
    "    if not ret :\n",
    "        print('frame open failed')\n",
    "        break\n",
    "    edge = cv2.Canny(frame, 50, 150)\n",
    "    frame_flip = cv2.flip(frame, 1)\n",
    "\n",
    "    out.write(frame_flip)\n",
    "\n",
    "    cv2.imshow('frame', frame)\n",
    "    cv2.imshow('edge', edge)\n",
    "    cv2.imshow('frame_flip', frame_flip)\n",
    "\n",
    "    if cv2.waitKey(30) == 27:\n",
    "        break\n",
    "\n",
    "out.release()\n",
    "cap.release()\n",
    "cv2.destroyAllWindows()"
   ]
  },
  {
   "cell_type": "code",
   "execution_count": 7,
   "metadata": {},
   "outputs": [],
   "source": [
    "img = cv2.imread('./fig/images/lenna.bmp', 0)\n",
    "\n",
    "cv2.imshow('img', img)\n",
    "\n",
    "while True:\n",
    "    key = cv2.waitKey()\n",
    "\n",
    "    if key == 27 or key == ord('q'):\n",
    "        break\n",
    "\n",
    "    elif key == ord('i'):\n",
    "        img = 255 - img\n",
    "        cv2.imshow('img', img)\n",
    "\n",
    "    elif key == ord('f'):\n",
    "        img = cv2.flip(img, 1)\n",
    "        cv2.imshow('img', img)\n",
    "\n",
    "cv2.waitKey()\n",
    "cv2.destroyAllWindows()"
   ]
  },
  {
   "cell_type": "code",
   "execution_count": 9,
   "metadata": {},
   "outputs": [],
   "source": [
    "cap = cv2.VideoCapture(0)\n",
    "\n",
    "f_flag = False # flag ???\n",
    "i_flag = False\n",
    "\n",
    "while True:\n",
    "    ret, frame = cap.read()\n",
    "\n",
    "    if f_flag:\n",
    "        frame = cv2.flip(frame, 1)\n",
    "\n",
    "    if i_flag:\n",
    "        frame = cv2.Canny(frame, 50, 150)\n",
    "\n",
    "    cv2.imshow('image', frame)\n",
    "\n",
    "    key = cv2.waitKey(20)\n",
    "\n",
    "    if key == 27:\n",
    "        break\n",
    "\n",
    "    elif key == ord('f'):\n",
    "        f_flag = not f_flag\n",
    "   \n",
    "    elif key == ord('i'):\n",
    "        i_flag = not i_flag\n",
    "\n",
    "cap.release()    \n",
    "cv2.destroyAllWindows()"
   ]
  },
  {
   "cell_type": "code",
   "execution_count": 11,
   "metadata": {},
   "outputs": [],
   "source": [
    "def onMouse(event, x, y, flags, params):\n",
    "    global oldx, oldy\n",
    "\n",
    "    if event == cv2.EVENT_LBUTTONDOWN:\n",
    "        oldx, oldy = x, y\n",
    "\n",
    "    elif event == cv2.EVENT_MOUSEMOVE:\n",
    "        if flags == cv2.EVENT_FLAG_LBUTTON:\n",
    "            cv2.line(img, (oldx, oldy), (x, y), (0, 0, 255), 10, cv2.LINE_AA)\n",
    "            cv2.imshow('img', img)\n",
    "            oldx, oldy = x, y\n",
    "\n",
    "img = np.ones((480, 640, 3), np.uint8)*255\n",
    "\n",
    "cv2.namedWindow('img')\n",
    "cv2.setMouseCallback('img', onMouse, img)\n",
    "cv2.imshow('img', img)\n",
    "\n",
    "cv2.waitKey()\n",
    "cv2.destroyAllWindows()"
   ]
  },
  {
   "cell_type": "code",
   "execution_count": 14,
   "metadata": {},
   "outputs": [],
   "source": [
    "def onMouse(pos):\n",
    "    img[:] = np.round(img1*(pos/255), 0).astype(np.uint8)\n",
    "    cv2.imshow('img', img)\n",
    "\n",
    "\n",
    "# img = np.zeros((480, 640), np.uint8)\n",
    "img = cv2.imread('./fig/images/lenna.bmp', 0)\n",
    "img1 = img.copy()\n",
    "\n",
    "cv2.namedWindow('img')\n",
    "cv2.createTrackbar('Level', 'img', 0, 255, onMouse)\n",
    "cv2.imshow('img', img)\n",
    "\n",
    "cv2.waitKey()\n",
    "cv2.destroyAllWindows()"
   ]
  },
  {
   "cell_type": "code",
   "execution_count": 15,
   "metadata": {},
   "outputs": [],
   "source": [
    "import time"
   ]
  },
  {
   "cell_type": "code",
   "execution_count": 18,
   "metadata": {},
   "outputs": [
    {
     "name": "stdout",
     "output_type": "stream",
     "text": [
      "1.2516975402832031\n",
      "1.5513000000000001 ms\n"
     ]
    }
   ],
   "source": [
    "tm = cv2.TickMeter()  # 연산 시간 보고 싶을 때\n",
    "\n",
    "t1 = time.time()\n",
    "tm.start()\n",
    "\n",
    "img = cv2.imread('./fig/images/lenna.bmp')\n",
    "blur = cv2.GaussianBlur(img, (0, 0), 1) # 가우시안 블러링\n",
    "\n",
    "t2 = time.time()\n",
    "print((t2 - t1)*1000) # time.time() 함수로 하는 방법\n",
    "tm.stop()\n",
    "print(tm.getTimeMilli(), 'ms') # TickMeter 메소드로 하는 방법 "
   ]
  },
  {
   "cell_type": "code",
   "execution_count": 7,
   "metadata": {},
   "outputs": [],
   "source": [
    "img = cv2.imread('./fig/images/lenna.bmp', 1)\n",
    "\n",
    "img1 = np.clip(img + 100., 0, 255).astype(np.uint8) # 100. 소수점 ???\n",
    "img2 = cv2.add(img, (100, 100, 100, 0)) # 0 -> channel ???\n",
    "\n",
    "cv2.imshow('img', img)\n",
    "cv2.imshow('img1', img1)\n",
    "cv2.imshow('img2', img2)\n",
    "\n",
    "cv2.waitKey()\n",
    "cv2.destroyAllWindows()"
   ]
  },
  {
   "cell_type": "code",
   "execution_count": 30,
   "metadata": {},
   "outputs": [],
   "source": [
    "src1 = cv2.imread('./fig/images/lenna256.bmp', 0)\n",
    "src2 = np.zeros((256, 256), np.uint8)\n",
    "cv2.circle(src2, (128, 128), 100, 200, -1)\n",
    "cv2.circle(src2, (128, 128), 50, 50, -1)\n",
    "\n",
    "dst1 = cv2.add(src1, src2)\n",
    "dst2 = cv2.addWeighted(src1, 0.7, src2, 0.3, 0)\n",
    "dst3 = cv2.subtract(src1, src2)\n",
    "dst4 = cv2.absdiff(src1, src2)\n",
    "\n",
    "\n",
    "cv2.imshow('src1', src1)\n",
    "cv2.imshow('src2', src2)\n",
    "cv2.imshow('add', dst1)\n",
    "cv2.imshow('weighted', dst2)\n",
    "cv2.imshow('subtract', dst3)\n",
    "cv2.imshow('abs', dst4)\n",
    "\n",
    "cv2.waitKey()\n",
    "cv2.destroyAllWindows()"
   ]
  },
  {
   "cell_type": "code",
   "execution_count": 3,
   "metadata": {},
   "outputs": [],
   "source": [
    "src1 = np.zeros((256, 256), np.uint8)\n",
    "cv2.rectangle(src1, (10, 10), (128, 240), 255, -1)\n",
    "\n",
    "src2 = np.zeros((256, 256), np.uint8)\n",
    "cv2.circle(src2, (128, 128), 100, 255, -1)\n",
    "\n",
    "bit_and = cv2.bitwise_and(src1, src2)\n",
    "bit_or = cv2.bitwise_or(src1, src2)\n",
    "bit_xor = cv2.bitwise_xor(src1, src2)\n",
    "bit_not = cv2.bitwise_not(src2)\n",
    "\n",
    "cv2.imshow('src1', src1)\n",
    "cv2.imshow('src2', src2)\n",
    "cv2.imshow('bit_and', bit_and)\n",
    "cv2.imshow('bit_or', bit_or) \n",
    "cv2.imshow('bit_xor', bit_xor) \n",
    "cv2.imshow('bit_not', bit_not) \n",
    "\n",
    "cv2.waitKey()\n",
    "cv2.destroyAllWindows()"
   ]
  },
  {
   "cell_type": "code",
   "execution_count": 5,
   "metadata": {},
   "outputs": [],
   "source": [
    "img = cv2.imread('./fig/images/flowers.jpg')\n",
    "\n",
    "b, g, r = cv2.split(img)\n",
    "\n",
    "img_merge = cv2.merge((b, g, r)) # 이미지 합칠 때\n",
    "\n",
    "cv2.imshow('flower', img)\n",
    "cv2.imshow('b', b)\n",
    "cv2.imshow('g', g)\n",
    "cv2.imshow('r', r)\n",
    "cv2.imshow('flower_merg', img_merge)\n",
    "\n",
    "cv2.waitKey()\n",
    "cv2.destroyAllWindows()"
   ]
  },
  {
   "cell_type": "code",
   "execution_count": 12,
   "metadata": {},
   "outputs": [
    {
     "data": {
      "image/png": "[encoded data removed]",
      "text/plain": [
       "<Figure size 432x288 with 1 Axes>"
      ]
     },
     "metadata": {
      "needs_background": "light"
     },
     "output_type": "display_data"
    }
   ],
   "source": [
    "def getGrayHistImage(hist):\n",
    "    imgHist = np.full((200, 256), 255, dtype=np.uint8)\n",
    "\n",
    "    histMax = np.max(hist)\n",
    "    for x in range(256):\n",
    "        pt1 = (x, 200)\n",
    "        pt2 = (x, 200 - int(hist[x, 0] * 200 / histMax))\n",
    "        cv2.line(imgHist, pt1, pt2, 0)\n",
    "\n",
    "    return imgHist\n",
    "\n",
    "img = cv2.imread('./fig/images/lenna.bmp', 1) # 0 -> gray channel\n",
    "\n",
    "# hist_b = cv2.calcHist([img], [0], None, [256], [0, 256])\n",
    "# hist_g = cv2.calcHist([img], [1], None, [256], [0, 256])\n",
    "# hist_r = cv2.calcHist([img], [2], None, [256], [0, 256])\n",
    "\n",
    "# plt.plot(hist_b, color = 'b')\n",
    "# plt.plot(hist_g, color = 'g')\n",
    "# plt.plot(hist_r, color = 'r')\n",
    "\n",
    "plt.show()\n",
    "\n",
    "cv2.imshow('img', img)\n",
    "\n",
    "cv2.waitKey()\n",
    "cv2.destroyAllWindows()\n",
    "\n"
   ]
  },
  {
   "cell_type": "code",
   "execution_count": 16,
   "metadata": {},
   "outputs": [
    {
     "name": "stdout",
     "output_type": "stream",
     "text": [
      "minVal 100.0\n",
      "maxVal 184.0\n",
      "minLoc (293, 169)\n",
      "maxLoc (369, 80)\n"
     ]
    }
   ],
   "source": [
    "src = cv2.imread('./fig/images/puppy_shrink.png', 0)\n",
    "\n",
    "# hist = cv2.calcHist([src], [0], None, [256], [0, 256]) # [0, 256] -> 0 ~ 255 \n",
    "# plt.plot(hist)\n",
    "# plt.show()\n",
    "\n",
    "minVal, maxVal, minLoc, maxLoc = cv2.minMaxLoc(src, None)\n",
    "print('minVal', minVal)\n",
    "print('maxVal', maxVal)\n",
    "print('minLoc', minLoc)\n",
    "print('maxLoc', maxLoc)\n",
    "dst_norm = np.clip((src-minVal)*255/(maxVal-minVal) + 0., 0, 255).astype(np.uint8)\n",
    "dst_norm_2 = cv2.normalize(src, None, 0, 255, cv2.NORM_MINMAX)\n",
    "dst_equ = cv2.equalizeHist(src)\n",
    "\n",
    "cv2.imshow('src', src)\n",
    "cv2.imshow('dst_norm', dst_norm)\n",
    "cv2.imshow('dst_norm_2', dst_norm_2)\n",
    "cv2.imshow('dst_equ', dst_equ)\n",
    "\n",
    "cv2.waitKey()\n",
    "cv2.destroyAllWindows()"
   ]
  },
  {
   "cell_type": "code",
   "execution_count": 19,
   "metadata": {},
   "outputs": [],
   "source": [
    "src = cv2.imread('./fig/images/spring_in_park.jpg', cv2.IMREAD_REDUCED_COLOR_2)\n",
    "\n",
    "src_hsv = cv2.cvtColor(src, cv2.COLOR_BGR2HSV)\n",
    "\n",
    "h, s, v = cv2.split(src_hsv) # 분리\n",
    "\n",
    "v_norm = cv2.normalize(v, None, 0, 255, cv2.NORM_MINMAX) # 노멀라이징\n",
    "v_equal = cv2.equalizeHist(v) # 이퀄라이징\n",
    "\n",
    "dst_norm = cv2.merge((h, s, v_norm)) # 분리한거 다시 합침\n",
    "dst_equal = cv2.merge((h, s, v_equal))\n",
    "\n",
    "dst_norm = cv2.cvtColor(dst_norm, cv2.COLOR_HSV2BGR) \n",
    "dst_equal = cv2.cvtColor(dst_equal, cv2.COLOR_HSV2BGR) # 왜 다시 HSV2BGR을 하지? \n",
    "\n",
    "cv2.imshow('src', src)\n",
    "cv2.imshow('norm', dst_norm)\n",
    "cv2.imshow('equal', dst_equal)\n",
    "\n",
    "# cv2.imshow('src',src)\n",
    "# cv2.imshow('hue', h)\n",
    "# cv2.imshow('saturation', s) # 여러색이 섞이면 탁하게 나옴\n",
    "# cv2.imshow('value', v)\n",
    "\n",
    "cv2.waitKey()\n",
    "cv2.destroyAllWindows()"
   ]
  },
  {
   "cell_type": "code",
   "execution_count": null,
   "metadata": {},
   "outputs": [],
   "source": [
    "def ontrack(pos):\n",
    "    hmin = cv2.getTrackbarPos('h_min', 'dst')\n",
    "    hmax = cv2.getTrackbarPos('h_max', 'dst')\n",
    "    smin = cv2.getTrackbarPos('s_min', 'dst')\n",
    "\n",
    "    dst = cv2.inRange(src_hsv, (hmin, smin, 0), (hmax, 255, 255))\n",
    "    cv2.imshow('dst', dst)\n",
    "\n",
    "src = cv2.imread('./fig/images/palette.png')\n",
    "# src = cv2.imread('./fig/images/palette_dark.png')\n",
    "\n",
    "src_hsv = cv2.cvtColor(src, cv2.COLOR_BGR2HSV) # google에서 hsv 색상표 참고\n",
    "\n",
    "# src_bgr = cv2.inRange(src, (0, 128, 0), (50, 255, 50)) # (b, g, r)\n",
    "# src_hsv = cv2.inRange(src, (50, 160, 0), (70, 255, 255)) # (h, s, v) \n",
    "\n",
    "cv2.imshow('src', src)\n",
    "cv2.namedWindow('dst')\n",
    "cv2.createTrackbar('h_min', 'dst', 20, 179, ontrack)\n",
    "cv2.createTrackbar('h_max', 'dst', 100, 179, ontrack)\n",
    "cv2.createTrackbar('s_min', 'dst', 60, 255, ontrack)\n",
    "\n",
    "# cv2.imshow('src_bgr', src_bgr)\n",
    "# cv2.imshow('src_hsv', src_hsv)\n",
    "\n",
    "cv2.waitKey()\n",
    "cv2.destroyAllWindows()"
   ]
  }
 ],
 "metadata": {
  "kernelspec": {
   "display_name": "Python 3.9.12 ('ai7')",
   "language": "python",
   "name": "python3"
  },
  "language_info": {
   "codemirror_mode": {
    "name": "ipython",
    "version": 3
   },
   "file_extension": ".py",
   "mimetype": "text/x-python",
   "name": "python",
   "nbconvert_exporter": "python",
   "pygments_lexer": "ipython3",
   "version": "3.9.12"
  },
  "orig_nbformat": 4,
  "vscode": {
   "interpreter": {
    "hash": "b02206e78dfa2a8d5aec0fbd7edf030840ca247420cab45417084002777e7a76"
   }
  }
 },
 "nbformat": 4,
 "nbformat_minor": 2
}
