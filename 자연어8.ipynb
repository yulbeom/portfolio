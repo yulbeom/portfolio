{
  "cells": [
    {
      "cell_type": "markdown",
      "metadata": {
        "id": "view-in-github",
        "colab_type": "text"
      },
      "source": [
        "<a href=\"https://colab.research.google.com/github/yulbeom/portfolio/blob/main/%EC%9E%90%EC%97%B0%EC%96%B48.ipynb\" target=\"_parent\"><img src=\"https://colab.research.google.com/assets/colab-badge.svg\" alt=\"Open In Colab\"/></a>"
      ]
    },
    {
      "cell_type": "code",
      "execution_count": 1,
      "metadata": {
        "id": "3DjyJMys6jth"
      },
      "outputs": [],
      "source": [
        "import numpy as np\n",
        "import pandas as pd\n",
        "import matplotlib.pyplot as plt\n",
        "from tensorflow.keras.preprocessing.text import Tokenizer \n",
        "from tensorflow.keras.preprocessing.sequence import pad_sequences # 패딩\n",
        "from tensorflow.keras.utils import to_categorical # 원-핫 벡터"
      ]
    },
    {
      "cell_type": "markdown",
      "metadata": {
        "id": "cSqWwm24Y_Ji"
      },
      "source": [
        "### Chatbot_data로 문장생성모델 + 감성분석 실습\n",
        "##### 0 : 중립, 1 : 부정, 2 : 긍정"
      ]
    },
    {
      "cell_type": "code",
      "execution_count": 2,
      "metadata": {
        "id": "JPmZ2bdPEElQ"
      },
      "outputs": [],
      "source": [
        "df = pd.read_csv('ChatbotData.csv')"
      ]
    },
    {
      "cell_type": "code",
      "execution_count": 3,
      "metadata": {
        "colab": {
          "base_uri": "https://localhost:8080/",
          "height": 206
        },
        "id": "I85YO8C_RQpp",
        "outputId": "c03b12ee-9d72-44b7-bb29-f50e7d4b98c3"
      },
      "outputs": [
        {
          "output_type": "execute_result",
          "data": {
            "text/plain": [
              "                 Q            A  label\n",
              "0           12시 땡!   하루가 또 가네요.      0\n",
              "1      1지망 학교 떨어졌어    위로해 드립니다.      0\n",
              "2     3박4일 놀러가고 싶다  여행은 언제나 좋죠.      0\n",
              "3  3박4일 정도 놀러가고 싶다  여행은 언제나 좋죠.      0\n",
              "4          PPL 심하네   눈살이 찌푸려지죠.      0"
            ],
            "text/html": [
              "\n",
              "  <div id=\"df-c252455b-2726-4b65-9d40-4ebc7be1fd73\">\n",
              "    <div class=\"colab-df-container\">\n",
              "      <div>\n",
              "<style scoped>\n",
              "    .dataframe tbody tr th:only-of-type {\n",
              "        vertical-align: middle;\n",
              "    }\n",
              "\n",
              "    .dataframe tbody tr th {\n",
              "        vertical-align: top;\n",
              "    }\n",
              "\n",
              "    .dataframe thead th {\n",
              "        text-align: right;\n",
              "    }\n",
              "</style>\n",
              "<table border=\"1\" class=\"dataframe\">\n",
              "  <thead>\n",
              "    <tr style=\"text-align: right;\">\n",
              "      <th></th>\n",
              "      <th>Q</th>\n",
              "      <th>A</th>\n",
              "      <th>label</th>\n",
              "    </tr>\n",
              "  </thead>\n",
              "  <tbody>\n",
              "    <tr>\n",
              "      <th>0</th>\n",
              "      <td>12시 땡!</td>\n",
              "      <td>하루가 또 가네요.</td>\n",
              "      <td>0</td>\n",
              "    </tr>\n",
              "    <tr>\n",
              "      <th>1</th>\n",
              "      <td>1지망 학교 떨어졌어</td>\n",
              "      <td>위로해 드립니다.</td>\n",
              "      <td>0</td>\n",
              "    </tr>\n",
              "    <tr>\n",
              "      <th>2</th>\n",
              "      <td>3박4일 놀러가고 싶다</td>\n",
              "      <td>여행은 언제나 좋죠.</td>\n",
              "      <td>0</td>\n",
              "    </tr>\n",
              "    <tr>\n",
              "      <th>3</th>\n",
              "      <td>3박4일 정도 놀러가고 싶다</td>\n",
              "      <td>여행은 언제나 좋죠.</td>\n",
              "      <td>0</td>\n",
              "    </tr>\n",
              "    <tr>\n",
              "      <th>4</th>\n",
              "      <td>PPL 심하네</td>\n",
              "      <td>눈살이 찌푸려지죠.</td>\n",
              "      <td>0</td>\n",
              "    </tr>\n",
              "  </tbody>\n",
              "</table>\n",
              "</div>\n",
              "      <button class=\"colab-df-convert\" onclick=\"convertToInteractive('df-c252455b-2726-4b65-9d40-4ebc7be1fd73')\"\n",
              "              title=\"Convert this dataframe to an interactive table.\"\n",
              "              style=\"display:none;\">\n",
              "        \n",
              "  <svg xmlns=\"http://www.w3.org/2000/svg\" height=\"24px\"viewBox=\"0 0 24 24\"\n",
              "       width=\"24px\">\n",
              "    <path d=\"M0 0h24v24H0V0z\" fill=\"none\"/>\n",
              "    <path d=\"M18.56 5.44l.94 2.06.94-2.06 2.06-.94-2.06-.94-.94-2.06-.94 2.06-2.06.94zm-11 1L8.5 8.5l.94-2.06 2.06-.94-2.06-.94L8.5 2.5l-.94 2.06-2.06.94zm10 10l.94 2.06.94-2.06 2.06-.94-2.06-.94-.94-2.06-.94 2.06-2.06.94z\"/><path d=\"M17.41 7.96l-1.37-1.37c-.4-.4-.92-.59-1.43-.59-.52 0-1.04.2-1.43.59L10.3 9.45l-7.72 7.72c-.78.78-.78 2.05 0 2.83L4 21.41c.39.39.9.59 1.41.59.51 0 1.02-.2 1.41-.59l7.78-7.78 2.81-2.81c.8-.78.8-2.07 0-2.86zM5.41 20L4 18.59l7.72-7.72 1.47 1.35L5.41 20z\"/>\n",
              "  </svg>\n",
              "      </button>\n",
              "      \n",
              "  <style>\n",
              "    .colab-df-container {\n",
              "      display:flex;\n",
              "      flex-wrap:wrap;\n",
              "      gap: 12px;\n",
              "    }\n",
              "\n",
              "    .colab-df-convert {\n",
              "      background-color: #E8F0FE;\n",
              "      border: none;\n",
              "      border-radius: 50%;\n",
              "      cursor: pointer;\n",
              "      display: none;\n",
              "      fill: #1967D2;\n",
              "      height: 32px;\n",
              "      padding: 0 0 0 0;\n",
              "      width: 32px;\n",
              "    }\n",
              "\n",
              "    .colab-df-convert:hover {\n",
              "      background-color: #E2EBFA;\n",
              "      box-shadow: 0px 1px 2px rgba(60, 64, 67, 0.3), 0px 1px 3px 1px rgba(60, 64, 67, 0.15);\n",
              "      fill: #174EA6;\n",
              "    }\n",
              "\n",
              "    [theme=dark] .colab-df-convert {\n",
              "      background-color: #3B4455;\n",
              "      fill: #D2E3FC;\n",
              "    }\n",
              "\n",
              "    [theme=dark] .colab-df-convert:hover {\n",
              "      background-color: #434B5C;\n",
              "      box-shadow: 0px 1px 3px 1px rgba(0, 0, 0, 0.15);\n",
              "      filter: drop-shadow(0px 1px 2px rgba(0, 0, 0, 0.3));\n",
              "      fill: #FFFFFF;\n",
              "    }\n",
              "  </style>\n",
              "\n",
              "      <script>\n",
              "        const buttonEl =\n",
              "          document.querySelector('#df-c252455b-2726-4b65-9d40-4ebc7be1fd73 button.colab-df-convert');\n",
              "        buttonEl.style.display =\n",
              "          google.colab.kernel.accessAllowed ? 'block' : 'none';\n",
              "\n",
              "        async function convertToInteractive(key) {\n",
              "          const element = document.querySelector('#df-c252455b-2726-4b65-9d40-4ebc7be1fd73');\n",
              "          const dataTable =\n",
              "            await google.colab.kernel.invokeFunction('convertToInteractive',\n",
              "                                                     [key], {});\n",
              "          if (!dataTable) return;\n",
              "\n",
              "          const docLinkHtml = 'Like what you see? Visit the ' +\n",
              "            '<a target=\"_blank\" href=https://colab.research.google.com/notebooks/data_table.ipynb>data table notebook</a>'\n",
              "            + ' to learn more about interactive tables.';\n",
              "          element.innerHTML = '';\n",
              "          dataTable['output_type'] = 'display_data';\n",
              "          await google.colab.output.renderOutput(dataTable, element);\n",
              "          const docLink = document.createElement('div');\n",
              "          docLink.innerHTML = docLinkHtml;\n",
              "          element.appendChild(docLink);\n",
              "        }\n",
              "      </script>\n",
              "    </div>\n",
              "  </div>\n",
              "  "
            ]
          },
          "metadata": {},
          "execution_count": 3
        }
      ],
      "source": [
        "df.head()"
      ]
    },
    {
      "cell_type": "code",
      "execution_count": 4,
      "metadata": {
        "colab": {
          "base_uri": "https://localhost:8080/",
          "height": 262
        },
        "id": "EfTVm9vBAG11",
        "outputId": "f0bf08f9-b18d-4f39-9514-860cf7d326f7"
      },
      "outputs": [
        {
          "output_type": "display_data",
          "data": {
            "text/plain": [
              "<Figure size 432x288 with 1 Axes>"
            ],
            "image/png": "[encoded data removed]"
          },
          "metadata": {
            "needs_background": "light"
          }
        }
      ],
      "source": [
        "df.label.value_counts().plot(kind='bar')\n",
        "plt.show()"
      ]
    },
    {
      "cell_type": "code",
      "execution_count": 5,
      "metadata": {
        "colab": {
          "base_uri": "https://localhost:8080/",
          "height": 206
        },
        "id": "ke6zZlazQzFN",
        "outputId": "f0248c73-f2b3-45e5-f0da-0652467b7ad2"
      },
      "outputs": [
        {
          "output_type": "execute_result",
          "data": {
            "text/plain": [
              "             A  label\n",
              "0   하루가 또 가네요.      0\n",
              "1    위로해 드립니다.      0\n",
              "2  여행은 언제나 좋죠.      0\n",
              "3  여행은 언제나 좋죠.      0\n",
              "4   눈살이 찌푸려지죠.      0"
            ],
            "text/html": [
              "\n",
              "  <div id=\"df-292f7723-edeb-4de1-9061-a4f5d6363ed5\">\n",
              "    <div class=\"colab-df-container\">\n",
              "      <div>\n",
              "<style scoped>\n",
              "    .dataframe tbody tr th:only-of-type {\n",
              "        vertical-align: middle;\n",
              "    }\n",
              "\n",
              "    .dataframe tbody tr th {\n",
              "        vertical-align: top;\n",
              "    }\n",
              "\n",
              "    .dataframe thead th {\n",
              "        text-align: right;\n",
              "    }\n",
              "</style>\n",
              "<table border=\"1\" class=\"dataframe\">\n",
              "  <thead>\n",
              "    <tr style=\"text-align: right;\">\n",
              "      <th></th>\n",
              "      <th>A</th>\n",
              "      <th>label</th>\n",
              "    </tr>\n",
              "  </thead>\n",
              "  <tbody>\n",
              "    <tr>\n",
              "      <th>0</th>\n",
              "      <td>하루가 또 가네요.</td>\n",
              "      <td>0</td>\n",
              "    </tr>\n",
              "    <tr>\n",
              "      <th>1</th>\n",
              "      <td>위로해 드립니다.</td>\n",
              "      <td>0</td>\n",
              "    </tr>\n",
              "    <tr>\n",
              "      <th>2</th>\n",
              "      <td>여행은 언제나 좋죠.</td>\n",
              "      <td>0</td>\n",
              "    </tr>\n",
              "    <tr>\n",
              "      <th>3</th>\n",
              "      <td>여행은 언제나 좋죠.</td>\n",
              "      <td>0</td>\n",
              "    </tr>\n",
              "    <tr>\n",
              "      <th>4</th>\n",
              "      <td>눈살이 찌푸려지죠.</td>\n",
              "      <td>0</td>\n",
              "    </tr>\n",
              "  </tbody>\n",
              "</table>\n",
              "</div>\n",
              "      <button class=\"colab-df-convert\" onclick=\"convertToInteractive('df-292f7723-edeb-4de1-9061-a4f5d6363ed5')\"\n",
              "              title=\"Convert this dataframe to an interactive table.\"\n",
              "              style=\"display:none;\">\n",
              "        \n",
              "  <svg xmlns=\"http://www.w3.org/2000/svg\" height=\"24px\"viewBox=\"0 0 24 24\"\n",
              "       width=\"24px\">\n",
              "    <path d=\"M0 0h24v24H0V0z\" fill=\"none\"/>\n",
              "    <path d=\"M18.56 5.44l.94 2.06.94-2.06 2.06-.94-2.06-.94-.94-2.06-.94 2.06-2.06.94zm-11 1L8.5 8.5l.94-2.06 2.06-.94-2.06-.94L8.5 2.5l-.94 2.06-2.06.94zm10 10l.94 2.06.94-2.06 2.06-.94-2.06-.94-.94-2.06-.94 2.06-2.06.94z\"/><path d=\"M17.41 7.96l-1.37-1.37c-.4-.4-.92-.59-1.43-.59-.52 0-1.04.2-1.43.59L10.3 9.45l-7.72 7.72c-.78.78-.78 2.05 0 2.83L4 21.41c.39.39.9.59 1.41.59.51 0 1.02-.2 1.41-.59l7.78-7.78 2.81-2.81c.8-.78.8-2.07 0-2.86zM5.41 20L4 18.59l7.72-7.72 1.47 1.35L5.41 20z\"/>\n",
              "  </svg>\n",
              "      </button>\n",
              "      \n",
              "  <style>\n",
              "    .colab-df-container {\n",
              "      display:flex;\n",
              "      flex-wrap:wrap;\n",
              "      gap: 12px;\n",
              "    }\n",
              "\n",
              "    .colab-df-convert {\n",
              "      background-color: #E8F0FE;\n",
              "      border: none;\n",
              "      border-radius: 50%;\n",
              "      cursor: pointer;\n",
              "      display: none;\n",
              "      fill: #1967D2;\n",
              "      height: 32px;\n",
              "      padding: 0 0 0 0;\n",
              "      width: 32px;\n",
              "    }\n",
              "\n",
              "    .colab-df-convert:hover {\n",
              "      background-color: #E2EBFA;\n",
              "      box-shadow: 0px 1px 2px rgba(60, 64, 67, 0.3), 0px 1px 3px 1px rgba(60, 64, 67, 0.15);\n",
              "      fill: #174EA6;\n",
              "    }\n",
              "\n",
              "    [theme=dark] .colab-df-convert {\n",
              "      background-color: #3B4455;\n",
              "      fill: #D2E3FC;\n",
              "    }\n",
              "\n",
              "    [theme=dark] .colab-df-convert:hover {\n",
              "      background-color: #434B5C;\n",
              "      box-shadow: 0px 1px 3px 1px rgba(0, 0, 0, 0.15);\n",
              "      filter: drop-shadow(0px 1px 2px rgba(0, 0, 0, 0.3));\n",
              "      fill: #FFFFFF;\n",
              "    }\n",
              "  </style>\n",
              "\n",
              "      <script>\n",
              "        const buttonEl =\n",
              "          document.querySelector('#df-292f7723-edeb-4de1-9061-a4f5d6363ed5 button.colab-df-convert');\n",
              "        buttonEl.style.display =\n",
              "          google.colab.kernel.accessAllowed ? 'block' : 'none';\n",
              "\n",
              "        async function convertToInteractive(key) {\n",
              "          const element = document.querySelector('#df-292f7723-edeb-4de1-9061-a4f5d6363ed5');\n",
              "          const dataTable =\n",
              "            await google.colab.kernel.invokeFunction('convertToInteractive',\n",
              "                                                     [key], {});\n",
              "          if (!dataTable) return;\n",
              "\n",
              "          const docLinkHtml = 'Like what you see? Visit the ' +\n",
              "            '<a target=\"_blank\" href=https://colab.research.google.com/notebooks/data_table.ipynb>data table notebook</a>'\n",
              "            + ' to learn more about interactive tables.';\n",
              "          element.innerHTML = '';\n",
              "          dataTable['output_type'] = 'display_data';\n",
              "          await google.colab.output.renderOutput(dataTable, element);\n",
              "          const docLink = document.createElement('div');\n",
              "          docLink.innerHTML = docLinkHtml;\n",
              "          element.appendChild(docLink);\n",
              "        }\n",
              "      </script>\n",
              "    </div>\n",
              "  </div>\n",
              "  "
            ]
          },
          "metadata": {},
          "execution_count": 5
        }
      ],
      "source": [
        "df[['A','label']].head()"
      ]
    },
    {
      "cell_type": "code",
      "execution_count": 6,
      "metadata": {
        "id": "9FicR27wQ61K"
      },
      "outputs": [],
      "source": [
        "df = df['A']"
      ]
    },
    {
      "cell_type": "code",
      "execution_count": 7,
      "metadata": {
        "colab": {
          "base_uri": "https://localhost:8080/"
        },
        "id": "IvhX2b8nROHR",
        "outputId": "479aed5e-5ac3-40fc-a365-08845921240a"
      },
      "outputs": [
        {
          "output_type": "execute_result",
          "data": {
            "text/plain": [
              "0     하루가 또 가네요.\n",
              "1      위로해 드립니다.\n",
              "2    여행은 언제나 좋죠.\n",
              "3    여행은 언제나 좋죠.\n",
              "4     눈살이 찌푸려지죠.\n",
              "Name: A, dtype: object"
            ]
          },
          "metadata": {},
          "execution_count": 7
        }
      ],
      "source": [
        "df.head()"
      ]
    },
    {
      "cell_type": "code",
      "execution_count": 8,
      "metadata": {
        "colab": {
          "base_uri": "https://localhost:8080/"
        },
        "id": "YrBmg8CHY9D6",
        "outputId": "e7c415a8-bf72-49dc-c529-028e3f48af76"
      },
      "outputs": [
        {
          "output_type": "stream",
          "name": "stdout",
          "text": [
            "단어 집합의 크기 : 9849\n"
          ]
        }
      ],
      "source": [
        "tokenizer = Tokenizer()\n",
        "tokenizer.fit_on_texts(df)\n",
        "vocab_size = len(tokenizer.word_index) + 1\n",
        "print('단어 집합의 크기 : %d' % vocab_size)"
      ]
    },
    {
      "cell_type": "code",
      "execution_count": 9,
      "metadata": {
        "id": "ia-H0RSjZeLf"
      },
      "outputs": [],
      "source": [
        "sequences = list()\n",
        "for line in df:\n",
        "    encoded = tokenizer.texts_to_sequences([line])[0]\n",
        "    for i in range(1, len(encoded)):\n",
        "        sequence = encoded[:i+1]\n",
        "        sequences.append(sequence)"
      ]
    },
    {
      "cell_type": "code",
      "execution_count": 10,
      "metadata": {
        "id": "u741RelWZwFj"
      },
      "outputs": [],
      "source": [
        "max_len = max(len(i) for i in sequences)"
      ]
    },
    {
      "cell_type": "code",
      "execution_count": 11,
      "metadata": {
        "id": "vCK28pnVZw08"
      },
      "outputs": [],
      "source": [
        "sequences_pad = pad_sequences(sequences, maxlen=max_len, padding='pre')"
      ]
    },
    {
      "cell_type": "code",
      "execution_count": 12,
      "metadata": {
        "id": "aZw5jOJfZw8c"
      },
      "outputs": [],
      "source": [
        "sequences = np.array(sequences_pad)\n",
        "X = sequences[:,:-1]\n",
        "y = sequences[:, -1]"
      ]
    },
    {
      "cell_type": "code",
      "execution_count": 13,
      "metadata": {
        "id": "Q3FnMKziZxED"
      },
      "outputs": [],
      "source": [
        "y = to_categorical(y, num_classes=vocab_size)"
      ]
    },
    {
      "cell_type": "code",
      "execution_count": 14,
      "metadata": {
        "colab": {
          "base_uri": "https://localhost:8080/"
        },
        "id": "7rRneBeZZxKV",
        "outputId": "93a1d15e-47e4-48df-927b-059e73b167d9"
      },
      "outputs": [
        {
          "output_type": "stream",
          "name": "stdout",
          "text": [
            "[[0. 0. 0. ... 0. 0. 0.]\n",
            " [0. 0. 0. ... 0. 0. 0.]\n",
            " [0. 0. 0. ... 0. 0. 0.]\n",
            " ...\n",
            " [0. 0. 0. ... 0. 0. 0.]\n",
            " [0. 0. 0. ... 0. 0. 0.]\n",
            " [0. 0. 0. ... 0. 0. 0.]]\n"
          ]
        }
      ],
      "source": [
        "print(y)"
      ]
    },
    {
      "cell_type": "markdown",
      "metadata": {
        "id": "FkgE5GVkcZm8"
      },
      "source": [
        "##### 모델 설계"
      ]
    },
    {
      "cell_type": "code",
      "execution_count": 43,
      "metadata": {
        "id": "bT7b3uW1ZxP3"
      },
      "outputs": [],
      "source": [
        "from tensorflow.keras.models import Sequential\n",
        "from tensorflow.keras.layers import Embedding, Dense, SimpleRNN, LSTM"
      ]
    },
    {
      "cell_type": "code",
      "execution_count": null,
      "metadata": {
        "colab": {
          "background_save": true,
          "base_uri": "https://localhost:8080/"
        },
        "id": "6ZHUs7aZZxVf",
        "outputId": "01c50f04-4035-47fb-a9c0-6309e21b7e35"
      },
      "outputs": [
        {
          "name": "stdout",
          "output_type": "stream",
          "text": [
            "Epoch 1/200\n",
            "996/996 - 15s - loss: 8.1491 - accuracy: 0.0324 - 15s/epoch - 15ms/step\n",
            "Epoch 2/200\n",
            "996/996 - 14s - loss: 7.4934 - accuracy: 0.0381 - 14s/epoch - 14ms/step\n",
            "Epoch 3/200\n",
            "996/996 - 14s - loss: 7.1726 - accuracy: 0.0512 - 14s/epoch - 14ms/step\n",
            "Epoch 4/200\n",
            "996/996 - 14s - loss: 6.9013 - accuracy: 0.0619 - 14s/epoch - 14ms/step\n",
            "Epoch 5/200\n",
            "996/996 - 15s - loss: 6.5781 - accuracy: 0.0770 - 15s/epoch - 15ms/step\n",
            "Epoch 6/200\n",
            "996/996 - 13s - loss: 6.2812 - accuracy: 0.0919 - 13s/epoch - 14ms/step\n",
            "Epoch 7/200\n",
            "996/996 - 14s - loss: 5.9899 - accuracy: 0.1126 - 14s/epoch - 14ms/step\n",
            "Epoch 8/200\n",
            "996/996 - 14s - loss: 5.7150 - accuracy: 0.1336 - 14s/epoch - 14ms/step\n",
            "Epoch 9/200\n",
            "996/996 - 14s - loss: 5.4476 - accuracy: 0.1593 - 14s/epoch - 14ms/step\n",
            "Epoch 10/200\n",
            "996/996 - 16s - loss: 5.1954 - accuracy: 0.1842 - 16s/epoch - 16ms/step\n",
            "Epoch 11/200\n",
            "996/996 - 16s - loss: 4.9535 - accuracy: 0.2098 - 16s/epoch - 16ms/step\n",
            "Epoch 12/200\n",
            "996/996 - 15s - loss: 4.7262 - accuracy: 0.2363 - 15s/epoch - 16ms/step\n",
            "Epoch 13/200\n",
            "996/996 - 15s - loss: 4.5099 - accuracy: 0.2605 - 15s/epoch - 15ms/step\n",
            "Epoch 14/200\n",
            "996/996 - 14s - loss: 4.3078 - accuracy: 0.2860 - 14s/epoch - 14ms/step\n",
            "Epoch 15/200\n",
            "996/996 - 16s - loss: 4.1170 - accuracy: 0.3116 - 16s/epoch - 16ms/step\n",
            "Epoch 16/200\n",
            "996/996 - 15s - loss: 3.9377 - accuracy: 0.3369 - 15s/epoch - 15ms/step\n",
            "Epoch 17/200\n",
            "996/996 - 14s - loss: 3.7687 - accuracy: 0.3584 - 14s/epoch - 14ms/step\n",
            "Epoch 18/200\n",
            "996/996 - 14s - loss: 3.6100 - accuracy: 0.3809 - 14s/epoch - 14ms/step\n",
            "Epoch 19/200\n",
            "996/996 - 14s - loss: 3.4615 - accuracy: 0.4012 - 14s/epoch - 14ms/step\n",
            "Epoch 20/200\n",
            "996/996 - 14s - loss: 3.3212 - accuracy: 0.4240 - 14s/epoch - 14ms/step\n",
            "Epoch 21/200\n",
            "996/996 - 14s - loss: 3.1895 - accuracy: 0.4419 - 14s/epoch - 14ms/step\n",
            "Epoch 22/200\n",
            "996/996 - 14s - loss: 3.0660 - accuracy: 0.4611 - 14s/epoch - 14ms/step\n",
            "Epoch 23/200\n",
            "996/996 - 14s - loss: 2.9500 - accuracy: 0.4791 - 14s/epoch - 14ms/step\n",
            "Epoch 24/200\n",
            "996/996 - 15s - loss: 2.8427 - accuracy: 0.4956 - 15s/epoch - 15ms/step\n",
            "Epoch 25/200\n",
            "996/996 - 14s - loss: 2.7418 - accuracy: 0.5108 - 14s/epoch - 14ms/step\n",
            "Epoch 26/200\n",
            "996/996 - 14s - loss: 2.6484 - accuracy: 0.5239 - 14s/epoch - 14ms/step\n",
            "Epoch 27/200\n",
            "996/996 - 14s - loss: 2.5586 - accuracy: 0.5398 - 14s/epoch - 14ms/step\n",
            "Epoch 28/200\n",
            "996/996 - 14s - loss: 2.4773 - accuracy: 0.5500 - 14s/epoch - 14ms/step\n",
            "Epoch 29/200\n",
            "996/996 - 14s - loss: 2.4007 - accuracy: 0.5638 - 14s/epoch - 14ms/step\n",
            "Epoch 30/200\n",
            "996/996 - 14s - loss: 2.3260 - accuracy: 0.5724 - 14s/epoch - 14ms/step\n",
            "Epoch 31/200\n",
            "996/996 - 14s - loss: 2.2582 - accuracy: 0.5840 - 14s/epoch - 14ms/step\n",
            "Epoch 32/200\n",
            "996/996 - 14s - loss: 2.1961 - accuracy: 0.5936 - 14s/epoch - 14ms/step\n",
            "Epoch 33/200\n",
            "996/996 - 14s - loss: 2.1331 - accuracy: 0.6024 - 14s/epoch - 14ms/step\n",
            "Epoch 34/200\n",
            "996/996 - 13s - loss: 2.0771 - accuracy: 0.6113 - 13s/epoch - 13ms/step\n",
            "Epoch 35/200\n",
            "996/996 - 14s - loss: 2.0255 - accuracy: 0.6173 - 14s/epoch - 14ms/step\n",
            "Epoch 36/200\n",
            "996/996 - 13s - loss: 1.9741 - accuracy: 0.6264 - 13s/epoch - 13ms/step\n",
            "Epoch 37/200\n",
            "996/996 - 13s - loss: 1.9274 - accuracy: 0.6345 - 13s/epoch - 13ms/step\n",
            "Epoch 38/200\n",
            "996/996 - 13s - loss: 1.8817 - accuracy: 0.6394 - 13s/epoch - 13ms/step\n",
            "Epoch 39/200\n",
            "996/996 - 14s - loss: 1.8381 - accuracy: 0.6470 - 14s/epoch - 14ms/step\n",
            "Epoch 40/200\n",
            "996/996 - 14s - loss: 1.8022 - accuracy: 0.6507 - 14s/epoch - 14ms/step\n",
            "Epoch 41/200\n",
            "996/996 - 14s - loss: 1.7626 - accuracy: 0.6559 - 14s/epoch - 14ms/step\n",
            "Epoch 42/200\n",
            "996/996 - 14s - loss: 1.7257 - accuracy: 0.6613 - 14s/epoch - 14ms/step\n",
            "Epoch 43/200\n",
            "996/996 - 14s - loss: 1.6932 - accuracy: 0.6661 - 14s/epoch - 14ms/step\n",
            "Epoch 44/200\n",
            "996/996 - 15s - loss: 1.6616 - accuracy: 0.6700 - 15s/epoch - 15ms/step\n",
            "Epoch 45/200\n",
            "996/996 - 13s - loss: 1.6315 - accuracy: 0.6746 - 13s/epoch - 14ms/step\n",
            "Epoch 46/200\n",
            "996/996 - 14s - loss: 1.6035 - accuracy: 0.6773 - 14s/epoch - 14ms/step\n",
            "Epoch 47/200\n",
            "996/996 - 14s - loss: 1.5735 - accuracy: 0.6814 - 14s/epoch - 14ms/step\n",
            "Epoch 48/200\n",
            "996/996 - 14s - loss: 1.5490 - accuracy: 0.6863 - 14s/epoch - 14ms/step\n",
            "Epoch 49/200\n",
            "996/996 - 14s - loss: 1.5268 - accuracy: 0.6887 - 14s/epoch - 14ms/step\n",
            "Epoch 50/200\n",
            "996/996 - 14s - loss: 1.4998 - accuracy: 0.6912 - 14s/epoch - 14ms/step\n",
            "Epoch 51/200\n",
            "996/996 - 14s - loss: 1.4798 - accuracy: 0.6954 - 14s/epoch - 14ms/step\n",
            "Epoch 52/200\n",
            "996/996 - 14s - loss: 1.4573 - accuracy: 0.6974 - 14s/epoch - 14ms/step\n",
            "Epoch 53/200\n",
            "996/996 - 14s - loss: 1.4380 - accuracy: 0.6982 - 14s/epoch - 14ms/step\n",
            "Epoch 54/200\n",
            "996/996 - 14s - loss: 1.4220 - accuracy: 0.6996 - 14s/epoch - 14ms/step\n",
            "Epoch 55/200\n",
            "996/996 - 14s - loss: 1.3998 - accuracy: 0.7031 - 14s/epoch - 14ms/step\n",
            "Epoch 56/200\n",
            "996/996 - 14s - loss: 1.3805 - accuracy: 0.7070 - 14s/epoch - 14ms/step\n",
            "Epoch 57/200\n",
            "996/996 - 14s - loss: 1.3648 - accuracy: 0.7086 - 14s/epoch - 14ms/step\n",
            "Epoch 58/200\n",
            "996/996 - 13s - loss: 1.3476 - accuracy: 0.7098 - 13s/epoch - 14ms/step\n",
            "Epoch 59/200\n",
            "996/996 - 14s - loss: 1.3314 - accuracy: 0.7115 - 14s/epoch - 14ms/step\n",
            "Epoch 60/200\n",
            "996/996 - 14s - loss: 1.3207 - accuracy: 0.7132 - 14s/epoch - 14ms/step\n",
            "Epoch 61/200\n",
            "996/996 - 14s - loss: 1.3087 - accuracy: 0.7146 - 14s/epoch - 14ms/step\n",
            "Epoch 62/200\n",
            "996/996 - 14s - loss: 1.2970 - accuracy: 0.7158 - 14s/epoch - 14ms/step\n",
            "Epoch 63/200\n",
            "996/996 - 14s - loss: 1.2771 - accuracy: 0.7180 - 14s/epoch - 14ms/step\n",
            "Epoch 64/200\n",
            "996/996 - 14s - loss: 1.2672 - accuracy: 0.7187 - 14s/epoch - 14ms/step\n",
            "Epoch 65/200\n",
            "996/996 - 14s - loss: 1.2539 - accuracy: 0.7214 - 14s/epoch - 14ms/step\n",
            "Epoch 66/200\n",
            "996/996 - 14s - loss: 1.2451 - accuracy: 0.7207 - 14s/epoch - 14ms/step\n",
            "Epoch 67/200\n",
            "996/996 - 14s - loss: 1.2319 - accuracy: 0.7234 - 14s/epoch - 14ms/step\n",
            "Epoch 68/200\n",
            "996/996 - 13s - loss: 1.2166 - accuracy: 0.7247 - 13s/epoch - 14ms/step\n",
            "Epoch 69/200\n",
            "996/996 - 14s - loss: 1.2092 - accuracy: 0.7274 - 14s/epoch - 14ms/step\n",
            "Epoch 70/200\n",
            "996/996 - 14s - loss: 1.2005 - accuracy: 0.7283 - 14s/epoch - 14ms/step\n",
            "Epoch 71/200\n",
            "996/996 - 14s - loss: 1.1886 - accuracy: 0.7286 - 14s/epoch - 14ms/step\n",
            "Epoch 72/200\n",
            "996/996 - 14s - loss: 1.1828 - accuracy: 0.7280 - 14s/epoch - 14ms/step\n",
            "Epoch 73/200\n",
            "996/996 - 14s - loss: 1.1709 - accuracy: 0.7300 - 14s/epoch - 14ms/step\n",
            "Epoch 74/200\n",
            "996/996 - 14s - loss: 1.1616 - accuracy: 0.7331 - 14s/epoch - 14ms/step\n",
            "Epoch 75/200\n",
            "996/996 - 14s - loss: 1.1503 - accuracy: 0.7314 - 14s/epoch - 14ms/step\n",
            "Epoch 76/200\n",
            "996/996 - 14s - loss: 1.1454 - accuracy: 0.7330 - 14s/epoch - 14ms/step\n",
            "Epoch 77/200\n",
            "996/996 - 14s - loss: 1.1400 - accuracy: 0.7338 - 14s/epoch - 14ms/step\n",
            "Epoch 78/200\n",
            "996/996 - 14s - loss: 1.1301 - accuracy: 0.7362 - 14s/epoch - 14ms/step\n",
            "Epoch 79/200\n",
            "996/996 - 14s - loss: 1.1311 - accuracy: 0.7328 - 14s/epoch - 14ms/step\n",
            "Epoch 80/200\n",
            "996/996 - 14s - loss: 1.1096 - accuracy: 0.7398 - 14s/epoch - 14ms/step\n",
            "Epoch 81/200\n",
            "996/996 - 14s - loss: 1.1031 - accuracy: 0.7406 - 14s/epoch - 14ms/step\n",
            "Epoch 82/200\n",
            "996/996 - 14s - loss: 1.1028 - accuracy: 0.7377 - 14s/epoch - 14ms/step\n",
            "Epoch 83/200\n",
            "996/996 - 14s - loss: 1.0942 - accuracy: 0.7399 - 14s/epoch - 14ms/step\n",
            "Epoch 84/200\n",
            "996/996 - 15s - loss: 1.0848 - accuracy: 0.7400 - 15s/epoch - 15ms/step\n",
            "Epoch 85/200\n",
            "996/996 - 14s - loss: 1.0797 - accuracy: 0.7420 - 14s/epoch - 14ms/step\n",
            "Epoch 86/200\n",
            "996/996 - 14s - loss: 1.0788 - accuracy: 0.7392 - 14s/epoch - 14ms/step\n",
            "Epoch 87/200\n",
            "996/996 - 14s - loss: 1.0710 - accuracy: 0.7417 - 14s/epoch - 14ms/step\n",
            "Epoch 88/200\n",
            "996/996 - 14s - loss: 1.0681 - accuracy: 0.7431 - 14s/epoch - 14ms/step\n",
            "Epoch 89/200\n",
            "996/996 - 14s - loss: 1.0586 - accuracy: 0.7428 - 14s/epoch - 14ms/step\n",
            "Epoch 90/200\n",
            "996/996 - 13s - loss: 1.0509 - accuracy: 0.7452 - 13s/epoch - 14ms/step\n",
            "Epoch 91/200\n",
            "996/996 - 13s - loss: 1.0485 - accuracy: 0.7444 - 13s/epoch - 14ms/step\n",
            "Epoch 92/200\n",
            "996/996 - 14s - loss: 1.0437 - accuracy: 0.7449 - 14s/epoch - 14ms/step\n",
            "Epoch 93/200\n",
            "996/996 - 13s - loss: 1.0396 - accuracy: 0.7458 - 13s/epoch - 13ms/step\n",
            "Epoch 94/200\n",
            "996/996 - 13s - loss: 1.0343 - accuracy: 0.7471 - 13s/epoch - 13ms/step\n",
            "Epoch 95/200\n",
            "996/996 - 13s - loss: 1.0275 - accuracy: 0.7455 - 13s/epoch - 14ms/step\n",
            "Epoch 96/200\n",
            "996/996 - 14s - loss: 1.0216 - accuracy: 0.7479 - 14s/epoch - 14ms/step\n",
            "Epoch 97/200\n",
            "996/996 - 13s - loss: 1.0169 - accuracy: 0.7484 - 13s/epoch - 14ms/step\n",
            "Epoch 98/200\n",
            "996/996 - 13s - loss: 1.0143 - accuracy: 0.7468 - 13s/epoch - 13ms/step\n",
            "Epoch 99/200\n",
            "996/996 - 13s - loss: 1.0081 - accuracy: 0.7501 - 13s/epoch - 13ms/step\n",
            "Epoch 100/200\n",
            "996/996 - 13s - loss: 1.0043 - accuracy: 0.7474 - 13s/epoch - 13ms/step\n",
            "Epoch 101/200\n",
            "996/996 - 14s - loss: 0.9995 - accuracy: 0.7507 - 14s/epoch - 14ms/step\n",
            "Epoch 102/200\n",
            "996/996 - 13s - loss: 0.9968 - accuracy: 0.7505 - 13s/epoch - 13ms/step\n",
            "Epoch 103/200\n",
            "996/996 - 14s - loss: 0.9953 - accuracy: 0.7502 - 14s/epoch - 14ms/step\n",
            "Epoch 104/200\n",
            "996/996 - 13s - loss: 0.9913 - accuracy: 0.7507 - 13s/epoch - 14ms/step\n",
            "Epoch 105/200\n",
            "996/996 - 15s - loss: 0.9855 - accuracy: 0.7507 - 15s/epoch - 15ms/step\n",
            "Epoch 106/200\n",
            "996/996 - 14s - loss: 0.9801 - accuracy: 0.7515 - 14s/epoch - 14ms/step\n",
            "Epoch 107/200\n",
            "996/996 - 13s - loss: 0.9763 - accuracy: 0.7533 - 13s/epoch - 14ms/step\n",
            "Epoch 108/200\n",
            "996/996 - 14s - loss: 0.9706 - accuracy: 0.7537 - 14s/epoch - 14ms/step\n",
            "Epoch 109/200\n",
            "996/996 - 14s - loss: 0.9725 - accuracy: 0.7518 - 14s/epoch - 14ms/step\n",
            "Epoch 110/200\n",
            "996/996 - 14s - loss: 0.9675 - accuracy: 0.7537 - 14s/epoch - 14ms/step\n",
            "Epoch 111/200\n",
            "996/996 - 13s - loss: 0.9646 - accuracy: 0.7529 - 13s/epoch - 14ms/step\n",
            "Epoch 112/200\n",
            "996/996 - 14s - loss: 0.9617 - accuracy: 0.7547 - 14s/epoch - 14ms/step\n",
            "Epoch 113/200\n",
            "996/996 - 13s - loss: 0.9554 - accuracy: 0.7548 - 13s/epoch - 13ms/step\n",
            "Epoch 114/200\n",
            "996/996 - 14s - loss: 0.9552 - accuracy: 0.7552 - 14s/epoch - 14ms/step\n",
            "Epoch 115/200\n",
            "996/996 - 13s - loss: 0.9499 - accuracy: 0.7555 - 13s/epoch - 13ms/step\n",
            "Epoch 116/200\n",
            "996/996 - 13s - loss: 0.9476 - accuracy: 0.7558 - 13s/epoch - 13ms/step\n",
            "Epoch 117/200\n",
            "996/996 - 13s - loss: 0.9435 - accuracy: 0.7566 - 13s/epoch - 13ms/step\n",
            "Epoch 118/200\n",
            "996/996 - 14s - loss: 0.9396 - accuracy: 0.7571 - 14s/epoch - 14ms/step\n",
            "Epoch 119/200\n",
            "996/996 - 14s - loss: 0.9445 - accuracy: 0.7560 - 14s/epoch - 14ms/step\n",
            "Epoch 120/200\n",
            "996/996 - 13s - loss: 0.9350 - accuracy: 0.7567 - 13s/epoch - 13ms/step\n",
            "Epoch 121/200\n",
            "996/996 - 13s - loss: 0.9297 - accuracy: 0.7580 - 13s/epoch - 13ms/step\n",
            "Epoch 122/200\n",
            "996/996 - 14s - loss: 0.9354 - accuracy: 0.7561 - 14s/epoch - 14ms/step\n",
            "Epoch 123/200\n",
            "996/996 - 14s - loss: 0.9311 - accuracy: 0.7577 - 14s/epoch - 14ms/step\n",
            "Epoch 124/200\n",
            "996/996 - 13s - loss: 0.9237 - accuracy: 0.7579 - 13s/epoch - 14ms/step\n",
            "Epoch 125/200\n",
            "996/996 - 14s - loss: 0.9198 - accuracy: 0.7601 - 14s/epoch - 14ms/step\n",
            "Epoch 126/200\n",
            "996/996 - 14s - loss: 0.9249 - accuracy: 0.7580 - 14s/epoch - 14ms/step\n",
            "Epoch 127/200\n",
            "996/996 - 13s - loss: 0.9348 - accuracy: 0.7554 - 13s/epoch - 14ms/step\n",
            "Epoch 128/200\n",
            "996/996 - 13s - loss: 0.9110 - accuracy: 0.7609 - 13s/epoch - 14ms/step\n",
            "Epoch 129/200\n",
            "996/996 - 13s - loss: 0.9076 - accuracy: 0.7622 - 13s/epoch - 13ms/step\n",
            "Epoch 130/200\n",
            "996/996 - 13s - loss: 0.9088 - accuracy: 0.7599 - 13s/epoch - 14ms/step\n",
            "Epoch 131/200\n",
            "996/996 - 13s - loss: 0.9096 - accuracy: 0.7600 - 13s/epoch - 14ms/step\n",
            "Epoch 132/200\n",
            "996/996 - 13s - loss: 0.9056 - accuracy: 0.7600 - 13s/epoch - 14ms/step\n",
            "Epoch 133/200\n",
            "996/996 - 13s - loss: 0.9058 - accuracy: 0.7602 - 13s/epoch - 13ms/step\n",
            "Epoch 134/200\n",
            "996/996 - 13s - loss: 0.9047 - accuracy: 0.7601 - 13s/epoch - 13ms/step\n",
            "Epoch 135/200\n",
            "996/996 - 13s - loss: 0.8996 - accuracy: 0.7595 - 13s/epoch - 13ms/step\n",
            "Epoch 136/200\n",
            "996/996 - 13s - loss: 0.8968 - accuracy: 0.7609 - 13s/epoch - 14ms/step\n",
            "Epoch 137/200\n",
            "996/996 - 13s - loss: 0.8946 - accuracy: 0.7620 - 13s/epoch - 13ms/step\n",
            "Epoch 138/200\n",
            "996/996 - 13s - loss: 0.8972 - accuracy: 0.7599 - 13s/epoch - 13ms/step\n",
            "Epoch 139/200\n",
            "996/996 - 13s - loss: 0.8888 - accuracy: 0.7629 - 13s/epoch - 13ms/step\n",
            "Epoch 140/200\n",
            "996/996 - 14s - loss: 0.8916 - accuracy: 0.7609 - 14s/epoch - 14ms/step\n",
            "Epoch 141/200\n",
            "996/996 - 14s - loss: 0.8853 - accuracy: 0.7609 - 14s/epoch - 14ms/step\n",
            "Epoch 142/200\n",
            "996/996 - 14s - loss: 0.8852 - accuracy: 0.7628 - 14s/epoch - 14ms/step\n",
            "Epoch 143/200\n",
            "996/996 - 13s - loss: 0.8853 - accuracy: 0.7604 - 13s/epoch - 13ms/step\n",
            "Epoch 144/200\n",
            "996/996 - 14s - loss: 0.8808 - accuracy: 0.7641 - 14s/epoch - 14ms/step\n",
            "Epoch 145/200\n",
            "996/996 - 14s - loss: 0.8785 - accuracy: 0.7639 - 14s/epoch - 14ms/step\n",
            "Epoch 146/200\n",
            "996/996 - 13s - loss: 0.8812 - accuracy: 0.7611 - 13s/epoch - 14ms/step\n",
            "Epoch 147/200\n",
            "996/996 - 13s - loss: 0.8728 - accuracy: 0.7663 - 13s/epoch - 13ms/step\n",
            "Epoch 148/200\n",
            "996/996 - 14s - loss: 0.8756 - accuracy: 0.7640 - 14s/epoch - 15ms/step\n",
            "Epoch 149/200\n",
            "996/996 - 14s - loss: 0.8752 - accuracy: 0.7612 - 14s/epoch - 14ms/step\n",
            "Epoch 150/200\n",
            "996/996 - 14s - loss: 0.8799 - accuracy: 0.7627 - 14s/epoch - 14ms/step\n",
            "Epoch 151/200\n",
            "996/996 - 14s - loss: 0.8668 - accuracy: 0.7654 - 14s/epoch - 14ms/step\n",
            "Epoch 152/200\n",
            "996/996 - 13s - loss: 0.8628 - accuracy: 0.7640 - 13s/epoch - 14ms/step\n",
            "Epoch 153/200\n",
            "996/996 - 13s - loss: 0.8719 - accuracy: 0.7638 - 13s/epoch - 14ms/step\n",
            "Epoch 154/200\n",
            "996/996 - 14s - loss: 0.8742 - accuracy: 0.7622 - 14s/epoch - 14ms/step\n",
            "Epoch 155/200\n",
            "996/996 - 14s - loss: 0.8652 - accuracy: 0.7652 - 14s/epoch - 14ms/step\n",
            "Epoch 156/200\n",
            "996/996 - 13s - loss: 0.8697 - accuracy: 0.7635 - 13s/epoch - 14ms/step\n",
            "Epoch 157/200\n",
            "996/996 - 13s - loss: 0.8600 - accuracy: 0.7643 - 13s/epoch - 13ms/step\n",
            "Epoch 158/200\n",
            "996/996 - 13s - loss: 0.8586 - accuracy: 0.7650 - 13s/epoch - 13ms/step\n",
            "Epoch 159/200\n",
            "996/996 - 14s - loss: 0.8592 - accuracy: 0.7652 - 14s/epoch - 14ms/step\n",
            "Epoch 160/200\n",
            "996/996 - 13s - loss: 0.8588 - accuracy: 0.7654 - 13s/epoch - 13ms/step\n",
            "Epoch 161/200\n",
            "996/996 - 13s - loss: 0.8539 - accuracy: 0.7659 - 13s/epoch - 13ms/step\n",
            "Epoch 162/200\n",
            "996/996 - 13s - loss: 0.8515 - accuracy: 0.7664 - 13s/epoch - 13ms/step\n",
            "Epoch 163/200\n",
            "996/996 - 13s - loss: 0.8507 - accuracy: 0.7659 - 13s/epoch - 13ms/step\n",
            "Epoch 164/200\n",
            "996/996 - 13s - loss: 0.8491 - accuracy: 0.7673 - 13s/epoch - 13ms/step\n",
            "Epoch 165/200\n",
            "996/996 - 13s - loss: 0.8513 - accuracy: 0.7656 - 13s/epoch - 14ms/step\n",
            "Epoch 166/200\n",
            "996/996 - 13s - loss: 0.8442 - accuracy: 0.7675 - 13s/epoch - 13ms/step\n",
            "Epoch 167/200\n",
            "996/996 - 13s - loss: 0.8497 - accuracy: 0.7655 - 13s/epoch - 13ms/step\n",
            "Epoch 168/200\n",
            "996/996 - 13s - loss: 0.8417 - accuracy: 0.7682 - 13s/epoch - 13ms/step\n",
            "Epoch 169/200\n",
            "996/996 - 13s - loss: 0.8400 - accuracy: 0.7673 - 13s/epoch - 13ms/step\n",
            "Epoch 170/200\n",
            "996/996 - 14s - loss: 0.8517 - accuracy: 0.7641 - 14s/epoch - 14ms/step\n",
            "Epoch 171/200\n",
            "996/996 - 13s - loss: 0.8450 - accuracy: 0.7662 - 13s/epoch - 13ms/step\n",
            "Epoch 172/200\n",
            "996/996 - 13s - loss: 0.8374 - accuracy: 0.7686 - 13s/epoch - 13ms/step\n",
            "Epoch 173/200\n",
            "996/996 - 13s - loss: 0.8395 - accuracy: 0.7678 - 13s/epoch - 13ms/step\n",
            "Epoch 174/200\n",
            "996/996 - 13s - loss: 0.8417 - accuracy: 0.7669 - 13s/epoch - 13ms/step\n",
            "Epoch 175/200\n",
            "996/996 - 13s - loss: 0.8367 - accuracy: 0.7680 - 13s/epoch - 14ms/step\n",
            "Epoch 176/200\n",
            "996/996 - 13s - loss: 0.8358 - accuracy: 0.7678 - 13s/epoch - 13ms/step\n",
            "Epoch 177/200\n",
            "996/996 - 13s - loss: 0.8277 - accuracy: 0.7700 - 13s/epoch - 13ms/step\n",
            "Epoch 178/200\n",
            "996/996 - 13s - loss: 0.8309 - accuracy: 0.7685 - 13s/epoch - 13ms/step\n",
            "Epoch 179/200\n",
            "996/996 - 13s - loss: 0.8323 - accuracy: 0.7688 - 13s/epoch - 13ms/step\n",
            "Epoch 180/200\n",
            "996/996 - 13s - loss: 0.8312 - accuracy: 0.7684 - 13s/epoch - 13ms/step\n",
            "Epoch 181/200\n",
            "996/996 - 13s - loss: 0.8278 - accuracy: 0.7702 - 13s/epoch - 13ms/step\n",
            "Epoch 182/200\n",
            "996/996 - 13s - loss: 0.8353 - accuracy: 0.7675 - 13s/epoch - 13ms/step\n",
            "Epoch 183/200\n",
            "996/996 - 13s - loss: 0.8284 - accuracy: 0.7689 - 13s/epoch - 13ms/step\n",
            "Epoch 184/200\n",
            "996/996 - 13s - loss: 0.8319 - accuracy: 0.7680 - 13s/epoch - 14ms/step\n",
            "Epoch 185/200\n",
            "996/996 - 13s - loss: 0.8268 - accuracy: 0.7678 - 13s/epoch - 14ms/step\n",
            "Epoch 186/200\n",
            "996/996 - 13s - loss: 0.8235 - accuracy: 0.7696 - 13s/epoch - 13ms/step\n",
            "Epoch 187/200\n",
            "996/996 - 13s - loss: 0.8237 - accuracy: 0.7700 - 13s/epoch - 13ms/step\n",
            "Epoch 188/200\n",
            "996/996 - 13s - loss: 0.8183 - accuracy: 0.7717 - 13s/epoch - 13ms/step\n",
            "Epoch 189/200\n",
            "996/996 - 13s - loss: 0.8184 - accuracy: 0.7699 - 13s/epoch - 13ms/step\n",
            "Epoch 190/200\n",
            "996/996 - 13s - loss: 0.8211 - accuracy: 0.7699 - 13s/epoch - 14ms/step\n",
            "Epoch 191/200\n",
            "996/996 - 14s - loss: 0.8227 - accuracy: 0.7686 - 14s/epoch - 14ms/step\n",
            "Epoch 192/200\n",
            "996/996 - 14s - loss: 0.8153 - accuracy: 0.7697 - 14s/epoch - 14ms/step\n",
            "Epoch 193/200\n",
            "996/996 - 13s - loss: 0.8239 - accuracy: 0.7687 - 13s/epoch - 13ms/step\n",
            "Epoch 194/200\n",
            "996/996 - 14s - loss: 0.8188 - accuracy: 0.7684 - 14s/epoch - 14ms/step\n",
            "Epoch 195/200\n",
            "996/996 - 14s - loss: 0.8120 - accuracy: 0.7719 - 14s/epoch - 14ms/step\n",
            "Epoch 196/200\n",
            "996/996 - 13s - loss: 0.8244 - accuracy: 0.7668 - 13s/epoch - 13ms/step\n",
            "Epoch 197/200\n",
            "996/996 - 13s - loss: 0.8121 - accuracy: 0.7698 - 13s/epoch - 13ms/step\n",
            "Epoch 198/200\n",
            "996/996 - 13s - loss: 0.8126 - accuracy: 0.7717 - 13s/epoch - 14ms/step\n",
            "Epoch 199/200\n",
            "996/996 - 13s - loss: 0.8140 - accuracy: 0.7707 - 13s/epoch - 13ms/step\n",
            "Epoch 200/200\n",
            "996/996 - 13s - loss: 0.8138 - accuracy: 0.7710 - 13s/epoch - 13ms/step\n"
          ]
        },
        {
          "data": {
            "text/plain": [
              "<keras.callbacks.History at 0x7f5b50fb71d0>"
            ]
          },
          "execution_count": null,
          "metadata": {},
          "output_type": "execute_result"
        }
      ],
      "source": [
        "embedding_dim = 10\n",
        "hidden_units = 32\n",
        "\n",
        "model = Sequential()\n",
        "model.add(Embedding(vocab_size, embedding_dim))\n",
        "model.add(SimpleRNN(hidden_units))\n",
        "model.add(Dense(vocab_size, activation='softmax'))\n",
        "model.compile(loss='categorical_crossentropy', optimizer='adam', metrics=['accuracy'])\n",
        "model.fit(X, y, epochs=200, verbose=2)"
      ]
    },
    {
      "cell_type": "code",
      "execution_count": 16,
      "metadata": {
        "id": "8x47dNSIZxbF"
      },
      "outputs": [],
      "source": [
        "def sentence_generation(model, tokenizer, current_word, n): # 모델, 토크나이저, 현재 단어, 반복할 횟수\n",
        "    init_word = current_word\n",
        "    sentence = ''\n",
        "\n",
        "    # n번 반복\n",
        "    for _ in range(n):\n",
        "        # 현재 단어에 대한 정수 인코딩과 패딩\n",
        "        encoded = tokenizer.texts_to_sequences([current_word])[0]\n",
        "        encoded = pad_sequences([encoded], maxlen=5, padding='pre')\n",
        "        # 입력한 X(현재 단어)에 대해서 Y를 예측하고 Y(예측한 단어)를 result에 저장.\n",
        "        result = model.predict(encoded, verbose=0)\n",
        "        result = np.argmax(result, axis=1)\n",
        "\n",
        "        for word, index in tokenizer.word_index.items(): \n",
        "            # 만약 예측한 단어와 인덱스와 동일한 단어가 있다면 break\n",
        "            if index == result:\n",
        "                break\n",
        "\n",
        "        # 현재 단어 + ' ' + 예측 단어를 현재 단어로 변경\n",
        "        current_word = current_word + ' '  + word\n",
        "\n",
        "        # 예측 단어를 문장에 저장\n",
        "        sentence = sentence + ' ' + word\n",
        "\n",
        "    sentence = init_word + sentence\n",
        "    return sentence"
      ]
    },
    {
      "cell_type": "markdown",
      "metadata": {
        "id": "09BUJsWU6DFT"
      },
      "source": [
        "### 감성 분석"
      ]
    },
    {
      "cell_type": "code",
      "execution_count": 17,
      "metadata": {
        "id": "YPllpGehZxgr"
      },
      "outputs": [],
      "source": [
        "import numpy as np\n",
        "import pandas as pd\n",
        "from tensorflow.keras.preprocessing.text import Tokenizer\n",
        "from tensorflow.keras.preprocessing.sequence import pad_sequences\n",
        "from tensorflow.keras.utils import to_categorical\n",
        "import matplotlib.pyplot as plt"
      ]
    },
    {
      "cell_type": "code",
      "execution_count": 18,
      "metadata": {
        "id": "gQEd0kkpHF6E",
        "colab": {
          "base_uri": "https://localhost:8080/",
          "height": 206
        },
        "outputId": "943fb5ef-cc77-4ec4-bf49-b094118bfe5b"
      },
      "outputs": [
        {
          "output_type": "execute_result",
          "data": {
            "text/plain": [
              "                 Q            A  label\n",
              "0           12시 땡!   하루가 또 가네요.      0\n",
              "1      1지망 학교 떨어졌어    위로해 드립니다.      0\n",
              "2     3박4일 놀러가고 싶다  여행은 언제나 좋죠.      0\n",
              "3  3박4일 정도 놀러가고 싶다  여행은 언제나 좋죠.      0\n",
              "4          PPL 심하네   눈살이 찌푸려지죠.      0"
            ],
            "text/html": [
              "\n",
              "  <div id=\"df-990c77bc-056e-4cfc-8ff1-669c9fadf39f\">\n",
              "    <div class=\"colab-df-container\">\n",
              "      <div>\n",
              "<style scoped>\n",
              "    .dataframe tbody tr th:only-of-type {\n",
              "        vertical-align: middle;\n",
              "    }\n",
              "\n",
              "    .dataframe tbody tr th {\n",
              "        vertical-align: top;\n",
              "    }\n",
              "\n",
              "    .dataframe thead th {\n",
              "        text-align: right;\n",
              "    }\n",
              "</style>\n",
              "<table border=\"1\" class=\"dataframe\">\n",
              "  <thead>\n",
              "    <tr style=\"text-align: right;\">\n",
              "      <th></th>\n",
              "      <th>Q</th>\n",
              "      <th>A</th>\n",
              "      <th>label</th>\n",
              "    </tr>\n",
              "  </thead>\n",
              "  <tbody>\n",
              "    <tr>\n",
              "      <th>0</th>\n",
              "      <td>12시 땡!</td>\n",
              "      <td>하루가 또 가네요.</td>\n",
              "      <td>0</td>\n",
              "    </tr>\n",
              "    <tr>\n",
              "      <th>1</th>\n",
              "      <td>1지망 학교 떨어졌어</td>\n",
              "      <td>위로해 드립니다.</td>\n",
              "      <td>0</td>\n",
              "    </tr>\n",
              "    <tr>\n",
              "      <th>2</th>\n",
              "      <td>3박4일 놀러가고 싶다</td>\n",
              "      <td>여행은 언제나 좋죠.</td>\n",
              "      <td>0</td>\n",
              "    </tr>\n",
              "    <tr>\n",
              "      <th>3</th>\n",
              "      <td>3박4일 정도 놀러가고 싶다</td>\n",
              "      <td>여행은 언제나 좋죠.</td>\n",
              "      <td>0</td>\n",
              "    </tr>\n",
              "    <tr>\n",
              "      <th>4</th>\n",
              "      <td>PPL 심하네</td>\n",
              "      <td>눈살이 찌푸려지죠.</td>\n",
              "      <td>0</td>\n",
              "    </tr>\n",
              "  </tbody>\n",
              "</table>\n",
              "</div>\n",
              "      <button class=\"colab-df-convert\" onclick=\"convertToInteractive('df-990c77bc-056e-4cfc-8ff1-669c9fadf39f')\"\n",
              "              title=\"Convert this dataframe to an interactive table.\"\n",
              "              style=\"display:none;\">\n",
              "        \n",
              "  <svg xmlns=\"http://www.w3.org/2000/svg\" height=\"24px\"viewBox=\"0 0 24 24\"\n",
              "       width=\"24px\">\n",
              "    <path d=\"M0 0h24v24H0V0z\" fill=\"none\"/>\n",
              "    <path d=\"M18.56 5.44l.94 2.06.94-2.06 2.06-.94-2.06-.94-.94-2.06-.94 2.06-2.06.94zm-11 1L8.5 8.5l.94-2.06 2.06-.94-2.06-.94L8.5 2.5l-.94 2.06-2.06.94zm10 10l.94 2.06.94-2.06 2.06-.94-2.06-.94-.94-2.06-.94 2.06-2.06.94z\"/><path d=\"M17.41 7.96l-1.37-1.37c-.4-.4-.92-.59-1.43-.59-.52 0-1.04.2-1.43.59L10.3 9.45l-7.72 7.72c-.78.78-.78 2.05 0 2.83L4 21.41c.39.39.9.59 1.41.59.51 0 1.02-.2 1.41-.59l7.78-7.78 2.81-2.81c.8-.78.8-2.07 0-2.86zM5.41 20L4 18.59l7.72-7.72 1.47 1.35L5.41 20z\"/>\n",
              "  </svg>\n",
              "      </button>\n",
              "      \n",
              "  <style>\n",
              "    .colab-df-container {\n",
              "      display:flex;\n",
              "      flex-wrap:wrap;\n",
              "      gap: 12px;\n",
              "    }\n",
              "\n",
              "    .colab-df-convert {\n",
              "      background-color: #E8F0FE;\n",
              "      border: none;\n",
              "      border-radius: 50%;\n",
              "      cursor: pointer;\n",
              "      display: none;\n",
              "      fill: #1967D2;\n",
              "      height: 32px;\n",
              "      padding: 0 0 0 0;\n",
              "      width: 32px;\n",
              "    }\n",
              "\n",
              "    .colab-df-convert:hover {\n",
              "      background-color: #E2EBFA;\n",
              "      box-shadow: 0px 1px 2px rgba(60, 64, 67, 0.3), 0px 1px 3px 1px rgba(60, 64, 67, 0.15);\n",
              "      fill: #174EA6;\n",
              "    }\n",
              "\n",
              "    [theme=dark] .colab-df-convert {\n",
              "      background-color: #3B4455;\n",
              "      fill: #D2E3FC;\n",
              "    }\n",
              "\n",
              "    [theme=dark] .colab-df-convert:hover {\n",
              "      background-color: #434B5C;\n",
              "      box-shadow: 0px 1px 3px 1px rgba(0, 0, 0, 0.15);\n",
              "      filter: drop-shadow(0px 1px 2px rgba(0, 0, 0, 0.3));\n",
              "      fill: #FFFFFF;\n",
              "    }\n",
              "  </style>\n",
              "\n",
              "      <script>\n",
              "        const buttonEl =\n",
              "          document.querySelector('#df-990c77bc-056e-4cfc-8ff1-669c9fadf39f button.colab-df-convert');\n",
              "        buttonEl.style.display =\n",
              "          google.colab.kernel.accessAllowed ? 'block' : 'none';\n",
              "\n",
              "        async function convertToInteractive(key) {\n",
              "          const element = document.querySelector('#df-990c77bc-056e-4cfc-8ff1-669c9fadf39f');\n",
              "          const dataTable =\n",
              "            await google.colab.kernel.invokeFunction('convertToInteractive',\n",
              "                                                     [key], {});\n",
              "          if (!dataTable) return;\n",
              "\n",
              "          const docLinkHtml = 'Like what you see? Visit the ' +\n",
              "            '<a target=\"_blank\" href=https://colab.research.google.com/notebooks/data_table.ipynb>data table notebook</a>'\n",
              "            + ' to learn more about interactive tables.';\n",
              "          element.innerHTML = '';\n",
              "          dataTable['output_type'] = 'display_data';\n",
              "          await google.colab.output.renderOutput(dataTable, element);\n",
              "          const docLink = document.createElement('div');\n",
              "          docLink.innerHTML = docLinkHtml;\n",
              "          element.appendChild(docLink);\n",
              "        }\n",
              "      </script>\n",
              "    </div>\n",
              "  </div>\n",
              "  "
            ]
          },
          "metadata": {},
          "execution_count": 18
        }
      ],
      "source": [
        "text = pd.read_csv('ChatbotData.csv')\n",
        "text.head()"
      ]
    },
    {
      "cell_type": "code",
      "execution_count": 19,
      "metadata": {
        "id": "fqDuyXcmHJ5z",
        "colab": {
          "base_uri": "https://localhost:8080/",
          "height": 337
        },
        "outputId": "57210c3e-cd8d-4067-f15f-15b66955dd13"
      },
      "outputs": [
        {
          "output_type": "stream",
          "name": "stdout",
          "text": [
            "0    5290\n",
            "1    3570\n",
            "2    2963\n",
            "Name: label, dtype: int64\n"
          ]
        },
        {
          "output_type": "display_data",
          "data": {
            "text/plain": [
              "<Figure size 432x288 with 1 Axes>"
            ],
            "image/png": "[encoded data removed]"
          },
          "metadata": {
            "needs_background": "light"
          }
        }
      ],
      "source": [
        "print(text.label.value_counts())\n",
        "text.label.value_counts().plot(kind='bar')\n",
        "plt.show()"
      ]
    },
    {
      "cell_type": "code",
      "execution_count": 20,
      "metadata": {
        "id": "d4iNivglHQH2",
        "colab": {
          "base_uri": "https://localhost:8080/",
          "height": 143
        },
        "outputId": "b2be5cab-9562-459d-aecc-507ef346a3fc"
      },
      "outputs": [
        {
          "output_type": "execute_result",
          "data": {
            "text/plain": [
              "              Q            A  label\n",
              "0        12시 땡!   하루가 또 가네요.      0\n",
              "1   1지망 학교 떨어졌어    위로해 드립니다.      0\n",
              "2  3박4일 놀러가고 싶다  여행은 언제나 좋죠.      0"
            ],
            "text/html": [
              "\n",
              "  <div id=\"df-54e44df9-d150-4463-b2f2-f32d93e2c08e\">\n",
              "    <div class=\"colab-df-container\">\n",
              "      <div>\n",
              "<style scoped>\n",
              "    .dataframe tbody tr th:only-of-type {\n",
              "        vertical-align: middle;\n",
              "    }\n",
              "\n",
              "    .dataframe tbody tr th {\n",
              "        vertical-align: top;\n",
              "    }\n",
              "\n",
              "    .dataframe thead th {\n",
              "        text-align: right;\n",
              "    }\n",
              "</style>\n",
              "<table border=\"1\" class=\"dataframe\">\n",
              "  <thead>\n",
              "    <tr style=\"text-align: right;\">\n",
              "      <th></th>\n",
              "      <th>Q</th>\n",
              "      <th>A</th>\n",
              "      <th>label</th>\n",
              "    </tr>\n",
              "  </thead>\n",
              "  <tbody>\n",
              "    <tr>\n",
              "      <th>0</th>\n",
              "      <td>12시 땡!</td>\n",
              "      <td>하루가 또 가네요.</td>\n",
              "      <td>0</td>\n",
              "    </tr>\n",
              "    <tr>\n",
              "      <th>1</th>\n",
              "      <td>1지망 학교 떨어졌어</td>\n",
              "      <td>위로해 드립니다.</td>\n",
              "      <td>0</td>\n",
              "    </tr>\n",
              "    <tr>\n",
              "      <th>2</th>\n",
              "      <td>3박4일 놀러가고 싶다</td>\n",
              "      <td>여행은 언제나 좋죠.</td>\n",
              "      <td>0</td>\n",
              "    </tr>\n",
              "  </tbody>\n",
              "</table>\n",
              "</div>\n",
              "      <button class=\"colab-df-convert\" onclick=\"convertToInteractive('df-54e44df9-d150-4463-b2f2-f32d93e2c08e')\"\n",
              "              title=\"Convert this dataframe to an interactive table.\"\n",
              "              style=\"display:none;\">\n",
              "        \n",
              "  <svg xmlns=\"http://www.w3.org/2000/svg\" height=\"24px\"viewBox=\"0 0 24 24\"\n",
              "       width=\"24px\">\n",
              "    <path d=\"M0 0h24v24H0V0z\" fill=\"none\"/>\n",
              "    <path d=\"M18.56 5.44l.94 2.06.94-2.06 2.06-.94-2.06-.94-.94-2.06-.94 2.06-2.06.94zm-11 1L8.5 8.5l.94-2.06 2.06-.94-2.06-.94L8.5 2.5l-.94 2.06-2.06.94zm10 10l.94 2.06.94-2.06 2.06-.94-2.06-.94-.94-2.06-.94 2.06-2.06.94z\"/><path d=\"M17.41 7.96l-1.37-1.37c-.4-.4-.92-.59-1.43-.59-.52 0-1.04.2-1.43.59L10.3 9.45l-7.72 7.72c-.78.78-.78 2.05 0 2.83L4 21.41c.39.39.9.59 1.41.59.51 0 1.02-.2 1.41-.59l7.78-7.78 2.81-2.81c.8-.78.8-2.07 0-2.86zM5.41 20L4 18.59l7.72-7.72 1.47 1.35L5.41 20z\"/>\n",
              "  </svg>\n",
              "      </button>\n",
              "      \n",
              "  <style>\n",
              "    .colab-df-container {\n",
              "      display:flex;\n",
              "      flex-wrap:wrap;\n",
              "      gap: 12px;\n",
              "    }\n",
              "\n",
              "    .colab-df-convert {\n",
              "      background-color: #E8F0FE;\n",
              "      border: none;\n",
              "      border-radius: 50%;\n",
              "      cursor: pointer;\n",
              "      display: none;\n",
              "      fill: #1967D2;\n",
              "      height: 32px;\n",
              "      padding: 0 0 0 0;\n",
              "      width: 32px;\n",
              "    }\n",
              "\n",
              "    .colab-df-convert:hover {\n",
              "      background-color: #E2EBFA;\n",
              "      box-shadow: 0px 1px 2px rgba(60, 64, 67, 0.3), 0px 1px 3px 1px rgba(60, 64, 67, 0.15);\n",
              "      fill: #174EA6;\n",
              "    }\n",
              "\n",
              "    [theme=dark] .colab-df-convert {\n",
              "      background-color: #3B4455;\n",
              "      fill: #D2E3FC;\n",
              "    }\n",
              "\n",
              "    [theme=dark] .colab-df-convert:hover {\n",
              "      background-color: #434B5C;\n",
              "      box-shadow: 0px 1px 3px 1px rgba(0, 0, 0, 0.15);\n",
              "      filter: drop-shadow(0px 1px 2px rgba(0, 0, 0, 0.3));\n",
              "      fill: #FFFFFF;\n",
              "    }\n",
              "  </style>\n",
              "\n",
              "      <script>\n",
              "        const buttonEl =\n",
              "          document.querySelector('#df-54e44df9-d150-4463-b2f2-f32d93e2c08e button.colab-df-convert');\n",
              "        buttonEl.style.display =\n",
              "          google.colab.kernel.accessAllowed ? 'block' : 'none';\n",
              "\n",
              "        async function convertToInteractive(key) {\n",
              "          const element = document.querySelector('#df-54e44df9-d150-4463-b2f2-f32d93e2c08e');\n",
              "          const dataTable =\n",
              "            await google.colab.kernel.invokeFunction('convertToInteractive',\n",
              "                                                     [key], {});\n",
              "          if (!dataTable) return;\n",
              "\n",
              "          const docLinkHtml = 'Like what you see? Visit the ' +\n",
              "            '<a target=\"_blank\" href=https://colab.research.google.com/notebooks/data_table.ipynb>data table notebook</a>'\n",
              "            + ' to learn more about interactive tables.';\n",
              "          element.innerHTML = '';\n",
              "          dataTable['output_type'] = 'display_data';\n",
              "          await google.colab.output.renderOutput(dataTable, element);\n",
              "          const docLink = document.createElement('div');\n",
              "          docLink.innerHTML = docLinkHtml;\n",
              "          element.appendChild(docLink);\n",
              "        }\n",
              "      </script>\n",
              "    </div>\n",
              "  </div>\n",
              "  "
            ]
          },
          "metadata": {},
          "execution_count": 20
        }
      ],
      "source": [
        "text.loc[text.label==0,].head(3) # 일상다반사 (중립)"
      ]
    },
    {
      "cell_type": "code",
      "execution_count": 21,
      "metadata": {
        "id": "U7hOFBf6HUzX",
        "colab": {
          "base_uri": "https://localhost:8080/",
          "height": 143
        },
        "outputId": "f0495da6-fb33-4776-bb94-554e6ea50fe7"
      },
      "outputs": [
        {
          "output_type": "execute_result",
          "data": {
            "text/plain": [
              "                         Q                   A  label\n",
              "5290     1000일 만난 여자친구와 이별  더 오래 만날 사람 만날 거예요.      1\n",
              "5291       10년 연애. 헤어졌습니다.       더 공허함이 크시겠네요.      1\n",
              "5292  10년 연애사 되돌아보니 다 부질없네    더 좋은 사람 만나실 거예요.      1"
            ],
            "text/html": [
              "\n",
              "  <div id=\"df-21376894-2e16-46fc-b7cc-52419dfd89d3\">\n",
              "    <div class=\"colab-df-container\">\n",
              "      <div>\n",
              "<style scoped>\n",
              "    .dataframe tbody tr th:only-of-type {\n",
              "        vertical-align: middle;\n",
              "    }\n",
              "\n",
              "    .dataframe tbody tr th {\n",
              "        vertical-align: top;\n",
              "    }\n",
              "\n",
              "    .dataframe thead th {\n",
              "        text-align: right;\n",
              "    }\n",
              "</style>\n",
              "<table border=\"1\" class=\"dataframe\">\n",
              "  <thead>\n",
              "    <tr style=\"text-align: right;\">\n",
              "      <th></th>\n",
              "      <th>Q</th>\n",
              "      <th>A</th>\n",
              "      <th>label</th>\n",
              "    </tr>\n",
              "  </thead>\n",
              "  <tbody>\n",
              "    <tr>\n",
              "      <th>5290</th>\n",
              "      <td>1000일 만난 여자친구와 이별</td>\n",
              "      <td>더 오래 만날 사람 만날 거예요.</td>\n",
              "      <td>1</td>\n",
              "    </tr>\n",
              "    <tr>\n",
              "      <th>5291</th>\n",
              "      <td>10년 연애. 헤어졌습니다.</td>\n",
              "      <td>더 공허함이 크시겠네요.</td>\n",
              "      <td>1</td>\n",
              "    </tr>\n",
              "    <tr>\n",
              "      <th>5292</th>\n",
              "      <td>10년 연애사 되돌아보니 다 부질없네</td>\n",
              "      <td>더 좋은 사람 만나실 거예요.</td>\n",
              "      <td>1</td>\n",
              "    </tr>\n",
              "  </tbody>\n",
              "</table>\n",
              "</div>\n",
              "      <button class=\"colab-df-convert\" onclick=\"convertToInteractive('df-21376894-2e16-46fc-b7cc-52419dfd89d3')\"\n",
              "              title=\"Convert this dataframe to an interactive table.\"\n",
              "              style=\"display:none;\">\n",
              "        \n",
              "  <svg xmlns=\"http://www.w3.org/2000/svg\" height=\"24px\"viewBox=\"0 0 24 24\"\n",
              "       width=\"24px\">\n",
              "    <path d=\"M0 0h24v24H0V0z\" fill=\"none\"/>\n",
              "    <path d=\"M18.56 5.44l.94 2.06.94-2.06 2.06-.94-2.06-.94-.94-2.06-.94 2.06-2.06.94zm-11 1L8.5 8.5l.94-2.06 2.06-.94-2.06-.94L8.5 2.5l-.94 2.06-2.06.94zm10 10l.94 2.06.94-2.06 2.06-.94-2.06-.94-.94-2.06-.94 2.06-2.06.94z\"/><path d=\"M17.41 7.96l-1.37-1.37c-.4-.4-.92-.59-1.43-.59-.52 0-1.04.2-1.43.59L10.3 9.45l-7.72 7.72c-.78.78-.78 2.05 0 2.83L4 21.41c.39.39.9.59 1.41.59.51 0 1.02-.2 1.41-.59l7.78-7.78 2.81-2.81c.8-.78.8-2.07 0-2.86zM5.41 20L4 18.59l7.72-7.72 1.47 1.35L5.41 20z\"/>\n",
              "  </svg>\n",
              "      </button>\n",
              "      \n",
              "  <style>\n",
              "    .colab-df-container {\n",
              "      display:flex;\n",
              "      flex-wrap:wrap;\n",
              "      gap: 12px;\n",
              "    }\n",
              "\n",
              "    .colab-df-convert {\n",
              "      background-color: #E8F0FE;\n",
              "      border: none;\n",
              "      border-radius: 50%;\n",
              "      cursor: pointer;\n",
              "      display: none;\n",
              "      fill: #1967D2;\n",
              "      height: 32px;\n",
              "      padding: 0 0 0 0;\n",
              "      width: 32px;\n",
              "    }\n",
              "\n",
              "    .colab-df-convert:hover {\n",
              "      background-color: #E2EBFA;\n",
              "      box-shadow: 0px 1px 2px rgba(60, 64, 67, 0.3), 0px 1px 3px 1px rgba(60, 64, 67, 0.15);\n",
              "      fill: #174EA6;\n",
              "    }\n",
              "\n",
              "    [theme=dark] .colab-df-convert {\n",
              "      background-color: #3B4455;\n",
              "      fill: #D2E3FC;\n",
              "    }\n",
              "\n",
              "    [theme=dark] .colab-df-convert:hover {\n",
              "      background-color: #434B5C;\n",
              "      box-shadow: 0px 1px 3px 1px rgba(0, 0, 0, 0.15);\n",
              "      filter: drop-shadow(0px 1px 2px rgba(0, 0, 0, 0.3));\n",
              "      fill: #FFFFFF;\n",
              "    }\n",
              "  </style>\n",
              "\n",
              "      <script>\n",
              "        const buttonEl =\n",
              "          document.querySelector('#df-21376894-2e16-46fc-b7cc-52419dfd89d3 button.colab-df-convert');\n",
              "        buttonEl.style.display =\n",
              "          google.colab.kernel.accessAllowed ? 'block' : 'none';\n",
              "\n",
              "        async function convertToInteractive(key) {\n",
              "          const element = document.querySelector('#df-21376894-2e16-46fc-b7cc-52419dfd89d3');\n",
              "          const dataTable =\n",
              "            await google.colab.kernel.invokeFunction('convertToInteractive',\n",
              "                                                     [key], {});\n",
              "          if (!dataTable) return;\n",
              "\n",
              "          const docLinkHtml = 'Like what you see? Visit the ' +\n",
              "            '<a target=\"_blank\" href=https://colab.research.google.com/notebooks/data_table.ipynb>data table notebook</a>'\n",
              "            + ' to learn more about interactive tables.';\n",
              "          element.innerHTML = '';\n",
              "          dataTable['output_type'] = 'display_data';\n",
              "          await google.colab.output.renderOutput(dataTable, element);\n",
              "          const docLink = document.createElement('div');\n",
              "          docLink.innerHTML = docLinkHtml;\n",
              "          element.appendChild(docLink);\n",
              "        }\n",
              "      </script>\n",
              "    </div>\n",
              "  </div>\n",
              "  "
            ]
          },
          "metadata": {},
          "execution_count": 21
        }
      ],
      "source": [
        "text.loc[text.label==1,].head(3) # 이별(부정)"
      ]
    },
    {
      "cell_type": "code",
      "execution_count": 22,
      "metadata": {
        "id": "_512L5k6HV_r",
        "colab": {
          "base_uri": "https://localhost:8080/",
          "height": 143
        },
        "outputId": "80614f7f-4d66-4a05-abf6-9d00dce429db"
      },
      "outputs": [
        {
          "output_type": "execute_result",
          "data": {
            "text/plain": [
              "                        Q                         A  label\n",
              "8860   짝사랑만큼 고통스러운 건 없겠지.  짝사랑 만큼 감정소모가 큰 건 없을 거예요.      2\n",
              "8861  1년 넘게 만났는데 지금도 불타올라         정열적인 사랑을 하고 있나봐요.      2\n",
              "8862      1년 동거 중인데 계속 좋아    서로 깊게 알게되면서 더 좋아졌나봅니다.      2"
            ],
            "text/html": [
              "\n",
              "  <div id=\"df-26bc6fef-445b-4299-9906-164afd0c0556\">\n",
              "    <div class=\"colab-df-container\">\n",
              "      <div>\n",
              "<style scoped>\n",
              "    .dataframe tbody tr th:only-of-type {\n",
              "        vertical-align: middle;\n",
              "    }\n",
              "\n",
              "    .dataframe tbody tr th {\n",
              "        vertical-align: top;\n",
              "    }\n",
              "\n",
              "    .dataframe thead th {\n",
              "        text-align: right;\n",
              "    }\n",
              "</style>\n",
              "<table border=\"1\" class=\"dataframe\">\n",
              "  <thead>\n",
              "    <tr style=\"text-align: right;\">\n",
              "      <th></th>\n",
              "      <th>Q</th>\n",
              "      <th>A</th>\n",
              "      <th>label</th>\n",
              "    </tr>\n",
              "  </thead>\n",
              "  <tbody>\n",
              "    <tr>\n",
              "      <th>8860</th>\n",
              "      <td>짝사랑만큼 고통스러운 건 없겠지.</td>\n",
              "      <td>짝사랑 만큼 감정소모가 큰 건 없을 거예요.</td>\n",
              "      <td>2</td>\n",
              "    </tr>\n",
              "    <tr>\n",
              "      <th>8861</th>\n",
              "      <td>1년 넘게 만났는데 지금도 불타올라</td>\n",
              "      <td>정열적인 사랑을 하고 있나봐요.</td>\n",
              "      <td>2</td>\n",
              "    </tr>\n",
              "    <tr>\n",
              "      <th>8862</th>\n",
              "      <td>1년 동거 중인데 계속 좋아</td>\n",
              "      <td>서로 깊게 알게되면서 더 좋아졌나봅니다.</td>\n",
              "      <td>2</td>\n",
              "    </tr>\n",
              "  </tbody>\n",
              "</table>\n",
              "</div>\n",
              "      <button class=\"colab-df-convert\" onclick=\"convertToInteractive('df-26bc6fef-445b-4299-9906-164afd0c0556')\"\n",
              "              title=\"Convert this dataframe to an interactive table.\"\n",
              "              style=\"display:none;\">\n",
              "        \n",
              "  <svg xmlns=\"http://www.w3.org/2000/svg\" height=\"24px\"viewBox=\"0 0 24 24\"\n",
              "       width=\"24px\">\n",
              "    <path d=\"M0 0h24v24H0V0z\" fill=\"none\"/>\n",
              "    <path d=\"M18.56 5.44l.94 2.06.94-2.06 2.06-.94-2.06-.94-.94-2.06-.94 2.06-2.06.94zm-11 1L8.5 8.5l.94-2.06 2.06-.94-2.06-.94L8.5 2.5l-.94 2.06-2.06.94zm10 10l.94 2.06.94-2.06 2.06-.94-2.06-.94-.94-2.06-.94 2.06-2.06.94z\"/><path d=\"M17.41 7.96l-1.37-1.37c-.4-.4-.92-.59-1.43-.59-.52 0-1.04.2-1.43.59L10.3 9.45l-7.72 7.72c-.78.78-.78 2.05 0 2.83L4 21.41c.39.39.9.59 1.41.59.51 0 1.02-.2 1.41-.59l7.78-7.78 2.81-2.81c.8-.78.8-2.07 0-2.86zM5.41 20L4 18.59l7.72-7.72 1.47 1.35L5.41 20z\"/>\n",
              "  </svg>\n",
              "      </button>\n",
              "      \n",
              "  <style>\n",
              "    .colab-df-container {\n",
              "      display:flex;\n",
              "      flex-wrap:wrap;\n",
              "      gap: 12px;\n",
              "    }\n",
              "\n",
              "    .colab-df-convert {\n",
              "      background-color: #E8F0FE;\n",
              "      border: none;\n",
              "      border-radius: 50%;\n",
              "      cursor: pointer;\n",
              "      display: none;\n",
              "      fill: #1967D2;\n",
              "      height: 32px;\n",
              "      padding: 0 0 0 0;\n",
              "      width: 32px;\n",
              "    }\n",
              "\n",
              "    .colab-df-convert:hover {\n",
              "      background-color: #E2EBFA;\n",
              "      box-shadow: 0px 1px 2px rgba(60, 64, 67, 0.3), 0px 1px 3px 1px rgba(60, 64, 67, 0.15);\n",
              "      fill: #174EA6;\n",
              "    }\n",
              "\n",
              "    [theme=dark] .colab-df-convert {\n",
              "      background-color: #3B4455;\n",
              "      fill: #D2E3FC;\n",
              "    }\n",
              "\n",
              "    [theme=dark] .colab-df-convert:hover {\n",
              "      background-color: #434B5C;\n",
              "      box-shadow: 0px 1px 3px 1px rgba(0, 0, 0, 0.15);\n",
              "      filter: drop-shadow(0px 1px 2px rgba(0, 0, 0, 0.3));\n",
              "      fill: #FFFFFF;\n",
              "    }\n",
              "  </style>\n",
              "\n",
              "      <script>\n",
              "        const buttonEl =\n",
              "          document.querySelector('#df-26bc6fef-445b-4299-9906-164afd0c0556 button.colab-df-convert');\n",
              "        buttonEl.style.display =\n",
              "          google.colab.kernel.accessAllowed ? 'block' : 'none';\n",
              "\n",
              "        async function convertToInteractive(key) {\n",
              "          const element = document.querySelector('#df-26bc6fef-445b-4299-9906-164afd0c0556');\n",
              "          const dataTable =\n",
              "            await google.colab.kernel.invokeFunction('convertToInteractive',\n",
              "                                                     [key], {});\n",
              "          if (!dataTable) return;\n",
              "\n",
              "          const docLinkHtml = 'Like what you see? Visit the ' +\n",
              "            '<a target=\"_blank\" href=https://colab.research.google.com/notebooks/data_table.ipynb>data table notebook</a>'\n",
              "            + ' to learn more about interactive tables.';\n",
              "          element.innerHTML = '';\n",
              "          dataTable['output_type'] = 'display_data';\n",
              "          await google.colab.output.renderOutput(dataTable, element);\n",
              "          const docLink = document.createElement('div');\n",
              "          docLink.innerHTML = docLinkHtml;\n",
              "          element.appendChild(docLink);\n",
              "        }\n",
              "      </script>\n",
              "    </div>\n",
              "  </div>\n",
              "  "
            ]
          },
          "metadata": {},
          "execution_count": 22
        }
      ],
      "source": [
        "text.loc[text.label==2,].head(3) # 사랑(긍정)"
      ]
    },
    {
      "cell_type": "code",
      "execution_count": 23,
      "metadata": {
        "id": "tFqJfBhyHYek",
        "colab": {
          "base_uri": "https://localhost:8080/"
        },
        "outputId": "e0e4f49f-12b3-4ca7-8258-88f3afcb2774"
      },
      "outputs": [
        {
          "output_type": "execute_result",
          "data": {
            "text/plain": [
              "['하루가 또 가네요.', '위로해 드립니다.', '여행은 언제나 좋죠.', '여행은 언제나 좋죠.', '눈살이 찌푸려지죠.']"
            ]
          },
          "metadata": {},
          "execution_count": 23
        }
      ],
      "source": [
        "list(text['A'])[:5]"
      ]
    },
    {
      "cell_type": "code",
      "execution_count": 24,
      "metadata": {
        "id": "9WZI12XHIGT7",
        "colab": {
          "base_uri": "https://localhost:8080/"
        },
        "outputId": "670aa9f0-b97d-48bb-a7b6-4479e162f893"
      },
      "outputs": [
        {
          "output_type": "stream",
          "name": "stdout",
          "text": [
            "단어 집합의 크기 : 9849\n",
            "{'거예요': 1, '수': 2, '더': 3, '같아요': 4, '좋은': 5, '있어요': 6, '잘': 7, '있을': 8, '많이': 9, '것': 10, '게': 11, '마세요': 12, '해보세요': 13, '건': 14, '수도': 15, '거': 16, '마음이': 17, '좋을': 18, '없어요': 19, '시간이': 20, '그': 21, '바랄게요': 22, '것도': 23, '사람': 24, '안': 25, '될': 26, '다른': 27, '돼요': 28, '좀': 29, '저도': 30, '좋아요': 31, '보세요': 32, '있는': 33, '그런': 34, '하세요': 35, '드세요': 36, '너무': 37, '않아요': 38, '좋죠': 39, '제가': 40, '바랍니다': 41, '그럴': 42, '할': 43, '걸': 44, '말해보세요': 45, '같이': 46, '해요': 47, '생각해요': 48, '사람이': 49, '좋겠어요': 50, '마음을': 51, '먼저': 52, '몰라요': 53, '이제': 54, '하고': 55, '일이': 56, '자신을': 57, '다': 58, '어떨까요': 59, '생각해보세요': 60, '하는': 61, '아니에요': 62, '정말': 63, '좋겠네요': 64, '주세요': 65, '힘든': 66, '다시': 67, '마음': 68, '있으면': 69, '때': 70, '한': 71, '바라요': 72, '그게': 73, '많은': 74, '사랑은': 75, '찾아보세요': 76, '말고': 77, '만큼': 78, '가보세요': 79, '저는': 80, '아직': 81, '괜찮아요': 82, '직접': 83, '좋아하는': 84, '그렇게': 85, '생각을': 86, '때가': 87, '도움이': 88, '충분히': 89, '물어보세요': 90, '있죠': 91, '않을': 92, '시간': 93, '사람은': 94, '쉽지': 95, '항상': 96, '않는': 97, '말아요': 98, '연락해보세요': 99, '얼른': 100, '대화를': 101, '새로운': 102, '힘들': 103, '사람을': 104, '당신의': 105, '따라': 106, '있나봐요': 107, '올': 108, '마음의': 109, '오세요': 110, '없는': 111, '함께': 112, '하지': 113, '중요해요': 114, '서로': 115, '조심하세요': 116, '자신의': 117, '무슨': 118, '생각이': 119, '싶은': 120, '만날': 121, '중요한': 122, '하면': 123, '사랑이': 124, '어떤': 125, '조금만': 126, '조금': 127, '가장': 128, '잘할': 129, '혼자': 130, '열심히': 131, '저랑': 132, '큰': 133, '조금씩': 134, '꼭': 135, '사랑을': 136, '거라': 137, '그래도': 138, '또': 139, '못': 140, '천천히': 141, '마음에': 142, '가는': 143, '모르겠어요': 144, '사랑의': 145, '이별은': 146, '사세요': 147, '맛있게': 148, '계속': 149, '지금도': 150, '당신을': 151, '보고': 152, '않은': 153, '내': 154, '먹고': 155, '생각보다': 156, '당신이': 157, '힘내세요': 158, '봐요': 159, '지금': 160, '많았어요': 161, '뿐이에요': 162, '믿어요': 163, '있다면': 164, '네': 165, '하죠': 166, '되길': 167, '않죠': 168, '사랑': 169, '하나씩': 170, '서로에게': 171, '대한': 172, '인연이': 173, '참': 174, '살': 175, '잠시': 176, '정리가': 177, '싶어요': 178, '이별을': 179, '있었나봐요': 180, '시간을': 181, '거죠': 182, '신경쓰지': 183, '볼': 184, '알': 185, '언젠간': 186, '모두': 187, '곳으로': 188, '확신이': 189, '친구가': 190, '주무세요': 191, '연락을': 192, '덜': 193, '싶네요': 194, '없죠': 195, '눈을': 196, '필요해요': 197, '늦지': 198, '가져보세요': 199, '해주세요': 200, '많아요': 201, '필요한': 202, '나쁜': 203, '되지': 204, '없을': 205, '자신이': 206, '확인해보세요': 207, '당신은': 208, '생각': 209, '살펴보세요': 210, '금방': 211, '없네요': 212, '가세요': 213, '사랑해주세요': 214, '힘들죠': 215, '해봐요': 216, '않아도': 217, '아니라': 218, '나를': 219, '진짜': 220, '오늘': 221, '예의가': 222, '언제나': 223, '변화가': 224, '말을': 225, '슬픈': 226, '힘들어요': 227, '아무래도': 228, '좋아할': 229, '쉬운': 230, '이유가': 231, '없다면': 232, '중요하지': 233, '사는': 234, '즐거운': 235, '곧': 236, '미리': 237, '좋겠죠': 238, '잘하고': 239, '지금은': 240, '그래요': 241, '대로': 242, '사랑하는': 243, '힘들겠지만': 244, '이젠': 245, '주는': 246, '제일': 247, '만나지': 248, '누구나': 249, '같은': 250, '다를': 251, '위해': 252, '기분': 253, '사람들이': 254, '원하는': 255, '아닐까요': 256, '마요': 257, '않길': 258, '나중에': 259, '사랑했던': 260, '사람도': 261, '확실한': 262, '시간은': 263, '친구를': 264, '기분이': 265, '자연스러운': 266, '잘하는': 267, '맞는': 268, '다행이에요': 269, '감정을': 270, '맛있는': 271, '스스로': 272, '축하해요': 273, '생길': 274, '일찍': 275, '상관': 276, '감기': 277, '연락': 278, '편이': 279, '사랑에': 280, '않는다면': 281, '번': 282, '자책하지': 283, '가끔': 284, '다음에는': 285, '않고': 286, '그러면': 287, '바로': 288, '말하세요': 289, '사람이네요': 290, '모든': 291, '스트레스': 292, '전에': 293, '힘들겠어요': 294, '날이': 295, '그냥': 296, '같네요': 297, '물어보는': 298, '충분한': 299, '그건': 300, '사람마다': 301, '꾸준히': 302, '만나보세요': 303, '것보다': 304, '멋진': 305, '있겠어요': 306, '있잖아요': 307, '오래': 308, '자주': 309, '해도': 310, '것이': 311, '않을까요': 312, '용기를': 313, '보는': 314, '술': 315, '있네요': 316, '마음은': 317, '후회하지': 318, '생각하고': 319, '되겠네요': 320, '잠깐': 321, '신경': 322, '그런가봐요': 323, '어려운': 324, '봅니다': 325, '절대': 326, '자신에게': 327, '앞에': 328, '받을': 329, '적당히': 330, '내가': 331, '되는': 332, '데이트': 333, '뭐든': 334, '아는': 335, '일이에요': 336, '아픈': 337, '매일': 338, '일은': 339, '준비가': 340, '미련이': 341, '썸': 342, '후회할': 343, '서로를': 344, '모르는': 345, '생각하세요': 346, '일을': 347, '말씀해주세요': 348, '나을': 349, '한번': 350, '놀아요': 351, '축하드려요': 352, '연습을': 353, '때까지': 354, '만나세요': 355, '해야': 356, '자신감을': 357, '아무것도': 358, '같습니다': 359, '합니다': 360, '있는지': 361, '시작해보세요': 362, '관심을': 363, '맘고생': 364, '끝을': 365, '딱': 366, '놓아주세요': 367, '받아들이는': 368, '힘들게': 369, '집에': 370, '현상이에요': 371, '때도': 372, '이야기해보세요': 373, '아닌': 374, '말씀해보세요': 375, '제': 376, '되어': 377, '말': 378, '살짝': 379, '고민이': 380, '보면': 381, '연애': 382, '곳이': 383, '된': 384, '해보는': 385, '것을': 386, '중에': 387, '긴': 388, '작은': 389, '모르겠네요': 390, '문제가': 391, '좋지': 392, '않았어요': 393, '요즘': 394, '사람이에요': 395, '궁금하네요': 396, '잔': 397, '힘이': 398, '쉬세요': 399, '고생': 400, '많죠': 401, '여유를': 402, '줄': 403, '당신': 404, '추억이': 405, '들': 406, '둘': 407, '생각해': 408, '잊지': 409, '사귀는': 410, '저에게': 411, '들어드릴게요': 412, '보지': 413, '마음도': 414, '이별이': 415, '어느덧': 416, '지켜보세요': 417, '만들어': 418, '저도요': 419, '필요하죠': 420, '노력해보세요': 421, '위한': 422, '되죠': 423, '않으면': 424, '지쳤나봐요': 425, '왜': 426, '이야기네요': 427, '주변': 428, '고민하고': 429, '예뻐요': 430, '하다보면': 431, '잊어버리세요': 432, '이해해주세요': 433, '어때요': 434, '아닌지': 435, '가서': 436, '괜찮을': 437, '먹으면': 438, '걸로': 439, '전해보세요': 440, '있으니까요': 441, '알아보세요': 442, '전': 443, '관심이': 444, '때네요': 445, '지나갈': 446, '않았으면': 447, '이별': 448, '맘': 449, '따로': 450, '상황을': 451, '흘렀네요': 452, '즐기세요': 453, '빨리': 454, '무시하세요': 455, '시작이': 456, '필요': 457, '바뀔': 458, '만들어보세요': 459, '친구들과': 460, '있어도': 461, '오늘은': 462, '버리세요': 463, '상대방을': 464, '필요는': 465, '뭘': 466, '아니라고': 467, '기다려보세요': 468, '진심으로': 469, '알고': 470, '연락해': 471, '가지세요': 472, '실감이': 473, '않으니까요': 474, '괜찮아질': 475, '잊는': 476, '호감을': 477, '호감이': 478, '사귀고': 479, '어서': 480, '드는': 481, '일': 482, '있을거예요': 483, '돈을': 484, '피할': 485, '준비해보세요': 486, '선택을': 487, '기다릴': 488, '쐬고': 489, '살고': 490, '자신': 491, '내일은': 492, '부러워요': 493, '자신에': 494, '변화를': 495, '아무': 496, '안해도': 497, '주지': 498, '없다고': 499, '성격이': 500, '말이에요': 501, '아닐': 502, '인생은': 503, '소중한': 504, '이유를': 505, '최고죠': 506, '용기가': 507, '사람으로': 508, '시작': 509, '충분해요': 510, '화장실': 511, '상대를': 512, '못한': 513, '예쁘게': 514, '받지': 515, '마스크': 516, '어쩔': 517, '안돼요': 518, '하루': 519, '서로의': 520, '사람에게': 521, '당당하게': 522, '직장': 523, '끝이': 524, '당신도': 525, '제대로': 526, '진정한': 527, '있길': 528, '상처를': 529, '하는게': 530, '한동안은': 531, '후폭풍이': 532, '어느': 533, '아니라면': 534, '방법이에요': 535, '이별의': 536, '달라지는': 537, '행복한': 538, '있지만': 539, '짝사랑': 540, '정리하는게': 541, '부담스럽지': 542, '기회가': 543, '생각이에요': 544, '습관이에요': 545, '가요': 546, '힘들겠네요': 547, '행복할': 548, '점점': 549, '없나봐요': 550, '혼자가': 551, '내세요': 552, '피하세요': 553, '공부': 554, '중요하죠': 555, '필요할': 556, '있어': 557, '적어보세요': 558, '사람들에게': 559, '하셨네요': 560, '그래서': 561, '부럽네요': 562, '않게': 563, '이야기': 564, '좋아해요': 565, '파이팅': 566, '기다리는': 567, '사용해보세요': 568, '말도': 569, '생각은': 570, '가능할': 571, '순간': 572, '일이네요': 573, '때를': 574, '만나는': 575, '눈이': 576, '말하는': 577, '듯': 578, '쉽게': 579, '잠이': 580, '깊은': 581, '생각하지': 582, '없이': 583, '좋겠지만': 584, '오늘도': 585, '무엇이든': 586, '나서': 587, '푹': 588, '용기내서': 589, '고백해보세요': 590, '응원합니다': 591, '되기도': 592, '당장': 593, '가능성이': 594, '사람의': 595, '필요하겠네요': 596, '아프네요': 597, '힘들지': 598, '힘들었겠어요': 599, '사랑한': 600, '상대방이': 601, '잊을': 602, '최선의': 603, '이런': 604, '연락하지': 605, '차분히': 606, '때론': 607, '고민': 608, '자연스럽게': 609, '사랑한다면': 610, '그렇지만': 611, '감정에': 612, '헷갈리게': 613, '확실히': 614, '위로해': 615, '다음': 616, '따뜻하게': 617, '결정을': 618, '쉬는': 619, '생각만': 620, '믿어보세요': 621, '옆에': 622, '내보세요': 623, '다르겠지만': 624, '능력이': 625, '사람이랑': 626, '병원에': 627, '걱정하지': 628, '곳에서': 629, '지금처럼': 630, '돌려보세요': 631, '그렇지': 632, '여행을': 633, '낫죠': 634, '있지': 635, '이야기를': 636, '사람과': 637, '저': 638, '생각하는': 639, '해서': 640, '받는': 641, '정신': 642, '온전히': 643, '거니': 644, '나눠보세요': 645, '나이는': 646, '시원한': 647, '없겠네요': 648, '상황이': 649, '다녀오세요': 650, '울어도': 651, '엄청': 652, '잘했어요': 653, '의사를': 654, '바쁜가봐요': 655, '건강에': 656, '돈': 657, '풀릴': 658, '물': 659, '사랑하고': 660, '걸어보세요': 661, '쉬고': 662, '나가세요': 663, '때는': 664, '곳에': 665, '그만큼': 666, '적극적으로': 667, '영화': 668, '남을': 669, '일도': 670, '가지고': 671, '행복하게': 672, '사소한': 673, '내요': 674, '연락하고': 675, '준비를': 676, '친구': 677, '하나봐요': 678, '사람에': 679, '마다': 680, '만들어요': 681, '이겨낼': 682, '했나봐요': 683, '끝은': 684, '됩니다': 685, '가슴': 686, '잊으세요': 687, '거겠죠': 688, '연락이': 689, '후회가': 690, '진심을': 691, '지내고': 692, '있겠죠': 693, '우세요': 694, '있게': 695, '어떻게': 696, '순': 697, '편한': 698, '듣고': 699, '못하고': 700, '못하는': 701, '지금이라도': 702, '맞았나봐요': 703, '공부는': 704, '쉬어도': 705, '약': 706, '누가': 707, '바람': 708, '감사합니다': 709, '마음으로': 710, '말은': 711, '들어보세요': 712, '알면': 713, '크게': 714, '많을': 715, '수록': 716, '나이가': 717, '도움을': 718, '태어난': 719, '오는': 720, '못할': 721, '어려워요': 722, '노래': 723, '시기가': 724, '힘든가봅니다': 725, '가능해요': 726, '자신만': 727, '드셔보세요': 728, '로맨틱하네요': 729, '써보세요': 730, '슬프네요': 731, '얼굴': 732, '그대로': 733, '따뜻한': 734, '상처가': 735, '사람들': 736, '인생이': 737, '똑같은': 738, '보통': 739, '갈': 740, '골라보세요': 741, '선택일': 742, '부탁해보세요': 743, '선이': 744, '가고': 745, '마련이죠': 746, '받고': 747, '친구한테': 748, '나은': 749, '스스로에게': 750, '좋지만': 751, '연락은': 752, '못해요': 753, '고생했어요': 754, '있다고': 755, '다르겠죠': 756, '않나봐요': 757, '좋아하는지': 758, '가지': 759, '가기': 760, '선물이': 761, '대해': 762, '찾아올': 763, '은연': 764, '있나요': 765, '복잡하겠어요': 766, '말할': 767, '생각할': 768, '솔직한': 769, '마련이에요': 770, '아니니까요': 771, '않겠지만': 772, '저한테': 773, '지났네요': 774, '감정이': 775, '이별에는': 776, '헤아리는': 777, '데는': 778, '있더라고요': 779, '있지요': 780, '분위기': 781, '있을지도': 782, '위로가': 783, '기대세요': 784, '감정의': 785, '본인의': 786, '짝사랑이': 787, '표현해보세요': 788, '바쁘거나': 789, '다가가보세요': 790, '사귀기': 791, '새로': 792, '모르고': 793, '두': 794, '관리하세요': 795, '아름다운': 796, '혼자도': 797, '알게': 798, '밥': 799, '늘어요': 800, '챙겨드세요': 801, '좋아하나봐요': 802, '삶을': 803, '혼자만': 804, '상대에게': 805, '곁에': 806, '있다는': 807, '신나는': 808, '줘보세요': 809, '현실을': 810, '지도': 811, '취해보세요': 812, '나': 813, '다가가': 814, '운동': 815, '목소리를': 816, '그러고': 817, '동안': 818, '믿음이': 819, '말해주세요': 820, '노력하는': 821, '있으니': 822, '깨요': 823, '건지': 824, '집': 825, '거리를': 826, '먹어보세요': 827, '노력하겠습니다': 828, '알려주세요': 829, '감고': 830, '먹는': 831, '솔직하게': 832, '남에게': 833, '행복은': 834, '있어서': 835, '돈이': 836, '남의': 837, '현재를': 838, '맛나게': 839, '회원정보': 840, '찾기를': 841, '긍정적인': 842, '읽어보세요': 843, '생각했나봐요': 844, '회사와': 845, '대해서': 846, '공부해서': 847, '그렇다면': 848, '혹시': 849, '추천해요': 850, '모습이': 851, '인생을': 852, '숨': 853, '관계를': 854, '받아보세요': 855, '챙겨': 856, '누구든': 857, '우산': 858, '언젠가': 859, '한잔': 860, '자체가': 861, '하나': 862, '방법이': 863, '뭔지': 864, '하면서': 865, '은근': 866, '바쁜': 867, '사람인가봐요': 868, '모습을': 869, '회사는': 870, '거면': 871, '스트레스가': 872, '여행도': 873, '바쁘게': 874, '이렇게': 875, '말이네요': 876, '글로': 877, '우리는': 878, '나면': 879, '기다리고': 880, '내는': 881, '극복할': 882, '그럼요': 883, '회사': 884, '나타날': 885, '이상': 886, '사랑했나봐요': 887, '보내주세요': 888, '힘들었을': 889, '정리할': 890, '때문에': 891, '그녀를': 892, '드릴게요': 893, '단단히': 894, '흔들리지': 895, '거기까지인가봐요': 896, '이': 897, '헤어진': 898, '사랑이네요': 899, '머리랑': 900, '가슴이': 901, '것은': 902, '그분': 903, '있나봅니다': 904, '괜찮아졌길': 905, '다르겠지요': 906, '있기': 907, '물어보는게': 908, '소식이네요': 909, '좋아하면': 910, '사랑으로': 911, '관심사를': 912, '따뜻할': 913, '썸의': 914, '이성으로': 915, '후가': 916, '저를': 917, '부모님': 918, '자체로': 919, '다음부터는': 920, '일부터': 921, '운동을': 922, '용기': 923, '건강': 924, '증거를': 925, '노력하면': 926, '타이밍이': 927, '연습이': 928, '말씀하세요': 929, '후회는': 930, '아니죠': 931, '재미가': 932, '만남이었길': 933, '궁금해요': 934, '자세히': 935, '떠나보세요': 936, '괜찮은': 937, '바라지': 938, '기다리면': 939, '선물은': 940, '아무렇지도': 941, '축하합니다': 942, '좋아하고': 943, '정해보세요': 944, '시작하세요': 945, '하나라도': 946, '현실의': 947, '알아보고': 948, '걱정이': 949, '봐도': 950, '속': 951, '과정이': 952, '만든': 953, '지난': 954, '시원하게': 955, '위로봇입니다': 956, '생각해도': 957, '비교하지': 958, '뭐라도': 959, '기분전환을': 960, '지내는': 961, '완벽한': 962, '수는': 963, '사랑할': 964, '참고': 965, '참아보세요': 966, '기다려주세요': 967, '아니네요': 968, '하지마세요': 969, '귀': 970, '데이트를': 971, '습관을': 972, '상처받지': 973, '멋져요': 974, '여러': 975, '여행': 976, '내일': 977, '재미': 978, '고백을': 979, '있겠네요': 980, '텐데': 981, '어울리는': 982, '기억': 983, '몸이': 984, '분이': 985, '잡으세요': 986, '풀어보세요': 987, '않아서': 988, '당연하죠': 989, '일이죠': 990, '외로운': 991, '성공하길': 992, '정리를': 993, '만나면': 994, '약을': 995, '유지하는': 996, '사람이라면': 997, '해야죠': 998, '힘들어하지': 999, '주변에': 1000, '아니면': 1001, '편할': 1002, '없애는': 1003, '부분이': 1004, '될거예요': 1005, '몇': 1006, '편하게': 1007, '받으면': 1008, '안녕': 1009, '보여주세요': 1010, '행복을': 1011, '억지로라도': 1012, '연락처를': 1013, '거요': 1014, '가벼운': 1015, '버릴': 1016, '좋으면': 1017, '우선': 1018, '살아요': 1019, '연락하면': 1020, '질': 1021, '있고': 1022, '버텨보세요': 1023, '나쁘지': 1024, '물어봐요': 1025, '예쁜': 1026, '환승은': 1027, '주고': 1028, '거기까지였나봐요': 1029, '이별도': 1030, '그동안': 1031, '받아들이기': 1032, '결정이었을텐데': 1033, '필요하겠어요': 1034, '힘들지요': 1035, '그렇죠': 1036, '힘내지': 1037, '같지': 1038, '맞을거예요': 1039, '남지': 1040, '밖에': 1041, '완전히': 1042, '했던': 1043, '제게': 1044, '갖고': 1045, '사랑에는': 1046, '알다가도': 1047, '알기': 1048, '놀죠': 1049, '사람이니까요': 1050, '사랑하지': 1051, '선물을': 1052, '마음대로': 1053, '사정이': 1054, '될지도': 1055, '않았나봐요': 1056, '후회': 1057, '그러게요': 1058, '가끔은': 1059, '정도': 1060, '아예': 1061, '생각해봐요': 1062, '헤아리지': 1063, '달콤한': 1064, '아직도': 1065, '있었나요': 1066, '만들': 1067, '그분이': 1068, '만나서': 1069, '현실적인': 1070, '연락하는': 1071, '직접적이든': 1072, '간접적이든': 1073, '밝혀보세요': 1074, '듯합니다': 1075, '사랑하면': 1076, '가능합니다': 1077, '잊고': 1078, '가족이': 1079, '이야기해': 1080, '친구로': 1081, '감정은': 1082, '처음': 1083, '싫어하지': 1084, '운을': 1085, '걱정은': 1086, '주기적으로': 1087, '해주는': 1088, '적게': 1089, '안전': 1090, '정리해보세요': 1091, '빠를수록': 1092, '안타깝네요': 1093, '보러': 1094, '모아서': 1095, '처음부터': 1096, '준비하세요': 1097, '방법': 1098, '소화제': 1099, '책을': 1100, '학점': 1101, '피곤한가봐요': 1102, '학원을': 1103, '좋아할거예요': 1104, '말해': 1105, '터놓고': 1106, '대중교통을': 1107, '이용해주세요': 1108, '좋아': 1109, '차근차근': 1110, '예민한가봐요': 1111, '뜻대로': 1112, '되는게': 1113, '해낼': 1114, '곰곰히': 1115, '안녕히': 1116, '성공을': 1117, '청해보세요': 1118, '차리세요': 1119, '거울': 1120, '누구도': 1121, '자기': 1122, '지금보다': 1123, '집중하세요': 1124, '느낄': 1125, '시간이겠네요': 1126, '다양하게': 1127, '다이어트': 1128, '근처': 1129, '상대방도': 1130, '꿈은': 1131, '도전해': 1132, '하늘': 1133, '하늘을': 1134, '웃어보세요': 1135, '참는': 1136, '만드는': 1137, '실수할': 1138, '기회를': 1139, '고쳐쓰는': 1140, '하거나': 1141, '싶지': 1142, '마련': 1143, '컨디션': 1144, '군침이': 1145, '도네요': 1146, '노력하고': 1147, '점은': 1148, '있는게': 1149, '놀': 1150, '특별한': 1151, '괜찮다면': 1152, '시간도': 1153, '습관이네요': 1154, '눈': 1155, '붙여보세요': 1156, '휴식을': 1157, '흥미를': 1158, '능력을': 1159, '맛있어요': 1160, '안에': 1161, '가짐에': 1162, '갈때': 1163, '아니지만': 1164, '쓰지': 1165, '이제라도': 1166, '싸우면서': 1167, '놀다': 1168, '들여보세요': 1169, '로맨틱한': 1170, '두근거리겠어요': 1171, '세상에는': 1172, '얼마든지': 1173, '거울을': 1174, '놀이': 1175, '사보세요': 1176, '관리': 1177, '마음이라도': 1178, '실수를': 1179, '입을': 1180, '친구랑': 1181, '덜할': 1182, '연습해보세요': 1183, '벌써': 1184, '드시고': 1185, '바쁘면': 1186, '냉장고': 1187, '파먹기': 1188, '쓰고': 1189, '재미있어요': 1190, '배우는': 1191, '스트레칭을': 1192, '운동으로': 1193, '보아요': 1194, '행복하길': 1195, '신고하세요': 1196, '배우면': 1197, '부지런하시네요': 1198, '보기': 1199, '되고': 1200, '누구에게나': 1201, '음식을': 1202, '연락해서': 1203, '맛난': 1204, '핸드폰': 1205, '꾸며보세요': 1206, '충전하세요': 1207, '거둘': 1208, '받아보는': 1209, '계획을': 1210, '경우가': 1211, '사면': 1212, '세상에': 1213, '관계가': 1214, '힘드신가봐요': 1215, '응원해요': 1216, '추천합니다': 1217, '이번에는': 1218, '않을거예요': 1219, '쉬어야': 1220, '삶의': 1221, '소비': 1222, '못하면': 1223, '부족한': 1224, '깊게': 1225, '잠을': 1226, '상관없어요': 1227, '걱정되겠네요': 1228, '양해를': 1229, '고민하게': 1230, '만들려고': 1231, '그랬나봐요': 1232, '했나': 1233, '내일도': 1234, '많은가봐요': 1235, '줄여보세요': 1236, '무서운': 1237, '올려달라고': 1238, '빌려보세요': 1239, '않겠어요': 1240, '치과에': 1241, '심하겠네요': 1242, '정리하는': 1243, '심한가봐요': 1244, '기운': 1245, '필요한가봐요': 1246, '심호흡해보세요': 1247, '생각만해도': 1248, '하네요': 1249, '속에서': 1250, '소리': 1251, '못했나봐요': 1252, '아닌가봐요': 1253, '끝도': 1254, '결정할': 1255, '벗어나세요': 1256, '되었나봐요': 1257, '힘들지도': 1258, '헤어지세요': 1259, '사랑도': 1260, '실수하지': 1261, '괴롭게': 1262, '그럴지도': 1263, '중': 1264, '귀를': 1265, '기억을': 1266, '보이지': 1267, '힘들거예요': 1268, '꿈이': 1269, '흐르고': 1270, '얼마': 1271, '언제든': 1272, '나을지도': 1273, '달라지는게': 1274, '추억으로': 1275, '이제는': 1276, '것들이': 1277, '무엇이': 1278, '미련은': 1279, '생각날': 1280, '그럴만': 1281, '그럼': 1282, '신경을': 1283, '지나갔길': 1284, '복잡한': 1285, '가만히': 1286, '나지': 1287, '만나길': 1288, '알면서도': 1289, '쉽진': 1290, '그분의': 1291, '좋을까요': 1292, '이별에': 1293, '차분하게': 1294, '심경의': 1295, '선택일거라': 1296, '감정': 1297, '나아질': 1298, '각자의': 1299, '정리': 1300, '아픔의': 1301, '아니랍니다': 1302, '말해봐요': 1303, '자꾸': 1304, '하루를': 1305, '중요할': 1306, '결혼': 1307, '다가가는': 1308, '안하고': 1309, '달라고': 1310, '연애에': 1311, '부드럽게': 1312, '귀엽게': 1313, '공통': 1314, '하는건': 1315, '괜찮지만': 1316, '난': 1317, '않지만': 1318, '사랑한다고': 1319, '좋습니다': 1320, '여행은': 1321, '온': 1322, '준': 1323, '이럴': 1324, '어필해보세요': 1325, '살펴': 1326, '연인은': 1327, '보내고': 1328, '찾아': 1329, '생각해서': 1330, '결정은': 1331, '보이는': 1332, '나만의': 1333, '찾는': 1334, '결과': 1335, '친구와': 1336, '살다보면': 1337, '부담스러워하지': 1338, '군대': 1339, '아무도': 1340, '선택이길': 1341, '감히': 1342, '기다리지': 1343, '맡겨보세요': 1344, '상황이네요': 1345, '드리고': 1346, '아름다워요': 1347, '눈치가': 1348, '문제는': 1349, '기원합니다': 1350, '사랑해요': 1351, '물리적': 1352, '눈은': 1353, '이유는': 1354, '벽에': 1355, '상대방에게': 1356, '짐을': 1357, '친구는': 1358, '거르세요': 1359, '사귈': 1360, '두려워하지': 1361, '자신과': 1362, '등을': 1363, '말이': 1364, '과정이에요': 1365, '되는지': 1366, '화를': 1367, '티를': 1368, '평소에': 1369, '인정해주세요': 1370, '자격이': 1371, '때예요': 1372, '안하는': 1373, '인생이죠': 1374, '신중하게': 1375, '나올': 1376, '마음과': 1377, '척': 1378, '뭐라고': 1379, '들어도': 1380, '준비하는': 1381, '어깨': 1382, '경험이': 1383, '여유가': 1384, '다르죠': 1385, '대해보세요': 1386, '곳을': 1387, '꿈에': 1388, '조차': 1389, '도서관': 1390, '필요하다면요': 1391, '없어도': 1392, '큰일이네요': 1393, '개인': 1394, '미래에': 1395, '그러게': 1396, '심호흡을': 1397, '차단': 1398, '보면서': 1399, '해': 1400, '적': 1401, '있으신가봐요': 1402, '필요하다면': 1403, '표현이': 1404, '상처는': 1405, '지울': 1406, '만나는게': 1407, '별': 1408, '없을거예요': 1409, '라고': 1410, '줘도': 1411, '끝까지': 1412, '비가': 1413, '힘껏': 1414, '정확하게': 1415, '세상은': 1416, '빌어요': 1417, '깨끗하게': 1418, '구해보세요': 1419, '약이': 1420, '하지만': 1421, '소원을': 1422, '사랑과': 1423, '들고': 1424, '중요한데': 1425, '지칠': 1426, '커피': 1427, '한창': 1428, '인정하고': 1429, '좋아질': 1430, '데려다': 1431, '싫은': 1432, '오면': 1433, '맞아요': 1434, '쓸': 1435, '드시면': 1436, '술이': 1437, '사람한테': 1438, '왔나봐요': 1439, '순간이네요': 1440, '의미가': 1441, '안녕하세요': 1442, '가능하겠죠': 1443, '이상형은': 1444, '보다': 1445, '후회하기': 1446, '사과하세요': 1447, '있을지': 1448, '잘해주세요': 1449, '시작이죠': 1450, '학교': 1451, '생겼네요': 1452, '하고싶었던': 1453, '정리될': 1454, '바꿔보세요': 1455, '꿈을': 1456, '서툰': 1457, '우리가': 1458, '것입니다': 1459, '주말': 1460, '못했던': 1461, '일만': 1462, '자기도': 1463, '가까운': 1464, '필요한게': 1465, '싫다고': 1466, '전화해보세요': 1467, '조금이라도': 1468, '의미를': 1469, '보여요': 1470, '고칠': 1471, '땐': 1472, '이겨내세요': 1473, '받은': 1474, '맞추세요': 1475, '가면': 1476, '두셨네요': 1477, '어디든': 1478, '행복해': 1479, '보이네요': 1480, '아닌가요': 1481, '후회해도': 1482, '다음에': 1483, '자고': 1484, '만나요': 1485, '것들을': 1486, '끝날': 1487, '싫어도': 1488, '있었을': 1489, '공허함이': 1490, '기억이': 1491, '추억은': 1492, '아프지': 1493, '여전히': 1494, '중인': 1495, '차이는': 1496, '혼자만의': 1497, 'sns': 1498, '삭제하세요': 1499, '나도': 1500, '보단': 1501, '보는게': 1502, '괜찮아': 1503, '언제': 1504, '수가': 1505, '후폭풍은': 1506, '않는게': 1507, '미련도': 1508, '어렵죠': 1509, '하든': 1510, '좋을텐데요': 1511, '안되는': 1512, '나이': 1513, '지내길': 1514, '그만': 1515, '뿐': 1516, '남았나봐요': 1517, '비난하지': 1518, '힘들었죠': 1519, '차라리': 1520, '떠오르는': 1521, '후에': 1522, '되면': 1523, '좋을텐데': 1524, '아침이': 1525, '날': 1526, '그러는': 1527, '마음인가봐요': 1528, '당황했겠어요': 1529, '걸리겠지만': 1530, '애매하네요': 1531, '받아들일': 1532, '속이': 1533, '짧지': 1534, '일에': 1535, '지나간': 1536, '힘든가봐요': 1537, '하기': 1538, '만나': 1539, '이해할': 1540, '것처럼': 1541, '틀린': 1542, '전환': 1543, '나아졌길': 1544, '상대방에': 1545, '잊혀질': 1546, '변하는': 1547, '순간이었을': 1548, '생각에': 1549, '있을게요': 1550, '길이': 1551, '연락할': 1552, '일단': 1553, '후유증이': 1554, '없지만': 1555, '최대한': 1556, '때문일': 1557, '하기도': 1558, '상담을': 1559, '없는게': 1560, '없겠지요': 1561, '살면서': 1562, '잊혀지기도': 1563, '알콩달콩': 1564, '카톡': 1565, '갖지': 1566, '서로가': 1567, '무엇을': 1568, '생각하면': 1569, '나는': 1570, '여기까지': 1571, '아직은': 1572, '당연히': 1573, '2주가': 1574, '버텨요': 1575, '사이가': 1576, '결혼은': 1577, '결혼할': 1578, '슬쩍': 1579, '거절의': 1580, '정도는': 1581, '소식이': 1582, '연락해도': 1583, '싶다고': 1584, '마주쳐보세요': 1585, '믿음을': 1586, '걱정된다고': 1587, '바뀌게': 1588, '속도를': 1589, '맞춰보세요': 1590, '생각나는': 1591, '들어서': 1592, '선에서': 1593, '진정으로': 1594, '연애가': 1595, '표현하는': 1596, '주면서': 1597, '좋지요': 1598, '볼게요': 1599, '두려움을': 1600, '썸이': 1601, '가네요': 1602, '드립니다': 1603, '혼자를': 1604, '돈은': 1605, '땀을': 1606, '오늘이에요': 1607, '어제와': 1608, '내일을': 1609, '놓고': 1610, '고민하느라': 1611, '낭비하지': 1612, '바빠서': 1613, '휴식도': 1614, '병원가세요': 1615, '관계의': 1616, '매력을': 1617, '곳이죠': 1618, '살쪄도': 1619, '알아차리지': 1620, '알아차려도': 1621, '개시해보세요': 1622, '방학이': 1623, '짧죠': 1624, '벗어나는': 1625, '하려고': 1626, '건강이': 1627, '목표네요': 1628, '움직이세요': 1629, '귀가': 1630, '피해를': 1631, '준다면': 1632, '오길': 1633, '인맥이': 1634, '넓으신가봐요': 1635, '에너지를': 1636, '에너지가': 1637, '후회를': 1638, '낳을뿐이에요': 1639, '완전': 1640, '시간내서': 1641, '어디': 1642, '달라져요': 1643, '공부하면': 1644, '수다': 1645, '성향': 1646, '인간': 1647, '시계는': 1648, '멈추지': 1649, '간절히': 1650, '답답할': 1651, '조심히': 1652, '안부를': 1653, '보답을': 1654, '비싸요': 1655, '바라는': 1656, '음악': 1657, '불편하겠죠': 1658, '여행이네요': 1659, '답답한': 1660, '건강을': 1661, '좋으시네요': 1662, '취미네요': 1663, '벚꽃': 1664, '선물이네요': 1665, '센스있는': 1666, '많으면': 1667, '많지': 1668, '해결되길': 1669, '아니길': 1670, '애정표현일': 1671, '운동하세요': 1672, '확인해달라고': 1673, '되짚어보세요': 1674, '멍': 1675, '신고하고': 1676, '운동해보세요': 1677, '콩깍지가': 1678, '남들': 1679, '걸음을': 1680, '지극히': 1681, '두세요': 1682, '괜찮길': 1683, '음식': 1684, '집에서도': 1685, '다르게': 1686, '저마다의': 1687, '내기': 1688, '위해서예요': 1689, '들어주세요': 1690, '잘해야': 1691, '한다는': 1692, '부딪혔나봐요': 1693, '들으면': 1694, '뒤통수': 1695, '해드릴게요': 1696, '들었겠네요': 1697, '모습도': 1698, '발전이': 1699, '대화하는': 1700, '남들이': 1701, '세상': 1702, '킁킁': 1703, '결정했나봐요': 1704, '보일러가': 1705, '입으세요': 1706, '따뜻해졌죠': 1707, '살면': 1708, '휴가가': 1709, '간절하겠네요': 1710, '소개팅': 1711, '시켜달라고': 1712, '전해': 1713, '괜찮을거': 1714, '인공지능에': 1715, '성별을': 1716, '있겠다': 1717, '판단되면': 1718, '용서하고': 1719, '의미있는': 1720, '종교의': 1721, '신경쓰고': 1722, '늦는': 1723, '힘': 1724, '빠지는': 1725, '분담해보세요': 1726, '낭만적인': 1727, '좋아하시는구나': 1728, '어머어머': 1729, '잠재력을': 1730, '그걸': 1731, '깨닫다니': 1732, '대단하시군요': 1733, '존중해주세요': 1734, '꽃길만': 1735, '걷길': 1736, '자체만으로': 1737, '잘못인': 1738, '다하세요': 1739, '말로': 1740, '연락이라도': 1741, '드려보세요': 1742, '믿으세요': 1743, '흘려보세요': 1744, '모를': 1745, '행복해질': 1746, '신청': 1747, '조절': 1748, '날씨가': 1749, '있냐고': 1750, '바빠도': 1751, '장': 1752, '이어주는': 1753, '위로해드리는': 1754, '로봇이에요': 1755, '싶은데': 1756, '못하는게': 1757, '이어보고': 1758, '싶어하는': 1759, '만들었어요': 1760, '어흥': 1761, '호랑이보다': 1762, '무섭나요': 1763, '미워하지': 1764, '매일매일': 1765, '아이스크림': 1766, '남과': 1767, '아름답죠': 1768, '배울': 1769, '먹으면서': 1770, '따듯한': 1771, '산책': 1772, '해야겠네여': 1773, '치료하세요': 1774, '놀고': 1775, '달달한': 1776, '방법을': 1777, '남이니': 1778, '지금부터': 1779, '놀러가세요': 1780, '동감입니다': 1781, '함께도': 1782, '명상을': 1783, '보험처리': 1784, '있나': 1785, '화장하는': 1786, '줄어들': 1787, '깔끔해질': 1788, '몸에': 1789, '도전은': 1790, '존중하고': 1791, '적응해야겠네요': 1792, '피해만': 1793, '의식하는': 1794, '정신건강에': 1795, '모아': 1796, '하니까요': 1797, '이기니': 1798, '재밌겠어요': 1799, '웃으면서': 1800, '도전하는': 1801, '거라고': 1802, '하루에': 1803, '마시면': 1804, '되어요': 1805, '했어요': 1806, '공부하세요': 1807, '마음만': 1808, '맞으면': 1809, '한푼': 1810, '두푼': 1811, '해결될': 1812, '대화의': 1813, '눈높이가': 1814, '재미있게': 1815, '야경이': 1816, '보며': 1817, '집에서': 1818, '느낌': 1819, 'as': 1820, '맡기세요': 1821, '어플': 1822, '일어나세요': 1823, '먹은': 1824, '망가뜨리기': 1825, '보신': 1826, '있으세요': 1827, '의외로': 1828, '들어가서': 1829, '갖게': 1830, '쓰면서': 1831, '소리를': 1832, '질러보세요': 1833, '조급해지면': 1834, '하게': 1835, '없으니까요': 1836, '놓으세요': 1837, '귀로': 1838, '후련하니': 1839, '헤어졌어': 1840, '드려요': 1841, '감으세요': 1842, '여쭤보세요': 1843, '염색을': 1844, '변화도': 1845, '신경쓰는': 1846, '많았나봅니다': 1847, '청소하세요': 1848, '지저분해요': 1849, '운전': 1850, '거라면': 1851, '일어나는': 1852, '반한': 1853, '씻고': 1854, '걱정할': 1855, '감사하는': 1856, '밀어보세요': 1857, '꽤': 1858, '먹어도': 1859, '옷이요': 1860, '그대로의': 1861, '어떻게든': 1862, '비밀을': 1863, '단맛도': 1864, '나가면': 1865, '한번더': 1866, '좋을거': 1867, '음': 1868, '예뻐질': 1869, '행운을': 1870, '세어': 1871, '보내시길': 1872, '쉬어가도': 1873, '뭐': 1874, '버리는': 1875, '만지지': 1876, '길면': 1877, '친구라면': 1878, '대화로': 1879, '전화가': 1880, '별거': 1881, '짜증날': 1882, '푸는': 1883, '비세요': 1884, '전화': 1885, '빌려': 1886, '준비하고': 1887, '뿌린대로': 1888, '봄은': 1889, '형편대로': 1890, '말씀드려보세요': 1891, '많은가': 1892, '말해서': 1893, '편하겠죠': 1894, '실내': 1895, '데이트가': 1896, '챙기세요': 1897, '가려': 1898, '꼬박꼬박': 1899, '한가지만': 1900, '쓰려고': 1901, '아껴뒀나봐요': 1902, '힘드시겠어요': 1903, '있군요': 1904, '하지말고': 1905, '자신으로': 1906, '클': 1907, '때죠': 1908, '살아있음': 1909, '호의를': 1910, '복': 1911, '받으세요': 1912, '좋네요': 1913, '정신없이': 1914, '먹거나': 1915, '점이': 1916, '듣기': 1917, '선택할': 1918, '어떠세요': 1919, '나에게': 1920, '성공한': 1921, '인내할': 1922, '손에': 1923, '넣을': 1924, '얼굴이': 1925, '준비하기는': 1926, '벅찰텐대요': 1927, '지르고': 1928, '과식하지': 1929, '나쁜거예요': 1930, '정정기간을': 1931, '노려': 1932, '맛있을': 1933, '강습': 1934, '입어도': 1935, '술은': 1936, '연락하라고': 1937, '이야기하는': 1938, '내려': 1939, '사이에서': 1940, '좋대요': 1941, '있었으면': 1942, '노래를': 1943, '소소한': 1944, '아직이라면': 1945, '기다릴게요': 1946, '없애주세요': 1947, '조절을': 1948, '휴가를': 1949, '해보고': 1950, '놔둬야하는데': 1951, '기다리는게': 1952, '이해하고': 1953, '기본이죠': 1954, '확실해지면': 1955, '이야기해도': 1956, '잇몸약': 1957, '챙겨드시거나': 1958, '치과': 1959, '될까요': 1960, '술을': 1961, '차': 1962, '재미있나봐요': 1963, '피곤했나봐요': 1964, '만화같은': 1965, '인상이': 1966, '보일': 1967, '폰': 1968, '요금': 1969, '절약되겠네요': 1970, '칭찬해주고': 1971, '가능하면': 1972, '가볍게': 1973, '고마움을': 1974, '최신': 1975, '어리게': 1976, '원래': 1977, '놀랐나봐요': 1978, '정': 1979, '스트레스의': 1980, '원인이죠': 1981, '안해먹고': 1982, '사': 1983, '가리세요': 1984, '피부': 1985, '걱정되겠어요': 1986, '쉴': 1987, '세워보세요': 1988, '오랜만에': 1989, '인기가': 1990, '사생활이': 1991, '됐어요': 1992, '생각한대로': 1993, '길은': 1994, '막히는': 1995, '고민이죠': 1996, '생각들을': 1997, '오래된': 1998, '그렇겠죠': 1999, '옷을': 2000, '정리해': 2001, '사도': 2002, '웃을': 2003, '일어날': 2004, '선생님께': 2005, '중입니다': 2006, '사귀어': 2007, '되려고': 2008, '우산에': 2009, '이름이랑': 2010, '운동할': 2011, '커피향': 2012, '회사에서': 2013, '꼼수를': 2014, '쓰는': 2015, '모아야할': 2016, '본': 2017, '칭찬이네요': 2018, '산책을': 2019, '즐기면서': 2020, '올거예요': 2021, '어플을': 2022, '때부터': 2023, '포장하는게': 2024, '데려가세요': 2025, '걱정하지마세요': 2026, '오래오래': 2027, '사랑받고': 2028, '분명': 2029, '이왕이면': 2030, '남았네요': 2031, '화': 2032, '필요해보여요': 2033, '맛': 2034, '이미': 2035, '남이에요': 2036, '연락두절돼서': 2037, '바쁜일이': 2038, '누구랑': 2039, '머리': 2040, '소중합니다': 2041, '요즘은': 2042, '축하해주세요': 2043, '주식으로': 2044, '한바퀴만': 2045, '돌면': 2046, '짠하고': 2047, '프로포즈해보세요': 2048, '선택': 2049, '혼자해도': 2050, '좋고': 2051, '다녀도': 2052, '한국도': 2053, '지진시': 2054, '대피방법을': 2055, '알아두세요': 2056, '맨': 2057, '나갈거예요': 2058, '보다보면': 2059, '상대가': 2060, '생각할게요': 2061, '반': 2062, '성공적으로': 2063, '근처로': 2064, '이사를': 2065, '취미': 2066, '생각이네요': 2067, '주면': 2068, '만남이': 2069, '즐거울': 2070, '합리적인': 2071, '커피는': 2072, 'as센터에': 2073, '포맷해보세요': 2074, '들려주세요': 2075, '신경쓰면': 2076, '늦었어요': 2077, '곳까지': 2078, '주의하세요': 2079, '입에': 2080, '쓴': 2081, '몸에는': 2082, '삭제해보세요': 2083, '채워질': 2084, '관심': 2085, '달라요': 2086, '편하고': 2087, '혼자서도': 2088, '30분': 2089, '회사에는': 2090, '동료가': 2091, '가야겠죠': 2092, '슬퍼하고': 2093, '만난': 2094, '겠지만': 2095, '헤어짐은': 2096, '하지도': 2097, '문제죠': 2098, '한동안': 2099, '되었길': 2100, '헤어지지': 2101, '종교': 2102, '기간이': 2103, '애틋한': 2104, '만남이네요': 2105, '함께한': 2106, '놀랐겠어요': 2107, '간직하세요': 2108, '함께할': 2109, '무너져요': 2110, '미련을': 2111, '후회만': 2112, '후회하는': 2113, '가치관이': 2114, '안타깝게': 2115, '않지요': 2116, '하나죠': 2117, '기억에': 2118, '사랑이에요': 2119, '잠': 2120, '그녀가': 2121, '아니라는': 2122, '기대를': 2123, '기다리세요': 2124, '남기': 2125, '정신차리세요': 2126, '일인지': 2127, '있습니다': 2128, '눈에서': 2129, '나의': 2130, '길지': 2131, '마음이랑': 2132, '머리가': 2133, '아플': 2134, '옆에서': 2135, '그것도': 2136, '기억에서': 2137, '행복하세요': 2138, '참지': 2139, '원한다면': 2140, '나눠보는게': 2141, '달라지지': 2142, '멈추세요': 2143, '바람이라도': 2144, '답이': 2145, '자신은': 2146, '사랑이죠': 2147, '하셨군요': 2148, '주말이': 2149, '상처도': 2150, '아닐까': 2151, '못해': 2152, '통해': 2153, '말하지': 2154, '맘처럼': 2155, '기분은': 2156, '글쎄요': 2157, '결정이었을거라': 2158, '의미': 2159, '사라질': 2160, '덜어보세요': 2161, '미련': 2162, '이해하기': 2163, '힘드니까요': 2164, '때로는': 2165, '좋으련만': 2166, '한답니다': 2167, '변해요': 2168, '가능하다고': 2169, '헤아릴': 2170, '나겠네요': 2171, '시작하기': 2172, '시간이네요': 2173, '극복해보세요': 2174, '기억의': 2175, '순간이': 2176, '연락처': 2177, '날이네요': 2178, '다행이네요': 2179, '찾아봐요': 2180, '예감은': 2181, '적이': 2182, '것이죠': 2183, '당분간은': 2184, '않았길': 2185, '문득': 2186, '없지요': 2187, '위로를': 2188, '달라진': 2189, '눈에': 2190, '있었을지도': 2191, '면역이': 2192, '연락해보는': 2193, '않겠네요': 2194, '진심이': 2195, '짝사랑은': 2196, '아픔을': 2197, '없답니다': 2198, '잊는다는': 2199, '응원할게요': 2200, '만나고': 2201, '가봐요': 2202, '사이에': 2203, '어려울': 2204, '문제네요': 2205, '없어서': 2206, '되었을': 2207, '생각나고': 2208, '잊혀지지': 2209, '견디고': 2210, '끝낼': 2211, '남겨서': 2212, '지칠만': 2213, '갑자기': 2214, '안좋은': 2215, '염탐하지': 2216, '하느냐에': 2217, '견뎌내고': 2218, '걸릴': 2219, '자존감을': 2220, '소유하는': 2221, '당신만이': 2222, '정리하세요': 2223, '경우도': 2224, '둘이': 2225, '존재': 2226, '커서': 2227, '흐르는': 2228, '잡아보세요': 2229, '이해해보세요': 2230, '내서': 2231, '생겼을지도': 2232, '표현해보는': 2233, '의사': 2234, '표현을': 2235, '들리려고': 2236, '상관없지만': 2237, '비하하지는': 2238, '알아보는': 2239, '높겠네요': 2240, '좋을지': 2241, '고백하는게': 2242, '시선을': 2243, '쓰이는': 2244, '사랑하는지는': 2245, '다릅니다': 2246, '부분을': 2247, '인기': 2248, '예의일': 2249, '때요': 2250, '이어나가는': 2251, '존재를': 2252, '직접적으로': 2253, '귀여울': 2254, '시기네요': 2255, '대단하네요': 2256, '가능하죠': 2257, '약속을': 2258, '연애는': 2259, '담긴': 2260, '같다고': 2261, '없는거': 2262, '다르지': 2263, '평소': 2264, '다가가세요': 2265, '아닌데': 2266, '두근거림을': 2267, '좋아하나': 2268, '부담': 2269, '만남에': 2270, '이어질': 2271, '만났든': 2272, '오해가': 2273, '연락해봐요': 2274, '고백하세요': 2275, '관심사에': 2276, '정하고': 2277, '나오세요': 2278, '가까워질': 2279, '다들': 2280, '이야기할': 2281, '내리지': 2282, '개': 2283, '사는게': 2284, '싫어요': 2285, '왔나봅니다': 2286, '책임질': 2287, '질질': 2288, '선의의': 2289, '거짓말은': 2290, '진실된': 2291, '봄이': 2292, '결정하기': 2293, '빠르면': 2294, '줄일': 2295, '씁니다': 2296, '부족한가봐요': 2297, '귀엽죠': 2298, '가족들과': 2299, '상의해보세요': 2300, '나한테': 2301, '풀고': 2302, '괜찮아지고': 2303, '누군가를': 2304, '할게요': 2305, '추억에': 2306, '이해는': 2307, '하루도': 2308, '뭔가': 2309, '기념일': 2310, '챙겨주면': 2311, '기대는': 2312, '슬프게': 2313, '되겠죠': 2314, '되시길': 2315, '집안': 2316, '분위기가': 2317, '꽃': 2318, '만들어봐요': 2319, '티가': 2320, '차례예요': 2321, '즐겁게': 2322, '들게': 2323, '아닐거예요': 2324, '건강하게': 2325, '추억': 2326, '만들고': 2327, '정신적': 2328, '중요하니까요': 2329, '다를거예요': 2330, '졸업': 2331, '마음에서': 2332, '기도할게요': 2333, '약간의': 2334, '받기': 2335, '당당히': 2336, '이해해': 2337, '사람만의': 2338, '제자리여도': 2339, '걱정': 2340, '깨끗이': 2341, '바디워시': 2342, '바디로션': 2343, '향수': 2344, '기대치가': 2345, '젖은': 2346, '팍팍': 2347, '설득해보세요': 2348, '귀엽겠네요': 2349, '돕는': 2350, '남편이네요': 2351, '대화해보세요': 2352, '만났을': 2353, '정답을': 2354, '축복과': 2355, '사과할': 2356, '놓치지': 2357, '아래': 2358, '성장을': 2359, '받아들여보세요': 2360, '멋지게': 2361, '연습하고': 2362, '마무리': 2363, '지낸': 2364, '잘못입니다': 2365, '자요': 2366, '상태인': 2367, '사람이다': 2368, '배우세요': 2369, '지켜주세요': 2370, '실용적인': 2371, '분위기를': 2372, '잘못된': 2373, '노후는': 2374, '꾹꾹': 2375, '바르고': 2376, '운동은': 2377, '똑같이': 2378, '모습으로': 2379, '내리는게': 2380, '생기길': 2381, '주말이네요': 2382, '필요가': 2383, '지내요': 2384, '감각이': 2385, '복잡한가봐요': 2386, '되었는지': 2387, '기다려': 2388, '걱정마세요': 2389, '답은': 2390, '어디에서': 2391, '습관': 2392, '차이인': 2393, '지는': 2394, '개인의': 2395, '표현하세요': 2396, '최고의': 2397, '방법도': 2398, '전부는': 2399, '이제부터': 2400, '자는': 2401, '많은걸': 2402, '했을': 2403, '딱이죠': 2404, '해야겠죠': 2405, '시키세요': 2406, '시작은': 2407, '정리하는데': 2408, '글': 2409, '맞나봐요': 2410, '좋은거': 2411, '어렵지': 2412, '생각지도': 2413, '두고두고': 2414, '흘리세요': 2415, '이상한': 2416, '스타일에': 2417, '방법이죠': 2418, '살아야죠': 2419, '부담스러울': 2420, '예상하지': 2421, '일들이': 2422, '좋았던': 2423, '힘들겠죠': 2424, '풀어야': 2425, '가치가': 2426, '따져보세요': 2427, '소모가': 2428, '몸': 2429, '사랑하나봅니다': 2430, '검색': 2431, '살기': 2432, '가자고': 2433, '바다': 2434, '사계절': 2435, '내내': 2436, '앞으로': 2437, '반가워요': 2438, '힘내요': 2439, '드는걸로': 2440, '병원': 2441, '양을': 2442, '정신이': 2443, '확인해': 2444, '만들면': 2445, '놀러': 2446, '멋있네요': 2447, '아프기': 2448, '미래를': 2449, '돌아갈': 2450, '부모님을': 2451, '종종': 2452, '감정도': 2453, '피곤하겠어요': 2454, '많아서': 2455, '비': 2456, '말이죠': 2457, '새출발하세요': 2458, '그럴수도': 2459, '귀찮은': 2460, '믿지': 2461, '아프겠어요': 2462, '진통제': 2463, '등': 2464, '장점을': 2465, '건가요': 2466, '있도록': 2467, '바꾸세요': 2468, '주변의': 2469, '새해': 2470, '당황하셨겠어요': 2471, '고맙다고': 2472, '당연해요': 2473, '없지': 2474, '준비되어야': 2475, '찍어주세요': 2476, '신경쓰이나봐요': 2477, '헛헛한가봐요': 2478, '길러보세요': 2479, '기본으로': 2480, '반했나봐요': 2481, '마셔요': 2482, '웬수예요': 2483, '마셔도': 2484, '도전이': 2485, '없는지': 2486, '진정하세요': 2487, '아무말도': 2488, '하겠죠': 2489, '생각하나봐요': 2490, '달려있겠죠': 2491, '영화관이나': 2492, '기대가': 2493, '이야기해요': 2494, '했네요': 2495, '그러니까': 2496, '싸우는': 2497, '배려해보세요': 2498, '당신이네요': 2499, '잘하는게': 2500, '고민해보세요': 2501, '나아지길': 2502, '잘하면': 2503, '금연': 2504, '싶나봐요': 2505, '이게': 2506, '달라': 2507, '먹을': 2508, '대단한': 2509, '평생': 2510, '생긴다는': 2511, '기술이': 2512, '좋아했던': 2513, '찾아가': 2514, '사실에': 2515, '화가': 2516, '믿어주세요': 2517, '기본': 2518, '연예인': 2519, '하셨나봐요': 2520, '영화를': 2521, '카페': 2522, '하시고': 2523, '느껴보세요': 2524, '달리세요': 2525, '정리하게': 2526, '도전': 2527, '매력이': 2528, '봐봐요': 2529, '마시지': 2530, '상황일': 2531, '타고': 2532, '성격도': 2533, '만들어서': 2534, '세상이죠': 2535, '도전해보세요': 2536, '벌': 2537, '게임': 2538, '꾸죠': 2539, '때인': 2540, '거라도': 2541, '의지해보세요': 2542, '일부로': 2543, '결과가': 2544, '그대의': 2545, '간절한': 2546, '잘하게': 2547, '것만으로도': 2548, '인생이에요': 2549, '있음을': 2550, '인연이죠': 2551, '한결': 2552, '잘못': 2553, '시간이에요': 2554, '칭찬해보세요': 2555, '쓸데': 2556, '자신만의': 2557, '꿈': 2558, '신청해보세요': 2559, '일이니까요': 2560, '나에게도': 2561, '잘하셨어요': 2562, '기억될': 2563, '처음이': 2564, '늦은': 2565, '예의를': 2566, '아껴주세요': 2567, '일하는': 2568, '영향을': 2569, '채워보세요': 2570, '없대요': 2571, '처음에는': 2572, '집이': 2573, '팔아보세요': 2574, '최선을': 2575, '맞게': 2576, '있어야': 2577, '가져주세요': 2578, '함께면': 2579, '사귀세요': 2580, '생각한': 2581, '비교하면': 2582, '갚아': 2583, '말이예요': 2584, '소비를': 2585, '마셔보세요': 2586, '말하고': 2587, '가거나': 2588, '좋게': 2589, '일이라도': 2590, '몸과': 2591, '멋질': 2592, '날이에요': 2593, '언젠가는': 2594, '가치관에': 2595, '봐보세요': 2596, '살아야': 2597, '나겠어요': 2598, '달라질': 2599, '추천드려요': 2600, '것만': 2601, '이쁜': 2602, '우울한': 2603, '계획': 2604, '결정하는': 2605, '만나실': 2606, '아파하다가': 2607, '현실과': 2608, '흐른': 2609, '헤어지면': 2610, '알지': 2611, '나이에': 2612, '상관없이': 2613, '헤어지고': 2614, '물리적인': 2615, '끝나도': 2616, '진행': 2617, '환승': 2618, '잡념을': 2619, '더욱': 2620, '여기까지였을': 2621, '아쉬운': 2622, '시간에': 2623, '크시겠어요': 2624, '가사가': 2625, '끊는게': 2626, '아팠으면': 2627, '토닥토닥': 2628, '지낼': 2629, '차단도': 2630, '살아가는': 2631, '일어나면': 2632, '거기까지': 2633, '시작할': 2634, '하니': 2635, '중요하겠죠': 2636, '헤어질': 2637, '힘들거라': 2638, '시간과': 2639, '채워줄게요': 2640, '힘들었을텐데': 2641, '돌아오길': 2642, '바란다면': 2643, '살죠': 2644, '헛된': 2645, '희망은': 2646, '고마워요': 2647, '아프게': 2648, '인정하세요': 2649, '힘들어': 2650, '맘이': 2651, '복잡한가요': 2652, '깨달음이': 2653, '기대하지': 2654, '하루일': 2655, '최선이었을': 2656, '아픔이': 2657, '오죠': 2658, '사실': 2659, '그리움을': 2660, '글을': 2661, '않아': 2662, '미화되기': 2663, '속박에서': 2664, '지워질': 2665, '웬수네요': 2666, '반대래요': 2667, '끝일지도': 2668, '거니까요': 2669, '차단하고': 2670, '모르는게': 2671, '걸요': 2672, '받아들이세요': 2673, '추운가요': 2674, '마음이네요': 2675, '남자가': 2676, '여자를': 2677, '탓하지': 2678, '잊어가는': 2679, '마음인지': 2680, '알겠어서': 2681, '않았을': 2682, '견뎌봐요': 2683, '결국': 2684, '힘들지만': 2685, '와닿지': 2686, '들어맞나봅니다': 2687, '마음껏': 2688, '보내보세요': 2689, '아니고': 2690, '무덤덤해지는': 2691, '당신만': 2692, '보내세요': 2693, '도와드릴게요': 2694, '좋을지도': 2695, '그리운가봐요': 2696, '들어요': 2697, '복잡할': 2698, '기울여보세요': 2699, '답을': 2700, '무덤덤해질': 2701, '별로네요': 2702, '허전할': 2703, '상대에': 2704, '걸까요': 2705, '착잡하겠어요': 2706, '필요도': 2707, '같다면': 2708, '해내고': 2709, '좋아하지': 2710, '생각처럼': 2711, '해가': 2712, '영원한': 2713, '변덕스럽게': 2714, '상처': 2715, '인고의': 2716, '필요했을': 2717, '안되나봐요': 2718, '떠난': 2719, '연인과': 2720, '정리되길': 2721, '정리하길': 2722, '받아들여야': 2723, '마지막을': 2724, '쉬어가는': 2725, '나누는게': 2726, '허상일': 2727, '와요': 2728, '익숙해지지': 2729, '그리울': 2730, '간사하죠': 2731, '보냈으니': 2732, '습관처럼은': 2733, '남길': 2734, '적어도': 2735, '오히려': 2736, '걱정을': 2737, '생각으로': 2738, '빠르게': 2739, '떨쳐버리세요': 2740, '후회안할': 2741, '당신에게': 2742, '다독여주세요': 2743, '우리': 2744, '멈출': 2745, '깊었나봐요': 2746, '기억은': 2747, '남기고': 2748, '하지요': 2749, '똥차': 2750, '벤츠': 2751, '새': 2752, '건가봐요': 2753, '미안해하지': 2754, '설레는': 2755, '답답할거라': 2756, '죄가': 2757, '그분에게': 2758, '마음에게': 2759, '줄도': 2760, '알아야': 2761, '풀렸길': 2762, '꿀': 2763, '재밌는': 2764, '이상의': 2765, '그분도': 2766, '사람이었나봐요': 2767, '맘을': 2768, '이김에': 2769, '생각지': 2770, '복잡하게': 2771, '붙잡고': 2772, '싶다면': 2773, '가늠하지': 2774, '헤어짐을': 2775, '신경이': 2776, '부디': 2777, '한켠에': 2778, '선택이었을': 2779, '행동은': 2780, '생각해봅니다': 2781, '삭제하는게': 2782, '미련만': 2783, '쉬어가세요': 2784, '믿기지': 2785, '익숙해질': 2786, '그것이': 2787, '조금이나마': 2788, '모두를': 2789, '노래는': 2790, '정리에': 2791, '말씀': 2792, '허전하겠어요': 2793, '분인가봐요': 2794, '굳이': 2795, '의미부여는': 2796, '되네요': 2797, '괜한': 2798, '사람들한테': 2799, '사랑스러운': 2800, '변화': 2801, '내일이': 2802, '이해해요': 2803, '달라진게': 2804, '아쉬움이': 2805, '방식이': 2806, '느끼는': 2807, '한달': 2808, '있었나봅니다': 2809, '되어가길': 2810, '않았네요': 2811, '끄는': 2812, '변덕이': 2813, '타기': 2814, '만남은': 2815, '가나봐요': 2816, '현실': 2817, '인정하는': 2818, '보니': 2819, '끝의': 2820, '독이': 2821, '조급하게': 2822, '궁금증을': 2823, '접어두셔요': 2824, '스스로를': 2825, '시작하는': 2826, '비슷하죠': 2827, '아픔도': 2828, '이별이든': 2829, '아마': 2830, '차단하세요': 2831, '거두세요': 2832, '잘못을': 2833, '강렬한': 2834, '맘같지': 2835, '누구보다': 2836, '존중합니다': 2837, '이겨내고': 2838, '빠져나오세요': 2839, '있답니다': 2840, '사랑이었나봐요': 2841, '사랑이었으니까요': 2842, '지나면': 2843, '보는건': 2844, '마음이에요': 2845, '허전한가봐요': 2846, '연락하는게': 2847, '사진': 2848, '크기만큼': 2849, '한달이에요': 2850, '어느정도': 2851, '정해져': 2852, '못했군요': 2853, '인연은': 2854, '흘렀나봐요': 2855, '믿고': 2856, '지났어요': 2857, '처럼': 2858, '흘러갈': 2859, '알아가는': 2860, '챙겨주세요': 2861, '사람일지도': 2862, '자존심을': 2863, '전에는': 2864, '남자를': 2865, '결혼적령기예요': 2866, '사랑하세요': 2867, '고백하는': 2868, '처음에': 2869, '썸으로': 2870, '고민이네요': 2871, '표현하지': 2872, '물어보거나': 2873, '생긴': 2874, '나한테만': 2875, '부리면': 2876, '분명히': 2877, '좋아했나봐요': 2878, '있었던': 2879, '나가는': 2880, '확률이': 2881, '선톡을': 2882, '썸일': 2883, '표현해': 2884, '상황에': 2885, '다양한': 2886, '만한': 2887, '말해보는': 2888, '사랑하니까': 2889, '조언이': 2890, '든든할': 2891, '매너': 2892, '제안해보세요': 2893, '봐주세요': 2894, '원치': 2895, '해주면서': 2896, '사귀면': 2897, '가본': 2898, '수천번': 2899, '이건': 2900, '서운하다고': 2901, '이야기하세요': 2902, '대화가': 2903, '무시당하는': 2904, '외롭고': 2905, '상처받게': 2906, '된다고': 2907, '차분하고': 2908, '별로라고': 2909, '남자': 2910, '그것만큼': 2911, '떨리겠어요': 2912, '썸을': 2913, '전혀': 2914, '타는': 2915, '표현해주세요': 2916, '사랑이라고': 2917, '걱정하면': 2918, '빠른': 2919, '선택으로': 2920, '모두에게': 2921, '주길': 2922, '달달할': 2923, '이상형을': 2924, '하다가': 2925, '말과': 2926, '변하지': 2927, '때문이겠죠': 2928, '상대방은': 2929, '남기는': 2930, '만난다면': 2931, '아침에': 2932, '했는지': 2933, '솔직하고': 2934, '접는게': 2935, '이야기하고': 2936, '정성이': 2937, '모든걸': 2938, '하는데': 2939, '정의': 2940, '필요한가요': 2941, '화학': 2942, '물질이': 2943, '접촉하는': 2944, '반응이': 2945, '일어나서': 2946, '위험한': 2947, '인연이라면': 2948, '지금의': 2949, '어디서': 2950, '사랑하게': 2951, '탈': 2952, '것이든': 2953, '옷이': 2954, '물어보고': 2955, '입장을': 2956, '좋은지': 2957, '신경쓰이는': 2958, '느낌이': 2959, '괜히': 2960, '사이': 2961, '사랑해': 2962, '진지하게': 2963, '여자친구가': 2964, '질투난다고': 2965, '문제인가요': 2966, '좋아하니까': 2967, '봐서': 2968, '맛이': 2969, '이루어': 2970, '멋지네요': 2971, '앞에서': 2972, '마음정리하세요': 2973, '서운하겠어요': 2974, '본인이': 2975, '때문이에요': 2976, '표현하기': 2977, '생각하게': 2978, '이어나가는게': 2979, '삭제하는': 2980, '계기가': 2981, '도와달라고': 2982, '된다면': 2983, '하필': 2984, '하루가': 2985, '눈살이': 2986, '찌푸려지죠': 2987, '편해요': 2988, '자랑하는': 2989, '자리니까요': 2990, '들어올': 2991, '식혀주세요': 2992, '새출발': 2993, '돌아가서': 2994, '끄고': 2995, '달에는': 2996, '절약해봐요': 2997, '부족했나봐요': 2998, '무모한': 2999, '선생님이나': 3000, '기관에': 3001, '떨리는': 3002, '소중해요': 3003, '득템했길': 3004, '단짠으로': 3005, '진리죠': 3006, '콕': 3007, '집어서': 3008, '아픈가요': 3009, '갑작스러웠나봐요': 3010, '3초가': 3011, '키워': 3012, '생활패턴을': 3013, '끌지': 3014, '함께하면': 3015, '방학이예요': 3016, '세수하고': 3017, '건데요': 3018, '아세요': 3019, '공적인': 3020, '낮잠을': 3021, '자도': 3022, '좋아해주세요': 3023, '친구들이': 3024, '보고싶었나봐요': 3025, '되도록': 3026, '당신이요': 3027, '사줄': 3028, '거짓말이길': 3029, '할수록': 3030, '세상의': 3031, '무엇보다': 3032, '사이라': 3033, '당황할': 3034, '이룰': 3035, '나쁘셨나봐요': 3036, '편하대요': 3037, '깜빡거려': 3038, '청소를': 3039, '좋아하시나봐요': 3040, '게임할때는': 3041, '게임하세요': 3042, '게임해보세요': 3043, '마음에도': 3044, '몸은': 3045, '뜨겁고': 3046, '머리는': 3047, '차갑게': 3048, '잘하실': 3049, '운명도': 3050, '힘드시겠네요': 3051, '내리길': 3052, '모아봐요': 3053, '들지만': 3054, '경조사는': 3055, '참석하는게': 3056, '욕심에': 3057, '천지': 3058, '차이일': 3059, '허례허식이에요': 3060, '행복의': 3061, '크기가': 3062, '이사람이다': 3063, '치열해지는': 3064, '안정적인': 3065, '방학은': 3066, '짧아요': 3067, '취업': 3068, '하셔야죠': 3069, '뇌세포에': 3070, '공급하려는': 3071, '공부가': 3072, '최우선이죠': 3073, '무리하지는': 3074, '저기압에는': 3075, '고기앞이죠': 3076, '인복이': 3077, '많나봐요': 3078, '이사갈': 3079, '키우세요': 3080, '용서를': 3081, '구하세요': 3082, '충전해주세요': 3083, '안정적이고': 3084, '합격': 3085, '기원해요': 3086, '철밥통': 3087, '되기가': 3088, '쉽겠어요': 3089, '반이에요': 3090, '잘될': 3091, '미래의': 3092, '배우자가': 3093, '떨면서': 3094, '놀까요': 3095, '공부방법을': 3096, '시급하네요': 3097, '차이가': 3098, '치료해보세요': 3099, '피로': 3100, '오늘이': 3101, '과식은': 3102, '금물이에요': 3103, '안된다고': 3104, '거짓말이겠지요': 3105, '제철과일이': 3106, '먹으려고': 3107, '관계도': 3108, '무관심이': 3109, '계단': 3110, '채널을': 3111, '남자사람친구': 3112, '여자사람친구': 3113, '기다린다는게': 3114, '쉬운게': 3115, '경험이라고': 3116, '조가': 3117, '지식': 3118, '쌓는': 3119, '보험': 3120, '처리하세요': 3121, '그럴까요': 3122, '몰라서': 3123, '기다려도': 3124, '아침이에요': 3125, '욕하고': 3126, '생각하기는': 3127, '쉬운데': 3128, '실천하기는': 3129, '기도': 3130, '잠길': 3131, '싶은대로': 3132, '실천이': 3133, '말보다': 3134, '밥심으로': 3135, '물어주시다니': 3136, '기쁜': 3137, '베풀고': 3138, '대인배시군요': 3139, '온전한': 3140, '다니거나': 3141, '연습하면': 3142, '뒷감당': 3143, '소중하게': 3144, '감사한': 3145, '말씀이신가요': 3146, '호의인지': 3147, '호감인지': 3148, '헷갈리나요': 3149, '안풀리는': 3150, '아이를': 3151, '금수저로': 3152, '만들어주세요': 3153, '이겨야해요': 3154, '긴장했나봐요': 3155, '달력에': 3156, '응원해': 3157, '드릴': 3158, '있어요라고': 3159, '상대방의': 3160, '분이시군요': 3161, '베풀되': 3162, '사랑할수록': 3163, '외부의': 3164, '인정은': 3165, '의지할': 3166, '행운일': 3167, '각자가': 3168, '기본이': 3169, '오늘보다': 3170, '정색': 3171, '걷다보면': 3172, '학기에는': 3173, '관리를': 3174, '꿈꾸던': 3175, '연예인을': 3176, '준비하니': 3177, '일반인보다': 3178, '예쁘겠죠': 3179, '기르고': 3180, '잘라요': 3181, '숨한': 3182, '쉬어': 3183, '긴장하지': 3184, '들면': 3185, '넘을': 3186, '낙담하지': 3187, '미끄러우니': 3188, '마트': 3189, '갑시다': 3190, '식사시간': 3191, '맛있죠': 3192, '기다렸나봐요': 3193, '전기가': 3194, '들어올거예요': 3195, '적당해요': 3196, '단단해지세요': 3197, '솜씨가': 3198, '보이세요': 3199, '안정을': 3200, '취하기': 3201, '계절이': 3202, '다가왔네요': 3203, '거꾸로': 3204, '드라이플라워': 3205, '선물이에요': 3206, '즐거워요': 3207, '이뤄보아요': 3208, '많아도': 3209, '거창하지': 3210, '꿈처럼': 3211, '허전하신가봐요': 3212, '아시네요': 3213, '얼굴에': 3214, '나네요': 3215, '오시면': 3216, '좋은텐데': 3217, '짐': 3218, '빼놓지': 3219, '싸세요': 3220, '식단조절도': 3221, '꼼꼼한': 3222, '노트북은': 3223, '시도해봐도': 3224, '몰라줘도': 3225, '알아주는': 3226, '그러든지': 3227, '넘겨보세요': 3228, '속아주세요': 3229, '당연한': 3230, '빠르시군요': 3231, '상종하지': 3232, '해결하라고': 3233, '때리고': 3234, '긍정적으로': 3235, '바보는': 3236, '자기한테': 3237, '바보라고': 3238, '경찰에': 3239, '취할': 3240, '조취를': 3241, '꼬까옷': 3242, '다음부터': 3243, '속지': 3244, '기분나쁘겠어요': 3245, '핸드폰없이': 3246, '살아보세요': 3247, '하늘만큼': 3248, '땅만큼': 3249, '태도네요': 3250, '사는데요': 3251, '씌였나봐요': 3252, '어울려보세요': 3253, '부모님께': 3254, '자책하지마세요': 3255, '비친': 3256, '걸으세요': 3257, '평범하면서': 3258, '특별하죠': 3259, '잘생겼어요': 3260, '찾은': 3261, '1순위에': 3262, '챙겨드리고': 3263, '동감이에요': 3264, '초심으로': 3265, '돌아가': 3266, '따라가려면': 3267, '멀었네요': 3268, '멋있죠': 3269, '인정받고': 3270, '관찰하고': 3271, '자체에': 3272, '핸드폰을': 3273, '내려두세요': 3274, '고치고': 3275, '싶다는': 3276, '끝내시길': 3277, '축구': 3278, '볼때는': 3279, '치맥이죠': 3280, '자기개발을': 3281, '모자라지': 3282, '태어났어요': 3283, '부담감을': 3284, '경험해보세요': 3285, '서운해': 3286, '알아봐주는': 3287, '산에': 3288, '벌수록': 3289, '위로': 3290, '커플부터': 3291, '만드세요': 3292, '하실': 3293, '무거운': 3294, '때마다': 3295, '따끔하게': 3296, '미소짓게': 3297, '상종하지마세요': 3298, '경쟁해야하고': 3299, '이겨야한다는': 3300, '강박관념에': 3301, '사로잡히지': 3302, '고민과': 3303, '많을거예요': 3304, '설렐': 3305, '배우자와': 3306, '이상할': 3307, '분배를': 3308, '요청해보세요': 3309, '진급할': 3310, '생각할수있어요': 3311, '현실이랑': 3312, '반대예요': 3313, '전형적인': 3314, '꼰대': 3315, '스타일이네요': 3316, '숫자일': 3317, '뿐이예요': 3318, '건강은': 3319, '어려서부터': 3320, '챙겨야해요': 3321, '나이테예요': 3322, '씻어보고': 3323, '섬유유연제나': 3324, '높나봅니다': 3325, '기대되겠네요': 3326, '행운까지': 3327, '고와야': 3328, '곱다고': 3329, '가을이네요': 3330, '빠지면': 3331, '헤어나올': 3332, '같이해보세요': 3333, '지금처럼만': 3334, '천재예요': 3335, '난방으로': 3336, '작동이': 3337, '미스트나': 3338, '가습기': 3339, '수건': 3340, '웃어봐요': 3341, '나들이': 3342, '제습기를': 3343, '집밖에': 3344, '나가기가': 3345, '힘들것': 3346, '물이라도': 3347, '남보다': 3348, '해주고': 3349, '쓰리겠어요': 3350, '몰려가는': 3351, '줄에': 3352, '설': 3353, '고마운': 3354, '남자도': 3355, '좋은것만은': 3356, '아니예요': 3357, '열': 3358, '필요했던': 3359, '전생에': 3360, '나라를': 3361, '구하셨나요': 3362, '결단은': 3363, '거짓말': 3364, '집착하지': 3365, '바쁠때': 3366, '구박하지는': 3367, '잔소리해보세요': 3368, '장소에': 3369, '자유를': 3370, '알려': 3371, '이상적인': 3372, '떠올려': 3373, '공동육아가': 3374, '기본인데요': 3375, '사회생활을': 3376, '알거예요': 3377, '고민만': 3378, '있을수도': 3379, '배우는게': 3380, '스타일': 3381, '보시면': 3382, '포커페이스를': 3383, '유지해보세요': 3384, '가져도': 3385, '저평가되어있는': 3386, '스스로도': 3387, '찾아야할': 3388, '타이밍을': 3389, '나빴네요': 3390, '어딘가에': 3391, '채워나가는거죠': 3392, '천하를': 3393, '얻는다는': 3394, '방심한': 3395, '시작됩니다': 3396, '대우하는': 3397, '당당해지세요': 3398, '좋다고': 3399, '느끼는게': 3400, '비판의': 3401, '실수했나요': 3402, '사랑자격증을': 3403, '사람이예요': 3404, '하나밖에': 3405, '독특함을': 3406, '주제를': 3407, '많은데': 3408, '것이요': 3409, '두고': 3410, '인연에': 3411, '연연해하지': 3412, '일방적': 3413, '희생양이': 3414, '고르세요': 3415, '저축해서': 3416, '분양받으세요': 3417, '날씨': 3418, '어플에': 3419, '공부한': 3420, '잘하세요': 3421, '기우제를': 3422, '지내봅시다': 3423, '두근거리겠네요': 3424, '좋더라도': 3425, '데이트는': 3426, '성공적일': 3427, '메리': 3428, '크리스마스': 3429, '모른척하세요': 3430, '값이죠': 3431, '슈퍼라도': 3432, '쇼핑하고': 3433, '가봅시다': 3434, '부족합니다': 3435, '죄는': 3436, '미워해도': 3437, '욕해': 3438, '안갈거예요': 3439, '배터리가': 3440, '밥이예요': 3441, '우선순위로': 3442, '대답할지': 3443, '고민이에요': 3444, '몰랐어요': 3445, '상사예요': 3446, '똑똑해': 3447, '질거예요': 3448, '멋있는거': 3449, '아이는': 3450, '아이다워야': 3451, '철은': 3452, '죽을': 3453, '피하고': 3454, '위축된': 3455, '외로우니까': 3456, '겨울에는': 3457, '귤': 3458, '예의는': 3459, '다치지': 3460, '않으셨나': 3461, '걱정이네요': 3462, '선물이라': 3463, '노래로': 3464, '띄어보세요': 3465, '노래요': 3466, '그럴때는': 3467, '초기화하는게': 3468, '속시원해요': 3469, '드시는거': 3470, '보기만': 3471, '주소': 3472, '데이트하기': 3473, '놀이동산은': 3474, '놀아드리고': 3475, '나으세요': 3476, '로봇도': 3477, '소개시켜드릴게요': 3478, '함께할때': 3479, '자신다운': 3480, '자신하고': 3481, '수면': 3482, '싫은가': 3483, '눈사람': 3484, '내렸나봐요': 3485, '인공눈물을': 3486, '넣어보세요': 3487, '중간': 3488, '중간에': 3489, '쉬어주세요': 3490, '체조를': 3491, '느낌이길': 3492, '해로우니': 3493, '좋겠다고': 3494, '핑계보다': 3495, '꿈같은': 3496, '지치고': 3497, '소개시켜주세요': 3498, '친하게': 3499, '발달된': 3500, '진실로': 3501, '행복하면': 3502, '골반': 3503, '비틀어져요': 3504, '다리': 3505, '떨기는': 3506, '괜찮대요': 3507, '주물주물': 3508, '종아리': 3509, '지압을': 3510, '태어나고': 3511, '식물을': 3512, '키우는': 3513, '키우기': 3514, '쉬울': 3515, '잘가요': 3516, '기초대사량을': 3517, '높여보세요': 3518, '0칼로리': 3519, '땅을': 3520, '단수가': 3521, '문의해': 3522, '배려해야': 3523, '적응': 3524, '비싸지만': 3525, '흘러가네요': 3526, '카페에서': 3527, '담배': 3528, '피지': 3529, '금연하세요': 3530, '고비예요': 3531, '충분할': 3532, '일하든': 3533, '짜지': 3534, '꿩': 3535, '먹고네요': 3536, '인정해줄': 3537, '건강에도': 3538, '무리하면': 3539, '지쳐요': 3540, '갚아나가세요': 3541, '빌렸으니까요': 3542, '알아줄': 3543, '장단점을': 3544, '분석해보세요': 3545, '막막하겠네요': 3546, '선택이죠': 3547, '들었어요': 3548, '변화해보세요': 3549, '명확하게': 3550, '거부의': 3551, '잠재력은': 3552, '무궁무진해요': 3553, '여름이네요': 3554, '찬물': 3555, '샤워를': 3556, '죽지': 3557, '차가운': 3558, '음료': 3559, '아니': 3560, '보약이에요': 3561, '더없이': 3562, '기울이는': 3563, '난감하겠어요': 3564, '매력이겠죠': 3565, '공부하길': 3566, '도서관도': 3567, '다니시나봐요': 3568, '까먹었나봐요': 3569, '챙긴다는': 3570, '잊지말고': 3571, '보답하세요': 3572, '유의하세요': 3573, '공부할': 3574, '없다가': 3575, '가게부를': 3576, '새는': 3577, '막아보세요': 3578, '돈보다': 3579, '좋은건': 3580, '모여요': 3581, '부자되실': 3582, '버는': 3583, '차용증': 3584, '썼길': 3585, '등산': 3586, '퍼가요': 3587, '벌면': 3588, '차곡차곡': 3589, '축하해주고': 3590, '순서는': 3591, '크는': 3592, '이거': 3593, '성이': 3594, '취미생활은': 3595, '뒤돌아봐도': 3596, '30분씩': 3597, '야경구경': 3598, '좋았겠어요': 3599, '재미있는': 3600, '다른걸': 3601, '편한거': 3602, '영상을': 3603, '연습해봅시다': 3604, '야경': 3605, '방': 3606, '유명한': 3607, '자격증일': 3608, '등산해요': 3609, '포근한': 3610, '온수로': 3611, '작동하는지': 3612, '신선한': 3613, '과일': 3614, '딸기': 3615, '공부에': 3616, '먹든': 3617, '기분일꺼에요': 3618, '쉬시길': 3619, '별의별': 3620, '전달할': 3621, '라면봉지': 3622, '레시피': 3623, '끓여드세요': 3624, '손맛이': 3625, '차가': 3626, '로또': 3627, '추울': 3628, '배달': 3629, '손재주가': 3630, '꾸준한': 3631, '감기조심하세요': 3632, '청춘이어야죠': 3633, '크게한번': 3634, '채워드릴게요': 3635, '쓴만큼': 3636, '생긴다고': 3637, '하던데요': 3638, '닫고': 3639, '듣는': 3640, '어쩔수없죠': 3641, '귀차니즘을': 3642, '극복': 3643, '하셔야해요': 3644, '인연': 3645, '칭찬': 3646, '맛있을거': 3647, '만족하면': 3648, '곳': 3649, '자리에서': 3650, '만족하는': 3651, '신기하네요': 3652, '자연의': 3653, '이치죠': 3654, '처음만': 3655, '일어났나봐요': 3656, '빼도': 3657, '박도': 3658, '후회하겠네요': 3659, '떨어요': 3660, '포기하지마세요': 3661, '생기죠': 3662, '말투는': 3663, '바꿀': 3664, '별로라면': 3665, '문제겠네요': 3666, '주워담을': 3667, '재미없지': 3668, '말조심하세요': 3669, '오셨길': 3670, '디저트는': 3671, '선택했어요': 3672, '받으시는': 3673, '맛을거': 3674, '잠자리에': 3675, '운명인가요': 3676, '소맥이요': 3677, '그러다가': 3678, '나타나죠': 3679, '행복일지도': 3680, '압니다': 3681, '깍고': 3682, '깎아요': 3683, '청결하게': 3684, '다듬기만해도': 3685, '약먹기': 3686, '앞머리만이라도': 3687, '짧게': 3688, '헤어': 3689, '디자이너에게': 3690, '모발이': 3691, '상해요': 3692, '스타일의': 3693, '탈모': 3694, '쉬었다': 3695, '두통약': 3696, '좋을거죠': 3697, '전환해보세요': 3698, '스트레스를': 3699, '받으시나봐요': 3700, '관리하는': 3701, '바람좀': 3702, '소가': 3703, '먹고는': 3704, '타이밍이네요': 3705, '다니세요': 3706, '미세먼지가': 3707, '많데요': 3708, '잠깐씩': 3709, '멍때리는것도': 3710, '메뉴얼': 3711, '발이': 3712, '달렸나봐요': 3713, '오늘부터': 3714, '하기로': 3715, '깔끔하겠죠': 3716, '깔끔한게': 3717, '선물': 3718, '사오세요': 3719, '준비한만큼': 3720, '운전하는거': 3721, '날려버리시길': 3722, '바라겠습니다': 3723, '현금이': 3724, '최고입니다': 3725, '고가의': 3726, '가리면': 3727, '모르는걸': 3728, '알려면': 3729, '노력해야죠': 3730, '여우네요': 3731, '즐겁죠': 3732, '받지마세요': 3733, '마시세요': 3734, '가끔씩': 3735, '목감기': 3736, '오려나봐요': 3737, '목표는': 3738, '장거리': 3739, '피로를': 3740, '말해달라고': 3741, '지불하고': 3742, '이용할': 3743, '오려나요': 3744, '무릎에': 3745, '무리가': 3746, '평안했던': 3747, '향수가': 3748, '양이': 3749, '심하면': 3750, '보일러를': 3751, '켜세요': 3752, '건강습관이에요': 3753, '칼로리': 3754, '색다른걸': 3755, '예능이요': 3756, '투성이에요': 3757, '환해': 3758, '독서와': 3759, '음악감상이라고': 3760, '싶지만': 3761, '일해요': 3762, '상처받았나봐요': 3763, '스스로의': 3764, '우선순위를': 3765, '말씀해': 3766, '배움에는': 3767, '찬성이에요': 3768, '수다를': 3769, '떠세요': 3770, '때리기': 3771, '나랑': 3772, '설마': 3773, '못하시는': 3774, '공유해보세요': 3775, '불공평해요': 3776, '의욕이': 3777, '시작해보면': 3778, '행복해지기': 3779, '무엇인가를': 3780, '활기찬': 3781, '만나보시면': 3782, '즐기는': 3783, '인터넷': 3784, '있거나': 3785, '쓰세요': 3786, '쉴만': 3787, '했으면': 3788, '힘들어졌어요': 3789, '변신하고': 3790, '방문해보세요': 3791, '예뻐해': 3792, '조심해야해요': 3793, '탁': 3794, '트인': 3795, '바다는': 3796, '부는': 3797, '바람인지': 3798, '바지가': 3799, '나가야': 3800, '반갑습니다': 3801, '1년': 3802, '책임이': 3803, '뒤따르니까요': 3804, '고르는': 3805, '맥주병': 3806, '살살': 3807, '문질러': 3808, '초콜릿': 3809, '녹여서': 3810, '재밌죠': 3811, '가족에게': 3812, '발표는': 3813, '떨려요': 3814, '힘들게네요': 3815, '소분해서': 3816, '냉동실에': 3817, '보관해보세요': 3818, '치워주세요': 3819, '디져트': 3820, '배고프지': 3821, '나타나면': 3822, '누룽지': 3823, '해드세요': 3824, '하고싶은': 3825, '시켜보세요': 3826, '성공했길': 3827, '사람들이랑': 3828, '학생이': 3829, '아니니': 3830, '필요하면': 3831, '위를': 3832, '쉬게': 3833, '오겠네요': 3834, '꼬르륵': 3835, '충전': 3836, '급': 3837, '고장': 3838, '났나봐요': 3839, '버스가': 3840, '허리띠를': 3841, '졸라': 3842, '매세요': 3843, '능력이긴': 3844, '꼬리가': 3845, '밟힐': 3846, '심플하게': 3847, '공기정화식물도': 3848, '충전할': 3849, '뜨는': 3850, '사과해보세요': 3851, '뚫어보아요': 3852, '변명보다는': 3853, '포장이': 3854, '아니지': 3855, '무시해주세요': 3856, '별이에요': 3857, '작은것에': 3858, '특이한': 3859, '한적한': 3860, '시골에서': 3861, '올려봐보세요': 3862, '월급이': 3863, '깎인': 3864, '배워보고': 3865, '보셨나봐요': 3866, '끊어버리세요': 3867, '이번달': 3868, '난방비가': 3869, '나오겠네요': 3870, '은행에': 3871, '상담': 3872, '재설계가': 3873, '윗몸일으키기': 3874, '능력이라면': 3875, '능력이겠죠': 3876, '두근거려요': 3877, '동심으로': 3878, '초록초록하네요': 3879, '풀렸죠': 3880, '지상': 3881, '천국이니': 3882, '상담이나': 3883, '컨설팅을': 3884, '현금이면': 3885, '구체적으로': 3886, '두셨군요': 3887, '하셔도': 3888, '꽃으로': 3889, '강제종료': 3890, '향한': 3891, '좋았겠죠': 3892, '짜장면은': 3893, '수없이': 3894, '블록들이': 3895, '체인으로': 3896, '엮여있는거예요': 3897, '조심': 3898, '비밀은': 3899, '보안상': 3900, '스릴있겠네요': 3901, '밝혀지기': 3902, '데이트요': 3903, '차별이': 3904, '건데': 3905, '안타깝지만': 3906, '구매하면': 3907, '저렴하게': 3908, '빚': 3909, '갚고': 3910, '청소': 3911, '먹어보고': 3912, '좋으시겠어요': 3913, '열어보세요': 3914, '움츠러들지': 3915, '쓰니까요': 3916, '마시며': 3917, '동물이죠': 3918, '알아가고': 3919, '견뎌보세요': 3920, '사전도': 3921, '만드니까': 3922, '바쁘네요': 3923, '찍다보면': 3924, '실력이': 3925, '늘거예요': 3926, '한번에': 3927, '귀여운': 3928, '뒷감당은': 3929, '운전처럼': 3930, '안전거리확보하세요': 3931, '대하는': 3932, '태도에': 3933, '가며': 3934, '이름': 3935, '직업': 3936, '모으시는거예요': 3937, '한번쯤': 3938, '시도해': 3939, '만하죠': 3940, '맛있겠네요': 3941, '섬유탈취제': 3942, '뿌려보세요': 3943, '뿌듯할': 3944, '피하지': 3945, '찾아서': 3946, '보여보세요': 3947, '사표를': 3948, '써서': 3949, '품에': 3950, '품어': 3951, '꼰대가': 3952, '인정': 3953, '우선순위면': 3954, '도망가라는': 3955, '인도해줄': 3956, '숙면하겠네요': 3957, '핸드폰은': 3958, '가게에서': 3959, '조용하니': 3960, '생각하기': 3961, '실내로': 3962, '들어가세요': 3963, '예쁜걸로': 3964, '사주세요': 3965, '새학기': 3966, '준비': 3967, '애그': 3968, '샌드위치': 3969, '건강한': 3970, '식단이네요': 3971, '좋아하시니까': 3972, '춥지도': 3973, '포근하죠': 3974, '붙는': 3975, '합격하는': 3976, '미루지말고': 3977, '드라이브': 3978, '추천해들요': 3979, '양식을': 3980, '채우길': 3981, '바랄세요': 3982, '주말에': 3983, '선생님도': 3984, '애정표현이라고': 3985, '경우예요': 3986, '고민은': 3987, '카페라도': 3988, '쉬다': 3989, '싶었던': 3990, '향이': 3991, '말해주죠': 3992, '화난': 3993, '풀려고': 3994, '성공에서': 3995, '상태를': 3996, '잘돼야': 3997, '성덕이': 3998, '될수있겠죠': 3999, '견적': 4000, '충격': 4001, '들텐데요': 4002, '감이': 4003, '어린가봐요': 4004, '불안해하지': 4005, '스타일러': 4006, '겠지요': 4007, '신혼여행은': 4008, '자유여행이죠': 4009, '손길이': 4010, '애정이': 4011, '썸에서': 4012, '연인으로': 4013, '친구로서와': 4014, '이성으로서': 4015, '달랐나봐요': 4016, '이상이면': 4017, '끝인거예요': 4018, '소개팅으로': 4019, '긍정적이고': 4020, '부정적인': 4021, '파급력이': 4022, '세죠': 4023, '소문은': 4024, '소문일': 4025, '소액이': 4026, '일이길': 4027, '급하게': 4028, '식습관을': 4029, '소화가': 4030, '되나': 4031, '속이는건': 4032, '소독하고': 4033, '바르세요': 4034, '장갑': 4035, '사셔야겠어요': 4036, '장갑을': 4037, '끼세요': 4038, '로망이네요': 4039, '밖에서': 4040, '스트레칭해주세요': 4041, '지압이나': 4042, '생각났을': 4043, '쇼핑': 4044, '식초': 4045, '넣고': 4046, '빨래해보세요': 4047, '녹여보세요': 4048, '솔솔와서': 4049, '수면양말인가봐요': 4050, '길러도': 4051, '어울리면': 4052, '깔끔하게': 4053, '배워': 4054, '놓는': 4055, '미리미리': 4056, '세다고': 4057, '기억해': 4058, '드시지': 4059, '재밌을': 4060, '주당이에요': 4061, '주량은': 4062, '낮춰': 4063, '위험하네요': 4064, '일과': 4065, '일상': 4066, '균형이': 4067, '맞길': 4068, '충전도': 4069, '해주면': 4070, '배워보세요': 4071, '배우실': 4072, '설레겠어요': 4073, '실컷': 4074, '스키탈': 4075, '쟁여둔': 4076, '모': 4077, '도예요': 4078, '그쪽': 4079, '방면에': 4080, '지식이': 4081, '공부하러': 4082, '침묵하세요': 4083, '예뻐지겠네요': 4084, '차단해보세요': 4085, '고치기': 4086, '어려우니까': 4087, '습관이라고': 4088, '실패해도': 4089, '고치려고': 4090, '웃으면': 4091, '복이와요': 4092, '상대적으로': 4093, '흘러갑니다': 4094, '놀아서': 4095, '상대적이죠': 4096, '학기를': 4097, '노려보세요': 4098, '무소음으로': 4099, '원동력이예요': 4100, '경쟁하겠죠': 4101, '벌어요': 4102, '진실되게': 4103, '대하면': 4104, '시어머니도': 4105, '알아주실거예요': 4106, '아들을': 4107, '빼앗겼다고': 4108, '애착이': 4109, '딴': 4110, '날까지': 4111, '응시는': 4112, '공부를': 4113, '해놨나봐요': 4114, '다이어트를': 4115, '영칼로리': 4116, '곤두세우지': 4117, '쇼핑몰이': 4118, '생각나네요': 4119, '높으면': 4120, '실망을': 4121, '당번을': 4122, '정해서': 4123, '청소해보세요': 4124, '불러': 4125, '드릴까요': 4126, '북치기박치기': 4127, '헥헥': 4128, '득템': 4129, '풀어요': 4130, '차면': 4131, '버려': 4132, '쓸데없는': 4133, '청결한': 4134, '잘자요': 4135, '배웠길': 4136, '키울': 4137, '색감': 4138, '여우인가봐요': 4139, '좋거나': 4140, '재밌거나': 4141, '있었는지': 4142, '병이': 4143, '것과': 4144, '맞지': 4145, '구별해보세요': 4146, '발전시켜보세요': 4147, '기술이죠': 4148, '적성에': 4149, '아빠에게': 4150, '드시라고': 4151, '프로그램을': 4152, '소개해보세요': 4153, '사회생활로': 4154, '쇼핑은': 4155, '아울렛이죠': 4156, '욕망이지': 4157, '낙이죠': 4158, '할인점에서': 4159, '사먹으세요': 4160, '되지요': 4161, '끝나길': 4162, '든든하게': 4163, '식습관이에요': 4164, '챙겨주고': 4165, '애국가요': 4166, '새가': 4167, '벌레를': 4168, '먹죠': 4169, '가야죠': 4170, '아파트가': 4171, '살기가': 4172, '변신은': 4173, '무죄': 4174, '정상이죠': 4175, '안경': 4176, '가능한지': 4177, '몰랐네요': 4178, '동그란': 4179, '안경테가': 4180, '유행하고있어요': 4181, '찌는': 4182, '가능하다면요': 4183, '알바': 4184, '지원해보세요': 4185, '내려보는것도': 4186, '안전이': 4187, '높은': 4188, '고생이': 4189, '많으시네요': 4190, '간단한': 4191, '견과류나': 4192, '과일을': 4193, '바늘과': 4194, '실로': 4195, '꿰메보세요': 4196, '분들': 4197, '분들이에요': 4198, '빛이': 4199, '어둠에서': 4200, '나온다니': 4201, '분명한': 4202, '잘못이네요': 4203, '영화가': 4204, '걸어': 4205, '싶어지죠': 4206, '놓쳐서': 4207, '지금이죠': 4208, '타임머신이': 4209, '기다려봐요': 4210, '사춘기로부터의': 4211, '일시적': 4212, '휴식에': 4213, '불과하죠': 4214, '육아': 4215, '참석하는': 4216, '순수하다는': 4217, '증거일': 4218, '웃고': 4219, '손이': 4220, '따라와주지': 4221, '발전하면': 4222, '관리해주세요': 4223, '다가': 4224, '사람일': 4225, '호감가는': 4226, '타인의': 4227, '기대로부터': 4228, '자유로워지세요': 4229, '효도하세요': 4230, '엄마한테': 4231, '연락드려보세요': 4232, '보여드리세요': 4233, '시어머니가': 4234, '이뻐해': 4235, '주실거예요': 4236, '엄마께': 4237, '프라이버시를': 4238, '지켜달라고': 4239, '의도는': 4240, '아니셨을거예요': 4241, '엄마가': 4242, '속상해': 4243, '하시겠네요': 4244, '상처받는다고': 4245, '드려': 4246, '여행이': 4247, '매력있는': 4248, '업무': 4249, '센스가': 4250, '욕은': 4251, '필수는': 4252, '곳인가봐요': 4253, '적이에요': 4254, '손으로': 4255, '날에만': 4256, '지나갑니다': 4257, '여기만': 4258, '구릿빛': 4259, '싫으면': 4260, '당해요': 4261, '여유는': 4262, '못해본': 4263, '궁금하더라고요': 4264, '복받은': 4265, '변한것': 4266, '자유가': 4267, '사나봅니다': 4268, '눕지': 4269, '이불밖은': 4270, '위험하죠': 4271, '반가울': 4272, '중의': 4273, '기본이에요': 4274, '이라고': 4275, '인사부터': 4276, '많으시군요': 4277, '익숙해질거예요': 4278, '야근': 4279, '수당을': 4280, '챙겨보세요': 4281, '위기': 4282, '부족하지만': 4283, '시키는데로': 4284, '되요': 4285, '1호팬': 4286, '하겠습니다': 4287, '적으니까요': 4288, '쓸데없어요': 4289, '내려올': 4290, '깜빡': 4291, '예쁠': 4292, '성분이': 4293, '부족한지': 4294, '안됐네요': 4295, '옆': 4296, '좋았으면': 4297, '개념만': 4298, '가져오면': 4299, '강추위래요': 4300, '노동을': 4301, '긴장되겠어요': 4302, '침대와': 4303, '한몸이': 4304, '피부관리까지': 4305, '하시다니': 4306, '내일의': 4307, '광합성': 4308, '각질제거를': 4309, '맛있는거': 4310, '착용': 4311, '외출하세요': 4312, '월급날을': 4313, '생각하며': 4314, '라디오를': 4315, '들으며': 4316, '평온하길': 4317, '아침마다': 4318, '다닐': 4319, '싸면': 4320, '위험할': 4321, '삼재인가봐요': 4322, '사주를': 4323, '내년이라고': 4324, '계절': 4325, '월급날이': 4326, '멀었어요': 4327, '옷은': 4328, '모자라요': 4329, '일기예보': 4330, '없고': 4331, '완벽할': 4332, '보죠': 4333, '전공에': 4334, '평소의': 4335, '행실을': 4336, '되돌아보세요': 4337, '잘하니까': 4338, '피해주지': 4339, '쇼핑을': 4340, '도구죠': 4341, '다음달에는': 4342, '기쁨이죠': 4343, '드라마': 4344, '메모하는': 4345, '저입니다': 4346, '많아지는': 4347, '세상이에요': 4348, '알바해보세요': 4349, '철': 4350, '주변에서': 4351, '우산을': 4352, '분명하게': 4353, '요구하세요': 4354, '우연이': 4355, '필연이': 4356, '꾸준한게': 4357, '습관으로': 4358, '식이요법이랑': 4359, '병행해보세요': 4360, '구두로': 4361, '멋을': 4362, '인연인가': 4363, '세상에서': 4364, '울적': 4365, '우울할땐': 4366, '울면': 4367, '서': 4368, '슈퍼우먼이': 4369, '배워도': 4370, '이뻐요': 4371, '까아': 4372, '걸음': 4373, '다가갔네요': 4374, '월급을': 4375, '예민해서': 4376, '챙겼나봐요': 4377, '웹툰이': 4378, '물어보고싶네요': 4379, '위기이면서': 4380, '기회일': 4381, '증명자료를': 4382, '손해배상을': 4383, '청구하세요': 4384, '이웃으로부터': 4385, '고통받고': 4386, '생각입니다': 4387, '일하시나봐요': 4388, '은퇴': 4389, '설계': 4390, '기니까요': 4391, '봉사활동도': 4392, '증명하는': 4393, '의자를': 4394, '빌게요': 4395, '목소리는': 4396, '역시': 4397, '저음이죠': 4398, '말만': 4399, '저요': 4400, '하시면': 4401, '실행해보세요': 4402, '딴짓': 4403, '행동할': 4404, '떠나세요': 4405, '태어날': 4406, '늙어가고': 4407, '좌절하지마세요': 4408, '위로봇이요': 4409, '앞머리로': 4410, '이모티콘을': 4411, '많지만': 4412, '뒹굴뒹글': 4413, '부추기면': 4414, '나오기도': 4415, '몫입니다': 4416, '다짐이에요': 4417, '같이도': 4418, '취업에': 4419, '성공할거예요': 4420, '다니면서': 4421, '와서': 4422, '들으세요': 4423, '이혼이': 4424, '다행입니다': 4425, '질리지': 4426, '확신하는': 4427, '옷깃만': 4428, '스쳐도': 4429, '사이즈를': 4430, '사회생활의': 4431, '밑거름이': 4432, '경험은': 4433, '공간으로': 4434, '인형': 4435, '뽑기': 4436, '하더라고요': 4437, '가벼워질거예요': 4438, '체력에': 4439, '무리하지': 4440, '주무셨나봐요': 4441, '보내실': 4442, '몸값을': 4443, '올려보세요': 4444, '활용에': 4445, '인내의': 4446, '건강습관이네요': 4447, '날거예요': 4448, '쉽지는': 4449, '축하할': 4450, '다녀와': 4451, '공부하면서': 4452, '것들': 4453, '피곤하신가봐요': 4454, '헹궈보세요': 4455, '양치하고': 4456, '있었어요': 4457, '자세예요': 4458, '녹음이나': 4459, '메모로': 4460, '남겨보세요': 4461, '강렬하고': 4462, '자신감있게': 4463, '않을까싶어요': 4464, '걱정일': 4465, '자세가': 4466, '불편한': 4467, '자꾸만': 4468, '악수를': 4469, '높아집니다': 4470, '먹었어도': 4471, '펴고': 4472, '당당해져도': 4473, '나올거': 4474, '로맨틱해요': 4475, '자장면이요': 4476, '괜찮다고': 4477, '안하기': 4478, '꿔': 4479, '뻐근한가봐요': 4480, '계획대로': 4481, '붙이세요': 4482, '물론이죠': 4483, '물가가': 4484, '비싸죠': 4485, '아무렇게나': 4486, '자라도': 4487, '잼': 4488, '거는': 4489, '딸기잼에게': 4490, '물어봐': 4491, '코가': 4492, '간질간질한가봐요': 4493, '어쨌든': 4494, '관련': 4495, '서적을': 4496, '곳이라면요': 4497, '있는거': 4498, '해로워요': 4499, '절약하면': 4500, '적금': 4501, '기특하네요': 4502, '중간을': 4503, '남이라는': 4504, '살려도': 4505, '구꺼비집': 4506, '갔는지': 4507, '뜨끈하게': 4508, '겨울': 4509, '나길': 4510, '넓고': 4511, '질척거리지마세요': 4512, '사정을': 4513, '설명해보세요': 4514, '지긋지긋한': 4515, '전화는': 4516, '실례예요': 4517, '가족한테': 4518, '예비': 4519, '부자님': 4520, '지키면서': 4521, '안녕이죠': 4522, '재미로': 4523, '빼면': 4524, '냐에': 4525, '지켜지지': 4526, '맛난거': 4527, '쉬셔야': 4528, '할텐데': 4529, '볼매인가봐요': 4530, '쪼잔하네요': 4531, '삶에': 4532, '한눈팔며': 4533, '살기에는': 4534, '너무나도': 4535, '요긴하긴': 4536, '언어도': 4537, '위치가': 4538, '데려가': 4539, '비행기표': 4540, '예약하세요': 4541, '멋져': 4542, '팀워크가': 4543, '중요해졌어요': 4544, '역할': 4545, '분담을': 4546, '일이냐에': 4547, '방문': 4548, '열어주지': 4549, '가방은': 4550, '망해도': 4551, '자연스러우면': 4552, '졸업식에': 4553, '관계입니다': 4554, '버려야지요': 4555, '나이테죠': 4556, '운동하게': 4557, '망하는건': 4558, '한순간이예요': 4559, '돈버는사람은': 4560, '몇명': 4561, '마련의': 4562, '내딛으셨네요': 4563, '사춘기인가봅니다': 4564, '알뜰한': 4565, '적응하고': 4566, '중문': 4567, '반에서': 4568, '낮잠은': 4569, '20분만': 4570, '자세요': 4571, '이길': 4572, '위험해요': 4573, '안전하지': 4574, '앞이나': 4575, '뒤에': 4576, '타세요': 4577, '사나봐요': 4578, '어렵겠지만': 4579, '차차': 4580, '적응해': 4581, '고치면서': 4582, '이직을': 4583, '별별': 4584, '용서하면서': 4585, '분출할': 4586, '탈출구를': 4587, '명만': 4588, '다가가면': 4589, '결정이길': 4590, '초대하고': 4591, '사람들이요': 4592, '어떤건지': 4593, '준비하는방법이': 4594, '검색해서': 4595, '준비해': 4596, '안하고는': 4597, '집주인': 4598, '마음이죠': 4599, '대청소를': 4600, '모처럼만에': 4601, '보내겠네요': 4602, '데려다주려나봐요': 4603, '청소기를': 4604, '괜찮습니다': 4605, '느낀다면요': 4606, '애정의': 4607, '증거라': 4608, '복잡하겠네요': 4609, '짜장면': 4610, '요리해드세요': 4611, '시원하네요': 4612, '찜질방에서': 4613, '화장은': 4614, '아닌거': 4615, '판단은': 4616, '몫이에요': 4617, '좋은차로': 4618, '선택해보세요': 4619, '불편함을': 4620, '감수해보세요': 4621, '차별을': 4622, '하다니': 4623, '못난': 4624, '사람들이군요': 4625, '당했나봐요': 4626, '표출하는': 4627, '닫으세요': 4628, '글자라도': 4629, '어디에요': 4630, '분야를': 4631, '중고서점에서': 4632, '눈꺼풀의': 4633, '무게를': 4634, '열까지밖에': 4635, '공통점을': 4636, '찾는다고': 4637, '다가가고': 4638, '알아가야죠': 4639, '잘지내는지': 4640, '좋은점을': 4641, '있다니': 4642, '첫인상은': 4643, '바라봤을때': 4644, '3초에': 4645, '결정난데요': 4646, '한번만': 4647, '청소는': 4648, '종목을': 4649, '가치와': 4650, '다했다면': 4651, '자체를': 4652, '즐기면': 4653, '운동하고': 4654, '주위': 4655, '형편에': 4656, '넣으세요': 4657, '내거나': 4658, '사람들과': 4659, '마치길': 4660, '즐길': 4661, '운명일지도': 4662, '싫은가봐요': 4663, '이용해': 4664, '충전기를': 4665, '생활이': 4666, '바늘': 4667, '구멍이니까요': 4668, '취직이나라뇨': 4669, '공채때는': 4670, '취직할': 4671, '경쟁이': 4672, '치열하죠': 4673, '일상을': 4674, '침해당하기': 4675, '때문이죠': 4676, '오래가요': 4677, '따라오게': 4678, '맞이할': 4679, '도와주려는': 4680, '것일': 4681, '뒀네요': 4682, '기대에': 4683, '미치지': 4684, '의지하지': 4685, '신경써': 4686, '가라고': 4687, '질거': 4688, '친구라고': 4689, '아깝네요': 4690, '본받을': 4691, '본받으면서': 4692, '친구도': 4693, '고마운만큼': 4694, '대화하면서': 4695, '얽힌': 4696, '감정들을': 4697, '계획적이고': 4698, '복원해보세요': 4699, '알바예요': 4700, '경제적으로': 4701, '괜찮은거로': 4702, '과해도': 4703, '카페인이': 4704, '시간인가': 4705, '쥬스는': 4706, '커피도': 4707, '차도': 4708, '커피에': 4709, '의존하는': 4710, '셀프였으면': 4711, '시럽을': 4712, '추가해보세요': 4713, '향이죠': 4714, '조절은': 4715, '다운': 4716, '받으신': 4717, '건지…': 4718, '수제': 4719, '케익을': 4720, '코': 4721, '감기일': 4722, '귀여워요': 4723, '건들이지마세요': 4724, '피곤한건': 4725, '정글에서': 4726, '먹어야': 4727, '갈렸나봐요': 4728, '와우': 4729, '크리스마스에는': 4730, '케빈과': 4731, '받아요': 4732, '나왔길': 4733, '꿨는지': 4734, '택배기사님들': 4735, '날이예요': 4736, '현관문': 4737, '송장': 4738, '번호를': 4739, '가져가면': 4740, '출퇴근을': 4741, '느껴보고': 4742, '용기내세요': 4743, '째깍째깍': 4744, '마무리하시길': 4745, '아웃풋이': 4746, '확실한지': 4747, '사회를': 4748, '알려주나봐요': 4749, '시원할': 4750, '펭귄': 4751, '곳과': 4752, '있다면요': 4753, '피부관리': 4754, '성덕이네요': 4755, '간단하고': 4756, '도전을': 4757, '평소처럼': 4758, '곳이요': 4759, '진리예요': 4760, '충전하고': 4761, '베터리만': 4762, '소액결제를': 4763, '백업해놓으세요': 4764, '원하는대로': 4765, '득템해오세요': 4766, '충전하는': 4767, '투자한': 4768, '관리해봐요': 4769, '패션으로': 4770, '먹어요': 4771, '피크닉': 4772, '간식도': 4773, '가져가세요': 4774, '빌리면': 4775, '생기지': 4776, '쉬면서': 4777, '들어줄거예요': 4778, '일어나보세요': 4779, '오락가락해요': 4780, '하우스웨딩이': 4781, '추세더라구요': 4782, '졸린가봐요': 4783, '선생님이요': 4784, '부모님이나': 4785, '부모님과': 4786, '폭력은': 4787, '범죄에요': 4788, '다녀': 4789, '분위기도': 4790, '맛도': 4791, '야근이': 4792, '야경이죠': 4793, '2번': 4794, '으아': 4795, '쓰셨나봐요': 4796, '조심했어야죠': 4797, '필요없는': 4798, '어플은': 4799, '중독에서': 4800, '고장이': 4801, '났는지': 4802, '나로': 4803, '향기': 4804, '앉아있지': 4805, '현금영수증은': 4806, '발급받으세요': 4807, '티끌': 4808, '태산이에요': 4809, '욕심의': 4810, '한계에': 4811, '캬아': 4812, '안주랑': 4813, '욜로의': 4814, '삶도': 4815, '지름신이': 4816, '강림했나봅니다': 4817, '생각하면서': 4818, '속으로': 4819, '사탕': 4820, '픽서를': 4821, '생각하셔야죠': 4822, '장이': 4823, '각질제거': 4824, '쇼핑해보세요': 4825, '환기하는': 4826, '신경쓰지마세요': 4827, '사드리고': 4828, '출퇴근하기': 4829, '질투하지': 4830, '회사네요': 4831, '생활용품이': 4832, '들어가요': 4833, '세우고': 4834, '저와의': 4835, '대화한': 4836, '자체는': 4837, '희망적이에요': 4838, '뽑지말고': 4839, '크시겠네요': 4840, '받지도': 4841, '만남을': 4842, '참았어요': 4843, '시간인데': 4844, '가죠': 4845, '이제야': 4846, '나나': 4847, '힘들어져요': 4848, '속을': 4849, '마무리가': 4850, '만남과': 4851, '헤어짐에도': 4852, '없앨': 4853, '민감한': 4854, '비워보세요': 4855, '기억만': 4856, '남았길': 4857, '아련한': 4858, '버텨냈어요': 4859, '이야기가': 4860, '습관이': 4861, '고쳐': 4862, '비슷한가봐요': 4863, '흔적': 4864, '듣지': 4865, '행복해지세요': 4866, '하라는': 4867, '추억만': 4868, '내려주세요': 4869, '아니었나봅니다': 4870, '결혼에': 4871, '무조건': 4872, '다신': 4873, '였나봐요': 4874, '속은': 4875, '못하죠': 4876, '낫겠네요': 4877, '잊어요': 4878, '법이에요': 4879, '말하기': 4880, '시기였을거예요': 4881, '끝인가봐요': 4882, '결혼에는': 4883, '그럴거예요': 4884, '날들이': 4885, '견디기': 4886, '괜찮은가요': 4887, '지려고': 4888, '과정일': 4889, '괜찮아도': 4890, '괴로워': 4891, '아니었나요': 4892, '나아지지': 4893, '만들거예요': 4894, '전역해서': 4895, '이기적인': 4896, '극복하거나': 4897, '이별하거나': 4898, '남겠죠': 4899, '궁금할': 4900, '보내는': 4901, '익숙해지지가': 4902, '말인가요': 4903, '행복이': 4904, '밤인가봐요': 4905, '현실은': 4906, '버려보세요': 4907, '정리하고': 4908, '소식': 4909, '마음에서도': 4910, '편안해질': 4911, '묻어두는': 4912, '깨닫게': 4913, '기다리지도': 4914, '그대': 4915, '둘을': 4916, '외로움을': 4917, '늦게': 4918, '몸도': 4919, '하루였나요': 4920, '편할지도': 4921, '걱정이에요': 4922, '마련이지요': 4923, '꿈에서': 4924, '해보는건': 4925, '꿈도': 4926, '맘같으면': 4927, '앞에선': 4928, '유통기한이': 4929, '지날': 4930, '보이고': 4931, '후회하고': 4932, '단순한': 4933, '본인': 4934, '잊어가요': 4935, '시간들이': 4936, '삶은': 4937, '선택의': 4938, '제자리': 4939, '약해': 4940, '탈이네요': 4941, '재활용도': 4942, '기억으로': 4943, '상관이': 4944, '사랑해주는': 4945, '반복하지': 4946, '복잡하네요': 4947, '웃어': 4948, '정확히': 4949, '힘든가요': 4950, '아물길': 4951, '궁금해하지마세요': 4952, '그러지': 4953, '잊지마세요': 4954, '그땐': 4955, '잊어': 4956, '것부터': 4957, '힘들어도': 4958, '일상으로': 4959, '아무리': 4960, '심호흡': 4961, '표현이에요': 4962, '지우는': 4963, '보낼': 4964, '또한': 4965, '소식에': 4966, '기울이지': 4967, '눈물': 4968, '사랑했으니까요': 4969, '전하지': 4970, '현실에': 4971, '일로': 4972, '돌아올': 4973, '옵니다': 4974, '하는지': 4975, '겪은': 4976, '남자는': 4977, '재회는': 4978, '조급해하지': 4979, '올라갈': 4980, '이대로가': 4981, '생각했어요': 4982, '이별이에요': 4983, '차단하는게': 4984, '않을까': 4985, '태연하게': 4986, '과정': 4987, '익숙함이': 4988, '좋았을텐데': 4989, '애석해요': 4990, '가보는': 4991, '흐르면': 4992, '다칠': 4993, '지나가네요': 4994, '순간은': 4995, '마주치지': 4996, '안날': 4997, '안나나봐요': 4998, '마지막이': 4999, '제발': 5000, '멈추고': 5001, '전하세요': 5002, '않는데': 5003, '즐겨보는': 5004, '웬수죠': 5005, '하곤': 5006, '복잡했나봐요': 5007, '지치면': 5008, '있을거라': 5009, '정리될지도': 5010, '행복해지시길': 5011, '쌓인': 5012, '돌아오지': 5013, '생기기': 5014, '좋을거예요': 5015, '부탁드립니다': 5016, '과정을': 5017, '성장할': 5018, '되기': 5019, '울고': 5020, '수만': 5021, '만들더라고요': 5022, '얼떨떨할': 5023, '드네요': 5024, '허전하시겠어요': 5025, '연애를': 5026, '되돌릴': 5027, '돌보길': 5028, '아프죠': 5029, '원동력이': 5030, '잘못이': 5031, '생각인지': 5032, '필요하시군요': 5033, '매번': 5034, '때로': 5035, '미련없는': 5036, '고민을': 5037, '속상할거예요': 5038, '떠날': 5039, '우린': 5040, '바보같이': 5041, '성장하나봐요': 5042, '오지': 5043, '끄세요': 5044, '비참한': 5045, '지냈나봐요': 5046, '그분을': 5047, '놓아줄': 5048, '예고': 5049, '뜻하기도': 5050, '후': 5051, '보고싶을': 5052, '싶은가봐요': 5053, '때라고': 5054, '시기에요': 5055, '나아요': 5056, '찾아오길': 5057, '친구들': 5058, '느낌이네요': 5059, '심경인가봐요': 5060, '붙잡으세요': 5061, '추적추적': 5062, '내려요': 5063, '그리고': 5064, '감성적이기': 5065, '분': 5066, '불러주세요': 5067, '날씨에': 5068, '사과해야죠': 5069, '하루에도': 5070, '번씩': 5071, '이랬다': 5072, '저랬다': 5073, '변하고': 5074, '그때는': 5075, '어떨': 5076, '원망과': 5077, '슬픔에': 5078, '잠기는': 5079, '시간들을': 5080, '내려놓고': 5081, '사람이었는가를': 5082, '돌아보는': 5083, '단지': 5084, '일부니까요': 5085, '때의': 5086, '하셨어요': 5087, '않겠죠': 5088, '흐를': 5089, '발라': 5090, '낫고': 5091, '살이': 5092, '돋을': 5093, '시간이죠': 5094, '무섭죠': 5095, '하루이길': 5096, '약해지면': 5097, '충실하세요': 5098, '마음처럼': 5099, '않은가봐요': 5100, '잊혀지더라고요': 5101, '할지도': 5102, '번의': 5103, '편린일': 5104, '이뤄지지': 5105, '확실하게': 5106, '끊으세요': 5107, '후련하다니': 5108, '늦기': 5109, '헤어지는': 5110, '잔하기': 5111, '취해서': 5112, '전화하는': 5113, '티나요': 5114, '상상': 5115, '자책': 5116, '고독한': 5117, '알겠습니다': 5118, '살아서': 5119, '잊기는': 5120, '충격이': 5121, '있어드릴게요': 5122, '부메랑이': 5123, '맞을': 5124, '돌아서지': 5125, '감싸주세요': 5126, '발바니다': 5127, '한없이': 5128, '걸려요': 5129, '운동하면서': 5130, '마시고': 5131, '숨길': 5132, '에휴': 5133, '잊기': 5134, '원하지': 5135, '여기': 5136, '두지': 5137, '그저': 5138, '되시겠어요': 5139, '도와드리면': 5140, '전하면': 5141, '모두가': 5142, '나눴길': 5143, '위로해줄게요': 5144, '해보는게': 5145, '연락이었길': 5146, '기다리던': 5147, '어쩌면': 5148, '어찌하면': 5149, '예측할': 5150, '없는걸요': 5151, '음악을': 5152, '모르게': 5153, '무뎌지는': 5154, '안할': 5155, '기억할': 5156, '아니긴': 5157, '아이구': 5158, '공감이': 5159, '지쳤을': 5160, '공감할': 5161, '쓰일': 5162, '그것은': 5163, '않았을텐데': 5164, '말아보셔요': 5165, '앞으로는': 5166, '일인가봐요': 5167, '힘내려': 5168, '닥쳐올': 5169, '성장하려': 5170, '날이었나봅니다': 5171, 'sns를': 5172, '하길': 5173, '미련없이': 5174, '지켜만': 5175, '이겨냈어요': 5176, '혼자하는': 5177, '중요한데요': 5178, '처음엔': 5179, '우리를': 5180, '버티고': 5181, '들었나봐요': 5182, '못하게': 5183, '실망하지': 5184, '단호하게': 5185, '타인과': 5186, '경험': 5187, '보여도': 5188, '익숙해지는': 5189, '추억도': 5190, '잃을': 5191, '아무런': 5192, '남았다면': 5193, '뒤에서': 5194, '고민인지': 5195, '후련하길': 5196, '생기면': 5197, '출발을': 5198, '기분전환에': 5199, '그때': 5200, '작게': 5201, '척하는게': 5202, '그런건가봐요': 5203, '노력하지': 5204, '감사해요': 5205, '된답니다': 5206, '보장해요': 5207, '답답하다면': 5208, '슬플': 5209, '울어보세요': 5210, '명절에는': 5211, '사람입니다': 5212, '안되는게': 5213, '객관적으로': 5214, '다가옴을': 5215, '위해서': 5216, '운명이': 5217, '아니었을지도': 5218, '잘못은': 5219, '원망은': 5220, '안나겠어요': 5221, '더디게': 5222, '아직인가': 5223, '있겠지요': 5224, '필요하지요': 5225, '행동일수도': 5226, '현명한': 5227, '남는건': 5228, '하셨나보군요': 5229, '시작을': 5230, '친구들을': 5231, '착한': 5232, '사람이군요': 5233, '얘기를': 5234, '있을까요': 5235, '거짓말일': 5236, '필요할지도': 5237, '단계인가봐요': 5238, '대단해요': 5239, '조언해주세요': 5240, '결정이었을': 5241, '않기': 5242, '그곳에서': 5243, '커요': 5244, '다녀와요': 5245, '그렇기도': 5246, '변화이길': 5247, '그만큰': 5248, '사랑했기': 5249, '방법이란': 5250, '필요했을텐데': 5251, '안타까워요': 5252, '결정이었겠어요': 5253, '되었으면': 5254, '저편으로': 5255, '길게': 5256, '비겁한': 5257, '증오로': 5258, '달라졌겠죠': 5259, '깊었을': 5260, '편이에요': 5261, '지나갔네요': 5262, '심하네요': 5263, '아무는': 5264, '거릴': 5265, '혼내줄게요': 5266, '만남': 5267, '시간이지요': 5268, '가니까요': 5269, '했나봅니다': 5270, '했을거라': 5271, '사랑에도': 5272, '괜찮아지길': 5273, '시간이었을거라': 5274, '결정이죠': 5275, '내릴': 5276, '떠나지': 5277, '아프지만': 5278, '여기는': 5279, '기운낼': 5280, '일기를': 5281, '만드나봐요': 5282, '정도로': 5283, '차라도': 5284, '안고': 5285, '그분에': 5286, '남아': 5287, '쉽지가': 5288, '잊는게': 5289, '접어두는게': 5290, '편하죠': 5291, '사실을': 5292, '잊어버리는': 5293, '하나의': 5294, '뭐가': 5295, '살아온': 5296, '손해예요': 5297, '밥은': 5298, '기분전환이': 5299, '마지막으로': 5300, '크겠죠': 5301, '조심스레': 5302, '되긴': 5303, '포기하는': 5304, '기다리면서': 5305, '실수': 5306, '무작정': 5307, '찾아가는': 5308, '실례에요': 5309, '기울여봐요': 5310, '힘드셨겠어요': 5311, '사랑해보세요': 5312, '연락하세요': 5313, '관계에서': 5314, '전해졌으면': 5315, '했나요': 5316, '옥죄지': 5317, '흔적이': 5318, '쓰면': 5319, '필요하겠죠': 5320, '힘들면': 5321, '여러가지': 5322, '힘내라는': 5323, '쪼그만': 5324, '아파하고': 5325, '괜찮아지세요': 5326, '증상이에요': 5327, '어렵네요': 5328, '시간적': 5329, '생겨서': 5330, '만나보는': 5331, '기운을': 5332, '자괴감에서': 5333, '상처주는': 5334, '생각도': 5335, '없거나': 5336, '겠죠': 5337, '소유가': 5338, '되었나요': 5339, '짧은': 5340, '연애도': 5341, '사람이니까': 5342, '상대의': 5343, '의중을': 5344, '알긴': 5345, '다르니까요': 5346, '인연인': 5347, '부여하지': 5348, '처음은': 5349, '날인지는': 5350, '우연히': 5351, '전하는게': 5352, '남은': 5353, '중요합니다': 5354, '결정이었나봐요': 5355, '따르기': 5356, '생각한다면': 5357, '생기시길': 5358, '맘도': 5359, '관계에': 5360, '고민하는': 5361, '걸릴지도': 5362, '남나봐요': 5363, '결정': 5364, '힘들어할': 5365, '힘들겠지요': 5366, '모르죠': 5367, '갑작스러운': 5368, '무의식': 5369, '때입니다': 5370, '기대도': 5371, '되었네요': 5372, '부분이에요': 5373, '돌아가는': 5374, '많아': 5375, '힘을': 5376, '헤어짐도': 5377, '서서히': 5378, '나가요': 5379, '무시하지': 5380, '감정소모가': 5381, '알게되면서': 5382, '좋아졌나봅니다': 5383, '되었겠네요': 5384, '좋아보이네요': 5385, '기억들이': 5386, '많겠네요': 5387, '고백하고': 5388, '표현할': 5389, '부려보세요': 5390, '상상은': 5391, '계절이죠': 5392, '어색한': 5393, '떨리네요': 5394, '세우지': 5395, '사적': 5396, '만들죠': 5397, '분에게도': 5398, '지속해도': 5399, '사이라면': 5400, '사랑이라면': 5401, '알아볼': 5402, '결혼을': 5403, '인생의': 5404, '모습일지도': 5405, '인생에서': 5406, '직접적인': 5407, '결혼하세요': 5408, '준비하면': 5409, '달라지겠죠': 5410, '행복하실': 5411, '많겠어요': 5412, '마음가는대로': 5413, '의지해도': 5414, '자주하면': 5415, '허락하는': 5416, '고백은': 5417, '타이밍입니다': 5418, '늦어요': 5419, '고백하면': 5420, '생각해주세요': 5421, '설렜나봐요': 5422, '정답이': 5423, '일요일이': 5424, '기다려지겠네요': 5425, '사랑하나봐요': 5426, '아니었네요': 5427, '부담을': 5428, '초기': 5429, '익숙해져서': 5430, '상황인가봐요': 5431, '뭐하냐고': 5432, '부담스럽게': 5433, '도피성': 5434, '생각해드릴게요': 5435, '궁금하면': 5436, '찾아가보세요': 5437, '데에': 5438, '기댈': 5439, '많다고': 5440, '행복해보여요': 5441, '사랑하는지': 5442, '설레면': 5443, '어장의': 5444, '고기어도': 5445, '어장을': 5446, '당신이니까요': 5447, '돌아보면': 5448, '다그치지': 5449, '화내지': 5450, '일이었을': 5451, '사랑합니다': 5452, '짐작하는': 5453, '좋아해주는': 5454, '없는걸지도': 5455, '전해질': 5456, '대하고': 5457, '사실이네요': 5458, '맞춰가기도': 5459, '저라도': 5460, '높겠죠': 5461, '떠보는': 5462, '기적이죠': 5463, '말하는게': 5464, '선택이든': 5465, '좋아하게': 5466, '사귀다': 5467, '연인': 5468, '사이로': 5469, '계기를': 5470, '대수인가요': 5471, '앞모습을': 5472, '받으셨겠어요': 5473, '배려해줄': 5474, '일이지요': 5475, '헷갈릴': 5476, '이성이니까': 5477, '감정이에요': 5478, '좋아진': 5479, '다가가야죠': 5480, '친구일': 5481, '중간인': 5482, '성별은': 5483, '당황해서': 5484, '행동이냐에': 5485, '좋아했는데': 5486, '능력만': 5487, '솔직하지': 5488, '남자친구가': 5489, '변화시켜봐요': 5490, '갑작스럽겠네요': 5491, '오지랖이었으면': 5492, '사귀어서': 5493, '궁금하다고': 5494, '게임을': 5495, '알람을': 5496, '맞춰주세요': 5497, '기울여주고': 5498, '맞장구쳐': 5499, '먹자고': 5500, '남자친구를': 5501, '직설적으로': 5502, '통보하는': 5503, '말보다는': 5504, '권유하고': 5505, '응원해주세요': 5506, '소리가': 5507, '현실이에요': 5508, '나눠봐요': 5509, '집착하는': 5510, '꼬였는지': 5511, '말투가': 5512, '수많은': 5513, '안되면': 5514, '어디를': 5515, '향하고': 5516, '공감을': 5517, '리드해보세요': 5518, '집안일을': 5519, '성향이': 5520, '격려하고': 5521, '멀리': 5522, '흔들리고': 5523, '정도에': 5524, '브랜드가': 5525, '물어보시나요': 5526, '이야기해주세요': 5527, '사람하고': 5528, '사람들이나': 5529, '맞춰줄': 5530, '확인하는': 5531, '프라이버시니까': 5532, '떠서': 5533, '확인해봐요': 5534, '빠질까봐': 5535, '질투가': 5536, '보고만': 5537, '의심하지': 5538, '낫다': 5539, '그래봤자': 5540, '운명의': 5541, '이상형일': 5542, '뿐이니까요': 5543, '이상형이': 5544, '우연을': 5545, '가장해서': 5546, '서지': 5547, '인간이라는': 5548, '부담되지': 5549, '좋아해도': 5550, '봤나봐요': 5551, '심리일까요': 5552, '서운함을': 5553, '조금은': 5554, '좋아하는데': 5555, '자격은': 5556, '삶이': 5557, '고마워할': 5558, '권리로': 5559, '둘이서': 5560, '갚을': 5561, '운명적인': 5562, '영화관': 5563, '첫': 5564, '연애로': 5565, '이어지길': 5566, '차트를': 5567, '찾아보는': 5568, '달콤하네요': 5569, '몸짓으로': 5570, '리드를': 5571, '들이대보세요': 5572, '가능성을': 5573, '소중히': 5574, '실행에': 5575, '않았기': 5576, '됐다고': 5577, '의사가': 5578, '존중된': 5579, '것이라면': 5580, '읽을': 5581, '자유지만': 5582, '같은데요': 5583, '짝사랑하는': 5584, '흔들리겠어요': 5585, '활력소가': 5586, '발전적인': 5587, '있지는': 5588, '서툴러도': 5589, '시대는': 5590, '물어보면서': 5591, '이끌어주는': 5592, '위해서는': 5593, '계절이에요': 5594, '사랑하기': 5595, '부모님만의': 5596, '이해하려고': 5597, '오해할만한': 5598, '생겼을때는': 5599, '사랑에서': 5600, '사귀자고': 5601, '해보면': 5602, '끝난': 5603, '믿는': 5604, '애절한': 5605, '사랑만': 5606, '무엇인지': 5607, '딱히': 5608, '일시적인': 5609, '내리기': 5610, '참을': 5611, '가벼움이네요': 5612, '싶어서요': 5613, '쟁취하는': 5614, '아파하면서': 5615, '외롭다고': 5616, '해결해주지는': 5617, '호르몬이': 5618, '나온대요': 5619, '쟁취하세요': 5620, '따지는': 5621, '주고도': 5622, '미안해하는': 5623, '상대': 5624, '아닐지도': 5625, '빠졌나봐요': 5626, '동의한다면': 5627, '모르니': 5628, '만나자고': 5629, '발을': 5630, '필요해보이네요': 5631, '깨': 5632, '모르니까': 5633, '흘려': 5634, '이야기했던': 5635, '기억해주고': 5636, '짧으면': 5637, '짧을': 5638, '써놓고': 5639, '힘겨울때': 5640, '꺼내': 5641, '타다가': 5642, '고백': 5643, '시작해도': 5644, '됐나요': 5645, '그런게': 5646, '끝내긴': 5647, '아까워요': 5648, '내봐요': 5649, '친해지는게': 5650, '좋아한다고': 5651, '해봐도': 5652, '어색해서': 5653, '하겠네요': 5654, '밀당을': 5655, '옷차림도': 5656, '격식은': 5657, '차리는': 5658, '별로': 5659, '다르지만': 5660, '오는지': 5661, '마다할': 5662, '특히': 5663, '종료네요': 5664, '당신과': 5665, '다정한': 5666, '남자들은': 5667, '저처럼': 5668, '맛집을': 5669, '맛있고': 5670, '가도': 5671, '애석하네요': 5672, '카공': 5673, '영화는': 5674, '좋아한다는': 5675, '연락도': 5676, '웃음나는': 5677, '밀당일': 5678, '목적은': 5679, '차례인': 5680, '연락과': 5681, '얼마나': 5682, '확신을': 5683, '몰래': 5684, '착할': 5685, '질문이네요': 5686, '전부인': 5687, '감싸': 5688, '안아서': 5689, '완전하게': 5690, '연애인': 5691, '담은': 5692, '배려하고': 5693, '아쉽겠어요': 5694, '사과하는게': 5695, '데이트할': 5696, '다정한게': 5697, '변화시켜': 5698, '있는데': 5699, '코스를': 5700, '지켜보는': 5701, '적극적이면': 5702, '깨는': 5703, '틈틈이': 5704, '신경쓰인다고': 5705, '바쁘더라도': 5706, '감동': 5707, '없으면': 5708, '귀찮아서': 5709, '용기내보는': 5710, '않다고': 5711, '맞춰가는': 5712, '오': 5713, '예뻐보이는': 5714, '자면': 5715, '김에': 5716, '장만하는': 5717, '분이네요': 5718, '해달라고': 5719, '등으로': 5720, '애의': 5721, '눈에도': 5722, '띄길': 5723, '학교갈': 5724, '부담스러운지': 5725, '운명을': 5726, '빠졌군요': 5727, '누구와도': 5728, '만나야죠': 5729, '핑계로': 5730, '쪽지를': 5731, '불행을': 5732, '연습하거나': 5733, '복스럽게': 5734, '지켜보는게': 5735, '거리가': 5736, '트라우마가': 5737, '종교를': 5738, '뛰어넘을': 5739, '싶습니다': 5740, '동전의': 5741, '같죠': 5742, '필요합니다': 5743, '안한': 5744, '설렘을': 5745, '오랫동안': 5746, '현상입니다': 5747, '소름돋네요': 5748, '알아봐요': 5749, '내면을': 5750, '들여다보세요': 5751, '종교가': 5752, '정리해야': 5753, '도와주었다고': 5754, '말해보는게': 5755, '음료수라도': 5756, '여지를': 5757, '궁금할만': 5758, '뜻으로': 5759, '먼저일': 5760, '페북을': 5761, '얘기가': 5762, '그녀의': 5763, '장사': 5764, '착각하고': 5765, '정들었나봐요': 5766, '취미와': 5767, '등이': 5768, '같음을': 5769, '부담이': 5770, '찾아올거라': 5771, '결심이네요': 5772, '성공할': 5773, '인스타를': 5774, '그가': 5775, '물어봐보세요': 5776, '인지시켜보세요': 5777, '방해가': 5778, '이상으로': 5779, '생각한다고': 5780, '잘해줘보세요': 5781, '1은': 5782, '전세계': 5783, '공통이에요': 5784, '해줘보세요': 5785, '번만': 5786, '핑계를': 5787, '상대분이': 5788, '얘기': 5789, '대화도': 5790, '이어나가니까요': 5791, '그만하는게': 5792, '목도리는': 5793, '그것': 5794, '시작과': 5795, '인연이었나봅니다': 5796, '아프겠네요': 5797, '겠네요': 5798, '콩깍지': 5799, '법적': 5800, '부부가': 5801, '뜻은': 5802, '있기는': 5803, '선택에': 5804, '경쾌한': 5805, '왜일까요': 5806, '이유인지': 5807, '기술을': 5808, '연습': 5809, '깜빡거려보세요': 5810, '부러우면': 5811, '있으신거죠': 5812, '있으신가요': 5813, '친구들한테': 5814, 'gogo': 5815, '분리': 5816, '수거해서': 5817, '자보세요': 5818, '있어하실': 5819, '알았어요': 5820, '즐기실': 5821, '먹었나봐요': 5822, '제대로된': 5823, '독립이': 5824, '길죠': 5825, '신상으로': 5826, '합격을': 5827, '유유상종이네요': 5828, '찾으실': 5829, '충부히': 5830, '나이스': 5831, '타이밍': 5832, '해드리고': 5833, '외쳐보세요': 5834, '기분만': 5835, '이유에': 5836, '허하겠어요': 5837, '걸은': 5838, '길을': 5839, '돌아가고': 5840, '계시겠네요': 5841, '과정이죠': 5842, '연애였길': 5843, '무색하네요': 5844, '마주하셨나봐요': 5845, '무색해지네요': 5846, '같은데': 5847, '아프신가봐요': 5848, '나죠': 5849, '여기까지였나봅니다': 5850, '기억보다': 5851, '많았으면': 5852, '짧지는': 5853, '동안의': 5854, '연애였는데': 5855, '애석하게도': 5856, '헤어지셨네요': 5857, '추억일': 5858, '번이면': 5859, '준비해요': 5860, '꿈같았던': 5861, '놀라셨겠어요': 5862, '좋았길': 5863, '역을': 5864, '향해': 5865, '떠나요': 5866, '지나가지': 5867, '말지': 5868, '그랬어요': 5869, '쓰디쓴': 5870, '약이었나봅니다': 5871, '2주': 5872, '지나가길': 5873, '텀이': 5874, '기네요': 5875, '기다렸겠어요': 5876, '허절할': 5877, '마침표가': 5878, '이어져서': 5879, '상처받은': 5880, '보듬어주고': 5881, '권태기가': 5882, '마침표인지': 5883, '쉼표인지': 5884, '잘도': 5885, '중인가봐요': 5886, '만났던': 5887, '버텨내고': 5888, '버거울거예요': 5889, '잦은': 5890, '이별로': 5891, '지쳤겠어요': 5892, '투자하는': 5893, '가져요': 5894, '예를들면': 5895, '운동이나': 5896, '여행같이': 5897, '일들이요': 5898, '오래하면': 5899, '부분이더라고요': 5900, '무색하게도': 5901, '머릿속은': 5902, '텅비고': 5903, '행복했던': 5904, '허무하네요': 5905, '감당하기': 5906, '어려웠을': 5907, '무색하겠지만': 5908, '사랑이였겠어요': 5909, '오랜만의': 5910, '비례하지': 5911, '살아가고': 5912, '비워보는': 5913, '기억들만': 5914, '시간이니': 5915, '풀렸다니': 5916, '오랜': 5917, '사귀셨네요': 5918, '반복되면': 5919, '맺느라': 5920, '세월': 5921, '끝내는': 5922, '크겠어요': 5923, '무거워도': 5924, '가사': 5925, '아픈만큼': 5926, '성숙해질': 5927, '일인': 5928, '마침표': 5929, '찍는': 5930, '가혹하죠': 5931, '간단하지': 5932, '여러번': 5933, '이혼하세요': 5934, '과정이더라고요': 5935, '무뎌질': 5936, '심해요': 5937, '받았나봐요': 5938, '문자가': 5939, '우울': 5940, '당황했나요': 5941, '황당하네요': 5942, '갑작스럽죠': 5943, '연락이었으면': 5944, '축복은': 5945, '찾아오는': 5946, '거래요': 5947, '매력있어요': 5948, '걸지': 5949, '병이죠': 5950, '워워': 5951, '오늘을': 5952, '골인하는게': 5953, '성공은': 5954, '놓느라': 5955, '남을지도': 5956, '같았나봐요': 5957, '후련하겠어요': 5958, '상담도': 5959, '기원할게요': 5960, '망상을': 5961, '왔어요': 5962, '거기까지가': 5963, '받아들여지진': 5964, '낫지요': 5965, '상황보다': 5966, '현실이라는': 5967, '부딪혔군요': 5968, '이혼보다': 5969, '파혼이': 5970, '그때도': 5971, '이기적이죠': 5972, '생각나겠죠': 5973, '필요하다는': 5974, '종이에': 5975, '끄젹여여': 5976, '몰랐을': 5977, '크죠': 5978, '현재에': 5979, '과거랑': 5980, '현재랑': 5981, '미래는': 5982, '현재의': 5983, '증오': 5984, '괴로워하시는군요': 5985, '있던': 5986, '떠나간': 5987, '카톡하지': 5988, '괴로울만': 5989, '받기죠': 5990, '동물이에요': 5991, '극복하려는': 5992, '노력은': 5993, '모습만': 5994, '찾아보지': 5995, '다녀보세요': 5996, '웃는': 5997, '포기': 5998, '헛헛하군요': 5999, '행동파시군요': 6000, '아련하네요': 6001, '찾아줘서': 6002, '사이네요': 6003, '큐피드의': 6004, '화살에': 6005, '몸을': 6006, '피곤하게': 6007, '생생하겠지만': 6008, '꿈과': 6009, '보듬어': 6010, '그녀밖에': 6011, '진행으로': 6012, '바뀌길': 6013, '하던가요': 6014, '편치': 6015, '도와줄': 6016, 'sns는': 6017, '아프겠지만': 6018, '싱숭생숭했겠네요': 6019, '허전한': 6020, '들겠어요': 6021, '아픔': 6022, '뒤에는': 6023, '원하던게': 6024, '아니었을텐데': 6025, '씁쓸했겠어요': 6026, '흔들릴': 6027, '없었겠네요': 6028, '소식에는': 6029, '닫는게': 6030, '맘편할': 6031, '365일': 6032, '사람이었나요': 6033, '내려놓으면': 6034, '행복했길': 6035, '기억과': 6036, '지나고': 6037, '아니었을거라': 6038, '지워주세요': 6039, '후련한가봐요': 6040, '무뎌지는가봐요': 6041, '놔주는': 6042, '애잔한': 6043, '잊는다는건': 6044, '불가능하니까요': 6045, '뗄': 6046, '피해': 6047, '선택했네요': 6048, '생각하지마세요': 6049, '툭툭': 6050, '털고': 6051, '그랬었지': 6052, '추억하는': 6053, '이불킥': 6054, '사소하면서도': 6055, '소원이네요': 6056, '극복해봐요': 6057, '담기': 6058, '쓰다보면': 6059, '사랑하며': 6060, '기다려보셨나봐요': 6061, '나쁠': 6062, '싱숭생숭한': 6063, '다른일에': 6064, '집중할': 6065, '않는편이': 6066, '연애였던': 6067, '아플까': 6068, '보내도': 6069, '정량': 6070, '채우면': 6071, '끝일거예요': 6072, '무의식의': 6073, '발현이죠': 6074, '본다면': 6075, '헛헛할': 6076, '싱숭생숭하겠어요': 6077, '나왔나요': 6078, '만납시다': 6079, '노는': 6080, '애들': 6081, '수고': 6082, '수고했어요': 6083, '연애하면서': 6084, '않다면': 6085, '덜었길': 6086, '자연스런': 6087, '잡았던': 6088, '끈이었을': 6089, '쉬었다가': 6090, '사람이고': 6091, '부담일': 6092, '구멍이': 6093, '메워질': 6094, '척이': 6095, '재채기': 6096, '멀어집시다': 6097, '말해주겠죠': 6098, '연속인': 6099, '당신에게는': 6100, '선택권이': 6101, '구질구질해도': 6102, '그대로인': 6103, '걸음이어도': 6104, '힘들대요': 6105, '나약하지': 6106, '오늘로': 6107, '돌아오세요': 6108, '장점': 6109, '배려심을': 6110, '계륵': 6111, 'xx놈아': 6112, '바라면': 6113, '나대로': 6114, '결심': 6115, '변치마세요': 6116, '바보를': 6117, '반짝반짝': 6118, '찾아오려나봐요': 6119, '빈': 6120, '자리도': 6121, '믿게': 6122, '세': 6123, '이상이죠': 6124, '일반화하기': 6125, '조건도': 6126, '요소니까요': 6127, '바람둥이랑은': 6128, '이별하기': 6129, '됐네요': 6130, '진지한': 6131, '밤에는': 6132, '인사해요': 6133, '지워줄': 6134, '발등이': 6135, '바꾸는': 6136, '해결해줄': 6137, '사랑인': 6138, '다시는': 6139, '않겠다고': 6140, '옳소': 6141, '멍청하지': 6142, '좋다는': 6143, '넓은': 6144, '맞다고': 6145, '생각했으니까요': 6146, '이상하지': 6147, '기억하세요': 6148, '대신': 6149, '노력해줄': 6150, '아파하지': 6151, '따지지': 6152, '기뻐해주는': 6153, '아프다': 6154, '아파하겠지요': 6155, '억울함이': 6156, '풀리길': 6157, '떠나': 6158, '해결해보세요': 6159, '거였을': 6160, '나약한': 6161, '그만하세요': 6162, '미안함이': 6163, '하루하루': 6164, '연애에도': 6165, '여유로워지세요': 6166, '보듬어주세요': 6167, '않아질': 6168, '버텨낼': 6169, '옥상': 6170, '추워요': 6171, '내려오세요': 6172, '힘들었으면': 6173, '끌어올려보세요': 6174, '공감되는': 6175, '답답했을만': 6176, '끄집어보세요': 6177, '자신에게는': 6178, '너그러웠으면': 6179, '풀어드릴게요': 6180, '선택하셨네요': 6181, '마음정리에': 6182, '담아보세요': 6183, '감성적이네요': 6184, '편지': 6185, '보내지마요': 6186, '사랑이었을': 6187, '사람이었어요': 6188, '생각하나요': 6189, '꿈조차': 6190, '들죠': 6191, '펑펑': 6192, '결과를': 6193, '숫자씩': 6194, '지워보세요': 6195, '흘려도': 6196, '버리기가': 6197, '사랑한거죠': 6198, '받죠': 6199, '끝이라고': 6200, '생각했을': 6201, '마주하는': 6202, '후에는': 6203, '거리두기가': 6204, '내려놓는': 6205, '잊혀질거라': 6206, '빨간날일': 6207, '뿐이죠': 6208, '예약제': 6209, '흐르면서': 6210, '그런가요': 6211, '추석': 6212, '만나봐야': 6213, '알죠': 6214, '쯤': 6215, '꿈꿎': 6216, '사이였나요': 6217, '여기까지였나봐요': 6218, '싱숭생숭할': 6219, '수면위로': 6220, '대화': 6221, '나누었길': 6222, '지금이': 6223, '섭섭하겠어요': 6224, '허전하가봐요': 6225, '되돌이표인가봐요': 6226, '좋지만은': 6227, '7전': 6228, '8기': 6229, '테니까요': 6230, '되실': 6231, '후회하진': 6232, '변하게': 6233, '돌봐주세요': 6234, '털어버렸으면': 6235, '받아들여지지': 6236, '답답한가요': 6237, '소리에': 6238, '왔으면': 6239, '원망하지': 6240, '지우려고': 6241, '지워져요': 6242, '모르나봐요': 6243, '재다보면': 6244, '스스로가': 6245, '컨트롤할': 6246, '덤덤해졌나봐요': 6247, '버려야': 6248, '허전함이': 6249, '느껴지겠어요': 6250, '공허할': 6251, '어른들의': 6252, '반대가': 6253, '번복되어도': 6254, '힘든건': 6255, '마찬가지이죠': 6256, '두달이': 6257, '정신없는': 6258, '나날이었어요': 6259, '있어줄게요': 6260, '헤어짐는': 6261, '악몽과': 6262, '괴롭겠어요': 6263, '바보의': 6264, '둘만의': 6265, '날이었으니까요': 6266, '얼떨떨하겠어요': 6267, '정리하느라': 6268, '많았죠': 6269, '울어요': 6270, '돌아오죠': 6271, '따질만하면': 6272, '따져요': 6273, '여전하던가요': 6274, '달': 6275, '어스름에': 6276, '울적하겠어요': 6277, '결정할거라': 6278, '차가워질': 6279, '중요하답니다': 6280, '낮술': 6281, '잊어봐요': 6282, '불안하시군요': 6283, '오겠죠': 6284, '월요일보단': 6285, '흐르나봐요': 6286, '의아하셨겠어요': 6287, '로맨스는': 6288, '헤어짐': 6289, '변해가요': 6290, '돌아섰던': 6291, '후회없는': 6292, '했던거라': 6293, '도와드릴': 6294, '안되죠': 6295, '꿰매드릴게요': 6296, '풀리지도': 6297, '드라이브라도': 6298, '다녀오는': 6299, '덜할텐데': 6300, '그럼에도': 6301, '원인이': 6302, '불안한지': 6303, '속상할거라': 6304, '마주치면': 6305, '안좋더라고요': 6306, '복잡했던': 6307, '그만두는': 6308, '바': 6309, '이루길': 6310, '한편으로': 6311, '후련할거라': 6312, '후련하게': 6313, '지워버리는': 6314, '슬프지만': 6315, '이겨내길': 6316, '남기지': 6317, '않도록': 6318, '흔들리죠': 6319, '아쉽겠네요': 6320, '전할': 6321, '시작도': 6322, '떠오르니까요': 6323, '없은': 6324, '매몰찬': 6325, '모릅니다': 6326, '성숙해지길': 6327, '찌질한': 6328, '다한': 6329, '과정도': 6330, '답도': 6331, '잡기가': 6332, '추스리길': 6333, '잡기는': 6334, '아프지마요': 6335, '명언이네요': 6336, '망상에서': 6337, '벗어나길': 6338, '필요했을거라': 6339, '좋으니까요': 6340, '일에는': 6341, '마련인가봐요': 6342, '뜻하던': 6343, '잠깐의': 6344, '노래가': 6345, '이야기랑': 6346, '전문가를': 6347, '찾아가보는건': 6348, '그녀': 6349, '함께였을테니까요': 6350, '싶을': 6351, '한껏': 6352, '울어버려요': 6353, '변할까': 6354, '식혀지지': 6355, '잘려나간': 6356, '머리카락처럼': 6357, '아려와요': 6358, '간에': 6359, '남겨진': 6360, '상상도': 6361, '멋있게': 6362, '붙잡기가': 6363, '생각처러만': 6364, '오락가락하는게': 6365, '두려운가봐요': 6366, '삼가세요': 6367, '기억나지': 6368, '않네요': 6369, '하나같이': 6370, '공감되곤': 6371, '돼서': 6372, '내전부를다가져간그여자': 6373, '씁쓸해지는': 6374, '검색하지': 6375, '힘들기': 6376, '놓아보아요': 6377, '못된': 6378, '잊어버려요': 6379, '가벼워질': 6380, '함께라면': 6381, '무모함이': 6382, '멍해질': 6383, '해치지': 6384, '힘들일이': 6385, '마을은': 6386, '사랑이야기도': 6387, '그에': 6388, '제목은': 6389, '지을': 6390, '산책하는': 6391, '기념일이': 6392, '불현듯': 6393, '되버렸죠': 6394, '지우는게': 6395, '버리는게': 6396, '후련할지도': 6397, '익숙해지기': 6398, '애매하긴': 6399, '남겨요': 6400, '목록에서': 6401, '멀어지면': 6402, '덜해집니다': 6403, '또다른': 6404, '아쉬운가봐요': 6405, '혼란스럽게': 6406, '그리울거라': 6407, '후회하나봐요': 6408, '진심만': 6409, '전해지면': 6410, '미워하는': 6411, '우릴': 6412, '잠식시킬': 6413, '노력중인가봐요': 6414, '답답했나봐요': 6415, '힘드시죠': 6416, '직후엔': 6417, '회복되긴': 6418, '어렵겠어요': 6419, '그랬으면': 6420, '버릇이에요': 6421, '잘된거라': 6422, '살랑살랑': 6423, '당연한건데': 6424, '그만두세요': 6425, '취미생활도': 6426, '시작해': 6427, '최고라고': 6428, '돌아갑시다': 6429, '나머지도': 6430, '연락이었나봐요': 6431, '그리웠나봐요': 6432, '일상은': 6433, '반복돼요': 6434, '잡념이': 6435, '많아져서': 6436, '그렇나요': 6437, '답답한가봐요': 6438, '편히': 6439, '새벽은': 6440, '감수성': 6441, '터지니': 6442, '후련하면': 6443, '먹기': 6444, '달려있어요': 6445, '치워보세요': 6446, '느낌이에요': 6447, '버렸다고': 6448, '자존감': 6449, '회복을': 6450, '나아가는': 6451, '흘러': 6452, '벗어나': 6453, '지독한': 6454, '변명의': 6455, '연속': 6456, '변하니까요': 6457, '찾아오네요': 6458, '상처들로': 6459, '예민해져': 6460, '빌어보세요': 6461, '무언가의': 6462, '탄생을': 6463, '전역': 6464, '흔들리나요': 6465, '전화하지마요': 6466, '흔들리지마요': 6467, '만들어낸': 6468, '집중해보는': 6469, '가득찼나봐요': 6470, '없군요': 6471, '보고싶은신가봐요': 6472, '찾아가도': 6473, '자신있는지': 6474, '보내지': 6475, '메시지가': 6476, '아련하기도': 6477, '보통은': 6478, '꽃도': 6479, '필': 6480, '인생에도': 6481, '계절이기도': 6482, '안보는': 6483, '달라지세요': 6484, '이별이었을까요': 6485, '외부적': 6486, '요인이라': 6487, '그립겠어요': 6488, '가라앉혀봐요': 6489, '분노는': 6490, '상처만': 6491, '과거를': 6492, '혼술': 6493, '가져봐요': 6494, '뻥': 6495, '뚫니는': 6496, '불륜보다': 6497, '잠깐이라도': 6498, '붙일': 6499, '다가오죠': 6500, '돌아오지는': 6501, '거란': 6502, '않을거라': 6503, '노렸했군요': 6504, '빗소리가': 6505, '비를': 6506, '닮은': 6507, '너': 6508, '비와': 6509, '젖어가요': 6510, '나나봅니다': 6511, '변하죠': 6512, '주룩주룩': 6513, '가라': 6514, '앉죠': 6515, '걱정하는': 6516, '예쁘네요': 6517, '제길': 6518, '일상이에요': 6519, '내려놔봐요': 6520, '죽어요': 6521, '내려놔요': 6522, '다툼이었으면': 6523, '사람들의': 6524, '미화되니까요': 6525, '잊혀져가기도': 6526, '삭제할': 6527, '간사하게': 6528, '없이도': 6529, '살았던': 6530, '돌아가봐요': 6531, '단순하기도': 6532, '이해가': 6533, '잔해들': 6534, '순수했던': 6535, '유효기간은': 6536, '정하는': 6537, '공유': 6538, '만큼이요': 6539, '치유하길': 6540, '찾아가고': 6541, '찾아오죠': 6542, '믿습니다': 6543, '척도는': 6544, '무관심': 6545, '유효기간도': 6546, '느껴질': 6547, '들었다': 6548, '놨다': 6549, '받게': 6550, '무지갯빛이': 6551, '시간인가봅니다': 6552, '시간이었을텐데': 6553, '지우지는': 6554, '지워도': 6555, '선택입니다': 6556, '고통의': 6557, '연속이기도': 6558, '나아졌다면': 6559, '넣어두세요': 6560, '투자를': 6561, '살아가곤': 6562, '시간인만큼': 6563, '나이죠': 6564, '길에서': 6565, '미래가': 6566, '펼쳐질': 6567, '있거예요': 6568, '받아봤지요': 6569, '보듬어주다가': 6570, '다치기도': 6571, '데이는': 6572, '거둬두세요': 6573, '방법이기도': 6574, '궁금해하지도': 6575, '감성적인': 6576, '밤이네요': 6577, '덜하면': 6578, '했을까요': 6579, '새사람에게': 6580, '새장이': 6581, '있는걸요': 6582, '벌려요': 6583, '변화의': 6584, '놓아버려요': 6585, '위기를': 6586, '극복한': 6587, '고민한': 6588, '결과일거예요': 6589, '버린': 6590, '현실이기': 6591, '바랐지만': 6592, '생일도': 6593, '축하해': 6594, '아른거리나요': 6595, '처음이니까': 6596, '누군가의': 6597, '반대로': 6598, '헤어졌나봐요': 6599, '앞으로가': 6600, '앞일은': 6601, '내려놓기도': 6602, '재회가': 6603, '사랑이야기죠': 6604, '영원을': 6605, '약속할게요': 6606, '혼자이면서': 6607, '함께하죠': 6608, '인생도': 6609, '고히': 6610, '실수했나봅니다': 6611, '이해되네요': 6612, '진심은': 6613, '않을거란': 6614, '알아요': 6615, '고하세요': 6616, '상하지': 6617, '안맞으면': 6618, '거리두기': 6619, '죄만': 6620, '기운이': 6621, '배려가': 6622, '부족했네요': 6623, '연락하지마요': 6624, '걱정되시겠어요': 6625, '휘둘려선': 6626, '숙취해소제가': 6627, '전화를': 6628, '맨날': 6629, '술이야': 6630, '취해': 6631, '마시다가': 6632, '날이죠': 6633, '관대해져도': 6634, '상처에': 6635, '솔직해서': 6636, '솔직해도': 6637, '처럼요': 6638, '준비할': 6639, '눈물은': 6640, '흐르거예요': 6641, '다가왔을지도': 6642, '돌릴': 6643, '건강하고': 6644, '시간의': 6645, '마법이': 6646, '통했나': 6647, '멀어진': 6648, '의존해서': 6649, '덤덤하게': 6650, '익숙해지나봐요': 6651, '비싼': 6652, '받아야죠': 6653, '행복해지려고': 6654, '탁월한': 6655, '행동이에요': 6656, '결과길': 6657, '다녀오셨어요': 6658, '컸을거라': 6659, '답답하신가요': 6660, '평가할': 6661, '불편하겠어요': 6662, '소주': 6663, '그러다': 6664, '헛헛하죠': 6665, '결정이든': 6666, '안타깝죠': 6667, '카톡에서': 6668, '성격은': 6669, '바뀌어요': 6670, '이별지옥인가봐요': 6671, '달게': 6672, '깨달았으니': 6673, '실수는': 6674, '아닌건': 6675, '증오는': 6676, '아름답지': 6677, '존재하지': 6678, '끝이라면': 6679, '그리워지나요': 6680, '선연하기도': 6681, '그랬을거예요': 6682, '사랑이겠죠': 6683, '희미해져': 6684, '자신도': 6685, '토닥여주고': 6686, '심장은': 6687, '뜁니다': 6688, '걸리려나봐요': 6689, '익숙해지는데는': 6690, '직감을': 6691, '이겨낼거라': 6692, '진정해보세요': 6693, '설쳤나봐요': 6694, '꿈이라도': 6695, '꿨나봅니다': 6696, '꿈이었음': 6697, '아스피린': 6698, '지쳐서': 6699, '아플땐': 6700, '약해지나봐요': 6701, '만남의': 6702, '중요한가봐요': 6703, '상처인가봐요': 6704, '첫사랑니의': 6705, '고통처럼': 6706, '시린가봐요': 6707, '슬픔도': 6708, '언제가지': 6709, '복잡했나봅니다': 6710, '보내주었나요': 6711, '건네주세요': 6712, '쓰이긴': 6713, '무시하는게': 6714, '부모님들이': 6715, '견뎌냈어요': 6716, '나이네요': 6717, '짧진': 6718, '얘기해봐요': 6719, '어떡하면': 6720, '확인하고': 6721, '가볍진': 6722, '않았을거예요': 6723, '척도를': 6724, '하루하루를': 6725, '살아가다보면': 6726, '돌아올지도': 6727, '답답하신가봐요': 6728, '수긍할': 6729, '받아들여요': 6730, '특히나': 6731, '어리석게': 6732, '이별이었네요': 6733, '그리워했나봅니다': 6734, '날은': 6735, '싱숭생숭하죠': 6736, '잊었다면': 6737, '연락오지': 6738, '그럴만해요': 6739, '이별이었나봐요': 6740, '쉬어가요': 6741, '털어내길': 6742, '많았을거라': 6743, '챙겨주지': 6744, '잊어주세요': 6745, '닦아주고': 6746, '괴로웠을거라': 6747, '전화였나봐요': 6748, '꿈이었나요': 6749, '건들지': 6750, '좋았을': 6751, '어째서일까요': 6752, '도와줄게요': 6753, '일이었으지도': 6754, '존재에요': 6755, '깨질지': 6756, '풀어주는': 6757, '언제부터인지': 6758, '우리에게': 6759, '달려있을지도': 6760, '벗어날': 6761, '나아질거예요': 6762, '존재하니까요': 6763, '안되나': 6764, '해결해줄거라': 6765, '심난했겠어요': 6766, '잊는데는': 6767, '언제가는': 6768, '순간들이': 6769, '있었겠네요': 6770, '필요한거겠죠': 6771, '상처에는': 6772, '단호해질': 6773, '헤어져야하는': 6774, '질타하면': 6775, '돌아와요': 6776, '표현해왔을': 6777, '접어두세요': 6778, '목표를': 6779, '이뤄가길': 6780, '흘렀어요': 6781, '그녀에게': 6782, '변명이었을까요': 6783, '몹시도': 6784, '괴로우니까요': 6785, '속상했겠어요': 6786, '질리는': 6787, '버릴수록': 6788, '괴로워요': 6789, '내려야하는': 6790, '참는게': 6791, '아픔은': 6792, '있을테니까요': 6793, '자유로울': 6794, '해야할': 6795, '돌보세요': 6796, '돌아간': 6797, '느낌이죠': 6798, '심란한가봐요': 6799, '안하면': 6800, '찾아가지도': 6801, '변해야할': 6802, '시기를': 6803, '놓친': 6804, '참는건': 6805, '자제하는게': 6806, '좋을거라': 6807, '단호한': 6808, '외롭겠지만': 6809, '보내보아요': 6810, '배워가는': 6811, '그분과의': 6812, '흔적을': 6813, '시작으로': 6814, '시간이었던': 6815, '않았을거라': 6816, '기술보단': 6817, '물들어': 6818, '터닝포인트가': 6819, '그분과': 6820, '나날이었을테니까요': 6821, '이야기였나요': 6822, '오랜시간이': 6823, '걸린만큼': 6824, '견디셨어요': 6825, '바라던': 6826, '여느': 6827, '때보다': 6828, '한켠으로': 6829, '후련해졌을거라': 6830, '미련없길': 6831, '정리했긴': 6832, '추천하고': 6833, '나았을': 6834, '순간일': 6835, '전해지길': 6836, '지냈답니다': 6837, '헛헛하시겠어요': 6838, '언제쯤': 6839, '자유로워질까요': 6840, '자리로': 6841, '돌아가길': 6842, '해낸겁니다': 6843, '한잔에': 6844, '그리움이': 6845, '사무치네요': 6846, '상하니': 6847, '편하기도': 6848, '하잖아요': 6849, '설렘과': 6850, '공허함을': 6851, '안겨줘요': 6852, '설레길': 6853, '휴식이': 6854, '기대하면': 6855, '잠은': 6856, '힘들었을거라': 6857, '답답한가봅니다': 6858, '정리되었길': 6859, '왔을': 6860, '이별인가봐요': 6861, '편안히': 6862, '있긴': 6863, '들어': 6864, '내리네요': 6865, '남았습니다': 6866, '생각하셨어요': 6867, '괜찮아질거라': 6868, '헤아려도': 6869, '결심인지': 6870, '잠식시키는': 6871, '사탕을': 6872, '적어보는건': 6873, '후회없으실': 6874, '최고이길': 6875, '만들곤': 6876, '준비도': 6877, '없었는데': 6878, '소식을': 6879, '그립지만': 6880, '적적하지요': 6881, '오셨어요': 6882, '후회할지도': 6883, '마음가짐으로': 6884, '시작해요': 6885, '살거나': 6886, '취미생활을': 6887, '추천해드려요': 6888, '연인을': 6889, '잊어버리는건': 6890, '후련해졌길': 6891, '허전함에': 6892, '괴로웠을': 6893, '변덕스러운': 6894, '태연한': 6895, '끝내는건': 6896, '반복된다고': 6897, '성별에': 6898, '정해진': 6899, '거절하세요': 6900, '옛': 6901, '연인이': 6902, '궁금했을': 6903, '아무렇지': 6904, '무기력하게': 6905, '색을': 6906, '지속할': 6907, '아껴주셨나봐요': 6908, '축복': 6909, '받은거라': 6910, '있었을거라': 6911, '마음가짐과': 6912, '태도를': 6913, '빈자리인가봐요': 6914, '쓸쓸하겠네요': 6915, '경험해': 6916, '외로움이': 6917, '커지기': 6918, '괜찮아졌으면': 6919, '부담갖지': 6920, '지켜드릴게요': 6921, '혼자인게': 6922, '편할때가': 6923, '욕': 6924, '짓': 6925, '받아들였을': 6926, '정도를': 6927, '잊으려': 6928, '노력하는게': 6929, '저편에': 6930, '밀어두세요': 6931, '애써봐요': 6932, '이상했겠어요': 6933, '인사는': 6934, '않하는게': 6935, '비난과': 6936, '자책을': 6937, '만큼은': 6938, '떨칠': 6939, '투자만큼': 6940, '갑진': 6941, '힘내봐요': 6942, '쓰레기가': 6943, '웃어도': 6944, '냉정할': 6945, '정리는': 6946, '두분이': 6947, '원하다면': 6948, '치우면': 6949, '탓인지': 6950, '월요일은': 6951, '되었다니': 6952, '저한테도': 6953, '들어봐요': 6954, '말해주시니': 6955, '짜증날만': 6956, '들어가': 6957, '뜨거운': 6958, '물로': 6959, '샤워하고': 6960, '쌓였던': 6961, '생각들이': 6962, '사라질지도': 6963, '반복의': 6964, '연속이지요': 6965, '음악이': 6966, '들었던': 6967, '음악은': 6968, '유난히': 6969, '싫더라고요': 6970, '판단력은': 6971, '흐려지니까요': 6972, '속시원하게': 6973, '글이': 6974, '맘은': 6975, '신경써야할': 6976, '너무나': 6977, '이번': 6978, '떠나보는': 6979, '간사한': 6980, '여기서': 6981, '끝내기엔': 6982, '반지는': 6983, '없던가요': 6984, '행동인데요': 6985, '날도': 6986, '예상치': 6987, '받아들여야할': 6988, '부분도': 6989, '고민한다면': 6990, '미련일': 6991, '가늠할': 6992, '없었으니까요': 6993, '이기적이어도': 6994, '거기까지일': 6995, '아프면': 6996, '아파요': 6997, '지키기': 6998, '날씨로': 6999, '기억하면': 7000, '실수하는건': 7001, '이별이지': 7002, '후폭풍일': 7003, '흔하지': 7004, '기대하면서': 7005, '다쳐요': 7006, '직감하기도': 7007, '거기까지인': 7008, '이해하지': 7009, '힘들시기에요': 7010, '자신이랍니다': 7011, '끝났길': 7012, '허전할거라': 7013, '고통보다': 7014, '생각하다': 7015, '일에서': 7016, '느껴보는게': 7017, '당신이라면': 7018, '아물지': 7019, '태연히': 7020, '행동': 7021, '착잡한': 7022, '감출길이': 7023, '남아있을': 7024, '눈물이': 7025, '난다면': 7026, '이야기보다': 7027, '먹먹할': 7028, '지냈으면': 7029, '이별에도': 7030, '단어네요': 7031, '후련하지만은': 7032, '내리셔야죠': 7033, '마무리하길': 7034, '평상시처럼': 7035, '생활하고': 7036, '행동하세요': 7037, '날짜를': 7038, '이별하신게': 7039, '맞나요': 7040, '남나봅니다': 7041, '힘드실': 7042, '되셨나요': 7043, '나셨군요': 7044, '것들로': 7045, '다투시나요': 7046, '무뎌지셨나요': 7047, '같아서겠죠': 7048, '재회하면': 7049, '복잡해질': 7050, '전으로': 7051, '돌아가지는': 7052, '미련한': 7053, '떠나보내고': 7054, '빈자리의': 7055, '공허함이죠': 7056, '털털': 7057, '털어내세요': 7058, '힘드시겠군요': 7059, '뒤엔': 7060, '따를뿐이죠': 7061, '휴유증에서': 7062, '최근에': 7063, '성장에는': 7064, '고통이': 7065, '따르나봐요': 7066, '건강만큼': 7067, '중요한건': 7068, '업습니다': 7069, '갈수록': 7070, '무뎌져갈거예요': 7071, '버릇을': 7072, '계셨나요': 7073, '현명하시군요': 7074, '성장하게하죠': 7075, '시작해보시는건': 7076, '이별과': 7077, '어울리죠': 7078, '무언가를': 7079, '나가서': 7080, '걷고': 7081, '힘드시군요': 7082, '잊어야한다는건': 7083, '밝고': 7084, '누군가와': 7085, '추억과': 7086, '생긴다면': 7087, '지금보다는': 7088, '자유로워질': 7089, '자기몸을': 7090, '헤치는': 7091, '것만큼': 7092, '어리석은': 7093, '짓은': 7094, '없습니다': 7095, '힘드셨군요': 7096, '가슴을': 7097, '지녔군요': 7098, '싶으신가요': 7099, '순간에': 7100, '삶속에서': 7101, '내보내기는': 7102, '쉽지않을': 7103, '기류가': 7104, '부딪히면': 7105, '이별하는': 7106, '감정적일수록': 7107, '힘들어지기만': 7108, '무덤덤해지기도': 7109, '잠식시키니까요': 7110, '사랑했다는거겠죠': 7111, '똥차가': 7112, '지나갔다': 7113, '그러면서': 7114, '해나가는': 7115, '머뭇거리는': 7116, '무엇': 7117, '때문일까요': 7118, '않았다면': 7119, '무덤덤해졌다면': 7120, '말해본': 7121, '갑작스러웠을테니까요': 7122, '받아들이지': 7123, '성숙해지는': 7124, '나아졌긴': 7125, '순간에는': 7126, '많지요': 7127, '때문인': 7128, '안부': 7129, '인사일': 7130, '많아지죠': 7131, '가사를': 7132, '적어': 7133, '서러운': 7134, '이루': 7135, '아픔이기도': 7136, '두렵겠네요': 7137, '이별이네요': 7138, '있었지만': 7139, '길어서': 7140, '고요함이': 7141, '얼마남지': 7142, '않음이': 7143, '느껴지나요': 7144, '아쉽지요': 7145, '매순간을': 7146, '했었으니까요': 7147, '느끼나봅니다': 7148, '것이겠죠': 7149, '골이': 7150, '순간의': 7151, '분노로': 7152, '그랬을': 7153, '점차': 7154, '참아왔네요': 7155, '한달이': 7156, '차분해졌길': 7157, '시간이겠어요': 7158, '불가능한': 7159, '어찌보면': 7160, '심경': 7161, '남겨두세요': 7162, '느껴졌는데': 7163, '지나지': 7164, '잠수이별하지': 7165, '상처주지': 7166, '않으며': 7167, '아끼는게': 7168, '자들의': 7169, '변명이에요': 7170, '시간이었네요': 7171, '잇었겠죠': 7172, 'ㅊ자아올': 7173, '선명하죠': 7174, '빈자리가': 7175, '느껴지니까요': 7176, '흔적인가봐요': 7177, '이순간에도': 7178, '흐르네요': 7179, '냈네요': 7180, '삼가는': 7181, '많았겠네요': 7182, '축하해드릴게요': 7183, '헹리는': 7184, '문제이기도': 7185, '붙이고': 7186, '가라앉혀보세요': 7187, '들어줄게요': 7188, '불행하게': 7189, '열흘이란': 7190, '가을': 7191, '일주일이나': 7192, '후련해지길': 7193, '아니겠죠': 7194, '한차례': 7195, '성숙해진': 7196, '발견할': 7197, '말하면서': 7198, '익숙함이라는': 7199, '타성에': 7200, '익숙해져': 7201, '인연을': 7202, '곱씹어도': 7203, '기억인': 7204, '기대합니다': 7205, '버텼어요': 7206, '필요했을지도': 7207, '그대로를': 7208, '시작이에요': 7209, '다행으로': 7210, '거지같네요': 7211, '소식이라고': 7212, '인정부터': 7213, '극복해낼': 7214, '익숨함에': 7215, '젖어드나봐요': 7216, '점심시간에': 7217, '마음먹은대로': 7218, '슬퍼지네요': 7219, '내길': 7220, '마음이길': 7221, '기운내는': 7222, '예감이': 7223, '결정일': 7224, '놓지': 7225, '때에요': 7226, '곁은': 7227, '사랑에선': 7228, '신중할': 7229, '완전한': 7230, '치유는': 7231, '용기입니다': 7232, '크셨나요': 7233, '지낼거예요': 7234, '이별이기도': 7235, '그를': 7236, '일들을': 7237, '짐도': 7238, '절반을': 7239, '해낸': 7240, '이별할': 7241, '시작이기도': 7242, '못했으니': 7243, '당연하다고': 7244, '자리라': 7245, '거기까지였다고': 7246, '생각하기로': 7247, '익숨함이': 7248, '거짓된': 7249, '적응의': 7250, '동물이니까요': 7251, '고쳐쓰는게': 7252, '아니란': 7253, '쏜': 7254, '화살은': 7255, '돌아오기도': 7256, '끝에는': 7257, '편린이': 7258, '생각나기도': 7259, '너무했네요': 7260, '대다수의': 7261, '깨닫고는': 7262, '먹을대로': 7263, '잊게': 7264, '있었으니까요': 7265, '힘들만하다고': 7266, '안되겠지만': 7267, '반입니다': 7268, '잊어야하는': 7269, '그래야할': 7270, '아니지요': 7271, '힘들긴': 7272, '약이라는': 7273, '선연하더라고요': 7274, '순간들이었죠': 7275, '그보다': 7276, '사랑했던거지요': 7277, '놓아보세요': 7278, '미화되기도': 7279, '일이기도': 7280, '아프답니다': 7281, '상책이에요': 7282, '못해봤던': 7283, '멀리하세요': 7284, '행동반경이': 7285, '비슷한가봅니다': 7286, '덜하는게': 7287, '안난다면': 7288, '방법이겠네요': 7289, '말았으면': 7290, '그럴수록': 7291, '충격을': 7292, '받았나봅니다': 7293, '견뎌낼거라': 7294, '자세해요': 7295, '칭찬해줄게요': 7296, '많은가봅니다': 7297, '것에서부터': 7298, '성취감을': 7299, '힘들었는데': 7300, '행복해요': 7301, '잠겨': 7302, '착각하지': 7303, '됐든': 7304, '날보다': 7305, '흘러가니까요': 7306, '아파할수록': 7307, '적을': 7308, '잘못도': 7309, '인정할': 7310, '바뀌어도': 7311, '되진': 7312, '기울이세요': 7313, '우는': 7314, '시린': 7315, '자길': 7316, '쓸쓸한': 7317, '한마디네요': 7318, '가득한가봅니다': 7319, '심어진': 7320, '씨앗': 7321, '기분이란게': 7322, '챙겨먹길': 7323, '차분한': 7324, '선택이': 7325, '선택은': 7326, '하나봅니다': 7327, '잠수이별': 7328, '많았나봐요': 7329, '피곤할텐데': 7330, '떨치기': 7331, '못자면': 7332, '피곤할': 7333, '자장가를': 7334, '불러줄게요': 7335, '잡는': 7336, '흘러가진': 7337, '장거리가': 7338, '견뎌왔는데': 7339, '순간이었죠': 7340, '애틋했던': 7341, '결정이에요': 7342, '결정이겠네요': 7343, '반복될까봐': 7344, '두려웠던': 7345, '그리운': 7346, '있는다고': 7347, '전과': 7348, '선택이었을텐데': 7349, '추억할': 7350, '결심이': 7351, '있었겠어요': 7352, '부담스러운가봅니다': 7353, '아픔엔': 7354, '성별이': 7355, '용기랍니다': 7356, '여유롭게': 7357, '연애하고': 7358, '결혼생활': 7359, '불행한': 7360, '순수한': 7361, '인간적': 7362, '예를': 7363, '다하셨네요': 7364, '일년': 7365, '하루로': 7366, '밤새': 7367, '페북': 7368, '속이고': 7369, '것일지도': 7370, '찼는지는': 7371, '않을지도': 7372, '거둬보세요': 7373, '재결합이': 7374, '자연스레': 7375, '생각했을지도': 7376, '거둬': 7377, '곱씹지': 7378, '추스린': 7379, '마음인데': 7380, '그렇습니다': 7381, '묻어두는게': 7382, '태도는': 7383, '역할을': 7384, '탈출구가': 7385, '접어두는': 7386, '힘들기도': 7387, '많아지기': 7388, '찾아왔나': 7389, '잔인하죠': 7390, '간절함이': 7391, '낮추는': 7392, '상대는': 7393, '난처한': 7394, '그때의': 7395, '궁금한가요': 7396, '재회예요': 7397, '출발이에요': 7398, '좋겠지요': 7399, '한꺼번에': 7400, '예고없이': 7401, '찾아오나': 7402, '잡는다면': 7403, '지워지네요': 7404, '점인가요': 7405, '미련두지': 7406, '잔인해요': 7407, '그분에겐': 7408, '감당이': 7409, '안되었을': 7410, '아픈거라': 7411, '표출해보세요': 7412, '중요하니까': 7413, '후련하기도': 7414, '돌려보는': 7415, '후련하고': 7416, '정신과에서': 7417, '상담치료': 7418, '받는거': 7419, '꺼리지': 7420, '정신은': 7421, '강합니다': 7422, '헤어짐에는': 7423, '놀기도': 7424, '나나봐요': 7425, '반성하고': 7426, '친구보다': 7427, '귀기울이세요': 7428, '잘한': 7429, '원상복구는': 7430, '선택이라면': 7431, '다치는': 7432, '쪽으로': 7433, '그랬던': 7434, '강요하는': 7435, '태도에요': 7436, '똑똑해도': 7437, '못하겠네요': 7438, '그럴게요': 7439, '지키는게': 7440, '되겠어요': 7441, '제정신으로': 7442, '행복했잖아요': 7443, '무뎌진다니': 7444, '아물어간다니': 7445, '같아': 7446, '덜하네요': 7447, '되나봅니다': 7448, '변덕쟁이로': 7449, '만들기도': 7450, '롤러코스터를': 7451, '타나봐요': 7452, '고백이었겠네요': 7453, '잃지는': 7454, '죄송해하지': 7455, '근교로': 7456, '여행가는': 7457, '있는거라': 7458, '위로받을': 7459, '덜어봐요': 7460, '슬퍼요': 7461, '예측하기': 7462, '향하지': 7463, '자신일': 7464, '구해야': 7465, '생각나기': 7466, '되었든': 7467, '상상할': 7468, '긴장이': 7469, '묻어두세요': 7470, '편': 7471, '지나가요': 7472, '갑작스럽기도': 7473, '생활을': 7474, '고민했을거라': 7475, '흥미로운': 7476, '많은걸요': 7477, '천국과': 7478, '지옥이네요': 7479, '마련이니까요': 7480, '직장에서': 7481, '일할': 7482, '진실은': 7483, '역할은': 7484, '한거예요': 7485, '가늠도': 7486, '안될': 7487, '흘러가는': 7488, '속에': 7489, '덤덤해질': 7490, '어이': 7491, '일어나요': 7492, '얼굴보고': 7493, '힘들었거나': 7494, '생각과': 7495, '강해지세요': 7496, '깊이만큼': 7497, '정도도': 7498, '크겠지요': 7499, '지친걸까요': 7500, '혼자인': 7501, '사랑이니까요': 7502, '길진': 7503, '짧아서': 7504, '깨달았다는게': 7505, '미련이라면': 7506, '편하길': 7507, '심한': 7508, '덜어': 7509, '사랑했으니': 7510, '솔직했으면': 7511, '고통도': 7512, '연기처럼': 7513, '착각할': 7514, '취향도': 7515, '차든': 7516, '차이든': 7517, '둘다': 7518, '마찬가지겠지요': 7519, '세월이': 7520, '무색해요': 7521, '행복이었는데': 7522, '힘들군요': 7523, '부질없는': 7524, '함부로': 7525, '진정하셔요': 7526, '힘들만해요': 7527, '말해줘서': 7528, '덜하려고': 7529, '노력해요': 7530, '집중하거나요': 7531, '터지면': 7532, '비우세요': 7533, '내키는': 7534, '많았겠죠': 7535, '어서오세요': 7536, '정리했길': 7537, '기간': 7538, '길': 7539, '아니었나봐요': 7540, '처음이라': 7541, '겪었네요': 7542, '영화도': 7543, '후련해질': 7544, '추운': 7545, '갑작스러워서': 7546, '힘들다고': 7547, '느꼈나봅니다': 7548, '침묵이': 7549, '그분은': 7550, '남는': 7551, '사진이': 7552, '지웁시다': 7553, '이별하면': 7554, '보지도': 7555, '신경쓰지도': 7556, '예요': 7557, '연락하면서': 7558, '감정들이': 7559, '생각나니까요': 7560, '마주쳤군요': 7561, '남아있나': 7562, '마주쳤나봅니다': 7563, '생각나나봅니다': 7564, '서운한': 7565, '결정이었겠지만': 7566, '평온이랑': 7567, '포기하지는': 7568, '나누고': 7569, '얻은': 7570, '결론이라면요': 7571, '핑계겠죠': 7572, '끝인': 7573, '아파할': 7574, '반복될': 7575, '운명같네요': 7576, '흐르죠': 7577, '나나요': 7578, '수십번': 7579, '만들었나요': 7580, '다른사람에게': 7581, '기대보는': 7582, '기분을': 7583, '마음놓고': 7584, '수십': 7585, '잊어야해요': 7586, '잘해왔어요': 7587, '진정': 7588, '잊었길': 7589, '지나갈지도': 7590, '정도와': 7591, '비례할': 7592, '후회되겠지만': 7593, '남아있나봐요': 7594, '그녀에게도': 7595, '전부였을': 7596, '정리되었길바랍니다': 7597, '만나봐요': 7598, '긍정적이네요': 7599, '되곤': 7600, '실망이': 7601, '힘들텐데': 7602, '그리움의': 7603, '크기도': 7604, '커졌을': 7605, '뜰': 7606, '매몰차게': 7607, '생활하다': 7608, '불행도': 7609, '불행이': 7610, '행복도': 7611, '빛나지요': 7612, '맴찢': 7613, '주진': 7614, '이불킥하게': 7615, '당분간': 7616, '법이죠': 7617, '괜찮아지는데는': 7618, '이별이란': 7619, '전환을': 7620, '시기라고': 7621, '달리': 7622, '할말이': 7623, '이번엔': 7624, '헤어짐에': 7625, '무뎌지지': 7626, '남았나봅니다': 7627, '없나봅니다': 7628, '그리웠나': 7629, '미련이에요': 7630, '좋으니가요': 7631, '헤어졌으니까요': 7632, '그런데': 7633, '실망하게': 7634, '되었봅니다': 7635, '헤어졌으니까': 7636, '봤네요': 7637, '주워': 7638, '담을': 7639, '울지말고': 7640, '사람만': 7641, '말한': 7642, '무': 7643, '자르듯': 7644, '자르는': 7645, '남았을지도': 7646, '남는다면': 7647, '통보는': 7648, '개선을': 7649, '노력을': 7650, '나쁜놈이네요': 7651, '중이시군요': 7652, '빠짐없이': 7653, '힘들었나요': 7654, '들겠네요': 7655, '생활도': 7656, '다짐하세요': 7657, '그리워하지마세요': 7658, '전하고': 7659, '절': 7660, '보냈군요': 7661, '미련없게': 7662, '후회없게': 7663, '붙잡아보세요': 7664, '돌아보세요': 7665, '같나요': 7666, '아마도': 7667, '기다리지마세요': 7668, '머리에서': 7669, '지우세요': 7670, '처방약이': 7671, '찾아왔군요': 7672, '3주가': 7673, '지났군요': 7674, '생일을': 7675, '축하해줘요': 7676, '견뎌내길': 7677, '세는': 7678, '가득할': 7679, '6일이': 7680, '나아졌다니': 7681, '힘들었지만': 7682, '무덤덤해지길': 7683, '무덤덤한데도': 7684, '허한가봅니다': 7685, '그립겠지만': 7686, '힘드신가봅니다': 7687, '괜찮아졌긴': 7688, '거처럼': 7689, '동호회에': 7690, '가입해': 7691, '나날을': 7692, '5개월이': 7693, '가라앉았길': 7694, '매정하게': 7695, '돌아서는': 7696, '직시할': 7697, '말처럼': 7698, '다니자고': 7699, '가족과': 7700, '어디서든': 7701, '마실': 7702, '지나봐요': 7703, '낫지': 7704, '먹지': 7705, '회복력이': 7706, '좋으시군요': 7707, '불안한가봅니다': 7708, '들겠죠': 7709, '진부한': 7710, '건네봅니다': 7711, '하아': 7712, '다음엔': 7713, '조심하면': 7714, '깊이': 7715, '없다니': 7716, '찾으려고': 7717, '생일': 7718, '꺼두는': 7719, '시작하셨군요': 7720, '휴우ㅠㅠ': 7721, '집중': 7722, '고민이지': 7723, '퐈이야': 7724, '흑역사도': 7725, '나중에는': 7726, '지워': 7727, '남죠': 7728, '흔해요': 7729, '부여': 7730, '무관심해봐요': 7731, '방식을': 7732, '아파하는': 7733, '못하니까요': 7734, '알았으면': 7735, '못했겠죠': 7736, '조그만': 7737, '몰랐지요': 7738, '힘인가봐요': 7739, '몰랐겠죠': 7740, '힘내보세요': 7741, '일어서세요': 7742, '정열적인': 7743, '시간이었겠어요': 7744, '만났네요': 7745, '양파같은': 7746, '깊네요': 7747, '사귄': 7748, '길다고': 7749, '결혼해야하는': 7750, '시간이었길': 7751, '비정상이라': 7752, '규정지을': 7753, '길었던': 7754, '시간만큼': 7755, '기억해보세요': 7756, '세심하게': 7757, '자신다울': 7758, '도와주세요': 7759, '경우': 7760, '엮여': 7761, '많으니까요': 7762, '애교': 7763, '상상이겠네요': 7764, '알기가': 7765, '힘든걸요': 7766, '증상이예요': 7767, '옆구리를': 7768, '채워보아요': 7769, '혼자는': 7770, '감당할': 7771, '만큼만': 7772, '베푸세요': 7773, '말하면': 7774, '당황하지': 7775, '영역으로': 7776, '들어왔나봅니다': 7777, 'cc는': 7778, '제약이': 7779, '이야기로': 7780, '보여서': 7781, '두려워말고': 7782, '판단력을': 7783, '흐리게': 7784, '할지': 7785, '잘해주는지': 7786, '살펴봐요': 7787, '깔끔한': 7788, '스타일이': 7789, '뛰어넘는': 7790, '가능하겟죠': 7791, '살랑대는': 7792, '바람에': 7793, '움직일': 7794, '마주치면서': 7795, '일정': 7796, '짰다고': 7797, '일정을': 7798, '적정선을': 7799, '그걸로': 7800, '있음': 7801, '헤어지기': 7802, '싫었나봅니다': 7803, '싫어하는': 7804, '안해서요': 7805, '사랑해서요': 7806, '편하고요': 7807, '기준을': 7808, '면밀히': 7809, '같았나봅니다': 7810, '하려는': 7811, '정신적으로': 7812, '육체적으로': 7813, '힘들고': 7814, '변화니까요': 7815, '예비신부네요': 7816, '싸움이라고': 7817, '중요해서': 7818, '드디어': 7819, '결혼하는': 7820, '군요': 7821, '혼란스럽죠': 7822, '발품을': 7823, '결혼뿐만': 7824, '타이밍의': 7825, '연속이예요': 7826, '어머니가': 7827, '100퍼센트': 7828, '현실입니다': 7829, '좋으면서': 7830, '싸우셨나봐요': 7831, '스몰웨딩으로': 7832, '준비하느냐에': 7833, '행사니까요': 7834, '경제력도': 7835, '부분이니': 7836, '그리워만': 7837, '주인공이에요': 7838, '한이라고': 7839, '고백도': 7840, '지금이에요': 7841, '걱정해도': 7842, '정리되었다면': 7843, '의미일': 7844, '사람들을': 7845, '외부': 7846, '상황도': 7847, '중요하겠지만': 7848, '중요한지': 7849, '공부랑': 7850, '연애랑': 7851, '욕심쟁이네요': 7852, '매력포인트가': 7853, '몰아서': 7854, '초반에': 7855, '될수는': 7856, '성경': 7857, '공부하나봅니다': 7858, '관심있고': 7859, '열정적으로': 7860, '느낄지': 7861, '인내심이': 7862, '해보면서': 7863, '편안하고': 7864, '식었을': 7865, '증거가': 7866, '가득한가봐요': 7867, '같길': 7868, '바라야죠': 7869, '당사자만이': 7870, '아니어서': 7871, '힘드나봐요': 7872, '자체죠': 7873, '물어봐봐요': 7874, '대해도': 7875, '좋아해선': 7876, '더할': 7877, '나위': 7878, '좋아하는게': 7879, '맞았으면': 7880, '방향으로': 7881, '지갑이': 7882, '열릴': 7883, '만큼요': 7884, '내키는대로요': 7885, '네가': 7886, '오후': 7887, '네시에': 7888, '온다면': 7889, '세시부터': 7890, '거야': 7891, '어린왕자': 7892, '좁네요': 7893, '서울에서': 7894, '왕서방': 7895, '찾기네요': 7896, '건가봅니다': 7897, '후각이': 7898, '예민한': 7899, '방이': 7900, '타입인가봐요': 7901, '편안하게': 7902, '사랑하길': 7903, '조건이': 7904, '필요없어요': 7905, '썸입니다': 7906, '존중하는': 7907, '쉽고': 7908, '존중하는지': 7909, '이루겠네요': 7910, '구구절절한': 7911, '당신이란': 7912, '이유로': 7913, '가깝게': 7914, '당신에게만': 7915, '그런다면': 7916, '구걸하지': 7917, '미안하지만': 7918, '친해져보세요': 7919, '꼼꼼함을': 7920, '강요하지': 7921, '표시하고': 7922, '표현해주는': 7923, '어색하지만': 7924, '사과하고': 7925, '무의식이': 7926, '말하죠': 7927, '사람만이': 7928, '부딛히는': 7929, '생겼나봐요': 7930, '찔러본': 7931, '뒷통수': 7932, '맞았네요': 7933, '직구': 7934, '날려보세요': 7935, '넘쳐날': 7936, '알겠죠': 7937, '미워하고': 7938, '만나다보면': 7939, '닿을': 7940, '확신하긴': 7941, '일러요': 7942, '상대방': 7943, '떠봐서': 7944, '동갑': 7945, '수준이에요': 7946, '신겨': 7947, '사람일수록': 7948, '끌리기도': 7949, '발전할': 7950, '살펴보면': 7951, '서로에': 7952, '있었기': 7953, '때문이라는': 7954, '강요하는게': 7955, '겁이': 7956, '많아지니까요': 7957, '두려워도': 7958, '도전한': 7959, '되어주고': 7960, '차례네요': 7961, '받으면서': 7962, '겉모습이': 7963, '내면의': 7964, '동성애를': 7965, '접은': 7966, '걸까봐': 7967, '두려운가요': 7968, '애매하게': 7969, '행동하나봐요': 7970, '학벌': 7971, '별로요': 7972, '사람들이면': 7973, '고백에': 7974, '없어죠': 7975, '바빴던게': 7976, '까먹지는': 7977, '웃거나': 7978, '행동에서': 7979, '나타납니다': 7980, '소리죠': 7981, '남자든': 7982, '여자든': 7983, '여자도': 7984, '첫사랑': 7985, '귀찮으면': 7986, '안하죠': 7987, '좋아한다면': 7988, '받아줄': 7989, '취향': 7990, '차이입니다': 7991, '답할': 7992, '상황이면': 7993, '빠르죠': 7994, '고를': 7995, '처음한': 7996, '데이트였길': 7997, '분끼리': 7998, '만났나봐요': 7999, '남자친구는': 8000, '떨고': 8001, '선물해주면서': 8002, '만나라고': 8003, '만나겠죠': 8004, '귀여운가봐요': 8005, '표현들로': 8006, '고쳐나가봐요': 8007, '달달함이': 8008, '느껴져요': 8009, '되어달라고': 8010, '식은': 8011, '똑똑한': 8012, '둬서': 8013, '상태인가봐요': 8014, '가질': 8015, '떨어지는': 8016, '들리내요': 8017, '클리닉에': 8018, '소비가': 8019, '포인트가': 8020, '눈빛은': 8021, '말들을': 8022, '담고': 8023, '식단조절을': 8024, '중간중간': 8025, '주사는': 8026, '즐겨보세요': 8027, '포기하거나': 8028, '이해하거나': 8029, '하나예요': 8030, '그런일은': 8031, '막말은': 8032, '굽힐': 8033, '생각해버려서': 8034, '잊어버리나': 8035, '일이라는': 8036, '인지시켜주세요': 8037, '고치도록': 8038, '유도해보세요': 8039, '눈치는': 8040, '선천적인': 8041, '보살인가봅니다': 8042, '안해보세요': 8043, '다른가봅니다': 8044, '마지막': 8045, '보라고': 8046, '키가': 8047, '아니잖아요': 8048, '표현에': 8049, '감동받았다고': 8050, '표현': 8051, '하나도': 8052, '모르겠다고': 8053, '점보다': 8054, '답답하겠네요': 8055, '떨어진다고': 8056, '큰일': 8057, '같기도': 8058, '삶과': 8059, '다르기': 8060, '구속과': 8061, '집착이겠죠': 8062, '까먹고': 8063, '지웠을': 8064, '믿음의': 8065, '나이대에': 8066, '추천': 8067, '왔다갔다': 8068, '밀당해보세요': 8069, '의지하는': 8070, '생리현상은': 8071, '트는': 8072, '텐데요': 8073, '수다떨고': 8074, '영화보고': 8075, '책보기': 8076, '등등': 8077, '알려고': 8078, '가글': 8079, '사줘요': 8080, '전여자친구': 8081, '지적하지': 8082, '주눅들지': 8083, '결혼합시다': 8084, '요구해보세요': 8085, '공개해요': 8086, '많겠지만': 8087, '흘리는': 8088, '기억해줄': 8089, '성적자기결정권이있죠': 8090, '방법은': 8091, '다양하다고': 8092, '호칭은': 8093, '적절한': 8094, '합의점을': 8095, '배려해주세요': 8096, '행동을': 8097, '생각하는게': 8098, '감수성이': 8099, '풍부한': 8100, '통하는': 8101, '남편': 8102, '행복하다는': 8103, '편으로': 8104, '칭찬해주세요': 8105, '놀랐겠네요': 8106, '연애하는': 8107, '현실적으로': 8108, '남편을': 8109, '만져요': 8110, '평행선을': 8111, '이루지만': 8112, '어필해야죠': 8113, '아닌가보다': 8114, '올인은': 8115, '좋은게': 8116, '바랄': 8117, '장난같네요': 8118, '뜨고': 8119, '환상이': 8120, '깨지면': 8121, '괜찮나요': 8122, '있어야할': 8123, '않으니': 8124, '느껴진다면': 8125, '사실일지도': 8126, '안타까운': 8127, '편합니다': 8128, '생각하는지가': 8129, '영역에': 8130, '깊숙이': 8131, '들어가보세요': 8132, '진중한': 8133, '태도도': 8134, '보인거예요': 8135, '없나보네요': 8136, '통해야': 8137, '걸테니': 8138, '수월해요': 8139, '알리는': 8140, '우선이겠네요': 8141, '생각난다면': 8142, '좋아합니다': 8143, '같았으면': 8144, '알아차렸을': 8145, '방식에': 8146, '질투를': 8147, '유발해': 8148, '물어보면': 8149, '결정적인': 8150, '없었나봐요': 8151, '자괴감이': 8152, '도와주다가': 8153, '좋으면서도': 8154, '서운하지': 8155, '섭섭한': 8156, '기분이겠네요': 8157, '질투네요': 8158, '내봐야죠': 8159, '권리가': 8160, '집착일': 8161, '경우를': 8162, '해줘서': 8163, '존재해주었다는': 8164, '이유만으로': 8165, '풍부해진': 8166, '입는': 8167, '잘할거라': 8168, '어머나': 8169, '탑니다': 8170, '너그럽게': 8171, '봐달라고': 8172, '좋아해주면': 8173, '사랑스러워': 8174, '쿨방망이로': 8175, '때려주세요': 8176, '오래갈': 8177, '가는거예요': 8178, '괜찮더라도': 8179, '속박하지': 8180, '안맞는다면': 8181, '운명인가봐요': 8182, '당황스러울': 8183, '행복하지만은': 8184, '않겠지요': 8185, '느낀다는': 8186, '번복하게': 8187, '이상하죠': 8188, '복잡하고': 8189, '문제되지': 8190, '빠지셨군요': 8191, '생각에서': 8192, '멀어지지': 8193, '상사병': 8194, '걸리기전에': 8195, '혼란스럽겠어요': 8196, '쌍이에요': 8197, '연애에요': 8198, '홈닥터군요': 8199, '말로만': 8200, '봄': 8201, '구경': 8202, '가는걸': 8203, '솔직해질': 8204, '학번이': 8205, '관찰해보세요': 8206, '상처겠지요': 8207, '짜오라고': 8208, '공원': 8209, '놀이동산': 8210, '산': 8211, '축제': 8212, '맛집': 8213, '투어도': 8214, '정적이': 8215, '편안해진': 8216, '막차': 8217, '코스도': 8218, '난처하시겠네요': 8219, '오해를': 8220, '이어가세요': 8221, '단점들을': 8222, '보이던': 8223, '장점과': 8224, '단점이': 8225, '보이게': 8226, '동물': 8227, '사람치고': 8228, '존중해요': 8229, '필요하니까요': 8230, '동아리에': 8231, '즐거워지겠네요': 8232, '뛰는': 8233, '이어가길': 8234, '꺼려질': 8235, '드라마는': 8236, '여러벌': 8237, '입어보고': 8238, '선택하세요': 8239, '시선말고': 8240, '경우는': 8241, '흔치': 8242, '시작하게': 8243, '엄청난': 8244, '얼굴을': 8245, '부딪히지도': 8246, '가능하지': 8247, '랜선연애': 8248, '떨어져': 8249, '롱디는': 8250, '되어야': 8251, '하는데요': 8252, '맞춰갈': 8253, '표현도': 8254, '연습해야': 8255, '자신감': 8256, '여겨주세요': 8257, '고민하지': 8258, '옮기세요': 8259, '만나봤으면': 8260, '알만큼': 8261, '알았잖아요': 8262, '알아봐도': 8263, '싶었나봐요': 8264, '이른': 8265, '고백이지만': 8266, '갖춰서': 8267, '사겨야죠': 8268, '매력남일': 8269, '하트': 8270, '뿅뿅이네요': 8271, '배려하면': 8272, '나와': 8273, '모습마저': 8274, '행복하겠네요': 8275, '일주일이': 8276, '즐겁겠어요': 8277, '이날만': 8278, '기다리겠어요': 8279, '거에': 8280, '예민하면': 8281, '애정': 8282, '결핍이': 8283, '많대요': 8284, '떨렸겠어요': 8285, '좋았겠네요': 8286, '명품': 8287, '마음이어도': 8288, '안부인사나': 8289, '관심사로': 8290, '않은게': 8291, '확실하지': 8292, '잘해준': 8293, '외모나': 8294, '이상형이었나봐요': 8295, '기억해서': 8296, '생각했나봅니다': 8297, '모쏠': 8298, '여부가': 8299, '걸림돌이': 8300, '모쏠도': 8301, '모임이라면': 8302, '부딪혀봅시다': 8303, '걱정하니': 8304, '연락해달라고': 8305, '부탁하거나': 8306, '기다려줄': 8307, '허락을': 8308, '맡고': 8309, '외모가': 8310, '끝났어요': 8311, '외모만': 8312, '끝났습니다': 8313, '정확할': 8314, '매력적인': 8315, '사람이지요': 8316, '잘해줘서요': 8317, '궁금하니까': 8318, '들때까지': 8319, '구분': 8320, '짓기': 8321, '들어갔는지': 8322, '밀당이': 8323, '번이': 8324, '번은': 8325, '쉽습니다': 8326, '공간이': 8327, '필요하다고': 8328, '군대가': 8329, '체질에': 8330, '맞는거': 8331, '익숙해져야죠': 8332, '사람이라서': 8333, '드물지만': 8334, '대부분은': 8335, '연락하곤': 8336, '운명적이네요': 8337, '두근두근하죠': 8338, '싶어졌나봐요': 8339, '자식': 8340, '이기는': 8341, '부모': 8342, '부모님도': 8343, '당사자도': 8344, '상처받겠네요': 8345, '노후': 8346, '자금도': 8347, '생각해야겠죠': 8348, '화합했나봐요': 8349, '마주하면': 8350, '반갑고': 8351, '애틋하게': 8352, '불타오를': 8353, '불타오르지는': 8354, '결혼하지': 8355, '타이밍이에요': 8356, '것이니': 8357, '격식': 8358, '자리에': 8359, '선물해보세요': 8360, '강요할': 8361, '환장을': 8362, '바라보세요': 8363, '존댓말': 8364, '싸운대요': 8365, '조금더': 8366, '끝내보세요': 8367, '속도에': 8368, '상황마다': 8369, '직장과': 8370, '비밀연애가': 8371, '스릴있죠': 8372, '두분이서': 8373, '글로라도': 8374, '잡는다고': 8375, '잡을': 8376, '죽고': 8377, '마주보는': 8378, '방향을': 8379, '바라보는': 8380, '것이다': 8381, '생텍쥐베리': 8382, '그는': 8383, '반하지': 8384, '없다가도': 8385, '전부가': 8386, '삶': 8387, '곳곳에': 8388, '달려': 8389, '한끗차이': 8390, '다정다감한가봐요': 8391, '느낄거예요': 8392, '질문해보세요': 8393, '신뢰와': 8394, '믿음': 8395, '정도가': 8396, '받는다는': 8397, '받았겠네요': 8398, '생기는': 8399, '정으로': 8400, '이것저것': 8401, '생각하지말고': 8402, '마음가는': 8403, '보입니다': 8404, '서툴어요': 8405, '함께하는': 8406, '어제': 8407, '각': 8408, '유효기간이': 8409, '느껴지지': 8410, '갱신해가는': 8411, '연애죠': 8412, '나이보다': 8413, '약인': 8414, '순간이면서': 8415, '영원한거': 8416, '작아질': 8417, '아깝지': 8418, '않은거라고': 8419, '능동적으로': 8420, '인연이었네요': 8421, '사랑이었길': 8422, '아끼는': 8423, '중요하지요': 8424, '그런거': 8425, '우선순위에': 8426, '두넌': 8427, '것이에요': 8428, '울라프': 8429, '변화시키죠': 8430, '힘은': 8431, '헐크보다': 8432, '쎌거예요': 8433, '종족번식을': 8434, '호르몬': 8435, '작용일': 8436, '버리고': 8437, '살아가면서': 8438, '감정이예요': 8439, '단어예요': 8440, '정의내릴': 8441, '노밸상을': 8442, '받을거예요': 8443, '행복하고': 8444, '마음인': 8445, '신뢰이자': 8446, '믿음이라고': 8447, '아프게도': 8448, '행복하게도': 8449, '힘들게도': 8450, '기운내게도': 8451, '하는것': 8452, '상당히': 8453, '신뢰입니다': 8454, '먹여주지': 8455, '줘요': 8456, '밥을': 8457, '먹어주죠': 8458, '변화하는': 8459, '자체도': 8460, '사랑스럽네요': 8461, '사랑만큼': 8462, '변덕스러운것도': 8463, '믿으면': 8464, '이루어져요': 8465, '교란일': 8466, '너에게': 8467, '묻노라': 8468, '정의는': 8469, '사랑하는데': 8470, '맞출': 8471, '독차지하려': 8472, '내려놓으면서': 8473, '핑계예요': 8474, '확인': 8475, '끈인': 8476, '이어줄': 8477, '기쁨과': 8478, '기적도': 8479, '감출수': 8480, '신호를': 8481, '찾은게': 8482, '기한을': 8483, '알아보지': 8484, '붙잡아': 8485, '한눈': 8486, '팔다가': 8487, '후회합니다': 8488, '고백해봐요': 8489, '같을': 8490, '자격지심이예요': 8491, '반영된다고': 8492, '듣기만해도': 8493, '모자라다고': 8494, '그리우면': 8495, '그립다고': 8496, '동일시하지': 8497, '따지기': 8498, '시작하면': 8499, '경제': 8500, '불타오르는': 8501, '사랑인건': 8502, '사랑인지': 8503, '휴식기를': 8504, '가져보는것도': 8505, '닮아가죠': 8506, '원하는걸': 8507, '막을': 8508, '예뻐지는': 8509, '사랑보다': 8510, '솔직해': 8511, '지세요': 8512, '깨달았나봐요': 8513, '것이였는지': 8514, '솔직함으로': 8515, '표현해달라고': 8516, '머릿속에': 8517, '맴도는': 8518, '입으로': 8519, '내뱉는': 8520, '거보다': 8521, '해주고싶을': 8522, '표현한다는게': 8523, '사랑한다는': 8524, '아끼지': 8525, '언제든지': 8526, '사랑이예요': 8527, '싫어할수도': 8528, '땅': 8529, '만나러가세요': 8530, '말해야': 8531, '사랑하는건': 8532, '부모님이': 8533, '서운하겠네요': 8534, '나빠질거': 8535, '배려하지': 8536, '않은거예요': 8537, '어쩐지': 8538, '보이더라구요': 8539, '위하는': 8540, '생가해요': 8541, '있을거': 8542, '만날수도': 8543, '선에': 8544, '사진뿐이': 8545, '가랑비에': 8546, '옷': 8547, '젖는': 8548, '듯한': 8549, '소개시켜': 8550, '않으셨으면': 8551, '긴장하면': 8552, '한정식집에서': 8553, '찔러보는': 8554, '없었다면': 8555, '상메에도': 8556, '없었을': 8557, '해결해': 8558, '치유할': 8559, '이끌리는대로': 8560, '필요해': 8561, '살아가는데': 8562, '되지만': 8563, '기적같은': 8564, '운명이자': 8565, '착각이': 8566, '자존심은': 8567, '소용이': 8568, '환경에서': 8569, '살아왔기': 8570, '깨달을': 8571, '먼저든': 8572, '찾아나서는': 8573, '노력이': 8574, '심하긴': 8575, '지치게': 8576, '들어와서': 8577, '해보시는': 8578, '알아가보는': 8579, '만나보고': 8580, '수수한데': 8581, '여자라고': 8582, '말해야죠': 8583, '순수하고': 8584, '불순한': 8585, '나눠있지': 8586, '오라고': 8587, '취하지': 8588, '좋긴': 8589, '전화하는건': 8590, '실례일': 8591, '확실하진': 8592, '친근하게': 8593, '친절한': 8594, '거랑': 8595, '구별해볼': 8596, '술보다': 8597, '먼저니까요': 8598, '결혼준비': 8599, '디뎠네요': 8600, '언제라는': 8601, '정해져있지': 8602, '준비는': 8603, '연속이에요': 8604, '찍고': 8605, '매력적이지요': 8606, '부담스럽겠어요': 8607, '남편이랑': 8608, '마인드': 8609, '컨트롤을': 8610, '중요하겠어요': 8611, '생겼다니': 8612, '식상하지': 8613, '깨가': 8614, '쏟아지고': 8615, '볶는': 8616, '들리네요': 8617, '살다가': 8618, '살게': 8619, '맞추는': 8620, '좋지도': 8621, '물어보기': 8622, '전까지는': 8623, '상하면': 8624, '발전되지': 8625, '관계죠': 8626, '당황': 8627, '했겠어요': 8628, '단계입니다': 8629, '지내세요': 8630, '고백이': 8631, '답이죠': 8632, '섣부르게': 8633, '판단하지': 8634, '끝이죠': 8635, '표시해보세요': 8636, '컸나봐요': 8637, '의사는': 8638, '표현하되': 8639, '않나요': 8640, '썸인': 8641, '피우는': 8642, '이미지가': 8643, '별로겠죠': 8644, '기간이랑': 8645, '기간은': 8646, '케이스': 8647, '바이': 8648, '케이스입니다': 8649, '진전이': 8650, '밀당인듯합니다': 8651, '줄이고': 8652, '사귀기도': 8653, '남으면': 8654, '강제': 8655, '당한': 8656, '알바를': 8657, '커피숍': 8658, '그런거지': 8659, '친해지면': 8660, '자연스러워질거예요': 8661, '고백해야죠': 8662, '타요': 8663, '누구에게요': 8664, '발전된': 8665, '안쪽': 8666, '향': 8667, \"'설레'라고\": 8668, '저장할래요': 8669, '망설여지는지': 8670, '불안해요': 8671, '어머': 8672, '칭찬은': 8673, '봐달라는': 8674, '영통': 8675, '걸어도': 8676, '간섭': 8677, '싶으시군요': 8678, \"잘자요'\": 8679, \"'내일도\": 8680, \"보고싶어요'\": 8681, '각자': 8682, '깔끔하죠': 8683, '극복하세요': 8684, '잘되고싶다면': 8685, '자제하는': 8686, '방법이겠죠': 8687, '마음이라면': 8688, '감정에는': 8689, '기본적인': 8690, '우습게': 8691, '쓰이겠어요': 8692, '좋아함을': 8693, '점프했네요': 8694, '썸만': 8695, '타는데': 8696, '현타가': 8697, '썸은': 8698, '타': 8699, '죽기': 8700, '지친': 8701, '티내보세요': 8702, '흐지부지': 8703, '애매함이': 8704, '중인데': 8705, '매너가': 8706, '부담되면': 8707, '정리도': 8708, '끝났거나겠죠': 8709, '꽃을': 8710, '장답이나': 8711, '설명이': 8712, '긴장감이': 8713, '줄어서': 8714, '상영하는': 8715, '영화나': 8716, '맛집부터': 8717, '시작해보는': 8718, '속상한': 8719, '순간을': 8720, '단계니': 8721, '디테일한': 8722, '썸에': 8723, '익숙해졌나봐요': 8724, '확인하며': 8725, '잘해주면': 8726, '나누세요': 8727, '전의': 8728, '과정만': 8729, '즐기나봐요': 8730, '조건': 8731, '내든': 8732, '길었나봐요': 8733, '지쳤나요': 8734, '소극적으로': 8735, '표현했다면': 8736, '친구해도': 8737, '봐야': 8738, '진심어린': 8739, '손편지는': 8740, '좋아하죠': 8741, '녹아내리겠네요': 8742, '괘씸하니': 8743, '약속잡고': 8744, '취소': 8745, '부담된다면': 8746, '데리러': 8747, '와주면': 8748, '반응해봐요': 8749, '기억하냐고': 8750, '상황인지': 8751, '시기인데요': 8752, '연애하면': 8753, '여자에게나': 8754, '하트를': 8755, '붙여서': 8756, '끄내보세요': 8757, '촉이네요': 8758, '추천해드립니다': 8759, '유지하세요': 8760, '데이트의': 8761, '데이트나': 8762, '서점': 8763, '줄여줄': 8764, '얼굴이면': 8765, '쓰이겠네요': 8766, '약속이': 8767, '생명인데요': 8768, '짓는게': 8769, '공통점': 8770, '찾기가': 8771, '잊든': 8772, '용기내든': 8773, '옮겨': 8774, '썸도': 8775, '표현해도': 8776, '안좋지': 8777, '잘해줘봐요': 8778, '들도록': 8779, '일반적이죠': 8780, '그렇진': 8781, '확인하는게': 8782, '필요하지': 8783, '단계라서': 8784, '봤으면': 8785, '사귀게': 8786, '썸이죠': 8787, '타서': 8788, '맞는지': 8789, '단계지요': 8790, '사귈락말락': 8791, '친구의': 8792, '우정입니다': 8793, '다이렉트로': 8794, '짝사랑인지': 8795, '단계라면': 8796, '한방향인지': 8797, '양방향인지': 8798, '전이면': 8799, '솔로죠': 8800, '돌직구를': 8801, '날릴': 8802, '고백할': 8803, '않았는지': 8804, '카페를': 8805, '공포영화나': 8806, '액션은': 8807, '스킨십으로': 8808, '사귀자는': 8809, '돌려': 8810, '빈도랑': 8811, '연락오는지': 8812, '이어가면서': 8813, '알아보셔요': 8814, '패턴으로': 8815, '가늠해보세요': 8816, '저녁에': 8817, '것아요': 8818, '썸이나': 8819, '말투': 8820, '질투에는': 8821, '나가도': 8822, '어장은': 8823, '깔끔합니다': 8824, '가치관은': 8825, '존중되어야': 8826, '듀엣곡': 8827, '개인톡으로': 8828, '답변을': 8829, '높습니다': 8830, '관계는': 8831, '피하는': 8832, '서로한테': 8833, '여자': 8834, '어딨나요': 8835, '많이하면': 8836, '의견도': 8837, '섬유유연제': 8838, '솔직한거죠': 8839, '구하는게': 8840, '든든하겠어요': 8841, '섣부르다고': 8842, '타일러보세요': 8843, '간혹': 8844, '용기있는': 8845, '자만이': 8846, '미녀를': 8847, '얻습니다': 8848, '도와주면': 8849, '정이': 8850, '듭니다': 8851, '잡긴': 8852, '상황에서': 8853, '취향일': 8854, '정도인가': 8855, '바람피는': 8856, '거네요': 8857, '좋은말': 8858, '나와야': 8859, '본전': 8860, '나쁜말': 8861, '나오면': 8862, '안좋아요': 8863, '오해해도': 8864, '매너라고': 8865, '소홀히': 8866, '믿음직스럽지': 8867, '장소네요': 8868, '너랑': 8869, '약속잡으려고': 8870, '한다고': 8871, '심심하다고': 8872, '나답게': 8873, '해줄': 8874, '사람인': 8875, '느끼게': 8876, '고백해': 8877, '행복해하는': 8878, '행복할때요': 8879, '데이트로': 8880, '느껴지죠': 8881, '꼬시지': 8882, '안갑니다': 8883, '신뢰가': 8884, '무너지지': 8885, '믿어': 8886, '두려워지는': 8887, '바라보고': 8888, '포기해야한다면': 8889, '빠를': 8890, '휘둘리는': 8891, '의심해볼': 8892, '깨어난': 8893, '후회한다면': 8894, '진짜면': 8895, '무엇으로': 8896, '진심이면': 8897, '일에도': 8898, '지칠지도': 8899, '조': 8900, '과대표한테': 8901, '선택하셔야': 8902, '여러명': 8903, '줬다면': 8904, '치유해주세요': 8905, '자신이라도': 8906, '비추요': 8907, '이야기입니다': 8908, '기다리기만': 8909, '놓치는': 8910, '훨씬': 8911, '낫습니다': 8912, '본래': 8913, '느리겠죠': 8914, '사람에겐': 8915, '호의적이에요': 8916, '난폭한게': 8917, '싫을': 8918, '머리를': 8919, '쓰담쓰담해보세요': 8920, '여자가': 8921, '대쉬하면': 8922, '매력있죠': 8923, '애들아': 8924, '쏟아진다': 8925, '당황스러웠겠어요': 8926, '선물해': 8927, '쌩얼도': 8928, '여차진구가': 8929, '싫어할': 8930, '애초에': 8931, '상처받고': 8932, '피시방': 8933, '성격': 8934, '차이니': 8935, '됐지': 8936, 'sns에': 8937, '올리는': 8938, '일어나지': 8939, '의지하라고': 8940, '가지만': 8941, '기억해주세요': 8942, '애교부려보세요': 8943, '데서도': 8944, '눈치': 8945, '나가봐요': 8946, '숨기는': 8947, '것보다는': 8948, '통장에': 8949, '준비하느라': 8950, '오래걸리는': 8951, '부담된다고': 8952, '돌아다니면서': 8953, '데이트해보세요': 8954, '이해해주기': 8955, '여자친구의': 8956, '풀어주려': 8957, '먹어봐요': 8958, '운동해봐요': 8959, '리액션을': 8960, '필름': 8961, '끊기는': 8962, '치매의': 8963, '마시기': 8964, '선물해주세요': 8965, '애교를': 8966, '애교는': 8967, '성격이에요': 8968, '별일': 8969, '막말에': 8970, '금상첨화네요': 8971, '과식보다': 8972, '일하고': 8973, '연락하기': 8974, '믿을': 8975, '힘드네요': 8976, '중요하게': 8977, '경향이': 8978, '삐지는': 8979, '미인은': 8980, '잠꾸러기라던데요': 8981, '쌓아주세요': 8982, '말해요': 8983, '핫해요': 8984, '깔창이': 8985, '표현에도': 8986, '과하게': 8987, '리액션해봐요': 8988, '다르니': 8989, '하루종일': 8990, '원하는게': 8991, '중간중간에': 8992, '연락해주는': 8993, '진도는': 8994, '카페처럼': 8995, '피시방이라면': 8996, '데이트도': 8997, '문제': 8998, '깨지고': 8999, '개인이': 9000, '의지해요': 9001, '가수의': 9002, '연습해': 9003, '말고도': 9004, '챙겨줘야해서': 9005, '맞춰주지': 9006, '화날': 9007, '같아서': 9008, '말라고': 9009, '양치해요': 9010, '이름이나': 9011, '호칭이': 9012, '무난하죠': 9013, '프라이버시죠': 9014, '설레요': 9015, '상처일': 9016, '수용할': 9017, '연애중인': 9018, '운동하자고': 9019, '나눈': 9020, '성향에': 9021, '거짓말도': 9022, '필요하답니다': 9023, '성격일': 9024, '여행지에서만': 9025, '상태일': 9026, '안합니다': 9027, '싸움의': 9028, '씨앗이죠': 9029, '높아': 9030, '집착하지마세요': 9031, '연애의': 9032, '꿈꿀': 9033, '사람인지': 9034, '아닌지인': 9035, '세포를': 9036, '깨울': 9037, '보수적이어도': 9038, '편해진': 9039, '낭비일': 9040, '말씀입니다': 9041, '주인공은': 9042, '나야': 9043, '여자와': 9044, '어울리고': 9045, '보내보면서': 9046, '고마워': 9047, '미안해': 9048, '친해졌나봐요': 9049, '문을': 9050, '열었나봐요': 9051, '해주지': 9052, '살릴': 9053, '존재예요': 9054, '당신에게도': 9055, '존중하면서': 9056, '걱정되지': 9057, '선인': 9058, '특종감이네요': 9059, '기억도': 9060, '싸워요': 9061, '사이의': 9062, '규칙을': 9063, '문제에': 9064, '인식해보세요': 9065, '정치': 9066, '이야기는': 9067, '빼고': 9068, '고민해도': 9069, '관심있을': 9070, '하도록': 9071, '노력해보면': 9072, '데서': 9073, '효도에': 9074, '대리가': 9075, '어디있나요': 9076, '여자하기': 9077, '나름이래요': 9078, '차는': 9079, '없어서일': 9080, '계약하는': 9081, '예식장은': 9082, '좋은곳으로': 9083, '할거예요': 9084, '준비하지': 9085, '화려하지': 9086, '소식이었으면': 9087, '답답하겠어요': 9088, '댄디룩이': 9089, '무난할': 9090, '타들어가겠네요': 9091, '먹느라': 9092, '분이군요': 9093, '짝사랑의': 9094, '늪에서': 9095, '한잔으로': 9096, '오늘처럼': 9097, '기도합니다': 9098, '없었던': 9099, '색다른': 9100, '문제를': 9101, '해결': 9102, '단단해지는': 9103, '과정인데': 9104, '피하기만': 9105, '행동으로': 9106, '연애하다보면': 9107, '처음만큼': 9108, '사실일': 9109, '이야기하면서': 9110, '찾기': 9111, '두근거리네요': 9112, '시작하고': 9113, '오랜만이에요': 9114, '문제일': 9115, '커지기도': 9116, '느껴지네요': 9117, '참견하는': 9118, '귀엽다는': 9119, '의미는': 9120, '아주': 9121, '넓답니다': 9122, '과정은': 9123, '아무나': 9124, '좋아하진': 9125, '취향이더라도': 9126, '움직이는': 9127, '같고': 9128, '못했는지': 9129, '반응해보세요': 9130, '정상인': 9131, '반이라': 9132, '반장이': 9133, '멋진가봐요': 9134, '있는거예요': 9135, '헤어졌다고': 9136, '아닌게': 9137, '되지는': 9138, '사실이라면': 9139, '언니의': 9140, '남친': 9141, '분에게': 9142, '꺼진': 9143, '보자': 9144, '타오를수도': 9145, '아니였다면': 9146, '없었겠지요': 9147, '운명은': 9148, '만들어가면': 9149, '좋아보여요': 9150, '생겼다고': 9151, '후회되지': 9152, '두근거려서': 9153, '오나봐요': 9154, '작아지나봐요': 9155, '소원': 9156, '풀었네요': 9157, '꿀이': 9158, '떨어지네요': 9159, '접어야': 9160, '사귀면서': 9161, '편식을': 9162, '고쳐봐도': 9163, '정확한': 9164, '긴가민가한': 9165, '상태인가봅니다': 9166, '사랑하면서': 9167, '높이려': 9168, '잘살고': 9169, '보게': 9170, '대체할': 9171, '존재감을': 9172, '느꼈군요': 9173, '그럴리가요': 9174, '정확한거': 9175, '본인만이': 9176, '정확한건': 9177, '당사자만': 9178, '의사표시가': 9179, '정확하겠죠': 9180, '두려워': 9181, '충실하면': 9182, '확인하기': 9183, '전까지': 9184, '말해줄': 9185, '누구인지': 9186, '느낌이면': 9187, '우선순위는': 9188, '자신인가': 9189, '깍아': 9190, '아침부터': 9191, '연락이면': 9192, '이벤트를': 9193, '사랑입니다': 9194, '옳고': 9195, '그름이': 9196, '결혼하기전에': 9197, '확신부터': 9198, '갖는게': 9199, '함께일': 9200, '비로소': 9201, '전부라고': 9202, '느껴지는': 9203, '운명인가봅니다': 9204, '잡길': 9205, '돌리면': 9206, '잊혀진답니다': 9207, '인연입니다': 9208, '맞춰가면': 9209, '사람이자': 9210, '이기적이네요': 9211, '그린라이트라고': 9212, '통화를': 9213, '쓰이니가요': 9214, '칭찬할': 9215, '싶으니': 9216, '햇갈리게': 9217, '사람인가': 9218, '로맨틱할': 9219, '씨익': 9220, '웃어주세요': 9221, '사람들은': 9222, '쌓이기': 9223, '불안하죠': 9224, '중요한가요': 9225, '가운데서': 9226, '만나거나': 9227, '돌아가면서': 9228, '희생을': 9229, '힘으로': 9230, '부끄러워서': 9231, '장난스러운': 9232, '성격이면': 9233, '헷갈리기도': 9234, '확실하겠죠': 9235, '목적이': 9236, '곳이니까요': 9237, '의사표시를': 9238, '했는데도': 9239, '그렇다는': 9240, '부분': 9241, '궁금해서': 9242, '느끼나봐요': 9243, '사랑해줄': 9244, '나타났나봅니다': 9245, '헤아리기': 9246, '애매한': 9247, '관계네요': 9248, '상황': 9249, '낭만적이네요': 9250, '사랑했다면': 9251, '손편지도': 9252, '정열적으로': 9253, '변할': 9254, '있었는지도': 9255, '깊고': 9256, '얇음이': 9257, '좋아하길': 9258, '챙겨준다면': 9259, '사람이라고': 9260, '싫어하는지': 9261, '어울릴': 9262, '소개팅은': 9263, '아니겠지요': 9264, '쉬운일은': 9265, '상상하는건': 9266, '나름일': 9267, '양면과도': 9268, '슬픔은': 9269, '양면과': 9270, '싶은게': 9271, '기본이겠지요': 9272, '구분짓기': 9273, '구분짓는게': 9274, '농도': 9275, '차인': 9276, '생각의': 9277, '차이겠지요': 9278, '부담스러운': 9279, '굴뚝': 9280, '같겠어요': 9281, '상처받을': 9282, '표정만': 9283, '변덕스럽지요': 9284, '감출': 9285, '없겠어요': 9286, '짝사랑도': 9287, '이성을': 9288, '막지는': 9289, '못하나봐요': 9290, '힘들까요': 9291, '인기있는': 9292, '검색해봐요': 9293, '사이도': 9294, '성급한': 9295, '되었었나봐요': 9296, '서글픈': 9297, '사실이에요': 9298, '면회나': 9299, '편지가': 9300, '잘됐어요': 9301, '배정이': 9302, '갈라놨네요': 9303, '스타일일지도': 9304, '답장이': 9305, '칭찬을': 9306, '뭐하고': 9307, '씌었나봐요': 9308, '못해서': 9309, '것인가봐요': 9310, '좋아하다니': 9311, '연하가': 9312, '어필해봐요': 9313, '표시를': 9314, '정상적인': 9315, '수순이죠': 9316, '숨기기는': 9317, '조금의': 9318, '낸다면': 9319, '그에게서': 9320, '감성적이게': 9321, '가운데': 9322, '하나니까요': 9323, '있었지요': 9324, '추억을': 9325, '쌓았다고': 9326, '그렇대요': 9327, '데까지': 9328, '맞춰보는': 9329, '달라지긴': 9330, '하나입니다': 9331, '커플': 9332, '프사': 9333, '느낌으로': 9334, '심정일거라': 9335, '북받쳐오르나봐요': 9336, '수학': 9337, '공식처럼': 9338, '다른일로': 9339, '부분입니다': 9340, '것에': 9341, '돌리는': 9342, '예의없는': 9343, '좋아하지마세요': 9344, '판단이': 9345, '흐려지기': 9346, '없든': 9347, '있든': 9348, '편지보다': 9349, '척하는': 9350, '아픔만': 9351, '털어버리세요': 9352, '드러내': 9353, '속아주는': 9354, '무례하지': 9355, '관심갈': 9356, '애석하지만': 9357, '철벽치는': 9358, '먹는게': 9359, '서운할': 9360, '만해요': 9361, '느낀다면': 9362, '이상형뿐일': 9363, '남겠네요': 9364, '쓰레기': 9365, '싫어서': 9366, '도망갈': 9367, '맘이죠': 9368, '원해서': 9369, '걸지도': 9370, '모르지요': 9371, '구속되기': 9372, '멈추거나': 9373, '내딛거나': 9374, '책임을': 9375, '지기': 9376, '장벽을': 9377, '피치': 9378, '감정과': 9379, '대상이': 9380, '정상이에요': 9381, '의미부여가': 9382, '기대하게': 9383, '만들기': 9384, '씌었네요': 9385, '확실할': 9386, '귀찮다면': 9387, '답장하지': 9388, '우선이에요': 9389, '근황을': 9390, '맨날하지': 9391, '뭐하는지': 9392, '태도': 9393, '존중해야': 9394, '가망이': 9395, '다같이': 9396, '재미있기는': 9397, '동선을': 9398, '파악하는게': 9399, '정리하려나봐요': 9400, '나서지': 9401, '아쉬움이겠지요': 9402, '의지대로': 9403, '하셔요': 9404, '받아들여야할지도': 9405, '알려달라고': 9406, '사람이냐에': 9407, '원하던': 9408, '바인지': 9409, '흑역사는': 9410, '흑역사일뿐이에요': 9411, '장르가': 9412, '예매하세요': 9413, '부끄러운': 9414, '커지면': 9415, '알아': 9416, '차렸을': 9417, '후에도': 9418, '아이쿠': 9419, '좋아해줬으면': 9420, '좋겠어': 9421, '생길거라': 9422, '신경쓰인': 9423, '바쁠': 9424, '크겠네요': 9425, '도대체': 9426, '꾼': 9427, '감추는게': 9428, '좋아해서': 9429, '행동이': 9430, '본인만': 9431, '짐만': 9432, '바쁜건지': 9433, '거절인건지': 9434, '손편지만큼': 9435, '선물도': 9436, '드러내세요': 9437, '스타일을': 9438, '태그된': 9439, '사진에': 9440, '지내는지': 9441, '망설여지나봐요': 9442, '사람에게는': 9443, '끝낸다면': 9444, '반영': 9445, '오빠': 9446, '동생': 9447, '다가와': 9448, '좋아한대요': 9449, '바뀌니': 9450, '여의치': 9451, '사랑스러울': 9452, '나보다는': 9453, '주체할': 9454, '1초가': 9455, '평생이': 9456, '불가능할': 9457, '생각합니다': 9458, '표현하면': 9459, '떠보세요': 9460, '정의가': 9461, '애달프겠지요': 9462, '많겠죠': 9463, '설레서': 9464, '잠도': 9465, '못자는': 9466, '느낌이요': 9467, '안됩니다': 9468, '복합적인': 9469, '감정이니까요': 9470, '지쳐가는': 9471, '친구사이로': 9472, '트라우마를': 9473, '놓치면': 9474, '후회해요': 9475, '겉모습에': 9476, '신경쓰이고': 9477, '받아들이는게': 9478, '생소할': 9479, '연애할': 9480, '이보다': 9481, '기다리라고': 9482, '비비라도': 9483, '매력이에요': 9484, '보고싶다고': 9485, '살자고': 9486, '프로포즈': 9487, '식었나봐요': 9488, '해보긴': 9489, '행복한가봐요': 9490, '다는': 9491, '못하더라도': 9492, '함께하길': 9493, '소중하고': 9494, '우연한': 9495, '가지마요': 9496, '라면': 9497, '인상을': 9498, '남겼으면': 9499, '비용을': 9500, '집착해봐요': 9501, '판단력이': 9502, '흐려지곤': 9503, '싶을거라': 9504, '짝사랑일수록': 9505, '구하는': 9506, '결정하는게': 9507, '하겠어요': 9508, '공통된': 9509, '고충': 9510, '이해': 9511, '짝사랑을': 9512, '하다': 9513, '그것을': 9514, '지켜볼': 9515, '속상해요': 9516, '쓰일거라': 9517, '티내려는': 9518, '찬성합니다': 9519, '이어': 9520, '밤': 9521, '경쟁자를': 9522, '없애기': 9523, '응원해주면': 9524, '거절이': 9525, '먼저하는': 9526, '인정해야하는': 9527, '장난이네요': 9528, '패션은': 9529, '바꿔줘도': 9530, '확실하다면': 9531, '자존감은': 9532, '읽어보고': 9533, '책': 9534, '선물하는게': 9535, '정리해야할': 9536, '기다리다가': 9537, '다가가는게': 9538, '피곤해서': 9539, '부담스럽다면': 9540, '괜찮냐고': 9541, '모르겠지만': 9542, '심리': 9543, '상태가': 9544, '반영되었나봐요': 9545, '외모는': 9546, '사람한테도': 9547, '그런지': 9548, '노래인가봐요': 9549, '저까지': 9550, '안좋네요': 9551, '남는가봐요': 9552, '결실': 9553, '맺길': 9554, '시간이었겠네요': 9555, '아쉽네요': 9556, '태그해도': 9557, '아니었길': 9558, '소모는': 9559, '초대라니': 9560, '됐으면': 9561, '안되더라도': 9562, '헛헛하겠어요': 9563, '야근일까요': 9564, '은근히': 9565, '칭찬해주는': 9566, '겉으로는': 9567, '거절': 9568, '느껴지면': 9569, '풀리곤': 9570, '생겼는지도': 9571, '악몽이라니': 9572, '쓰일만': 9573, '나눠보는': 9574, '좋은일이': 9575, '났나봅니다': 9576, '만': 9577, '선일': 9578, '마지막이니': 9579, '뒤에서만': 9580, '해야하는': 9581, '올지도': 9582, '먼저하는게': 9583, '돌아서길': 9584, '기다려야죠': 9585, '엉킨': 9586, '짝대기네요': 9587, '아쉽지만': 9588, '접는': 9589, '후로': 9590, '괜찮았는지': 9591, '사겨보세요': 9592, '철벽이네요': 9593, '정리해야할지도': 9594, '필요할테니': 9595, '외모보다': 9596, '국경이': 9597, '가르쳐': 9598, '식으로': 9599, '가리는': 9600, '사치인': 9601, '확실한게': 9602, '연락해보는게': 9603, '신중함이': 9604, '길거리에': 9605, '꽃다발': 9606, '예약해보세요': 9607, '안됐군요': 9608, '이름이라니': 9609, '확인했나봐요': 9610, '떨리죠': 9611, '저였어도': 9612, '갔을': 9613, '덜한': 9614, '부담스러워할': 9615, '둘다에게': 9616, '다가가야겠죠': 9617, '강가': 9618, '신경쓰이겠어요': 9619, '정중히': 9620, '거절했지만': 9621, '될거라': 9622, '요청하면': 9623, '통할지도': 9624, '생각되면': 9625, '줄임말': 9626, '추우니': 9627, '어떨까': 9628, '의지를': 9629, '굳건히': 9630, '두려운게': 9631, '멈춰버려서': 9632, '그런거예요': 9633, '만드네요': 9634, '외롭게': 9635, '짝사랑에': 9636, '오락가락하죠': 9637, '이사는': 9638, '가더라도': 9639, '지속해보세요': 9640, '반드시': 9641, '높아질': 9642, '비하하지': 9643, '작아지곤': 9644, '고백해보는': 9645, '내맘같지': 9646, '되나봐요': 9647, '전공이에요': 9648, '나만': 9649, '사실이': 9650, '해봤어요': 9651, '높이는게': 9652, '짝사랑만이': 9653, '노력에': 9654, '인지시켜야죠': 9655, '이뤄질': 9656, '짝사랑에서만': 9657, '그치는': 9658, '그렇지는': 9659, '남아있어서': 9660, '권태기인가봅니다': 9661, '그러니': 9662, '바라게': 9663, '않는다고': 9664, '좋아해지지': 9665, '않는다면요': 9666, '썸이길': 9667, '소개': 9668, '알아볼거예요': 9669, '놀라겠죠': 9670, '같지는': 9671, '생각하게된': 9672, '기': 9673, '받아갈게요': 9674, '혼자서': 9675, '설레고': 9676, '기분이에요': 9677, '아무는덴': 9678, '경험해보는': 9679, '걸어다니면서': 9680, '데이트죠': 9681, '패턴을': 9682, '헷갈린다고': 9683, '지지': 9684, '간단하게': 9685, '팔찌나': 9686, '양말': 9687, '모자': 9688, '신발': 9689, '대수롭지': 9690, '변해가는': 9691, '실망스러운': 9692, '먹어야죠': 9693, '공원이나': 9694, '익숙한': 9695, '환상을': 9696, '소중했던': 9697, '추억이라고': 9698, '되는거': 9699, '미련갖지': 9700, '싶고': 9701, '궁금할거': 9702, '첫사랑은': 9703, '추억의': 9704, '대상이죠': 9705, '기억나면': 9706, '기억나는대로': 9707, '놔두는게': 9708, '첫사랑을': 9709, '만의': 9710, '청첩장을': 9711, '보는곳도': 9712, '좋을거같아요': 9713, '누구한테': 9714, '줄지': 9715, '축의금을': 9716, '건냈던': 9717, '축하해주실': 9718, '분들을': 9719, '담아': 9720, '초대해보세요': 9721, '응원해주면서': 9722, '키워다고': 9723, '취업이랑': 9724, '각자마다': 9725, '취향이': 9726, '행복해보이나': 9727, '좋아하겠어요': 9728, '생각날테니': 9729, '유머코드가': 9730, '적당하게': 9731, '줄여주거나': 9732, '주라고': 9733, '행복': 9734, '바이러스에': 9735, '감염되셨군요': 9736, '할까요': 9737, '상했겠어요': 9738, '이유에서': 9739, '그랬을까요': 9740, '나타났을까요': 9741, '남았어도': 9742, '곁에서': 9743, '쟁취하는거예요': 9744, '사이면': 9745, '이전과': 9746, '점을': 9747, '느끼지': 9748, '대해요': 9749, '만나지도': 9750, '연락하지도': 9751, '말아보세요': 9752, '친구을': 9753, '남녀': 9754, '일입니다': 9755, '친구사이가': 9756, '깨질까': 9757, '걱정되나봐요': 9758, '친한사이가': 9759, '실망할겁니다': 9760, '의미심장한': 9761, '메세지가': 9762, '끝나냐고': 9763, '초면': 9764, '싸우기도': 9765, '가느냐가': 9766, '기한은': 9767, '렌즈를': 9768, '심어서': 9769, '벗겨질': 9770, '싶으면': 9771, '다잡는게': 9772, '놀아보면': 9773, '깰': 9774, '취향이니까요': 9775, '키는': 9776, '콩각지가': 9777, '떨어지지': 9778, '않기를': 9779, '손잡고': 9780, '설렘은': 9781, '언제고': 9782, '사라집니다': 9783, '설렘이': 9784, '김칫국물은': 9785, '마시는게': 9786, '감동적인': 9787, '가능한': 9788, '떨어져서': 9789, '그리워할': 9790, '만들어주는': 9791, '주기도': 9792, '함께하려는': 9793, '붙어잇는다고': 9794, '커지거나': 9795, '깊어지지': 9796, '종일': 9797, '안해요': 9798, '짝이라': 9799, '존경의': 9800, '의미라고': 9801, '과제나': 9802, '통해서': 9803, '알아내보세요': 9804, '티': 9805, '내도': 9806, '물어볼': 9807, '개인적으로': 9808, '전하면서': 9809, '이를': 9810, '그러기': 9811, '힘들어서': 9812, '결혼이라는': 9813, '제도를': 9814, '짝사랑입니다': 9815, '행복하죠': 9816, '가능하면요': 9817, '국경은': 9818, '남이죠': 9819, '조심스러울': 9820, '타든': 9821, '썸부터': 9822, '유지하게': 9823, '되겠지요': 9824, '결심은': 9825, '놓는것도': 9826, '꼬셔보세요': 9827, '손수건': 9828, '준비할게요': 9829, '영에서': 9830, '시작하니': 9831, '처음이겠죠': 9832, '편하다는': 9833, '아니었을까요': 9834, '불빛으로': 9835, '가리고': 9836, '화끈하시네요': 9837, '설렜을텐데': 9838, '관계인가봐요': 9839, '마주치는': 9840, '우연인지': 9841, '바쁠지도': 9842, '기다려보고': 9843, '나니까': 9844, '훔쳐보는': 9845, '티나나봐요': 9846, '설렜겠어요': 9847, '여부인': 9848}\n"
          ]
        }
      ],
      "source": [
        "tokenizer = Tokenizer()\n",
        "tokenizer.fit_on_texts(list(text['A']))\n",
        "vocab_size = len(tokenizer.word_index) + 1\n",
        "print('단어 집합의 크기 : %d' % vocab_size)\n",
        "print(tokenizer.word_index)"
      ]
    },
    {
      "cell_type": "code",
      "execution_count": 25,
      "metadata": {
        "id": "lWugN_fhHqvt",
        "colab": {
          "base_uri": "https://localhost:8080/"
        },
        "outputId": "4f6bbc3a-d9a8-4c0f-ec34-4187625268b5"
      },
      "outputs": [
        {
          "output_type": "stream",
          "name": "stdout",
          "text": [
            "학습에 사용할 샘플의 개수: 11823\n",
            "['하루가 또 가네요.', '위로해 드립니다.', '여행은 언제나 좋죠.', '여행은 언제나 좋죠.', '눈살이 찌푸려지죠.']\n",
            "[[2985, 139, 1602], [615, 1603], [1321, 223, 39], [1321, 223, 39], [2986, 2987]]\n"
          ]
        }
      ],
      "source": [
        "sequences = list()\n",
        "for line in text['A']: # 줄바꿈 문자를 기준으로 문장 토큰화\n",
        "    encoded = tokenizer.texts_to_sequences([line])[0]\n",
        "    sequences.append(encoded)\n",
        "\n",
        "print('학습에 사용할 샘플의 개수: %d' % len(sequences))\n",
        "print(list(text['A'])[:5])\n",
        "print(sequences[:5])"
      ]
    },
    {
      "cell_type": "code",
      "execution_count": 26,
      "metadata": {
        "id": "qNnpx20zIC7r",
        "colab": {
          "base_uri": "https://localhost:8080/"
        },
        "outputId": "0bfb6b05-3653-4189-80f5-147fd4d41c54"
      },
      "outputs": [
        {
          "output_type": "stream",
          "name": "stdout",
          "text": [
            "샘플의 최대 길이 : 21\n"
          ]
        }
      ],
      "source": [
        "# 모든 샘플에서 길이가 가장 긴 샘플의 길이 출력\n",
        "max_len = max(len(l) for l in sequences) \n",
        "print('샘플의 최대 길이 : {}'.format(max_len))"
      ]
    },
    {
      "cell_type": "code",
      "execution_count": 27,
      "metadata": {
        "id": "fhxGgCDAI83C",
        "colab": {
          "base_uri": "https://localhost:8080/"
        },
        "outputId": "64d1e2ec-e6f3-4e4d-f43a-8203df6a9ff4"
      },
      "outputs": [
        {
          "output_type": "stream",
          "name": "stdout",
          "text": [
            "[[   0    0    0 ... 2985  139 1602]\n",
            " [   0    0    0 ...    0  615 1603]\n",
            " [   0    0    0 ... 1321  223   39]\n",
            " ...\n",
            " [   0    0    0 ...    0    0 9847]\n",
            " [   0    0    0 ... 9848   16    4]\n",
            " [   0    0    0 ...  113  258   72]]\n"
          ]
        }
      ],
      "source": [
        "sequences = pad_sequences(sequences, maxlen=max_len, padding='pre')\n",
        "print(sequences)"
      ]
    },
    {
      "cell_type": "code",
      "execution_count": 28,
      "metadata": {
        "id": "VX3_OzNnJD5L",
        "colab": {
          "base_uri": "https://localhost:8080/"
        },
        "outputId": "0884ec2a-6c4e-4fc1-b430-6fc875c15ef0"
      },
      "outputs": [
        {
          "output_type": "stream",
          "name": "stdout",
          "text": [
            "전체 y의 개수: 11823\n",
            "고유값 y의 개수: 3\n"
          ]
        }
      ],
      "source": [
        "sequences = np.array(sequences)\n",
        "X_chatbot = sequences\n",
        "y_chatbot = text.label\n",
        "# y confirmation\n",
        "unique_y = np.unique(y_chatbot)[-1] + 1\n",
        "print('전체 y의 개수:', len(y_chatbot))\n",
        "print('고유값 y의 개수:', unique_y)"
      ]
    },
    {
      "cell_type": "code",
      "execution_count": 29,
      "metadata": {
        "id": "b6jLwxOBJIyD",
        "colab": {
          "base_uri": "https://localhost:8080/"
        },
        "outputId": "2e8f8afb-20e4-4c6b-e7a8-fc9ad77e681e"
      },
      "outputs": [
        {
          "output_type": "stream",
          "name": "stdout",
          "text": [
            "one_hot_vector y: [[1. 0. 0.]\n",
            " [1. 0. 0.]\n",
            " [1. 0. 0.]\n",
            " ...\n",
            " [0. 0. 1.]\n",
            " [0. 0. 1.]\n",
            " [0. 0. 1.]]\n"
          ]
        }
      ],
      "source": [
        "# 고유값 y각각의 원핫벡터 변경, 총 13399 자리수 맞춤\n",
        "y_one = to_categorical(y_chatbot, num_classes=unique_y)\n",
        "print(\"one_hot_vector y:\", y_one)"
      ]
    },
    {
      "cell_type": "code",
      "execution_count": 31,
      "metadata": {
        "id": "EtwZtbQlJgYs",
        "colab": {
          "base_uri": "https://localhost:8080/"
        },
        "outputId": "81549d94-11c9-446c-e0bc-c5d47ed000ef"
      },
      "outputs": [
        {
          "output_type": "stream",
          "name": "stdout",
          "text": [
            "Epoch 1/10\n",
            "296/296 [==============================] - 8s 23ms/step - loss: 0.8339 - accuracy: 0.6036 - val_loss: 2.5551 - val_accuracy: 0.0021\n",
            "Epoch 2/10\n",
            "296/296 [==============================] - 7s 22ms/step - loss: 0.4972 - accuracy: 0.8262 - val_loss: 2.1447 - val_accuracy: 0.0347\n",
            "Epoch 3/10\n",
            "296/296 [==============================] - 7s 22ms/step - loss: 0.2794 - accuracy: 0.9066 - val_loss: 2.4103 - val_accuracy: 0.0875\n",
            "Epoch 4/10\n",
            "296/296 [==============================] - 7s 23ms/step - loss: 0.1726 - accuracy: 0.9475 - val_loss: 2.5037 - val_accuracy: 0.1463\n",
            "Epoch 5/10\n",
            "296/296 [==============================] - 7s 22ms/step - loss: 0.1221 - accuracy: 0.9589 - val_loss: 2.8121 - val_accuracy: 0.1658\n",
            "Epoch 6/10\n",
            "296/296 [==============================] - 7s 22ms/step - loss: 0.0991 - accuracy: 0.9660 - val_loss: 3.0659 - val_accuracy: 0.1831\n",
            "Epoch 7/10\n",
            "296/296 [==============================] - 7s 22ms/step - loss: 0.0867 - accuracy: 0.9699 - val_loss: 3.5424 - val_accuracy: 0.1662\n",
            "Epoch 8/10\n",
            "296/296 [==============================] - 7s 22ms/step - loss: 0.0789 - accuracy: 0.9707 - val_loss: 3.8543 - val_accuracy: 0.1658\n",
            "Epoch 9/10\n",
            "296/296 [==============================] - 7s 22ms/step - loss: 0.0735 - accuracy: 0.9718 - val_loss: 3.8188 - val_accuracy: 0.1822\n",
            "Epoch 10/10\n",
            "296/296 [==============================] - 8s 26ms/step - loss: 0.0705 - accuracy: 0.9716 - val_loss: 4.1682 - val_accuracy: 0.1666\n"
          ]
        },
        {
          "output_type": "execute_result",
          "data": {
            "text/plain": [
              "<keras.callbacks.History at 0x7fb7542dfc90>"
            ]
          },
          "metadata": {},
          "execution_count": 31
        }
      ],
      "source": [
        "embedding_dim = 16\n",
        "hidden_units = 16\n",
        "\n",
        "model = Sequential()\n",
        "model.add(Embedding(vocab_size, embedding_dim))\n",
        "model.add(SimpleRNN(hidden_units))\n",
        "model.add(Dense(unique_y, activation='softmax'))\n",
        "model.compile(optimizer='adam', loss='categorical_crossentropy', metrics=['accuracy'])\n",
        "model.fit(X_chatbot, y_one, epochs=10, validation_split=0.2)"
      ]
    },
    {
      "cell_type": "code",
      "execution_count": 32,
      "metadata": {
        "id": "ZgVxR6SpJ4zt",
        "colab": {
          "base_uri": "https://localhost:8080/"
        },
        "outputId": "57c20b7e-a76b-4f0e-aa4d-9f19de07acc7"
      },
      "outputs": [
        {
          "output_type": "stream",
          "name": "stdout",
          "text": [
            "Epoch 1/10\n",
            "296/296 [==============================] - 6s 8ms/step - loss: 0.7490 - accuracy: 0.6724 - val_loss: 2.5970 - val_accuracy: 0.0000e+00\n",
            "Epoch 2/10\n",
            "296/296 [==============================] - 2s 6ms/step - loss: 0.3988 - accuracy: 0.8585 - val_loss: 2.1913 - val_accuracy: 0.0550\n",
            "Epoch 3/10\n",
            "296/296 [==============================] - 2s 6ms/step - loss: 0.2308 - accuracy: 0.9221 - val_loss: 2.0279 - val_accuracy: 0.2930\n",
            "Epoch 4/10\n",
            "296/296 [==============================] - 2s 6ms/step - loss: 0.1475 - accuracy: 0.9505 - val_loss: 2.4967 - val_accuracy: 0.3184\n",
            "Epoch 5/10\n",
            "296/296 [==============================] - 2s 6ms/step - loss: 0.1151 - accuracy: 0.9590 - val_loss: 3.3510 - val_accuracy: 0.2486\n",
            "Epoch 6/10\n",
            "296/296 [==============================] - 2s 6ms/step - loss: 0.1017 - accuracy: 0.9628 - val_loss: 3.8197 - val_accuracy: 0.2389\n",
            "Epoch 7/10\n",
            "296/296 [==============================] - 2s 6ms/step - loss: 0.0920 - accuracy: 0.9673 - val_loss: 4.0429 - val_accuracy: 0.2478\n",
            "Epoch 8/10\n",
            "296/296 [==============================] - 2s 6ms/step - loss: 0.0888 - accuracy: 0.9655 - val_loss: 4.1020 - val_accuracy: 0.2342\n",
            "Epoch 9/10\n",
            "296/296 [==============================] - 2s 6ms/step - loss: 0.0839 - accuracy: 0.9686 - val_loss: 4.4147 - val_accuracy: 0.2249\n",
            "Epoch 10/10\n",
            "296/296 [==============================] - 2s 6ms/step - loss: 0.0792 - accuracy: 0.9711 - val_loss: 4.0211 - val_accuracy: 0.2930\n"
          ]
        },
        {
          "output_type": "execute_result",
          "data": {
            "text/plain": [
              "<keras.callbacks.History at 0x7fb746efe3d0>"
            ]
          },
          "metadata": {},
          "execution_count": 32
        }
      ],
      "source": [
        "embedding_dim = 64\n",
        "hidden_units = 64\n",
        "\n",
        "model_lstm = Sequential()\n",
        "model_lstm.add(Embedding(vocab_size, embedding_dim))\n",
        "model_lstm.add(LSTM(hidden_units))\n",
        "model_lstm.add(Dense(unique_y, activation='softmax'))\n",
        "model_lstm.compile(loss='categorical_crossentropy', optimizer='adam', metrics=['accuracy'])\n",
        "model_lstm.fit(X_chatbot, y_one, epochs=10, verbose=1, validation_split=0.2)"
      ]
    },
    {
      "cell_type": "code",
      "execution_count": 33,
      "metadata": {
        "id": "hMABQaSAKFHE",
        "colab": {
          "base_uri": "https://localhost:8080/",
          "height": 36
        },
        "outputId": "5c22d7cb-3690-4fc4-ed4d-cbb428446e26"
      },
      "outputs": [
        {
          "output_type": "execute_result",
          "data": {
            "text/plain": [
              "'감성분석: 중립'"
            ],
            "application/vnd.google.colaboratory.intrinsic+json": {
              "type": "string"
            }
          },
          "metadata": {},
          "execution_count": 33
        }
      ],
      "source": [
        "def sentiment_analysis(model, tokenizer, current_word): # 모델, 토크나이저, 현재 단어\n",
        "  # 현재 단어에 대한 정수 인코딩과 패딩\n",
        "  encoded = tokenizer.texts_to_sequences([current_word])[0]\n",
        "  encoded = pad_sequences([encoded], maxlen=5, padding='pre')\n",
        "  # 입력한 X(현재 단어)에 대해서 Y를 예측하고 Y(예측한 단어)를 result에 저장.\n",
        "  result = model.predict(encoded, verbose=0)\n",
        "  result = np.argmax(result, axis=1)\n",
        "  if result == [0]:\n",
        "    word_result = '감성분석: 중립'\n",
        "  elif result == [1]:\n",
        "    word_result = '감성분석: 긍정'\n",
        "  else:\n",
        "    word_result = '감성분석: 부정' \n",
        "  return word_result\n",
        "sentiment_analysis(model, tokenizer, '하루가 또 가네요')"
      ]
    },
    {
      "cell_type": "code",
      "execution_count": 34,
      "metadata": {
        "id": "ueDzNu7OJiW6",
        "colab": {
          "base_uri": "https://localhost:8080/",
          "height": 429
        },
        "outputId": "002b3969-f6c7-4b50-d49f-a7665b78cc2b"
      },
      "outputs": [
        {
          "output_type": "stream",
          "name": "stdout",
          "text": [
            "Epoch 1/10\n",
            "296/296 [==============================] - 4s 7ms/step - loss: 0.7475 - accuracy: 0.6706 - val_loss: 2.8155 - val_accuracy: 0.0000e+00\n",
            "Epoch 2/10\n",
            "296/296 [==============================] - 2s 6ms/step - loss: 0.3904 - accuracy: 0.8628 - val_loss: 2.0895 - val_accuracy: 0.1175\n",
            "Epoch 3/10\n",
            "296/296 [==============================] - 2s 6ms/step - loss: 0.2238 - accuracy: 0.9249 - val_loss: 2.9927 - val_accuracy: 0.1446\n",
            "Epoch 4/10\n",
            "296/296 [==============================] - 2s 6ms/step - loss: 0.1469 - accuracy: 0.9490 - val_loss: 2.9077 - val_accuracy: 0.2689\n",
            "Epoch 5/10\n",
            "296/296 [==============================] - 2s 6ms/step - loss: 0.1167 - accuracy: 0.9589 - val_loss: 3.0184 - val_accuracy: 0.2837\n",
            "Epoch 6/10\n",
            "296/296 [==============================] - 2s 6ms/step - loss: 0.1022 - accuracy: 0.9629 - val_loss: 3.5524 - val_accuracy: 0.2567\n",
            "Epoch 7/10\n",
            "296/296 [==============================] - 2s 6ms/step - loss: 0.0933 - accuracy: 0.9654 - val_loss: 3.5106 - val_accuracy: 0.2816\n",
            "Epoch 8/10\n",
            "296/296 [==============================] - 2s 6ms/step - loss: 0.0894 - accuracy: 0.9675 - val_loss: 4.0966 - val_accuracy: 0.2486\n",
            "Epoch 9/10\n",
            "296/296 [==============================] - 2s 6ms/step - loss: 0.0832 - accuracy: 0.9686 - val_loss: 4.4244 - val_accuracy: 0.2296\n",
            "Epoch 10/10\n",
            "296/296 [==============================] - 2s 6ms/step - loss: 0.0820 - accuracy: 0.9663 - val_loss: 4.2356 - val_accuracy: 0.2364\n"
          ]
        },
        {
          "output_type": "execute_result",
          "data": {
            "text/plain": [
              "'감성분석: 중립'"
            ],
            "application/vnd.google.colaboratory.intrinsic+json": {
              "type": "string"
            }
          },
          "metadata": {},
          "execution_count": 34
        },
        {
          "output_type": "stream",
          "name": "stdout",
          "text": [
            "Epoch 1/10\n"
          ]
        }
      ],
      "source": [
        "embedding_dim = 64\n",
        "hidden_units = 64\n",
        "\n",
        "model_lstm = Sequential()\n",
        "model_lstm.add(Embedding(vocab_size, embedding_dim))\n",
        "model_lstm.add(LSTM(hidden_units))\n",
        "model_lstm.add(Dense(unique_y, activation='softmax'))\n",
        "model_lstm.compile(loss='categorical_crossentropy', optimizer='adam', metrics=['accuracy'])\n",
        "model_lstm.fit(X_chatbot, y_one, epochs=10, verbose=1, validation_split=0.2)\n",
        "def sentiment_analysis(model, tokenizer, current_word): # 모델, 토크나이저, 현재 단어\n",
        "  # 현재 단어에 대한 정수 인코딩과 패딩\n",
        "  encoded = tokenizer.texts_to_sequences([current_word])[0]\n",
        "  encoded = pad_sequences([encoded], maxlen=5, padding='pre')\n",
        "  # 입력한 X(현재 단어)에 대해서 Y를 예측하고 Y(예측한 단어)를 result에 저장.\n",
        "  result = model.predict(encoded, verbose=0)\n",
        "  result = np.argmax(result, axis=1)\n",
        "  if result == [0]:\n",
        "    word_result = '감성분석: 중립'\n",
        "  elif result == [1]:\n",
        "    word_result = '감성분석: 긍정'\n",
        "  else:\n",
        "    word_result = '감성분석: 부정' \n",
        "  return word_result\n",
        "sentiment_analysis(model, tokenizer, '하루가 또 가네요')"
      ]
    }
  ],
  "metadata": {
    "accelerator": "GPU",
    "colab": {
      "collapsed_sections": [],
      "name": "자연어8.ipynb",
      "provenance": [],
      "authorship_tag": "ABX9TyOg7Y7j/Wxe+MHxZ8afrMZ3",
      "include_colab_link": true
    },
    "gpuClass": "standard",
    "kernelspec": {
      "display_name": "Python 3",
      "name": "python3"
    },
    "language_info": {
      "name": "python"
    }
  },
  "nbformat": 4,
  "nbformat_minor": 0
}