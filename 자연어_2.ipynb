{
  "nbformat": 4,
  "nbformat_minor": 0,
  "metadata": {
    "colab": {
      "name": "자연어 2.ipynb",
      "provenance": [],
      "collapsed_sections": [],
      "authorship_tag": "ABX9TyNkfTIxZVts8PhP4ZLVrUGb",
      "include_colab_link": true
    },
    "kernelspec": {
      "name": "python3",
      "display_name": "Python 3"
    },
    "language_info": {
      "name": "python"
    }
  },
  "cells": [
    {
      "cell_type": "markdown",
      "metadata": {
        "id": "view-in-github",
        "colab_type": "text"
      },
      "source": [
        "<a href=\"https://colab.research.google.com/github/yulbeom/portfolio/blob/main/%EC%9E%90%EC%97%B0%EC%96%B4_2.ipynb\" target=\"_parent\"><img src=\"https://colab.research.google.com/assets/colab-badge.svg\" alt=\"Open In Colab\"/></a>"
      ]
    },
    {
      "cell_type": "markdown",
      "source": [
        "# One-Hot Encoding\n",
        "###레이블 인코딩을 하고 원-핫 인코딩까지 하는 이유???\n",
        "####-> size에서오는 편향성을 없에기위해서\n",
        "####단점: 차원이 늘어나므로 연산량이 늘어난다"
      ],
      "metadata": {
        "id": "Ul6eN6LcPKl0"
      }
    },
    {
      "cell_type": "code",
      "source": [
        "pip install konlpy ###  nlpy -> Natural Language Processing for Python"
      ],
      "metadata": {
        "colab": {
          "base_uri": "https://localhost:8080/"
        },
        "id": "f1W-9hGkYFwS",
        "outputId": "32f0ed3c-ddb8-409a-d374-7e92a81d6d6a"
      },
      "execution_count": null,
      "outputs": [
        {
          "output_type": "stream",
          "name": "stdout",
          "text": [
            "Looking in indexes: https://pypi.org/simple, https://us-python.pkg.dev/colab-wheels/public/simple/\n",
            "Collecting konlpy\n",
            "  Downloading konlpy-0.6.0-py2.py3-none-any.whl (19.4 MB)\n",
            "\u001b[K     |████████████████████████████████| 19.4 MB 7.3 MB/s \n",
            "\u001b[?25hRequirement already satisfied: numpy>=1.6 in /usr/local/lib/python3.7/dist-packages (from konlpy) (1.21.6)\n",
            "Collecting JPype1>=0.7.0\n",
            "  Downloading JPype1-1.4.0-cp37-cp37m-manylinux_2_5_x86_64.manylinux1_x86_64.whl (453 kB)\n",
            "\u001b[K     |████████████████████████████████| 453 kB 24.1 MB/s \n",
            "\u001b[?25hRequirement already satisfied: lxml>=4.1.0 in /usr/local/lib/python3.7/dist-packages (from konlpy) (4.2.6)\n",
            "Requirement already satisfied: typing-extensions in /usr/local/lib/python3.7/dist-packages (from JPype1>=0.7.0->konlpy) (4.2.0)\n",
            "Installing collected packages: JPype1, konlpy\n",
            "Successfully installed JPype1-1.4.0 konlpy-0.6.0\n"
          ]
        }
      ]
    },
    {
      "cell_type": "code",
      "source": [
        "from nltk.corpus import stopwords   ### nltk -> Natural Language ToolKit\n",
        "from nltk.tokenize import word_tokenize\n",
        "from konlpy.tag import Okt  \n",
        "import nltk\n",
        "nltk.download('stopwords')\n",
        "nltk.download('punkt')\n",
        "stop_words_list = stopwords.words('english')\n",
        "print(len(stop_words_list))\n",
        "print(stop_words_list[:10])"
      ],
      "metadata": {
        "colab": {
          "base_uri": "https://localhost:8080/"
        },
        "id": "oIFvcP4gX6zw",
        "outputId": "4d5276bb-6bfa-48f4-c8c0-37595968f9f3"
      },
      "execution_count": null,
      "outputs": [
        {
          "output_type": "stream",
          "name": "stderr",
          "text": [
            "[nltk_data] Downloading package stopwords to /root/nltk_data...\n",
            "[nltk_data]   Unzipping corpora/stopwords.zip.\n",
            "[nltk_data] Downloading package punkt to /root/nltk_data...\n",
            "[nltk_data]   Unzipping tokenizers/punkt.zip.\n"
          ]
        },
        {
          "output_type": "stream",
          "name": "stdout",
          "text": [
            "179\n",
            "['i', 'me', 'my', 'myself', 'we', 'our', 'ours', 'ourselves', 'you', \"you're\"]\n"
          ]
        }
      ]
    },
    {
      "cell_type": "code",
      "execution_count": null,
      "metadata": {
        "colab": {
          "base_uri": "https://localhost:8080/"
        },
        "id": "iUcGehEBPJgb",
        "outputId": "2531a27e-8598-4206-b0d5-3895974f27c8"
      },
      "outputs": [
        {
          "output_type": "stream",
          "name": "stdout",
          "text": [
            "['나', '는', '자연어', '처리', '를', '배운다']\n"
          ]
        }
      ],
      "source": [
        "# One-Hot vector\n",
        "# pip install konlpy\n",
        "from konlpy.tag import Okt \n",
        "okt = Okt()\n",
        "tokens = okt.morphs(\"나는 자연어 처리를 배운다\") # 토큰화\n",
        "print(tokens)"
      ]
    },
    {
      "cell_type": "code",
      "source": [
        "### One-Hot Encoding\n",
        "word_to_index = {word:index for index, word in enumerate(tokens)}\n",
        "print(word_to_index)\n",
        "print(len(word_to_index))\n",
        "def one_hot_encoding(word, word_to_index): \n",
        "  one_hot_vector = [0]*(len(word_to_index))\n",
        "  index = word_to_index[word]\n",
        "  one_hot_vector[index] = 1\n",
        "  return one_hot_vector\n",
        "one_hot_encoding(\"자연어\", word_to_index)"
      ],
      "metadata": {
        "colab": {
          "base_uri": "https://localhost:8080/"
        },
        "id": "Y9VAp65VPQJQ",
        "outputId": "c09aed39-4657-4643-c446-81e86f1b128c"
      },
      "execution_count": null,
      "outputs": [
        {
          "output_type": "stream",
          "name": "stdout",
          "text": [
            "{'나': 0, '는': 1, '자연어': 2, '처리': 3, '를': 4, '배운다': 5}\n",
            "6\n"
          ]
        },
        {
          "output_type": "execute_result",
          "data": {
            "text/plain": [
              "[0, 0, 1, 0, 0, 0]"
            ]
          },
          "metadata": {},
          "execution_count": 4
        }
      ]
    },
    {
      "cell_type": "code",
      "source": [
        "from tensorflow.keras.preprocessing.text import Tokenizer\n",
        "from tensorflow.keras.utils import to_categorical\n",
        "text = \"나랑 점심 먹으러 갈래 점심 메뉴는 햄버거 갈래 갈래 햄버거 최고야\"\n",
        "tokenizer = Tokenizer()\n",
        "tokenizer.fit_on_texts([text])\n",
        "print('단어 집합 : ', tokenizer.word_index)\n",
        "sub_text = \"점심 먹으러 갈래 메뉴는 햄버거 최고야\"\n",
        "encoded = tokenizer.texts_to_sequences([sub_text])[0] # 레이블 인코딩 \n",
        "print(encoded)\n",
        "one_hot = to_categorical(encoded) # One-Hot Encoding -> 벡터로 변환, 값은 1 , 방향이 서로 다른 \n",
        "print(one_hot) # 왜 열이 8개???"
      ],
      "metadata": {
        "colab": {
          "base_uri": "https://localhost:8080/"
        },
        "id": "0wapvnmUQkT3",
        "outputId": "6fae63a8-636c-4877-feab-7b0452fcbac4"
      },
      "execution_count": null,
      "outputs": [
        {
          "output_type": "stream",
          "name": "stdout",
          "text": [
            "단어 집합 :  {'갈래': 1, '점심': 2, '햄버거': 3, '나랑': 4, '먹으러': 5, '메뉴는': 6, '최고야': 7}\n",
            "[2, 5, 1, 6, 3, 7]\n",
            "[[0. 0. 1. 0. 0. 0. 0. 0.]\n",
            " [0. 0. 0. 0. 0. 1. 0. 0.]\n",
            " [0. 1. 0. 0. 0. 0. 0. 0.]\n",
            " [0. 0. 0. 0. 0. 0. 1. 0.]\n",
            " [0. 0. 0. 1. 0. 0. 0. 0.]\n",
            " [0. 0. 0. 0. 0. 0. 0. 1.]]\n"
          ]
        }
      ]
    },
    {
      "cell_type": "markdown",
      "source": [
        "### Padding\n",
        "패딩(Padding)\n"
      ],
      "metadata": {
        "id": "e3XcrUx4VJY6"
      }
    },
    {
      "cell_type": "code",
      "source": [
        "from nltk.tokenize import sent_tokenize\n",
        "from nltk.tokenize import word_tokenize\n",
        "from nltk.corpus import stopwords\n",
        "raw_text = \"A barber is a person. a barber is good person. a barber is huge person. he Knew A Secret! The Secret He Kept is huge secret. Huge secret. His barber kept his word. a barber kept his word. His barber kept his secret. But keeping and keeping such a huge secret to himself was driving the barber crazy. the barber went up a huge mountain.\"\n",
        "sentences = sent_tokenize(raw_text)"
      ],
      "metadata": {
        "id": "IitoC3f-Yvpn"
      },
      "execution_count": null,
      "outputs": []
    },
    {
      "cell_type": "code",
      "source": [
        "vocab = {}\n",
        "preprocessed_sentences = []\n",
        "stop_words = set(stopwords.words('english')) # stopwords 불용어\n",
        "for sentence in sentences:\n",
        "  # 단어 토큰화\n",
        "  tokenized_sentence = word_tokenize(sentence)\n",
        "  result=[]\n",
        "  \n",
        "  for word in tokenized_sentence:\n",
        "    word = word.lower()\n",
        "    if word not in stop_words: # word가 불용어가 아니면\n",
        "      if len(word)>2:          # word 길이가 3이상이면\n",
        "        result.append(word)    # result 리스트에 넣는다\n",
        "        if word not in vocab:    # word가 vocab 딕셔너리안에 없다면\n",
        "          vocab[word] = 0        # word : 0 으로 vocab 딕셔너리안에 입력\n",
        "        vocab[word] += 1         \n",
        "  preprocessed_sentences.append(result)\n",
        "print(preprocessed_sentences)\n",
        "print(vocab)\n",
        "print(vocab['barber'])"
      ],
      "metadata": {
        "colab": {
          "base_uri": "https://localhost:8080/"
        },
        "id": "zj4gXCpOWkCf",
        "outputId": "094b4bbd-8221-4020-cf17-f32b6c51d5b3"
      },
      "execution_count": null,
      "outputs": [
        {
          "output_type": "stream",
          "name": "stdout",
          "text": [
            "[['barber', 'person'], ['barber', 'good', 'person'], ['barber', 'huge', 'person'], ['knew', 'secret'], ['secret', 'kept', 'huge', 'secret'], ['huge', 'secret'], ['barber', 'kept', 'word'], ['barber', 'kept', 'word'], ['barber', 'kept', 'secret'], ['keeping', 'keeping', 'huge', 'secret', 'driving', 'barber', 'crazy'], ['barber', 'went', 'huge', 'mountain']]\n",
            "{'barber': 8, 'person': 3, 'good': 1, 'huge': 5, 'knew': 1, 'secret': 6, 'kept': 4, 'word': 2, 'keeping': 2, 'driving': 1, 'crazy': 1, 'went': 1, 'mountain': 1}\n",
            "8\n"
          ]
        }
      ]
    },
    {
      "cell_type": "code",
      "source": [
        "import numpy as np\n",
        "from tensorflow.keras.preprocessing.text import Tokenizer\n",
        "tokenizer = Tokenizer()\n",
        "tokenizer.fit_on_texts(preprocessed_sentences) \n",
        "encoded = tokenizer.texts_to_sequences(preprocessed_sentences)\n",
        "print(encoded)\n",
        "# 단어의 최대 길이 확인\n",
        "max_len = max(len(item) for item in encoded)\n",
        "print('최대 길이:', max_len) # 한 문장안에 7(최대)개의 토큰"
      ],
      "metadata": {
        "colab": {
          "base_uri": "https://localhost:8080/"
        },
        "id": "A-tqmqe6QmNU",
        "outputId": "9ac53ad9-f020-4d9f-fdfa-fe3ca34aa38f"
      },
      "execution_count": null,
      "outputs": [
        {
          "output_type": "stream",
          "name": "stdout",
          "text": [
            "[[1, 5], [1, 8, 5], [1, 3, 5], [9, 2], [2, 4, 3, 2], [3, 2], [1, 4, 6], [1, 4, 6], [1, 4, 2], [7, 7, 3, 2, 10, 1, 11], [1, 12, 3, 13]]\n",
            "최대 길이: 7\n"
          ]
        }
      ]
    },
    {
      "cell_type": "code",
      "source": [
        "# 모든 문장의 길이를 max로 맞춥니다. 길이가 7보다 짧은 문장에는 숫자 0을\n",
        "# padded_np = [i+[0]*(max_len-len(i)) for i in encoded]\n",
        "# padded_np\n",
        "for sentence in encoded:\n",
        "    while len(sentence) < max_len:\n",
        "        sentence.append(0)\n",
        "padded_np = np.array(encoded)\n",
        "print(padded_np)"
      ],
      "metadata": {
        "colab": {
          "base_uri": "https://localhost:8080/"
        },
        "id": "Q9l_xrCmWceQ",
        "outputId": "66253d24-97c9-40bf-f74d-2b94b3c78b52"
      },
      "execution_count": null,
      "outputs": [
        {
          "output_type": "stream",
          "name": "stdout",
          "text": [
            "[[ 1  5  0  0  0  0  0]\n",
            " [ 1  8  5  0  0  0  0]\n",
            " [ 1  3  5  0  0  0  0]\n",
            " [ 9  2  0  0  0  0  0]\n",
            " [ 2  4  3  2  0  0  0]\n",
            " [ 3  2  0  0  0  0  0]\n",
            " [ 1  4  6  0  0  0  0]\n",
            " [ 1  4  6  0  0  0  0]\n",
            " [ 1  4  2  0  0  0  0]\n",
            " [ 7  7  3  2 10  1 11]\n",
            " [ 1 12  3 13  0  0  0]]\n"
          ]
        }
      ]
    },
    {
      "cell_type": "code",
      "source": [
        "from tensorflow.keras.preprocessing.sequence import pad_sequences\n",
        "encoded1 = tokenizer.texts_to_sequences(preprocessed_sentences)\n",
        "print(encoded1)\n",
        "padded = pad_sequences(encoded1)\n",
        "print(padded)\n",
        "padded_b = pad_sequences(encoded1, padding='post')\n",
        "print(padded_b)\n",
        "(padded_np == padded_b).all()\n",
        "padded_max = pad_sequences(encoded, padding='post', maxlen=5)\n",
        "print(padded_max)\n",
        "padded_max1 = pad_sequences(encoded, padding='post', truncating='post', maxlen=5) # truncating ???\n",
        "print(padded_max1)"
      ],
      "metadata": {
        "colab": {
          "base_uri": "https://localhost:8080/"
        },
        "id": "uJPJRd-PwZ0I",
        "outputId": "52ce492d-7594-422b-dc02-a46421723b2a"
      },
      "execution_count": null,
      "outputs": [
        {
          "output_type": "stream",
          "name": "stdout",
          "text": [
            "[[1, 5], [1, 8, 5], [1, 3, 5], [9, 2], [2, 4, 3, 2], [3, 2], [1, 4, 6], [1, 4, 6], [1, 4, 2], [7, 7, 3, 2, 10, 1, 11], [1, 12, 3, 13]]\n",
            "[[ 0  0  0  0  0  1  5]\n",
            " [ 0  0  0  0  1  8  5]\n",
            " [ 0  0  0  0  1  3  5]\n",
            " [ 0  0  0  0  0  9  2]\n",
            " [ 0  0  0  2  4  3  2]\n",
            " [ 0  0  0  0  0  3  2]\n",
            " [ 0  0  0  0  1  4  6]\n",
            " [ 0  0  0  0  1  4  6]\n",
            " [ 0  0  0  0  1  4  2]\n",
            " [ 7  7  3  2 10  1 11]\n",
            " [ 0  0  0  1 12  3 13]]\n",
            "[[ 1  5  0  0  0  0  0]\n",
            " [ 1  8  5  0  0  0  0]\n",
            " [ 1  3  5  0  0  0  0]\n",
            " [ 9  2  0  0  0  0  0]\n",
            " [ 2  4  3  2  0  0  0]\n",
            " [ 3  2  0  0  0  0  0]\n",
            " [ 1  4  6  0  0  0  0]\n",
            " [ 1  4  6  0  0  0  0]\n",
            " [ 1  4  2  0  0  0  0]\n",
            " [ 7  7  3  2 10  1 11]\n",
            " [ 1 12  3 13  0  0  0]]\n",
            "[[ 0  0  0  0  0]\n",
            " [ 5  0  0  0  0]\n",
            " [ 5  0  0  0  0]\n",
            " [ 0  0  0  0  0]\n",
            " [ 3  2  0  0  0]\n",
            " [ 0  0  0  0  0]\n",
            " [ 6  0  0  0  0]\n",
            " [ 6  0  0  0  0]\n",
            " [ 2  0  0  0  0]\n",
            " [ 3  2 10  1 11]\n",
            " [ 3 13  0  0  0]]\n",
            "[[ 1  5  0  0  0]\n",
            " [ 1  8  5  0  0]\n",
            " [ 1  3  5  0  0]\n",
            " [ 9  2  0  0  0]\n",
            " [ 2  4  3  2  0]\n",
            " [ 3  2  0  0  0]\n",
            " [ 1  4  6  0  0]\n",
            " [ 1  4  6  0  0]\n",
            " [ 1  4  2  0  0]\n",
            " [ 7  7  3  2 10]\n",
            " [ 1 12  3 13  0]]\n"
          ]
        }
      ]
    },
    {
      "cell_type": "markdown",
      "source": [
        "# Data set\n",
        "#### Training : Test\n",
        "#### Traning : Validation : Test"
      ],
      "metadata": {
        "id": "56XLoBYmz1wy"
      }
    },
    {
      "cell_type": "markdown",
      "source": [
        "# 한국어 패키지\n",
        "pip install git+https://github.com/haven-jeon/PyKoSpacing.git\n"
      ],
      "metadata": {
        "id": "4epC1xFd1caR"
      }
    },
    {
      "cell_type": "code",
      "source": [
        "pip install git+https://github.com/haven-jeon/PyKoSpacing.git"
      ],
      "metadata": {
        "colab": {
          "base_uri": "https://localhost:8080/",
          "height": 1000
        },
        "id": "4Ny3MMN-1aR6",
        "outputId": "acf48a97-7be6-4fc9-d85a-521fc654383e"
      },
      "execution_count": null,
      "outputs": [
        {
          "output_type": "stream",
          "name": "stdout",
          "text": [
            "Looking in indexes: https://pypi.org/simple, https://us-python.pkg.dev/colab-wheels/public/simple/\n",
            "Collecting git+https://github.com/haven-jeon/PyKoSpacing.git\n",
            "  Cloning https://github.com/haven-jeon/PyKoSpacing.git to /tmp/pip-req-build-sv2a23t3\n",
            "  Running command git clone -q https://github.com/haven-jeon/PyKoSpacing.git /tmp/pip-req-build-sv2a23t3\n",
            "Collecting tensorflow==2.6.4\n",
            "  Downloading https://us-python.pkg.dev/colab-wheels/public/tensorflow/tensorflow-2.6.4%2Bzzzcolab20220516125453-cp37-cp37m-linux_x86_64.whl\n",
            "\u001b[K     - 570.3 MB 97.8 MB/s\n",
            "\u001b[?25hRequirement already satisfied: h5py==3.1.0 in /usr/local/lib/python3.7/dist-packages (from pykospacing==0.5) (3.1.0)\n",
            "Collecting argparse>=1.4.0\n",
            "  Downloading argparse-1.4.0-py2.py3-none-any.whl (23 kB)\n",
            "Requirement already satisfied: cached-property in /usr/local/lib/python3.7/dist-packages (from h5py==3.1.0->pykospacing==0.5) (1.5.2)\n",
            "Requirement already satisfied: numpy>=1.14.5 in /usr/local/lib/python3.7/dist-packages (from h5py==3.1.0->pykospacing==0.5) (1.21.6)\n",
            "Requirement already satisfied: six~=1.15.0 in /usr/local/lib/python3.7/dist-packages (from tensorflow==2.6.4->pykospacing==0.5) (1.15.0)\n",
            "Collecting wrapt~=1.12.1\n",
            "  Downloading wrapt-1.12.1.tar.gz (27 kB)\n",
            "Collecting flatbuffers~=1.12.0\n",
            "  Downloading flatbuffers-1.12-py2.py3-none-any.whl (15 kB)\n",
            "Requirement already satisfied: termcolor~=1.1.0 in /usr/local/lib/python3.7/dist-packages (from tensorflow==2.6.4->pykospacing==0.5) (1.1.0)\n",
            "Collecting tensorboard<2.7,>=2.6.0\n",
            "  Downloading tensorboard-2.6.0-py3-none-any.whl (5.6 MB)\n",
            "\u001b[K     |████████████████████████████████| 5.6 MB 13.8 MB/s \n",
            "\u001b[?25hRequirement already satisfied: protobuf>=3.9.2 in /usr/local/lib/python3.7/dist-packages (from tensorflow==2.6.4->pykospacing==0.5) (3.17.3)\n",
            "Collecting numpy>=1.14.5\n",
            "  Downloading numpy-1.19.5-cp37-cp37m-manylinux2010_x86_64.whl (14.8 MB)\n",
            "\u001b[K     |████████████████████████████████| 14.8 MB 49.9 MB/s \n",
            "\u001b[?25hRequirement already satisfied: keras-preprocessing~=1.1.2 in /usr/local/lib/python3.7/dist-packages (from tensorflow==2.6.4->pykospacing==0.5) (1.1.2)\n",
            "Requirement already satisfied: opt-einsum~=3.3.0 in /usr/local/lib/python3.7/dist-packages (from tensorflow==2.6.4->pykospacing==0.5) (3.3.0)\n",
            "Collecting typing-extensions<3.11,>=3.7\n",
            "  Downloading typing_extensions-3.10.0.2-py3-none-any.whl (26 kB)\n",
            "Requirement already satisfied: google-pasta~=0.2 in /usr/local/lib/python3.7/dist-packages (from tensorflow==2.6.4->pykospacing==0.5) (0.2.0)\n",
            "Requirement already satisfied: astunparse~=1.6.3 in /usr/local/lib/python3.7/dist-packages (from tensorflow==2.6.4->pykospacing==0.5) (1.6.3)\n",
            "Requirement already satisfied: grpcio<2.0,>=1.37.0 in /usr/local/lib/python3.7/dist-packages (from tensorflow==2.6.4->pykospacing==0.5) (1.46.3)\n",
            "Collecting absl-py~=0.10\n",
            "  Downloading absl_py-0.15.0-py3-none-any.whl (132 kB)\n",
            "\u001b[K     |████████████████████████████████| 132 kB 65.1 MB/s \n",
            "\u001b[?25hCollecting clang~=5.0\n",
            "  Downloading clang-5.0.tar.gz (30 kB)\n",
            "Requirement already satisfied: wheel~=0.35 in /usr/local/lib/python3.7/dist-packages (from tensorflow==2.6.4->pykospacing==0.5) (0.37.1)\n",
            "Collecting gast==0.4.0\n",
            "  Downloading gast-0.4.0-py3-none-any.whl (9.8 kB)\n",
            "Collecting tensorflow-estimator<2.7,>=2.6.0\n",
            "  Downloading tensorflow_estimator-2.6.0-py2.py3-none-any.whl (462 kB)\n",
            "\u001b[K     |████████████████████████████████| 462 kB 44.6 MB/s \n",
            "\u001b[?25hCollecting keras<2.7,>=2.6.0\n",
            "  Downloading keras-2.6.0-py2.py3-none-any.whl (1.3 MB)\n",
            "\u001b[K     |████████████████████████████████| 1.3 MB 56.8 MB/s \n",
            "\u001b[?25hRequirement already satisfied: markdown>=2.6.8 in /usr/local/lib/python3.7/dist-packages (from tensorboard<2.7,>=2.6.0->tensorflow==2.6.4->pykospacing==0.5) (3.3.7)\n",
            "Requirement already satisfied: google-auth-oauthlib<0.5,>=0.4.1 in /usr/local/lib/python3.7/dist-packages (from tensorboard<2.7,>=2.6.0->tensorflow==2.6.4->pykospacing==0.5) (0.4.6)\n",
            "Requirement already satisfied: google-auth<2,>=1.6.3 in /usr/local/lib/python3.7/dist-packages (from tensorboard<2.7,>=2.6.0->tensorflow==2.6.4->pykospacing==0.5) (1.35.0)\n",
            "Requirement already satisfied: werkzeug>=0.11.15 in /usr/local/lib/python3.7/dist-packages (from tensorboard<2.7,>=2.6.0->tensorflow==2.6.4->pykospacing==0.5) (1.0.1)\n",
            "Requirement already satisfied: tensorboard-plugin-wit>=1.6.0 in /usr/local/lib/python3.7/dist-packages (from tensorboard<2.7,>=2.6.0->tensorflow==2.6.4->pykospacing==0.5) (1.8.1)\n",
            "Requirement already satisfied: setuptools>=41.0.0 in /usr/local/lib/python3.7/dist-packages (from tensorboard<2.7,>=2.6.0->tensorflow==2.6.4->pykospacing==0.5) (57.4.0)\n",
            "Requirement already satisfied: tensorboard-data-server<0.7.0,>=0.6.0 in /usr/local/lib/python3.7/dist-packages (from tensorboard<2.7,>=2.6.0->tensorflow==2.6.4->pykospacing==0.5) (0.6.1)\n",
            "Requirement already satisfied: requests<3,>=2.21.0 in /usr/local/lib/python3.7/dist-packages (from tensorboard<2.7,>=2.6.0->tensorflow==2.6.4->pykospacing==0.5) (2.23.0)\n",
            "Requirement already satisfied: rsa<5,>=3.1.4 in /usr/local/lib/python3.7/dist-packages (from google-auth<2,>=1.6.3->tensorboard<2.7,>=2.6.0->tensorflow==2.6.4->pykospacing==0.5) (4.8)\n",
            "Requirement already satisfied: pyasn1-modules>=0.2.1 in /usr/local/lib/python3.7/dist-packages (from google-auth<2,>=1.6.3->tensorboard<2.7,>=2.6.0->tensorflow==2.6.4->pykospacing==0.5) (0.2.8)\n",
            "Requirement already satisfied: cachetools<5.0,>=2.0.0 in /usr/local/lib/python3.7/dist-packages (from google-auth<2,>=1.6.3->tensorboard<2.7,>=2.6.0->tensorflow==2.6.4->pykospacing==0.5) (4.2.4)\n",
            "Requirement already satisfied: requests-oauthlib>=0.7.0 in /usr/local/lib/python3.7/dist-packages (from google-auth-oauthlib<0.5,>=0.4.1->tensorboard<2.7,>=2.6.0->tensorflow==2.6.4->pykospacing==0.5) (1.3.1)\n",
            "Requirement already satisfied: importlib-metadata>=4.4 in /usr/local/lib/python3.7/dist-packages (from markdown>=2.6.8->tensorboard<2.7,>=2.6.0->tensorflow==2.6.4->pykospacing==0.5) (4.11.4)\n",
            "Requirement already satisfied: zipp>=0.5 in /usr/local/lib/python3.7/dist-packages (from importlib-metadata>=4.4->markdown>=2.6.8->tensorboard<2.7,>=2.6.0->tensorflow==2.6.4->pykospacing==0.5) (3.8.0)\n",
            "Requirement already satisfied: pyasn1<0.5.0,>=0.4.6 in /usr/local/lib/python3.7/dist-packages (from pyasn1-modules>=0.2.1->google-auth<2,>=1.6.3->tensorboard<2.7,>=2.6.0->tensorflow==2.6.4->pykospacing==0.5) (0.4.8)\n",
            "Requirement already satisfied: chardet<4,>=3.0.2 in /usr/local/lib/python3.7/dist-packages (from requests<3,>=2.21.0->tensorboard<2.7,>=2.6.0->tensorflow==2.6.4->pykospacing==0.5) (3.0.4)\n",
            "Requirement already satisfied: idna<3,>=2.5 in /usr/local/lib/python3.7/dist-packages (from requests<3,>=2.21.0->tensorboard<2.7,>=2.6.0->tensorflow==2.6.4->pykospacing==0.5) (2.10)\n",
            "Requirement already satisfied: certifi>=2017.4.17 in /usr/local/lib/python3.7/dist-packages (from requests<3,>=2.21.0->tensorboard<2.7,>=2.6.0->tensorflow==2.6.4->pykospacing==0.5) (2022.5.18.1)\n",
            "Requirement already satisfied: urllib3!=1.25.0,!=1.25.1,<1.26,>=1.21.1 in /usr/local/lib/python3.7/dist-packages (from requests<3,>=2.21.0->tensorboard<2.7,>=2.6.0->tensorflow==2.6.4->pykospacing==0.5) (1.24.3)\n",
            "Requirement already satisfied: oauthlib>=3.0.0 in /usr/local/lib/python3.7/dist-packages (from requests-oauthlib>=0.7.0->google-auth-oauthlib<0.5,>=0.4.1->tensorboard<2.7,>=2.6.0->tensorflow==2.6.4->pykospacing==0.5) (3.2.0)\n",
            "Building wheels for collected packages: pykospacing, clang, wrapt\n",
            "  Building wheel for pykospacing (setup.py) ... \u001b[?25l\u001b[?25hdone\n",
            "  Created wheel for pykospacing: filename=pykospacing-0.5-py3-none-any.whl size=2268580 sha256=0f066f55f7163eca72a341ddc53a2ef52656fad3fb2866e7d4fbed47c3f28d23\n",
            "  Stored in directory: /tmp/pip-ephem-wheel-cache-6ignzqv6/wheels/9b/93/81/a2a7dc8c66ede5bf30634d20635f32b95eac7ca2ea8844058b\n",
            "  Building wheel for clang (setup.py) ... \u001b[?25l\u001b[?25hdone\n",
            "  Created wheel for clang: filename=clang-5.0-py3-none-any.whl size=30694 sha256=71847f5b0a4e661aec80743f585167a31520c222310d57dfaa7e8155a86b7d93\n",
            "  Stored in directory: /root/.cache/pip/wheels/98/91/04/971b4c587cf47ae952b108949b46926f426c02832d120a082a\n",
            "  Building wheel for wrapt (setup.py) ... \u001b[?25l\u001b[?25hdone\n",
            "  Created wheel for wrapt: filename=wrapt-1.12.1-cp37-cp37m-linux_x86_64.whl size=68722 sha256=c77a69c8a9cab356601220c43ae93348b299ffc14e78815815a746ab890495ce\n",
            "  Stored in directory: /root/.cache/pip/wheels/62/76/4c/aa25851149f3f6d9785f6c869387ad82b3fd37582fa8147ac6\n",
            "Successfully built pykospacing clang wrapt\n",
            "Installing collected packages: typing-extensions, numpy, absl-py, wrapt, tensorflow-estimator, tensorboard, keras, gast, flatbuffers, clang, tensorflow, argparse, pykospacing\n",
            "  Attempting uninstall: typing-extensions\n",
            "    Found existing installation: typing-extensions 4.2.0\n",
            "    Uninstalling typing-extensions-4.2.0:\n",
            "      Successfully uninstalled typing-extensions-4.2.0\n",
            "  Attempting uninstall: numpy\n",
            "    Found existing installation: numpy 1.21.6\n",
            "    Uninstalling numpy-1.21.6:\n",
            "      Successfully uninstalled numpy-1.21.6\n",
            "  Attempting uninstall: absl-py\n",
            "    Found existing installation: absl-py 1.1.0\n",
            "    Uninstalling absl-py-1.1.0:\n",
            "      Successfully uninstalled absl-py-1.1.0\n",
            "  Attempting uninstall: wrapt\n",
            "    Found existing installation: wrapt 1.14.1\n",
            "    Uninstalling wrapt-1.14.1:\n",
            "      Successfully uninstalled wrapt-1.14.1\n",
            "  Attempting uninstall: tensorflow-estimator\n",
            "    Found existing installation: tensorflow-estimator 2.8.0\n",
            "    Uninstalling tensorflow-estimator-2.8.0:\n",
            "      Successfully uninstalled tensorflow-estimator-2.8.0\n",
            "  Attempting uninstall: tensorboard\n",
            "    Found existing installation: tensorboard 2.8.0\n",
            "    Uninstalling tensorboard-2.8.0:\n",
            "      Successfully uninstalled tensorboard-2.8.0\n",
            "  Attempting uninstall: keras\n",
            "    Found existing installation: keras 2.8.0\n",
            "    Uninstalling keras-2.8.0:\n",
            "      Successfully uninstalled keras-2.8.0\n",
            "  Attempting uninstall: gast\n",
            "    Found existing installation: gast 0.5.3\n",
            "    Uninstalling gast-0.5.3:\n",
            "      Successfully uninstalled gast-0.5.3\n",
            "  Attempting uninstall: flatbuffers\n",
            "    Found existing installation: flatbuffers 2.0\n",
            "    Uninstalling flatbuffers-2.0:\n",
            "      Successfully uninstalled flatbuffers-2.0\n",
            "  Attempting uninstall: tensorflow\n",
            "    Found existing installation: tensorflow 2.8.2+zzzcolab20220527125636\n",
            "    Uninstalling tensorflow-2.8.2+zzzcolab20220527125636:\n",
            "      Successfully uninstalled tensorflow-2.8.2+zzzcolab20220527125636\n",
            "\u001b[31mERROR: pip's dependency resolver does not currently take into account all the packages that are installed. This behaviour is the source of the following dependency conflicts.\n",
            "xarray-einstats 0.2.2 requires numpy>=1.21, but you have numpy 1.19.5 which is incompatible.\n",
            "datascience 0.10.6 requires folium==0.2.1, but you have folium 0.8.3 which is incompatible.\n",
            "albumentations 0.1.12 requires imgaug<0.2.7,>=0.2.5, but you have imgaug 0.2.9 which is incompatible.\u001b[0m\n",
            "Successfully installed absl-py-0.15.0 argparse-1.4.0 clang-5.0 flatbuffers-1.12 gast-0.4.0 keras-2.6.0 numpy-1.19.5 pykospacing-0.5 tensorboard-2.6.0 tensorflow-2.6.4+zzzcolab20220516125453 tensorflow-estimator-2.6.0 typing-extensions-3.10.0.2 wrapt-1.12.1\n"
          ]
        },
        {
          "output_type": "display_data",
          "data": {
            "application/vnd.colab-display-data+json": {
              "pip_warning": {
                "packages": [
                  "absl",
                  "argparse",
                  "flatbuffers",
                  "gast",
                  "keras",
                  "numpy",
                  "tensorboard",
                  "tensorflow",
                  "typing_extensions",
                  "wrapt"
                ]
              }
            }
          },
          "metadata": {}
        }
      ]
    },
    {
      "cell_type": "code",
      "source": [
        "sent = '김철수는 극중 두 인격의 사나이 이광수 역을 맡았다. 철수는 한국 유일의 태권도 전승자를 가리는 결전의 날을 앞두고 10년간 함께 훈련한 사형인 유연재(김광수 분)를 찾으러 속세로 내려온 인물이다.'\n",
        "new_sent = sent.replace(\" \",'')\n",
        "print(new_sent)"
      ],
      "metadata": {
        "colab": {
          "base_uri": "https://localhost:8080/"
        },
        "id": "NdUYk21W1aa3",
        "outputId": "d761c293-6769-4df9-cbac-741cec022a1a"
      },
      "execution_count": null,
      "outputs": [
        {
          "output_type": "stream",
          "name": "stdout",
          "text": [
            "김철수는극중두인격의사나이이광수역을맡았다.철수는한국유일의태권도전승자를가리는결전의날을앞두고10년간함께훈련한사형인유연재(김광수분)를찾으러속세로내려온인물이다.\n"
          ]
        }
      ]
    },
    {
      "cell_type": "code",
      "source": [
        "import tensorflow as tf\n",
        "from pykospacing import Spacing\n",
        "# tf.autograph.experimental.do_not_convert\n",
        "spacing = Spacing()\n",
        "kospacing_sent = spacing(new_sent)\n",
        "print(sent)\n",
        "print(kospacing_sent)"
      ],
      "metadata": {
        "colab": {
          "base_uri": "https://localhost:8080/"
        },
        "id": "2jZUv_9a4f14",
        "outputId": "d76d7ccd-76cd-4342-cf1a-823286fe86b9"
      },
      "execution_count": null,
      "outputs": [
        {
          "output_type": "stream",
          "name": "stdout",
          "text": [
            "WARNING:tensorflow:AutoGraph could not transform <function Model.make_predict_function.<locals>.predict_function at 0x7f3074c398c0> and will run it as-is.\n",
            "Please report this to the TensorFlow team. When filing the bug, set the verbosity to 10 (on Linux, `export AUTOGRAPH_VERBOSITY=10`) and attach the full output.\n",
            "Cause: closure mismatch, requested ('self', 'step_function'), but source function had ()\n",
            "To silence this warning, decorate the function with @tf.autograph.experimental.do_not_convert\n",
            "WARNING: AutoGraph could not transform <function Model.make_predict_function.<locals>.predict_function at 0x7f3074c398c0> and will run it as-is.\n",
            "Please report this to the TensorFlow team. When filing the bug, set the verbosity to 10 (on Linux, `export AUTOGRAPH_VERBOSITY=10`) and attach the full output.\n",
            "Cause: closure mismatch, requested ('self', 'step_function'), but source function had ()\n",
            "To silence this warning, decorate the function with @tf.autograph.experimental.do_not_convert\n",
            "김철수는 극중 두 인격의 사나이 이광수 역을 맡았다. 철수는 한국 유일의 태권도 전승자를 가리는 결전의 날을 앞두고 10년간 함께 훈련한 사형인 유연재(김광수 분)를 찾으러 속세로 내려온 인물이다.\n",
            "김철수는 극중 두 인격의 사나이 이광수 역을 맡았다. 철수는 한국 유일의 태권도 전승자를 가리는 결전의 날을 앞두고 10년간 함께 훈련한 사형인 유연재(김광수 분)를 찾으러 속세로 내려온 인물이다.\n"
          ]
        }
      ]
    },
    {
      "cell_type": "code",
      "source": [
        "pip install git+https://github.com/ssut/py-hanspell.git"
      ],
      "metadata": {
        "colab": {
          "base_uri": "https://localhost:8080/"
        },
        "id": "oLtp0SDrNJCw",
        "outputId": "c2e49fb8-e0b8-4898-dedf-d3674d4226e1"
      },
      "execution_count": null,
      "outputs": [
        {
          "output_type": "stream",
          "name": "stdout",
          "text": [
            "Looking in indexes: https://pypi.org/simple, https://us-python.pkg.dev/colab-wheels/public/simple/\n",
            "Collecting git+https://github.com/ssut/py-hanspell.git\n",
            "  Cloning https://github.com/ssut/py-hanspell.git to /tmp/pip-req-build-l472ee22\n",
            "  Running command git clone -q https://github.com/ssut/py-hanspell.git /tmp/pip-req-build-l472ee22\n",
            "Requirement already satisfied: requests in /usr/local/lib/python3.7/dist-packages (from py-hanspell==1.1) (2.23.0)\n",
            "Requirement already satisfied: idna<3,>=2.5 in /usr/local/lib/python3.7/dist-packages (from requests->py-hanspell==1.1) (2.10)\n",
            "Requirement already satisfied: urllib3!=1.25.0,!=1.25.1,<1.26,>=1.21.1 in /usr/local/lib/python3.7/dist-packages (from requests->py-hanspell==1.1) (1.24.3)\n",
            "Requirement already satisfied: chardet<4,>=3.0.2 in /usr/local/lib/python3.7/dist-packages (from requests->py-hanspell==1.1) (3.0.4)\n",
            "Requirement already satisfied: certifi>=2017.4.17 in /usr/local/lib/python3.7/dist-packages (from requests->py-hanspell==1.1) (2022.5.18.1)\n",
            "Building wheels for collected packages: py-hanspell\n",
            "  Building wheel for py-hanspell (setup.py) ... \u001b[?25l\u001b[?25hdone\n",
            "  Created wheel for py-hanspell: filename=py_hanspell-1.1-py3-none-any.whl size=4868 sha256=015500e5201e5bddf8c8eb5a4c08beb7985bda36a24ef69858c5f04da2046ddd\n",
            "  Stored in directory: /tmp/pip-ephem-wheel-cache-rz3wwpao/wheels/ab/f5/7b/d4124bb329c905301baed80e2ae45aa14e824f62ebc3ec2cc4\n",
            "Successfully built py-hanspell\n",
            "Installing collected packages: py-hanspell\n",
            "Successfully installed py-hanspell-1.1\n"
          ]
        }
      ]
    },
    {
      "cell_type": "code",
      "source": [
        "from hanspell import spell_checker\n",
        "sent = \"맞춤법 틀리면 외 않되? 쓰고싶은대로쓰면돼지\"\n",
        "spell_checker.check(sent).checked"
      ],
      "metadata": {
        "colab": {
          "base_uri": "https://localhost:8080/",
          "height": 36
        },
        "id": "Mc4fvpsH5wIV",
        "outputId": "3ae24b25-92e2-4877-9572-39f9bb670393"
      },
      "execution_count": null,
      "outputs": [
        {
          "output_type": "execute_result",
          "data": {
            "text/plain": [
              "'맞춤법 틀리면 왜 안돼? 쓰고 싶은 대로 쓰면 되지'"
            ],
            "application/vnd.google.colaboratory.intrinsic+json": {
              "type": "string"
            }
          },
          "metadata": {},
          "execution_count": 15
        }
      ]
    },
    {
      "cell_type": "code",
      "source": [
        "# new_sent 대입 후 pykospacing과 비교\n",
        "print(\"pyhanspell : \", spell_checker.check(new_sent))"
      ],
      "metadata": {
        "colab": {
          "base_uri": "https://localhost:8080/"
        },
        "id": "-NjXgHI69HXK",
        "outputId": "2c2c2897-a7ec-471e-8948-514ccd2c1a40"
      },
      "execution_count": null,
      "outputs": [
        {
          "output_type": "stream",
          "name": "stdout",
          "text": [
            "pyhanspell :  Checked(result=True, original='김철수는극중두인격의사나이이광수역을맡았다.철수는한국유일의태권도전승자를가리는결전의날을앞두고10년간함께훈련한사형인유연재(김광수분)를찾으러속세로내려온인물이다.', checked='김철수는 극 중 두 인격의 사나이 이광수 역을 맡았다. 철수는 한국 유일의 태권도 전승자를 가리는 결전의 날을 앞두고 10년간 함께 훈련한 사형인 유연제(김광수 분)를 찾으러 속세로 내려온 인물이다.', errors=1, words=OrderedDict([('김철수는', 4), ('극', 4), ('중', 4), ('두', 4), ('인격의', 4), ('사나이', 4), ('이광수', 4), ('역을', 4), ('맡았다.', 4), ('철수는', 4), ('한국', 4), ('유일의', 4), ('태권도', 4), ('전승자를', 4), ('가리는', 4), ('결전의', 4), ('날을', 4), ('앞두고', 4), ('10년간', 4), ('함께', 4), ('훈련한', 4), ('사형인', 4), ('유연제(김광수', 4), ('분)를', 4), ('찾으러', 4), ('속세로', 4), ('내려온', 4), ('인물이다.', 4)]), time=0.41045618057250977)\n"
          ]
        }
      ]
    },
    {
      "cell_type": "code",
      "source": [
        "from konlpy.tag import Okt\n",
        "tokenizer = Okt()\n",
        "print(tokenizer.morphs('에이비식스 이대휘 1월 최애돌 기부 요정'))"
      ],
      "metadata": {
        "colab": {
          "base_uri": "https://localhost:8080/"
        },
        "id": "ot30jIft_S58",
        "outputId": "467adea6-a323-4b65-b247-7b2a43e3eac0"
      },
      "execution_count": null,
      "outputs": [
        {
          "output_type": "stream",
          "name": "stdout",
          "text": [
            "['에이', '비식스', '이대', '휘', '1월', '최애', '돌', '기부', '요정']\n"
          ]
        }
      ]
    },
    {
      "cell_type": "code",
      "source": [
        "pip install soynlp"
      ],
      "metadata": {
        "colab": {
          "base_uri": "https://localhost:8080/"
        },
        "id": "V3FWCpa1N0nc",
        "outputId": "df3c8ead-4801-4af0-fec0-4b3384e741c0"
      },
      "execution_count": null,
      "outputs": [
        {
          "output_type": "stream",
          "name": "stdout",
          "text": [
            "Looking in indexes: https://pypi.org/simple, https://us-python.pkg.dev/colab-wheels/public/simple/\n",
            "Collecting soynlp\n",
            "  Downloading soynlp-0.0.493-py3-none-any.whl (416 kB)\n",
            "\u001b[K     |████████████████████████████████| 416 kB 10.4 MB/s \n",
            "\u001b[?25hRequirement already satisfied: scikit-learn>=0.20.0 in /usr/local/lib/python3.7/dist-packages (from soynlp) (1.0.2)\n",
            "Requirement already satisfied: psutil>=5.0.1 in /usr/local/lib/python3.7/dist-packages (from soynlp) (5.4.8)\n",
            "Requirement already satisfied: numpy>=1.12.1 in /usr/local/lib/python3.7/dist-packages (from soynlp) (1.19.5)\n",
            "Requirement already satisfied: scipy>=1.1.0 in /usr/local/lib/python3.7/dist-packages (from soynlp) (1.4.1)\n",
            "Requirement already satisfied: threadpoolctl>=2.0.0 in /usr/local/lib/python3.7/dist-packages (from scikit-learn>=0.20.0->soynlp) (3.1.0)\n",
            "Requirement already satisfied: joblib>=0.11 in /usr/local/lib/python3.7/dist-packages (from scikit-learn>=0.20.0->soynlp) (1.1.0)\n",
            "Installing collected packages: soynlp\n",
            "Successfully installed soynlp-0.0.493\n"
          ]
        }
      ]
    },
    {
      "cell_type": "code",
      "source": [
        "# Cohesion Probability(응집 확률) & Branching Entropy 기반\n",
        "import urllib.request\n",
        "from soynlp import DoublespaceLineCorpus\n",
        "from soynlp.word import WordExtractor"
      ],
      "metadata": {
        "id": "sVpwPJfS_TLs"
      },
      "execution_count": null,
      "outputs": []
    },
    {
      "cell_type": "code",
      "source": [
        "urllib.request.urlretrieve(\"https://raw.githubusercontent.com/lovit/soynlp/master/tutorials/2016-10-20.txt\", filename=\"2016-10-20.txt\")"
      ],
      "metadata": {
        "colab": {
          "base_uri": "https://localhost:8080/"
        },
        "id": "cqdOvuBmPVcV",
        "outputId": "69d28093-4014-41b8-c249-b4177e63eaa8"
      },
      "execution_count": null,
      "outputs": [
        {
          "output_type": "execute_result",
          "data": {
            "text/plain": [
              "('2016-10-20.txt', <http.client.HTTPMessage at 0x7f307477a290>)"
            ]
          },
          "metadata": {},
          "execution_count": 20
        }
      ]
    },
    {
      "cell_type": "code",
      "source": [
        "corpus = DoublespaceLineCorpus(\"2016-10-20.txt\")\n",
        "print(len(corpus))"
      ],
      "metadata": {
        "colab": {
          "base_uri": "https://localhost:8080/"
        },
        "id": "FoTXyq9nAODo",
        "outputId": "692a5973-5b4a-4387-a11d-d2ceefb4c082"
      },
      "execution_count": null,
      "outputs": [
        {
          "output_type": "stream",
          "name": "stdout",
          "text": [
            "30091\n"
          ]
        }
      ]
    },
    {
      "cell_type": "code",
      "source": [
        "i = 0\n",
        "for d in corpus:\n",
        "  if len(d) > 0:\n",
        "    print(i+1, d)\n",
        "    i += 1\n",
        "  if i == 10:\n",
        "    break"
      ],
      "metadata": {
        "colab": {
          "base_uri": "https://localhost:8080/"
        },
        "id": "E1m3OYaAGT3q",
        "outputId": "5259194c-160b-428a-f08a-898f06842194"
      },
      "execution_count": null,
      "outputs": [
        {
          "output_type": "stream",
          "name": "stdout",
          "text": [
            "1 19  1990  52 1 22\n",
            "2 오패산터널 총격전 용의자 검거 서울 연합뉴스 경찰 관계자들이 19일 오후 서울 강북구 오패산 터널 인근에서 사제 총기를 발사해 경찰을 살해한 용의자 성모씨를 검거하고 있다 성씨는 검거 당시 서바이벌 게임에서 쓰는 방탄조끼에 헬멧까지 착용한 상태였다 독자제공 영상 캡처 연합뉴스  서울 연합뉴스 김은경 기자 사제 총기로 경찰을 살해한 범인 성모 46 씨는 주도면밀했다  경찰에 따르면 성씨는 19일 오후 강북경찰서 인근 부동산 업소 밖에서 부동산업자 이모 67 씨가 나오기를 기다렸다 이씨와는 평소에도 말다툼을 자주 한 것으로 알려졌다  이씨가 나와 걷기 시작하자 성씨는 따라가면서 미리 준비해온 사제 총기를 이씨에게 발사했다 총알이 빗나가면서 이씨는 도망갔다 그 빗나간 총알은 지나가던 행인 71 씨의 배를 스쳤다  성씨는 강북서 인근 치킨집까지 이씨 뒤를 쫓으며 실랑이하다 쓰러뜨린 후 총기와 함께 가져온 망치로 이씨 머리를 때렸다  이 과정에서 오후 6시 20분께 강북구 번동 길 위에서 사람들이 싸우고 있다 총소리가 났다 는 등의 신고가 여러건 들어왔다  5분 후에 성씨의 전자발찌가 훼손됐다는 신고가 보호관찰소 시스템을 통해 들어왔다 성범죄자로 전자발찌를 차고 있던 성씨는 부엌칼로 직접 자신의 발찌를 끊었다  용의자 소지 사제총기 2정 서울 연합뉴스 임헌정 기자 서울 시내에서 폭행 용의자가 현장 조사를 벌이던 경찰관에게 사제총기를 발사해 경찰관이 숨졌다 19일 오후 6시28분 강북구 번동에서 둔기로 맞았다 는 폭행 피해 신고가 접수돼 현장에서 조사하던 강북경찰서 번동파출소 소속 김모 54 경위가 폭행 용의자 성모 45 씨가 쏜 사제총기에 맞고 쓰러진 뒤 병원에 옮겨졌으나 숨졌다 사진은 용의자가 소지한 사제총기  신고를 받고 번동파출소에서 김창호 54 경위 등 경찰들이 오후 6시 29분께 현장으로 출동했다 성씨는 그사이 부동산 앞에 놓아뒀던 가방을 챙겨 오패산 쪽으로 도망간 후였다  김 경위는 오패산 터널 입구 오른쪽의 급경사에서 성씨에게 접근하다가 오후 6시 33분께 풀숲에 숨은 성씨가 허공에 난사한 10여발의 총알 중 일부를 왼쪽 어깨 뒷부분에 맞고 쓰러졌다  김 경위는 구급차가 도착했을 때 이미 의식이 없었고 심폐소생술을 하며 병원으로 옮겨졌으나 총알이 폐를 훼손해 오후 7시 40분께 사망했다  김 경위는 외근용 조끼를 입고 있었으나 총알을 막기에는 역부족이었다  머리에 부상을 입은 이씨도 함께 병원으로 이송됐으나 생명에는 지장이 없는 것으로 알려졌다  성씨는 오패산 터널 밑쪽 숲에서 오후 6시 45분께 잡혔다  총격현장 수색하는 경찰들 서울 연합뉴스 이효석 기자 19일 오후 서울 강북구 오패산 터널 인근에서 경찰들이 폭행 용의자가 사제총기를 발사해 경찰관이 사망한 사건을 조사 하고 있다  총 때문에 쫓던 경관들과 민간인들이 몸을 숨겼는데 인근 신발가게 직원 이모씨가 다가가 성씨를 덮쳤고 이어 현장에 있던 다른 상인들과 경찰이 가세해 체포했다  성씨는 경찰에 붙잡힌 직후 나 자살하려고 한 거다 맞아 죽어도 괜찮다 고 말한 것으로 전해졌다  성씨 자신도 경찰이 발사한 공포탄 1발 실탄 3발 중 실탄 1발을 배에 맞았으나 방탄조끼를 입은 상태여서 부상하지는 않았다  경찰은 인근을 수색해 성씨가 만든 사제총 16정과 칼 7개를 압수했다 실제 폭발할지는 알 수 없는 요구르트병에 무언가를 채워두고 심지를 꽂은 사제 폭탄도 발견됐다  일부는 숲에서 발견됐고 일부는 성씨가 소지한 가방 안에 있었다\n",
            "3 테헤란 연합뉴스 강훈상 특파원 이용 승객수 기준 세계 최대 공항인 아랍에미리트 두바이국제공항은 19일 현지시간 이 공항을 이륙하는 모든 항공기의 탑승객은 삼성전자의 갤럭시노트7을 휴대하면 안 된다고 밝혔다  두바이국제공항은 여러 항공 관련 기구의 권고에 따라 안전성에 우려가 있는 스마트폰 갤럭시노트7을 휴대하고 비행기를 타면 안 된다 며 탑승 전 검색 중 발견되면 압수할 계획 이라고 발표했다  공항 측은 갤럭시노트7의 배터리가 폭발 우려가 제기된 만큼 이 제품을 갖고 공항 안으로 들어오지 말라고 이용객에 당부했다  이런 조치는 두바이국제공항 뿐 아니라 신공항인 두바이월드센터에도 적용된다  배터리 폭발문제로 회수된 갤럭시노트7 연합뉴스자료사진\n",
            "4 브뤼셀 연합뉴스 김병수 특파원 독일 정부는 19일 원자력발전소를 폐쇄하기로 함에 따라 원자력 발전소 운영자들에게 핵폐기물 처리를 지원하는 펀드에 235억 유로 260억 달러 29조 원 를 지불하도록 하는 계획을 승인했다고 언론들이 보도했다  앞서 독일은 5년 전 일본 후쿠시마 원전사태 이후 오는 2022년까지 원전 17기를 모두 폐쇄하기로 하고 오는 2050년까지 전기생산량의 80 를 재생에너지로 충당하는 것을 목표로 세웠다  이날 내각을 통과한 법안은 원전 운영자들이 원전 해체와 핵폐기물 처리를 위한 포장을 책임지고 정부는 핵폐기물 보관을 책임지도록 했다  독일 경제부는 전력회사들과 공식적인 접촉은 아직 합의되지 않았다고 밝혔다  독일 원자력 발전소 연합뉴스 자료사진\n",
            "5 서울 연합뉴스 19일 서울 강북구에서 사제 총기범이 쏜 총탄에 숨진 김창호 54 경위의 생전 모습 김 경위는 의협심 강하고 솔선수범하는 참된 경찰관이었다는 평가를 받는다 2016 10 20 서울 강북경찰서 제공 연합뉴스\n",
            "6 몇 개월 새 1억 달러 벌어 리스크관리 강화탓에 드문 일  뉴욕 연합뉴스 박성제 특파원 미국의 대형은행인 골드만삭스에서 근무하는 트레이더가 투자부적격 등급의 채권인 정크본드 에 투자해 몇 개월 사이에 1억 달러 약 1천123억 원 가 넘는 이익을 남긴 것으로 알려졌다  금융감독당국이 글로벌 금융위기 이후 대형은행의 리스크관리를 강조하는 상황이어서 이런 대박은 흔치 않은 것으로 여겨지고 있다  월스트리트저널은 뉴욕에서 고수익채권업무를 하는 골드만삭스의 톰 맬러프론트 34 관리이사가 올 초에 정크본드에 투자해 1억 달러 이상의 수익을 골드만삭스에 안겼다고 소식통을 인용해 19일 현지시간 보도했다  맬러프론트는 올 1월에 광산업체인 프리포트 맥모란 과 테크 리소시즈 가 발행한 투자부적격 등급 채권을 수십억 달러어치 매입했다  이어 채권 가격이 오르자 짧게는 며칠 뒤에 길게는 몇 주 뒤에 되팔아 거액을 챙긴 것으로 전해졌다  뉴저지 주 럿거스대학 야구선수 출신인 그는 2013년 골드만삭스 입사 전에 헤지펀드 블루 마운틴 캐피털 매니지먼트와 크레디트 스위스그룹에서 근무했다  월스트리트저널은 금융 감독 당국의 감시 탓에 대형은행이 정크본드에 투자해 엄청난 수익을 내는 일이 최근에는 드물다고 설명했다  글로벌 금융위기 이전에는 리스크를 무릅쓰고 고수익을 추구한 탓에 이런 사례가 종종 있었지만 위기 재발 방지에 나선 감독 당국이 대형은행에 리스크관리를 강하게 주문하면서 수익률이 낮지만 안전한 투자가 주를 이루고 있다  감독 당국은 은행에 채권 판매자와 구매자를 중개하는 시장 조성자 의 역할을 강조하고 자체 돈으로 투자하는 것도 제한하고 있다  이에 따라 대형은행들은 고객의 돈이 아닌 은행 자체 돈을 투자하는 이른바 프랍 트레이딩 을 없애는 등 채권에 대한 투자를 줄였다  골드만삭스는 트레이더가 하루에 채권에 투자할 수 있는 금액의 한도를 설정하는 등 자체 기준도 강화해 시행하고 있다  맬러프론트가 은행 돈을 투자한 것인지 아니면 시장 조성자로서 고객의 돈을 중개한 것인지는 명확하지 않다  또 골드만삭스가 정한 투자 한도를 초과했는지와 감독 당국이 이번 투자 건을 조사했는지도 확인되지 않았다고 월스트리트저널은 덧붙였다  뉴욕에 있는 골드만삭스 본부 연합뉴스 자료사진\n",
            "7 서울 연합뉴스 19일 서울 시내에서 출동한 경찰관에게 사제 총기를 발사한 용의자가 범행 전 사회관계망서비스 에 올린 글 용의자는 경찰이 내게 살인 누명을 씌우려고 한다 는 등 경찰을 향한 적대감을 여러 차례 에 글로 남겼다 2016 10 20 페이스북 캡처 연합뉴스\n",
            "8 측 제안 한미 해군 수상전센터서 미래 해상전투개념 등 연구  워싱턴 연합뉴스 이영재 기자 제48차 한미안보협의회 참석차 미국을 방문 중인 한민구 국방부 장관이 19일 현지시간 미 해군의 최첨단 무기체계를 개발하는 수상전센터 를 방문했다  국방부 관계자는 이날 한 장관이 미국 버지니아주에 있는 미 해군 수상전센터 달그렌 지부를 찾아 무기체계 개발 현황을 살펴봤다 고 밝혔다 한국 국방부 장관이 를 방문한 것은 이번이 처음이다 한 장관의 방문은 미국 측 제안으로 이뤄진 것으로 알려졌다  한 장관은 한미 외교 국방장관 2 2 회의와 참석차 미국을 방문 중이다 한 장관은 2 2 회의 참석을 앞두고 워싱턴 와 가장 가까운 수상전센터 달그렌 지부를 찾았다  한 장관의 수상전센터 방문에는 에이브러햄 덴마크 미 국방부 동아시아 부차관보도 동행했다 톰 드러건 수상전센터장 해군 소장 이 한 장관 일행을 맞았다  미 해군 수상전센터는 해군 수상전에 쓰이는 함정과 전투체계 연구개발과 시험평가 업무를 하는 곳으로 1991년 미 해군 체계사령부 예하 기관으로 설립됐다 이 센터는 버지니아주 등 8개 지역에 지부를 뒀다 버지니아주의 달그랜 지부에는 현역 군인과 연구원 등 3천500여명이 근무하고 있다 규모는 포토맥강 전투실험장을 포함해 1만7천여 이다  1918년 미 해군 지상 전투실험장으로 설립된 역사 깊은 곳이다 수상전 관련 해군의 전투 전략 무기체계의 연구개발 시험이 이뤄진다 2차 세계대전까지 해군의 대포와 탄약류 실험은 주로 포토맥강 전투실험실에서 진행됐다  화약이 아닌 전자기력으로 발사체를 쏘는 최첨단 무기인 레일건 도 수상전센터에서 개발됐다 레일건은 해상에서 멀리 떨어진 적 함정을 파괴할뿐 아니라 미사일도 요격할 수 있다  기존 함포보다 월등히 빠른 속도로 발사할 수 있고 화약을 쓰지 않기 때문에 불발탄과 같은 문제도 발생하지 않는다  수상전센터는 2014년에는 레이저로 적을 공격하고 탐지하는 레이저 무기체계를 개발했고 이는 페르시아만에 파견된 미 해군 폰스함에 장착돼 완벽한 성능을 과시했다 달그랜지부내 무인기 활주로에서 무인기 센서 중량 무기 교전체계를 연구 개발하고 시험도 한다 최근에는 해군 연구소 와 함께 연안전투함에 탑재되는 함포를 개발했다  한 장관은 수상전센터에서 미 해군의 첨단 무기체계를 살펴보고 이들의 성능에 관한 보고를 청취했으며 한미 양국의 군사기술 협력 방안도 논의했다 앞으로 한국과 미군의 해군 국방과학연구소 관계자 등은 이 곳에서 수상전과 같은 형태의 교전 방식 뿐 아니라 미래 해상 전투 개념 등을 연구할 것으로 알려졌다  국방부 관계자는 한 장관의 방문은 잠수함발사탄도미사일 개발 등 북한의 해상 전투능력 발전에 대응하자는 취지 라며 앞으로 한미 해군이 에서 많은 일들을 하게 될 것 이라고 말했다  한 장관은 수상전센터 방문에 이어 미 국무부에서 열리는 한미 2 2 회의와 에 참석한다 이번 한미 외교 국방장관 연쇄 회의에서 양국은 북한의 점증하는 핵 미사일 위협에 대응해 미국이 한국에 제공하는 확장억제의 실행력을 강화하는 방안을 집중적으로 논의한다\n",
            "9 서울 연합뉴스 이효석 기자 19일 서울 시내에서 경찰관에게 사제총기를 발사해 경찰관을 숨지게 한 폭행 용의자는 인근 상인들에게 붙잡힌 것으로 확인됐다 왼쪽 사진 신발가게 주인과 직원 오른쪽 사진 매운탕집 주인 등 시민 3명이 경찰의 용의자 검거를 도왔다 2016 10 20\n",
            "10 서울경찰청장 병원 방문해 유족들 위로  서울 연합뉴스 김은경 박경준 기자 19일 사제 총기범이 쏜 총탄에 숨진 김창호 54 경위의 시신이 안치된 서울 도봉구 한일병원에 모인 유족들은 슬픔을 감추지 못했다  유족들은 안치된 김 경위의 시신을 보고는 오열했다  외아들과 아내는 좀처럼 김 경위가 누워 있는 침상을 떠나지 못했다 부인은 오열하다 지쳐 쓰러져 의료진의 치료를 받기도 한 것으로 알려졌다  병원에는 유가족은 물론 동료 경찰들도 소식을 듣고 달려와 애도했다  동료 경찰들은 평소 의협심이 강하고 후임을 먼저 챙길 줄 아는 경찰이었다 며 입을 모아 김 경위의 사망에 안타까움을 표했다  김 경위의 시신은 20일 0시께 송파구의 경찰병원으로 옮겨졌다 빈소도 이곳에 차려질 예정이다  김정훈 서울경찰청장은 시신을 옮기기 전인 전날 밤 11시 5분께 한일병원에 도착해 유족을 위로했다  김 청장은 고인의 명복을 빌어드리고 유가족에게 심심한 위로의 말씀을 전했다 면서 다시는 이런 일이 생기지 않게 엄정한 법 질서를 확립하도록 더욱 노력하겠다 고 말했다  김 청장은 엄청하게 범행을 수사할 수 있게 하겠다 면서 고인의 장례 절차도 잘 진행될 수 있게 하겠다 고 말했다  김 청장은 병원에 들르기 전 김 경위가 근무하던 서울 강북경찰서 번동파출소에 들러 정확한 사건 경위를 보고 받았다  이어 사건 현장까지 둘러본 김 청장은 애석하다는 말씀밖에 드릴 말씀이 없다 면서 침통한 표정으로 그곳을 떠났다  김 경위의 시신이 안치된 병원 모습\n"
          ]
        }
      ]
    },
    {
      "cell_type": "code",
      "source": [
        "word_extractor = WordExtractor()\n",
        "word_extractor.train(corpus)\n",
        "word_score_table = word_extractor.extract()"
      ],
      "metadata": {
        "colab": {
          "base_uri": "https://localhost:8080/"
        },
        "id": "SjGFsziKGwJx",
        "outputId": "ae73b7da-6348-4722-d08a-45987c245f30"
      },
      "execution_count": null,
      "outputs": [
        {
          "output_type": "stream",
          "name": "stdout",
          "text": [
            "training was done. used memory 1.895 Gb\n",
            "all cohesion probabilities was computed. # words = 223348\n",
            "all branching entropies was computed # words = 361598\n",
            "all accessor variety was computed # words = 361598\n"
          ]
        }
      ]
    },
    {
      "cell_type": "code",
      "source": [
        "from soynlp.tokenizer import LTokenizer\n",
        "scores = {word : score.cohesion_forward for word, score in word_score_table.items()} # cp?? be??\n",
        "I_tokenizer = LTokenizer(scores=scores)\n",
        "I_tokenizer.tokenize(\"국제사회와 우리의 노력들로 범죄를 척결하자\", flatten=False)"
      ],
      "metadata": {
        "colab": {
          "base_uri": "https://localhost:8080/"
        },
        "id": "xPync98RGwpS",
        "outputId": "a8b27470-0839-4e13-8d47-9fda11c35b38"
      },
      "execution_count": null,
      "outputs": [
        {
          "output_type": "execute_result",
          "data": {
            "text/plain": [
              "[('국제사회', '와'), ('우리', '의'), ('노력', '들로'), ('범죄', '를'), ('척결', '하자')]"
            ]
          },
          "metadata": {},
          "execution_count": 24
        }
      ]
    },
    {
      "cell_type": "code",
      "source": [
        "from soynlp.tokenizer import MaxScoreTokenizer\n",
        "maxscore_tokenizer = MaxScoreTokenizer(scores=scores)\n",
        "maxscore_tokenizer.tokenize(\"국제사회와우리의노력들로범죄를척결하자\")"
      ],
      "metadata": {
        "colab": {
          "base_uri": "https://localhost:8080/"
        },
        "id": "l99zG8eOGwx0",
        "outputId": "64d48f0d-8ec3-46b8-f52e-945e4bce2e27"
      },
      "execution_count": null,
      "outputs": [
        {
          "output_type": "execute_result",
          "data": {
            "text/plain": [
              "['국제사회', '와', '우리', '의', '노력', '들로', '범죄', '를', '척결', '하자']"
            ]
          },
          "metadata": {},
          "execution_count": 25
        }
      ]
    },
    {
      "cell_type": "code",
      "source": [
        "from soynlp.normalizer import *\n",
        "print(emoticon_normalize('앜ㅋㅋㅋㅋ이영화존잼쓰ㅠㅠㅠㅠㅠ', num_repeats=2))\n",
        "print(emoticon_normalize('앜ㅋㅋㅋㅋㅋㅋㅋㅋㅋ이영화존잼쓰ㅠㅠㅠㅠ', num_repeats=2))\n",
        "print(emoticon_normalize('앜ㅋㅋㅋㅋㅋㅋㅋㅋㅋㅋㅋㅋ이영화존잼쓰ㅠㅠㅠㅠㅠㅠ', num_repeats=2))\n",
        "print(emoticon_normalize('앜ㅋㅋㅋㅋㅋㅋㅋㅋㅋㅋㅋㅋㅋㅋㅋㅋㅋ이영화존잼쓰ㅠㅠㅠ', num_repeats=2))"
      ],
      "metadata": {
        "colab": {
          "base_uri": "https://localhost:8080/"
        },
        "id": "d1lXIcUjGw6X",
        "outputId": "32e795c1-1282-47ad-9193-6bea1320365a"
      },
      "execution_count": null,
      "outputs": [
        {
          "output_type": "stream",
          "name": "stdout",
          "text": [
            "아ㅋㅋ영화존잼쓰ㅠㅠ\n",
            "아ㅋㅋ영화존잼쓰ㅠㅠ\n",
            "아ㅋㅋ영화존잼쓰ㅠㅠ\n",
            "아ㅋㅋ영화존잼쓰ㅠㅠㅠ\n"
          ]
        }
      ]
    },
    {
      "cell_type": "code",
      "source": [
        "print(repeat_normalize('와하하하하하하하하하핫', num_repeats=2))\n",
        "print(repeat_normalize('와하하하하하하핫', num_repeats=2))\n",
        "print(repeat_normalize('와하하하하핫', num_repeats=2))"
      ],
      "metadata": {
        "colab": {
          "base_uri": "https://localhost:8080/"
        },
        "id": "UdP3KaTRRd20",
        "outputId": "d45ad98b-4067-4b8f-e76f-c5ca303c801b"
      },
      "execution_count": null,
      "outputs": [
        {
          "output_type": "stream",
          "name": "stdout",
          "text": [
            "와하하핫\n",
            "와하하핫\n",
            "와하하핫\n"
          ]
        }
      ]
    },
    {
      "cell_type": "markdown",
      "source": [
        "#### 형태소 분석 입력 : '은경이는 사무실로 갔습니다.'\n",
        "#### 형태소 분석 결과 : ['은', '경이', '는', '사무실', '로', '갔습니다', '.']\n"
      ],
      "metadata": {
        "id": "KK6Zl-e5TS8z"
      }
    },
    {
      "cell_type": "code",
      "source": [
        "pip install customized_konlpy"
      ],
      "metadata": {
        "colab": {
          "base_uri": "https://localhost:8080/"
        },
        "id": "pxx6WfTsTH1o",
        "outputId": "e152440b-b44f-4a4e-9301-60e475297569"
      },
      "execution_count": null,
      "outputs": [
        {
          "output_type": "stream",
          "name": "stdout",
          "text": [
            "Looking in indexes: https://pypi.org/simple, https://us-python.pkg.dev/colab-wheels/public/simple/\n",
            "Collecting customized_konlpy\n",
            "  Downloading customized_konlpy-0.0.64-py3-none-any.whl (881 kB)\n",
            "\u001b[K     |████████████████████████████████| 881 kB 6.7 MB/s \n",
            "\u001b[?25hRequirement already satisfied: konlpy>=0.4.4 in /usr/local/lib/python3.7/dist-packages (from customized_konlpy) (0.6.0)\n",
            "Requirement already satisfied: Jpype1>=0.6.1 in /usr/local/lib/python3.7/dist-packages (from customized_konlpy) (1.4.0)\n",
            "Requirement already satisfied: typing-extensions in /usr/local/lib/python3.7/dist-packages (from Jpype1>=0.6.1->customized_konlpy) (3.10.0.2)\n",
            "Requirement already satisfied: numpy>=1.6 in /usr/local/lib/python3.7/dist-packages (from konlpy>=0.4.4->customized_konlpy) (1.19.5)\n",
            "Requirement already satisfied: lxml>=4.1.0 in /usr/local/lib/python3.7/dist-packages (from konlpy>=0.4.4->customized_konlpy) (4.2.6)\n",
            "Installing collected packages: customized-konlpy\n",
            "Successfully installed customized-konlpy-0.0.64\n"
          ]
        }
      ]
    },
    {
      "cell_type": "code",
      "source": [
        "from ckonlpy.tag import Twitter\n",
        "twitter = Twitter()\n",
        "twitter.morphs('은경이는 사무실로 갔습니다.')"
      ],
      "metadata": {
        "colab": {
          "base_uri": "https://localhost:8080/"
        },
        "id": "3qUOAMWyT4I2",
        "outputId": "f93c013b-3a4b-41e4-df9b-e6a1fe202e13"
      },
      "execution_count": null,
      "outputs": [
        {
          "output_type": "stream",
          "name": "stderr",
          "text": [
            "/usr/local/lib/python3.7/dist-packages/konlpy/tag/_okt.py:17: UserWarning: \"Twitter\" has changed to \"Okt\" since KoNLPy v0.4.5.\n",
            "  warn('\"Twitter\" has changed to \"Okt\" since KoNLPy v0.4.5.')\n"
          ]
        },
        {
          "output_type": "execute_result",
          "data": {
            "text/plain": [
              "['은', '경이', '는', '사무실', '로', '갔습니다', '.']"
            ]
          },
          "metadata": {},
          "execution_count": 29
        }
      ]
    },
    {
      "cell_type": "code",
      "source": [
        "twitter.add_dictionary('은경이', 'Noun')\n",
        "twitter.morphs('은경이는 사무실로 갔습니다.')"
      ],
      "metadata": {
        "colab": {
          "base_uri": "https://localhost:8080/"
        },
        "id": "JEt_JFU6UHQu",
        "outputId": "21fa53fc-74e4-49db-8905-69cd2b5262c8"
      },
      "execution_count": null,
      "outputs": [
        {
          "output_type": "execute_result",
          "data": {
            "text/plain": [
              "['은경이', '는', '사무실', '로', '갔습니다', '.']"
            ]
          },
          "metadata": {},
          "execution_count": 30
        }
      ]
    }
  ]
}