{
 "cells": [
  {
   "cell_type": "code",
   "execution_count": 1,
   "id": "b635d02c",
   "metadata": {},
   "outputs": [],
   "source": [
    "# dictionary 다루기  선언은 {키:값, ... }, 접근은 dict[키]\n",
    "dict_a = {\n",
    "    'name' : '7D 건조 망고',\n",
    "    'type' : '당절임',\n",
    "    'ingredient' : ['망고','설탕','메타중아황산나트륨','치자황색소'],\n",
    "    'origin' : '필리핀'\n",
    "}"
   ]
  },
  {
   "cell_type": "code",
   "execution_count": 2,
   "id": "1a6dc7ac",
   "metadata": {},
   "outputs": [
    {
     "name": "stdout",
     "output_type": "stream",
     "text": [
      "{'name': '7D 건조 망고', 'type': '당절임', 'ingredient': ['망고', '설탕', '메타중아황산나트륨', '치자황색소'], 'origin': '필리핀'}\n",
      "7D 건조 망고\n",
      "['망고', '설탕', '메타중아황산나트륨', '치자황색소']\n",
      "망고\n"
     ]
    }
   ],
   "source": [
    "print(dict_a)\n",
    "print(dict_a['name'])\n",
    "print(dict_a['ingredient'])\n",
    "print(dict_a['ingredient'][0])"
   ]
  },
  {
   "cell_type": "code",
   "execution_count": 11,
   "id": "bc087ec7",
   "metadata": {},
   "outputs": [
    {
     "name": "stdout",
     "output_type": "stream",
     "text": [
      "dict_keys(['name', 'type', 'ingredient', 'origin'])\n",
      "dict_values(['7D 건조 망고', '당절임', ['망고', '설탕', '메타중아황산나트륨', '치자황색소'], '필리핀'])\n",
      "7D 건조 망고 당절임\n"
     ]
    }
   ],
   "source": [
    "print(dict_a.keys())   # 딕셔너리의 키(key) 만 출력\n",
    "print(dict_a.values()) # 딕셔너리의 value 만 출력\n",
    "# print(dict_a[1])   # 오류 발생, 키로만 접근 가능\n",
    "print(dict_a['name'], dict_a['type'])"
   ]
  },
  {
   "cell_type": "code",
   "execution_count": 12,
   "id": "3f364dcc",
   "metadata": {},
   "outputs": [
    {
     "data": {
      "text/plain": [
       "{'name': '7D 건조 망고',\n",
       " 'type': '당절임',\n",
       " 'ingredient': ['망고', '설탕', '메타중아황산나트륨', '치자황색소'],\n",
       " 'origin': '필리핀',\n",
       " 'price': 5000}"
      ]
     },
     "execution_count": 12,
     "metadata": {},
     "output_type": "execute_result"
    }
   ],
   "source": [
    "# dictionary에 새로운 키와 값을 추가 : dict[새로운키] = 값\n",
    "dict_a['price'] = 5000\n",
    "dict_a"
   ]
  },
  {
   "cell_type": "code",
   "execution_count": 13,
   "id": "d4d57eba",
   "metadata": {},
   "outputs": [
    {
     "data": {
      "text/plain": [
       "{'name': '7D 건조 망고',\n",
       " 'type': '당절임',\n",
       " 'ingredient': ['망고', '설탕', '메타중아황산나트륨', '치자황색소'],\n",
       " 'origin': '필리핀'}"
      ]
     },
     "execution_count": 13,
     "metadata": {},
     "output_type": "execute_result"
    }
   ],
   "source": [
    "# dictionary의 키와 값을 제거 : del dict[키]\n",
    "del dict_a['price']\n",
    "dict_a"
   ]
  },
  {
   "cell_type": "code",
   "execution_count": 16,
   "id": "0dba647a",
   "metadata": {},
   "outputs": [
    {
     "name": "stdout",
     "output_type": "stream",
     "text": [
      "False\n",
      "True\n"
     ]
    }
   ],
   "source": [
    "# list 초기화 : list_a =  []\n",
    "# dict 초기화 : dict_a = {}\n",
    "# in연산자를 활용하여 키가 dict에 있는지 확인 가능\n",
    "print('price' in dict_a )  # False\n",
    "print('name' in dict_a )  # True"
   ]
  },
  {
   "cell_type": "code",
   "execution_count": 18,
   "id": "b3ad8aa6",
   "metadata": {},
   "outputs": [
    {
     "name": "stdout",
     "output_type": "stream",
     "text": [
      "None\n",
      "7D 건조 망고\n"
     ]
    }
   ],
   "source": [
    "# dict.get(키) -> 값을 돌려 줌 : 함수를 활용하여 존재하는지 확인\n",
    "print(dict_a.get('price'))  # None\n",
    "print(dict_a.get('name'))   # '7D 건조 망고' "
   ]
  },
  {
   "cell_type": "code",
   "execution_count": 20,
   "id": "c219ef3c",
   "metadata": {},
   "outputs": [
    {
     "name": "stdout",
     "output_type": "stream",
     "text": [
      "dict_a['name'] : 7D 건조 망고\n",
      "dict_a['type'] : 당절임\n",
      "dict_a['ingredient'] : ['망고', '설탕', '메타중아황산나트륨', '치자황색소']\n",
      "dict_a['origin'] : 필리핀\n"
     ]
    }
   ],
   "source": [
    "# for문을 활용하여 값을 출력 : 딕셔너리의 키를 가져옴\n",
    "for key in dict_a:\n",
    "    print(\"dict_a['{}'] : {}\".format(key, dict_a[key]))"
   ]
  },
  {
   "cell_type": "code",
   "execution_count": 23,
   "id": "e6b9ba0d",
   "metadata": {},
   "outputs": [
    {
     "name": "stdout",
     "output_type": "stream",
     "text": [
      "dict_a['name'] : 7D 건조 망고\n",
      "dict_a['type'] : 당절임\n",
      "dict_a['ingredient'] : ['망고', '설탕', '메타중아황산나트륨', '치자황색소']\n",
      "dict_a['origin'] : 필리핀\n"
     ]
    }
   ],
   "source": [
    "# for문을 활용하여 키와 값을 출력 : 딕셔너리의 키와 값을 가져옴\n",
    "for key, value in dict_a.items():  # \n",
    "    print(\"dict_a['{}'] : {}\".format(key, value))"
   ]
  },
  {
   "cell_type": "code",
   "execution_count": null,
   "id": "53779ca2",
   "metadata": {},
   "outputs": [],
   "source": [
    "# 이름과 점수를 입력받아 이름을 키로 점수를 값으로 하는 \n",
    "# student 딕셔너리를 작성\n",
    "# 이름에 'q'가 입력되면 입력 종료\n",
    "# 입력된 자료 출력\n",
    "# 입력한 학생의 인원수와 평균 출력\n",
    "# 검색할 이름을 입력받아 자료에 있는지 확인 후 자료의 성적을 출력\n",
    "student  = {}\n",
    "while True:\n",
    "    # 이름과 점수 입력 \n",
    "    # 입력된 문자열을 이름과 점수로 분리 -> 리스트\n",
    "    input_data = input(\"이름 점수 입력 (홍길동 100 )>\").split()\n",
    "    # 입력된 이름이 'q' 이면 입력 종료\n",
    "    if len(input_data) != 2:\n",
    "        print(\"이름과 성적을 입력하세요 -> 홍길동 100  형식으로\")\n",
    "        continue\n",
    "    if input_data[0] == 'q':\n",
    "        break\n",
    "    # 아니면 점수를 int()로 변환 후 이름을 키로 점수를 값으로 저장        \n",
    "    name = input_data[0]\n",
    "    score = int(input_data[1])\n",
    "    student[name] = score"
   ]
  },
  {
   "cell_type": "code",
   "execution_count": 38,
   "id": "fb72840e",
   "metadata": {},
   "outputs": [
    {
     "name": "stdout",
     "output_type": "stream",
     "text": [
      "홍길동 : 90\n",
      "김철수 : 100\n",
      "개나리 : 78\n",
      "인원수 : 3, 합계 : 268, 평균 : 89.33\n"
     ]
    }
   ],
   "source": [
    "# 반복문을 활용하여 입력된 자료를 이름과 성적으로 출력\n",
    "for key in student:\n",
    "    print(\"{} : {}\".format(key, student[key]))\n",
    "# 학생의 인원수와 성적의 합을 구한후 평균 구함\n",
    "print(\"인원수 : {}, 합계 : {}, 평균 : {:3.2f}\".format(len(student),\n",
    "                                          sum(student.values()),\n",
    "                                        sum(student.values())/len(student) ))"
   ]
  },
  {
   "cell_type": "code",
   "execution_count": 39,
   "id": "7a7930ef",
   "metadata": {},
   "outputs": [
    {
     "name": "stdout",
     "output_type": "stream",
     "text": [
      "검색할 이름 입력 : 홍길동\n",
      "홍길동의 점수는 90\n"
     ]
    }
   ],
   "source": [
    "# 검색할 이름 입력\n",
    "s_name = input(\"검색할 이름 입력 : \")\n",
    "s_score = student.get(s_name)\n",
    "# 검색하고자 하는 이름이 student에 있으면 성적 출력, 아니면 '자료 없음' 출력\n",
    "if s_score == None:\n",
    "    print('검색하고자 하는 자료 없음')\n",
    "else:\n",
    "    print(\"{}의 점수는 {}\".format(s_name, s_score))"
   ]
  },
  {
   "cell_type": "code",
   "execution_count": 41,
   "id": "8bf63951",
   "metadata": {},
   "outputs": [
    {
     "name": "stdout",
     "output_type": "stream",
     "text": [
      "이름 입력 (홍길동)>홍길동\n",
      "국어 영어 수학 점수 입력 >100 80 90\n",
      "이름 입력 (홍길동)>김철수\n",
      "국어 영어 수학 점수 입력 >99 88 77\n",
      "이름 입력 (홍길동)>개나리\n",
      "국어 영어 수학 점수 입력 >99 80 70\n",
      "이름 입력 (홍길동)>q\n"
     ]
    }
   ],
   "source": [
    "# 이름과 국어, 영어, 수학 점수를 입력받아 student 에 저장\n",
    "student  = {}\n",
    "while True:\n",
    "    name = input(\"이름 입력 (홍길동)>\")\n",
    "    # 입력된 이름이 'q' 이면 입력 종료\n",
    "    if name == 'q':\n",
    "        break\n",
    "    while True:   # 3과목 점수가 입력되지 않으면 입력 반복\n",
    "        input_score = input(\"국어 영어 수학 점수 입력 >\").split()\n",
    "        if len(input_score) == 3:\n",
    "            break\n",
    "\n",
    "    score = []\n",
    "    for value in input_score:  # 3 과목의 점수를 score 리스트에 추가\n",
    "        score.append(int(value))\n",
    "    student[name] = score"
   ]
  },
  {
   "cell_type": "code",
   "execution_count": 52,
   "id": "8efce769",
   "metadata": {},
   "outputs": [
    {
     "name": "stdout",
     "output_type": "stream",
     "text": [
      "이름 : 국어\t영어\t수학\t총점\t평균\n",
      "홍길동 : 100\t80\t90\t270\t 90.0\n",
      "김철수 : 99\t88\t77\t264\t 88.0\n",
      "개나리 : 99\t80\t70\t249\t 83.0\n",
      "검색할 이름 : a\n"
     ]
    }
   ],
   "source": [
    "# 각 학생의 총점,과목 점수, 평균을 출력\n",
    "print(\"이름 : 국어\\t영어\\t수학\\t총점\\t평균\")\n",
    "for name in student:\n",
    "    print(name,end=' : ')\n",
    "    for score in student[name]:  # 각 학생의 점수가 3과목 -> 리스트\n",
    "        print(score, end='\\t')\n",
    "    print(\"{}\\t {}\".format(sum(student[name]), sum(student[name])/3))\n",
    "# 검색할 이름을 입력받아 학생의 총점, 평균 출력\n",
    "s_name = input(\"검색할 이름 : \")\n",
    "s_score = student.get(s_name)\n",
    "if s_score:\n",
    "    print(\"{} : {}, {}\".format(s_name,sum(s_score), sum(s_score)/len(s_score)))"
   ]
  },
  {
   "cell_type": "code",
   "execution_count": 53,
   "id": "7033db9a",
   "metadata": {},
   "outputs": [],
   "source": [
    "# 홍길동의 국어 점수를 80으로 수정\n",
    "student['홍길동'][0] = 80"
   ]
  },
  {
   "cell_type": "code",
   "execution_count": 63,
   "id": "000d07ad",
   "metadata": {},
   "outputs": [
    {
     "name": "stdout",
     "output_type": "stream",
     "text": [
      "{1: 3, 2: 4, 6: 1, 8: 2, 3: 3, 9: 2, 5: 2, 4: 2, 7: 2}\n"
     ]
    }
   ],
   "source": [
    "# 연습문제 3, 172p\n",
    "numbers = [1,2,6,8,3,2,1,9,5,4,9,7,2,1,3,5,4,8,7,2,3]\n",
    "# 1을 키로 나온 갯수를 값으로, 2의 갯수 \n",
    "#{ 1:3, 2:, 3:,...}\n",
    "# numbers에서 값을 가져옴\n",
    "# 값이 dict에 키로 존재하면 키의 값에 1을 더함\n",
    "# 값이 dict의 키에 없으면 키와 1을 추가\n",
    "counter = {}\n",
    "for number in numbers:\n",
    "#     print(\"number : \", number)\n",
    "    if number in counter.keys():\n",
    "        counter[number] += 1  # 기존의 값에 1을 더해서 저장\n",
    "#         print(\"111 counter[number]: \", counter[number])\n",
    "    else:\n",
    "        counter[number] = 1   # 새로 생성\n",
    "#         counter[1] = 1\n",
    "#         print(\"222 counter[number]: \", counter[number])\n",
    "# 결과 출력\n",
    "print(counter)"
   ]
  },
  {
   "cell_type": "code",
   "execution_count": 57,
   "id": "1cf1fda9",
   "metadata": {},
   "outputs": [
    {
     "data": {
      "text/plain": [
       "dict_keys([1, 2, 6, 8, 3, 9, 5, 4, 7])"
      ]
     },
     "execution_count": 57,
     "metadata": {},
     "output_type": "execute_result"
    }
   ],
   "source": [
    "counter.keys()"
   ]
  },
  {
   "cell_type": "code",
   "execution_count": 64,
   "id": "5e6378ff",
   "metadata": {},
   "outputs": [
    {
     "name": "stdout",
     "output_type": "stream",
     "text": [
      "{1: 10, 2: 20}\n",
      "{1: 10, 2: 20, 4: 5}\n",
      "{1: 15, 2: 20, 4: 5}\n"
     ]
    }
   ],
   "source": [
    "a_dict={1:10, 2:20}\n",
    "print(a_dict)\n",
    "\n",
    "a_dict[4] = 5\n",
    "print(a_dict)\n",
    "\n",
    "a_dict[1] +=5\n",
    "print(a_dict)"
   ]
  },
  {
   "cell_type": "code",
   "execution_count": 70,
   "id": "095ce1f7",
   "metadata": {},
   "outputs": [
    {
     "name": "stdout",
     "output_type": "stream",
     "text": [
      "2\n",
      "3\n",
      "4\n",
      "5\n",
      "6\n",
      "7\n",
      "\n",
      "2\n",
      "3\n",
      "4\n",
      "5\n",
      "6\n",
      "7\n",
      "\n",
      "7\n",
      "6\n",
      "5\n",
      "4\n",
      "3\n",
      "2\n",
      "[7, 6, 5, 4, 3, 2]\n"
     ]
    },
    {
     "data": {
      "text/plain": [
       "[2, 3, 4, 5, 6, 7]"
      ]
     },
     "execution_count": 70,
     "metadata": {},
     "output_type": "execute_result"
    }
   ],
   "source": [
    "# range(start, stop, step ) : range(5) -> 0~4까지, range(1,5) -> 1에서 4까지\n",
    "# range(0,5,2) -> 0에서 4까지 2씩 증가\n",
    "list_a = [2,3,4,5,6,7]\n",
    "for item in list_a:\n",
    "    print(item)\n",
    "print()\n",
    "#range 사용\n",
    "for idx in range(len(list_a)):\n",
    "    print(list_a[idx])\n",
    "print()\n",
    "# 역으로 출력\n",
    "for r_idx in reversed(range(len(list_a))):\n",
    "    print(list_a[r_idx])\n",
    "\n",
    "list_a.sort(reverse=True) #  자료를 정렬, 기존 자료 변경\n",
    "print(list_a)\n",
    "list_a.reverse()\n",
    "list_a"
   ]
  },
  {
   "cell_type": "code",
   "execution_count": 73,
   "id": "f3aaccaf",
   "metadata": {},
   "outputs": [
    {
     "name": "stdout",
     "output_type": "stream",
     "text": [
      "3동안 19954983횟수 실행\n"
     ]
    }
   ],
   "source": [
    "# whlie 시간을 기준으로 반복문 작성\n",
    "import time\n",
    "count = 0\n",
    "target_time = time.time() + 3  # 현재 시간 반환 \n",
    "while time.time() < target_time:\n",
    "    count += 1\n",
    "print(\"3동안 {}횟수 실행\".format(count))"
   ]
  },
  {
   "cell_type": "code",
   "execution_count": 93,
   "id": "f68eb789",
   "metadata": {},
   "outputs": [
    {
     "name": "stdout",
     "output_type": "stream",
     "text": [
      "두 수 입력 11 44\n",
      "11부터 44까지 3의 배수의 합은 297\n",
      "11부터 44까지 3씩 증가하는 수의 합은 330\n",
      "11부터 44까지 5의 배수의 합은 165\n",
      "11부터 44까지 5씩 증가하는 수의 합은 182\n"
     ]
    }
   ],
   "source": [
    "# 두 수를 입력받아 두 수 사이의 3의 배수의 합과 5의 배수의 합을 구하세요\n",
    "num1, num2 = input(\"두 수 입력 \").split()\n",
    "num1 = int(num1)\n",
    "num2 = int(num2)\n",
    "# 두 수중 num1이 작은 수, num2가 큰수로 변경\n",
    "if num1 > num2 :\n",
    "    num1, num2 = num2, num1\n",
    "# range() 함수를 사용하세요 두 수는 포함 \n",
    "total_3 = 0\n",
    "total_5 = 0\n",
    "for num in range(num1, num2+1):\n",
    "    if num % 3 == 0:\n",
    "        total_3 += num\n",
    "    if num % 5 == 0:\n",
    "        total_5 += num        \n",
    "print(\"{}부터 {}까지 3의 배수의 합은 {}\".format(num1, num2, total_3))\n",
    "print(\"{}부터 {}까지 3씩 증가하는 수의 합은 {}\".format(num1, num2, \n",
    "                                      sum(range(num1, num2+1, 3))))\n",
    "print(\"{}부터 {}까지 5의 배수의 합은 {}\".format(num1, num2, total_5))        \n",
    "print(\"{}부터 {}까지 5씩 증가하는 수의 합은 {}\".format(num1, num2, \n",
    "                                      sum(range(num1, num2+1, 5))))"
   ]
  },
  {
   "cell_type": "code",
   "execution_count": 100,
   "id": "343a4b65",
   "metadata": {},
   "outputs": [
    {
     "name": "stdout",
     "output_type": "stream",
     "text": [
      "list_a : [1, 2, 3, 4, 5]\n",
      "list_revesed : [5, 4, 3, 2, 1]\n",
      "111 5\n",
      "111 4\n",
      "111 3\n",
      "111 2\n",
      "111 1\n",
      "222 5\n",
      "222 4\n",
      "222 3\n",
      "222 2\n",
      "222 1\n"
     ]
    }
   ],
   "source": [
    "# 문자열, 리스트, 딕셔너리와 관련된 함수\n",
    "# 리스트 : sum(list), min(list), max(list), reversed(list)\n",
    "list_a = [1,2,3,4,5]\n",
    "# list_revesed = reversed(list_a)\n",
    "list_revesed = list(reversed(list_a))  # list_reversed = [5,4,3,2,1]\n",
    "\n",
    "print(\"list_a :\", list_a)\n",
    "print(\"list_revesed :\", list_revesed)\n",
    "# print(\"list_revesed :\", list(list_revesed))\n",
    "\n",
    "for i in list_revesed:\n",
    "    print(\"111\", i)\n",
    "for i in list_revesed:\n",
    "    print(\"222\", i)    "
   ]
  },
  {
   "cell_type": "code",
   "execution_count": 104,
   "id": "d09fc856",
   "metadata": {},
   "outputs": [
    {
     "name": "stdout",
     "output_type": "stream",
     "text": [
      "4\n",
      "5\n",
      "6\n",
      "7\n",
      "8\n",
      "9\n",
      "0 4\n",
      "1 5\n",
      "2 6\n",
      "3 7\n",
      "4 8\n",
      "5 9\n",
      "0번째 값 : 4\n",
      "1번째 값 : 5\n",
      "2번째 값 : 6\n",
      "3번째 값 : 7\n",
      "4번째 값 : 8\n",
      "5번째 값 : 9\n"
     ]
    }
   ],
   "source": [
    "list_a = [4,5,6,7,8,9]\n",
    "for num in list_a:    # list의 값을 가져 옴\n",
    "    print(num)\n",
    "for idx in range(len(list_a)):   # list의 index를 가져 옴\n",
    "    print(idx, list_a[idx])\n",
    "# list의 인덱스와 값을 같이 가져 옴 -> enumerate(리스트)\n",
    "for idx, value in enumerate(list_a):   # 딕셔너리는 딕셔너리.items() 키와 값\n",
    "    print(\"{}번째 값 : {}\".format(idx,value))"
   ]
  },
  {
   "cell_type": "code",
   "execution_count": null,
   "id": "cc3afe5a",
   "metadata": {},
   "outputs": [],
   "source": [
    "# 리스트에 적용 가능한 함수 : max(리스트), min(리스트), \n",
    "#       sum(리스트), enumerate(리스트), reversed(리스트)\n",
    "#      list.sort(), list.reversed() -> 해당 오브젝트를 변경\n",
    "# 딕셔너리 오브젝트에 관련된 함수 : dict.keys(), dict.values(), dict.items()\n",
    "#  for key in dict : -> 딕셔너리의 키를 가져옴 \n",
    "# 리스트는 인덱스로 데이터 접근 : 리스트[인덱스], 리스트[start : stop]\n",
    "# 딕셔너리는 키로 데이터 접근 : 딕셔너리[키]\n",
    "# len(), type(), range()"
   ]
  },
  {
   "cell_type": "code",
   "execution_count": 106,
   "id": "8197d613",
   "metadata": {},
   "outputs": [
    {
     "name": "stdout",
     "output_type": "stream",
     "text": [
      "[0, 4, 16, 36, 64, 100, 144, 196, 256, 324]\n",
      "[0, 4, 16, 36, 64, 100, 144, 196, 256, 324]\n"
     ]
    }
   ],
   "source": [
    "# 리스트 내포 [ 처리문장 for i in 반복  if 조건문 ]\n",
    "# 0부터 20까지 2씩 증가된 숫자의 제곱을 구해서 리스트에 저장\n",
    "list_b = []\n",
    "for num in range(0, 20, 2):\n",
    "    list_b.append(num * num)\n",
    "print(list_b)    \n",
    "\n",
    "list_c = [ num * num for num in range(0, 20, 2) ]\n",
    "print(list_c)"
   ]
  },
  {
   "cell_type": "code",
   "execution_count": 109,
   "id": "8c790585",
   "metadata": {},
   "outputs": [
    {
     "name": "stdout",
     "output_type": "stream",
     "text": [
      "1683\n"
     ]
    },
    {
     "data": {
      "text/plain": [
       "1683"
      ]
     },
     "execution_count": 109,
     "metadata": {},
     "output_type": "execute_result"
    }
   ],
   "source": [
    "# 리스트이름 = [ 표현식 for 반복자 in 반복자료 if 조건문 ]\n",
    "# 1부터 100까지 3의 배수의 합을 구하세요\n",
    "print(sum([ value for value in range(1, 100)  if value % 3 ==0 ]))\n",
    "list_3 = []\n",
    "for i in range(1, 100):\n",
    "    if i % 3 ==0:\n",
    "        list_3.append(i)\n",
    "sum(list_3)\n"
   ]
  },
  {
   "cell_type": "code",
   "execution_count": 116,
   "id": "9c132459",
   "metadata": {},
   "outputs": [
    {
     "name": "stdout",
     "output_type": "stream",
     "text": [
      "['0', '2', '4', '6', '8', '10', '12', '14', '16', '18']\n",
      "a--b--c\n",
      "0*2*4*6*8*10*12*14*16*18\n",
      "0--2--4--6--8--10--12--14--16--18\n"
     ]
    },
    {
     "data": {
      "text/plain": [
       "['0', '2', '4', '6', '8', '10', '12', '14', '16', '18']"
      ]
     },
     "execution_count": 116,
     "metadata": {},
     "output_type": "execute_result"
    }
   ],
   "source": [
    "list_c = [ str(num) for num in range(0, 20, 2) ]\n",
    "print(list_c)  # 0-4-16-36 => 하나의 문자열로 변경\n",
    "\n",
    "# 리스트를 문자열로 join => 문자열.join(문자열 리스트)  -> 문자열\n",
    "print('--'.join(['a','b','c']))\n",
    "\n",
    "print('*'.join(list_c))\n",
    "list_str = '--'.join(list_c)\n",
    "print(list_str)\n",
    "list_split = list_str.split('--')\n",
    "list_split"
   ]
  },
  {
   "cell_type": "code",
   "execution_count": null,
   "id": "45df1b4b",
   "metadata": {},
   "outputs": [],
   "source": []
  },
  {
   "cell_type": "code",
   "execution_count": null,
   "id": "3f82e2d2",
   "metadata": {},
   "outputs": [],
   "source": []
  },
  {
   "cell_type": "code",
   "execution_count": null,
   "id": "dc606937",
   "metadata": {},
   "outputs": [],
   "source": []
  }
 ],
 "metadata": {
  "kernelspec": {
   "display_name": "Python 3 (ipykernel)",
   "language": "python",
   "name": "python3"
  },
  "language_info": {
   "codemirror_mode": {
    "name": "ipython",
    "version": 3
   },
   "file_extension": ".py",
   "mimetype": "text/x-python",
   "name": "python",
   "nbconvert_exporter": "python",
   "pygments_lexer": "ipython3",
   "version": "3.9.7"
  }
 },
 "nbformat": 4,
 "nbformat_minor": 5
}
