{
 "cells": [
  {
   "cell_type": "code",
   "execution_count": 3,
   "metadata": {},
   "outputs": [
    {
     "name": "stdout",
     "output_type": "stream",
     "text": [
      "Requirement already satisfied: opencv-python in c:\\users\\chanb\\anaconda3\\envs\\ai7\\lib\\site-packages (4.6.0.66)\n",
      "Requirement already satisfied: numpy>=1.17.3 in c:\\users\\chanb\\anaconda3\\envs\\ai7\\lib\\site-packages (from opencv-python) (1.21.5)\n"
     ]
    }
   ],
   "source": [
    "! pip install opencv-python"
   ]
  },
  {
   "cell_type": "code",
   "execution_count": 4,
   "metadata": {},
   "outputs": [],
   "source": [
    "import numpy as np\n",
    "import cv2\n",
    "import sys\n",
    "import matplotlib.pyplot as plt"
   ]
  },
  {
   "cell_type": "code",
   "execution_count": 3,
   "metadata": {},
   "outputs": [],
   "source": [
    "import glob"
   ]
  },
  {
   "cell_type": "code",
   "execution_count": 4,
   "metadata": {},
   "outputs": [],
   "source": [
    "# 복습\n",
    "cap = cv2.VideoCapture(0)\n",
    "\n",
    "w = int(cap.get(cv2.CAP_PROP_FRAME_WIDTH))\n",
    "h = int(cap.get(cv2.CAP_PROP_FRAME_HEIGHT))\n",
    "fps = int(cap.get(cv2.CAP_PROP_FRAME_FPS))\n",
    "fourcc = cv2.VideoWriter_fourcc(*'DIVX')\n",
    "\n",
    "out = cv2.VideoWriter('review.avi', fourcc, fps, (w, h))\n",
    "\n",
    "if not cap.isOpened():\n",
    "    sys.exit('cap open failed')\n",
    "\n",
    "cv2.namedWindow('frame') # 해도 되고 안해도 됨\n",
    "while True:\n",
    "    ret, frame = cap.read() \n",
    "\n",
    "    if not ret:\n",
    "        print('Go home')\n",
    "        break\n",
    "\n",
    "    out.write(frame)    \n",
    "    cv2.imshow('frame', frame)\n",
    "\n",
    "    if cv2.waitKey(30) == 27:\n",
    "        break\n",
    "\n",
    "out.release()\n",
    "cap.release()\n",
    "cv2.destroyAllWindows()"
   ]
  },
  {
   "cell_type": "code",
   "execution_count": 6,
   "metadata": {},
   "outputs": [],
   "source": [
    "img = cv2.imread('fig/images/cow.png', 0)\n",
    "img1 = img.copy()\n",
    "\n",
    "cv2.imshow('image', img)\n",
    "while True:\n",
    "    key = cv2.waitKey()\n",
    "\n",
    "    if key == 27 or key == ord('q'):\n",
    "        break\n",
    "\n",
    "    elif key == ord('i'):\n",
    "        img = 255 - img\n",
    "        cv2.imshow('img', img)\n",
    "\n",
    "    elif key == ord('e'):\n",
    "        img = cv2.Canny(img, 50, 150)\n",
    "        cv2.imshow('img', img)\n",
    "\n",
    "    elif key == ord('r'):\n",
    "        img = img1.copy()\n",
    "        cv2.imshow('img', img)\n",
    "\n",
    "cv2.destroyAllWindows()"
   ]
  },
  {
   "cell_type": "code",
   "execution_count": 8,
   "metadata": {},
   "outputs": [],
   "source": [
    "# 복습\n",
    "cap = cv2.VideoCapture(0)\n",
    "\n",
    "w = int(cap.get(cv2.CAP_PROP_FRAME_WIDTH))\n",
    "h = int(cap.get(cv2.CAP_PROP_FRAME_HEIGHT))\n",
    "fps = int(cap.get(cv2.CAP_PROP_FPS))\n",
    "fourcc = cv2.VideoWriter_fourcc(*'DIVX')\n",
    "\n",
    "out = cv2.VideoWriter('review.avi', fourcc, fps, (w, h))\n",
    "\n",
    "if not cap.isOpened():\n",
    "    sys.exit('cap open failed')\n",
    "\n",
    "cv2.namedWindow('frame') # 해도 되고 안해도 됨\n",
    "while True:\n",
    "    ret, frame = cap.read() \n",
    "\n",
    "    if not ret:\n",
    "        print('Go home')\n",
    "        break\n",
    "\n",
    "    out.write(frame)    \n",
    "    cv2.imshow('frame', frame)\n",
    "\n",
    "    if cv2.waitKey(30) == 27:\n",
    "        break\n",
    "\n",
    "out.release()\n",
    "cap.release()\n",
    "cv2.destroyAllWindows()"
   ]
  },
  {
   "cell_type": "code",
   "execution_count": 10,
   "metadata": {},
   "outputs": [],
   "source": [
    "cap = cv2.VideoCapture(0)\n",
    "\n",
    "if not cap.isOpened():\n",
    "    print('video open failed')\n",
    "    sys.exit()\n",
    "\n",
    "f_flag = False\n",
    "i_flag = False\n",
    "\n",
    "while True:\n",
    "\n",
    "    ret, frame = cap.read()\n",
    "\n",
    "    if not ret:\n",
    "        print('Go home')\n",
    "        break\n",
    "\n",
    "    if f_flag:\n",
    "        frame = cv2.flip(frame, 1)\n",
    "\n",
    "    if i_flag:\n",
    "        frame = cv2.Canny(frame, 50, 150)\n",
    "    \n",
    "    cv2.imshow('frame', frame)\n",
    "\n",
    "    key = cv2.waitKey(30)\n",
    "\n",
    "    if key == 27:\n",
    "        break\n",
    "    \n",
    "    elif key == ord('f'):\n",
    "        f_flag = not f_flag\n",
    "\n",
    "    elif key == ord('i'):\n",
    "        i_flag = not i_flag\n",
    "\n",
    "cap.release()\n",
    "cv2.destroyAllWindows()"
   ]
  },
  {
   "cell_type": "code",
   "execution_count": 13,
   "metadata": {},
   "outputs": [],
   "source": [
    "## 마우스 콜백 (좌표 값을 찾을 때 필요) -> 필요할 때 찾아서 쓰기\n",
    "def call_mouse(event, x, y, flags, param):\n",
    "    global oldx, oldy\n",
    "\n",
    "    if event == cv2.EVENT_LBUTTONDOWN:\n",
    "        oldx, oldy = x, y\n",
    "\n",
    "    # elif event == cv2.EVENT_LBUTTONUP:\n",
    "    #     print('left button up', x, y)\n",
    "\n",
    "    elif event == cv2.EVENT_MOUSEMOVE:\n",
    "        if flags == cv2.EVENT_FLAG_LBUTTON:\n",
    "            cv2.line(img, (oldx, oldy), (x, y), (0, 0, 255), 4, cv2.LINE_AA)\n",
    "            cv2.imshow('image', img)\n",
    "            oldx, oldy = x, y\n",
    "\n",
    "\n",
    "img = np.ones((600, 1000, 3), np.uint8)*255\n",
    "\n",
    "cv2.namedWindow('image')\n",
    "\n",
    "cv2.setMouseCallback('image', call_mouse, img)\n",
    "\n",
    "cv2.imshow('image', img)\n",
    "\n",
    "cv2.waitKey()\n",
    "cv2.destroyAllWindows()"
   ]
  },
  {
   "cell_type": "code",
   "execution_count": null,
   "metadata": {},
   "outputs": [],
   "source": []
  },
  {
   "cell_type": "code",
   "execution_count": null,
   "metadata": {},
   "outputs": [],
   "source": []
  }
 ],
 "metadata": {
  "kernelspec": {
   "display_name": "Python 3.9.12 ('ai7')",
   "language": "python",
   "name": "python3"
  },
  "language_info": {
   "codemirror_mode": {
    "name": "ipython",
    "version": 3
   },
   "file_extension": ".py",
   "mimetype": "text/x-python",
   "name": "python",
   "nbconvert_exporter": "python",
   "pygments_lexer": "ipython3",
   "version": "3.9.12"
  },
  "orig_nbformat": 4,
  "vscode": {
   "interpreter": {
    "hash": "b02206e78dfa2a8d5aec0fbd7edf030840ca247420cab45417084002777e7a76"
   }
  }
 },
 "nbformat": 4,
 "nbformat_minor": 2
}
