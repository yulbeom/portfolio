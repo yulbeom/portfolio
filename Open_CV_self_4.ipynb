{
 "cells": [
  {
   "cell_type": "code",
   "execution_count": 1,
   "metadata": {},
   "outputs": [
    {
     "name": "stdout",
     "output_type": "stream",
     "text": [
      "Requirement already satisfied: opencv-python in c:\\users\\chanb\\anaconda3\\envs\\ai7\\lib\\site-packages (4.6.0.66)\n",
      "Requirement already satisfied: numpy>=1.14.5 in c:\\users\\chanb\\anaconda3\\envs\\ai7\\lib\\site-packages (from opencv-python) (1.21.5)\n"
     ]
    }
   ],
   "source": [
    "! pip install opencv-python"
   ]
  },
  {
   "cell_type": "code",
   "execution_count": 2,
   "metadata": {},
   "outputs": [],
   "source": [
    "import cv2\n",
    "import numpy as np"
   ]
  },
  {
   "cell_type": "code",
   "execution_count": 31,
   "metadata": {},
   "outputs": [],
   "source": [
    "src = cv2.imread('./fig/images/puppy.bmp') # color\n",
    "sunglass = cv2.imread('./fig/images/imgbin_sunglasses_1.png', cv2.IMREAD_UNCHANGED) #\n",
    "sunglass = cv2.resize(sunglass, (300, 150)) # size 줄이기\n",
    "\n",
    "\n",
    "mask = sunglass[:, :, -1] # 마지막 mask 뽑아내기 위해\n",
    "glass = sunglass[:, :, 0:3] \n",
    "\n",
    "h, w = mask.shape[:2]\n",
    "\n",
    "src_crop = src[120:120+h, 220:220+w]\n",
    "# src_crop[mask > 0] = (0, 0, 255)\n",
    "\n",
    "cv2.copyTo(glass, mask, src_crop)\n",
    "\n",
    "cv2.imshow('src', src)\n",
    "cv2.imshow('mask', mask)\n",
    "cv2.imshow('glass', glass)\n",
    "cv2.imshow('src_crop', src_crop)\n",
    "\n",
    "cv2.waitKey()\n",
    "cv2.destroyAllWindows()"
   ]
  },
  {
   "cell_type": "code",
   "execution_count": 46,
   "metadata": {},
   "outputs": [
    {
     "name": "stdout",
     "output_type": "stream",
     "text": [
      "(480, 640, 3)\n",
      "(150, 300, 4)\n"
     ]
    },
    {
     "data": {
      "text/plain": [
       "(430, 490)"
      ]
     },
     "execution_count": 46,
     "metadata": {},
     "output_type": "execute_result"
    }
   ],
   "source": [
    "print(src.shape)\n",
    "print(sunglass.shape)\n",
    "mask.shape"
   ]
  },
  {
   "cell_type": "code",
   "execution_count": 45,
   "metadata": {},
   "outputs": [],
   "source": [
    "# 합성\n",
    "src = cv2.imread('./fig/images/cat.bmp')\n",
    "hat = cv2.imread('./fig/images/imgbin_hat.png', cv2.IMREAD_UNCHANGED)\n",
    "hat_resize = cv2.resize(hat, (490, 430))\n",
    "\n",
    "mask = hat_resize[:, :, -1]\n",
    "hat_2 = hat_resize[:, :, 0:3]\n",
    "\n",
    "h, w = mask.shape[0:2]  \n",
    "\n",
    "src_crop = src[50:50+h, 150:150+w]\n",
    "\n",
    "cv2.copyTo(hat_2, mask, src_crop)\n",
    "cv2.imwrite('fig/images/cat_hat.png', src)\n",
    "cv2.imshow('src', src)\n",
    "cv2.imshow('src_crop', src_crop)\n",
    "cv2.imshow('mask', mask)\n",
    "cv2.imshow('hat_2', hat_2)\n",
    "\n",
    "cv2.waitKey()\n",
    "cv2.destroyAllWindows()"
   ]
  },
  {
   "cell_type": "code",
   "execution_count": 41,
   "metadata": {},
   "outputs": [
    {
     "name": "stdout",
     "output_type": "stream",
     "text": [
      "(430, 490, 3)\n",
      "(430, 490, 3)\n"
     ]
    }
   ],
   "source": [
    "print(src_crop.shape)\n",
    "print(hat_2.shape)"
   ]
  },
  {
   "cell_type": "code",
   "execution_count": 106,
   "metadata": {},
   "outputs": [],
   "source": [
    "# img 선, 도형 그리기 전에 미리 백업 만들어놓기, 원본이 바껴있기 때문에\n",
    "img = np.full((1000, 1500, 3), (255, 255, 255), dtype=np.uint8) # (B, G, R) 흰색은 셋 다 255\n",
    "\n",
    "# 선 그리기\n",
    "cv2.line(img, (50, 50), (300, 50), (0, 0, 255), 5) # (x, y) 좌표\n",
    "cv2.line(img, (300, 50), (200, 300), (0, 0, 255), 5)\n",
    "cv2.line(img, (400, 50), (400, 300), (255, 0, 0), 5)\n",
    "\n",
    "# 화살표 그리기\n",
    "# cv2.arrowedLine()\n",
    "\n",
    "# 사각형 그리기\n",
    "cv2.rectangle(img, (50, 400), (400, 600), (0, 0, 255), -1) # 안에 색을 채우는 것 -> -1\n",
    "cv2.rectangle(img, (60, 450, 300, 100), (255, 255, 255), -1)\n",
    "\n",
    "# 원 그리기\n",
    "cv2.circle(img, (800, 300), 100, (0, 0, 255), 5)\n",
    "\n",
    "# 타원 그리기\n",
    "cv2.ellipse(img, (800, 300), (50, 100), 30, 0, 180, (255, 0, 0), 5, cv2.LINE_AA)\n",
    "\n",
    "# 텍스트\n",
    "cv2.putText(img, 'OpenCV', (600, 500), cv2.FONT_HERSHEY_COMPLEX, 2, (133, 170, 200), 5, cv2.LINE_AA)\n",
    "\n",
    "cv2.imshow('img', img)\n",
    "\n",
    "cv2.waitKey()\n",
    "cv2.destroyAllWindows()"
   ]
  },
  {
   "cell_type": "code",
   "execution_count": 109,
   "metadata": {},
   "outputs": [],
   "source": [
    "# '인삼' 그리기\n",
    "img = np.full((1000, 1500, 3), (255, 255, 255), dtype=np.uint8)\n",
    "\n",
    "# '인'\n",
    "cv2.circle(img, (200, 200), 100, (133, 170, 200), 10)\n",
    "cv2.line(img, (400, 80), (400, 500), (133, 170, 200), 10)\n",
    "cv2.line(img, (200, 400), (200, 600), (133, 170, 200), 10)\n",
    "cv2.line(img, (200, 600), (500, 600), (133, 170, 200), 10)\n",
    "\n",
    "# '삼'\n",
    "cv2.line(img, (800, 100), (700, 300), (133, 170, 200), 10)\n",
    "cv2.line(img, (780, 150), (900,300), (133, 170, 200), 10)\n",
    "cv2.line(img, (1000, 80), (1000, 400), (133, 170, 200), 10)\n",
    "cv2.line(img, (1000, 240), (1100, 240), (133, 170, 200), 10)\n",
    "cv2.rectangle(img, (800, 600), (1000, 450), (133, 170, 200), 10)\n",
    "cv2.imshow('img', img)\n",
    "\n",
    "cv2.waitKey()\n",
    "cv2.destroyAllWindows()"
   ]
  }
 ],
 "metadata": {
  "kernelspec": {
   "display_name": "Python 3.9.12 ('ai7')",
   "language": "python",
   "name": "python3"
  },
  "language_info": {
   "codemirror_mode": {
    "name": "ipython",
    "version": 3
   },
   "file_extension": ".py",
   "mimetype": "text/x-python",
   "name": "python",
   "nbconvert_exporter": "python",
   "pygments_lexer": "ipython3",
   "version": "3.9.12"
  },
  "orig_nbformat": 4,
  "vscode": {
   "interpreter": {
    "hash": "b02206e78dfa2a8d5aec0fbd7edf030840ca247420cab45417084002777e7a76"
   }
  }
 },
 "nbformat": 4,
 "nbformat_minor": 2
}
