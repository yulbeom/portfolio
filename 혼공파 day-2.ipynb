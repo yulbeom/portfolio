{
 "cells": [
  {
   "cell_type": "raw",
   "id": "094fd5bd",
   "metadata": {},
   "source": [
    "# 키보드에서 문자를 입력받아 출력 하세요 \n",
    "input_str = input(\"문자 입력 > \")  # input 된 변수는 문자열이다.\n",
    "print(\"입력받은 문자 : {}, 소문자로 변경 : {}, 대문자로 변경 : {}\".\\\n",
    "      format(input_str, input_str.lower(), input_str.upper()))\n",
    "# ''' 주석임\n",
    "# 문자임 '''"
   ]
  },
  {
   "cell_type": "code",
   "execution_count": 3,
   "id": "1fceb16d",
   "metadata": {},
   "outputs": [
    {
     "ename": "NameError",
     "evalue": "name 'input_str' is not defined",
     "output_type": "error",
     "traceback": [
      "\u001b[1;31m---------------------------------------------------------------------------\u001b[0m",
      "\u001b[1;31mNameError\u001b[0m                                 Traceback (most recent call last)",
      "\u001b[1;32m~\\AppData\\Local\\Temp/ipykernel_5952/2324292301.py\u001b[0m in \u001b[0;36m<module>\u001b[1;34m\u001b[0m\n\u001b[1;32m----> 1\u001b[1;33m print(\"입력받은 문자 : {}, 소문자로 변경 : {}, 대문자로 변경 : {}\".format(input_str, \n\u001b[0m\u001b[0;32m      2\u001b[0m                                                         input_str.lower(), input_str.upper()))\n",
      "\u001b[1;31mNameError\u001b[0m: name 'input_str' is not defined"
     ]
    }
   ],
   "source": [
    "print(\"입력받은 문자 : {}, 소문자로 변경 : {}, 대문자로 변경 : {}\".format(input_str, \n",
    "                                                        input_str.lower(), input_str.upper()))"
   ]
  },
  {
   "cell_type": "code",
   "execution_count": null,
   "id": "73d05d57",
   "metadata": {},
   "outputs": [],
   "source": [
    "# 문자열의 함수 strip(), lstrip(), rstrip()  -> 공백 제거\n",
    "a_str = \" test 1234 abcd\"\n",
    "print(\"strip : /{}/, rstrip : /{}/, lstrip : /{}/ \".format(a_str.strip(),\n",
    "                                                          a_str.rstrip(),\n",
    "                                                          a_str.lstrip()))"
   ]
  },
  {
   "cell_type": "code",
   "execution_count": null,
   "id": "e48ce9c8",
   "metadata": {},
   "outputs": [],
   "source": [
    "a_str.strip()[ : 4].upper().lower().isdecimal()"
   ]
  },
  {
   "cell_type": "code",
   "execution_count": 1,
   "id": "1bea5f10",
   "metadata": {},
   "outputs": [
    {
     "ename": "NameError",
     "evalue": "name 'a_str' is not defined",
     "output_type": "error",
     "traceback": [
      "\u001b[1;31m---------------------------------------------------------------------------\u001b[0m",
      "\u001b[1;31mNameError\u001b[0m                                 Traceback (most recent call last)",
      "\u001b[1;32m~\\AppData\\Local\\Temp/ipykernel_5952/1814134484.py\u001b[0m in \u001b[0;36m<module>\u001b[1;34m\u001b[0m\n\u001b[0;32m      1\u001b[0m \u001b[1;31m# find(문자), rfind(문자)  -> 처음 나오는 문자의 인덱스 반환\u001b[0m\u001b[1;33m\u001b[0m\u001b[1;33m\u001b[0m\u001b[0m\n\u001b[1;32m----> 2\u001b[1;33m \u001b[0mprint\u001b[0m\u001b[1;33m(\u001b[0m\u001b[0ma_str\u001b[0m\u001b[1;33m.\u001b[0m\u001b[0mfind\u001b[0m\u001b[1;33m(\u001b[0m\u001b[1;34m't'\u001b[0m\u001b[1;33m)\u001b[0m\u001b[1;33m)\u001b[0m\u001b[1;33m\u001b[0m\u001b[1;33m\u001b[0m\u001b[0m\n\u001b[0m\u001b[0;32m      3\u001b[0m \u001b[0mprint\u001b[0m\u001b[1;33m(\u001b[0m\u001b[0ma_str\u001b[0m\u001b[1;33m.\u001b[0m\u001b[0mrfind\u001b[0m\u001b[1;33m(\u001b[0m\u001b[1;34m't'\u001b[0m\u001b[1;33m)\u001b[0m\u001b[1;33m)\u001b[0m\u001b[1;33m\u001b[0m\u001b[1;33m\u001b[0m\u001b[0m\n\u001b[0;32m      4\u001b[0m \u001b[0ma_str\u001b[0m\u001b[1;33m[\u001b[0m \u001b[0ma_str\u001b[0m\u001b[1;33m.\u001b[0m\u001b[0mfind\u001b[0m\u001b[1;33m(\u001b[0m\u001b[1;34m't'\u001b[0m\u001b[1;33m)\u001b[0m \u001b[1;33m:\u001b[0m \u001b[0ma_str\u001b[0m\u001b[1;33m.\u001b[0m\u001b[0mrfind\u001b[0m\u001b[1;33m(\u001b[0m\u001b[1;34m't'\u001b[0m\u001b[1;33m)\u001b[0m\u001b[1;33m+\u001b[0m\u001b[1;36m1\u001b[0m \u001b[1;33m]\u001b[0m\u001b[1;33m\u001b[0m\u001b[1;33m\u001b[0m\u001b[0m\n",
      "\u001b[1;31mNameError\u001b[0m: name 'a_str' is not defined"
     ]
    }
   ],
   "source": [
    "# find(문자), rfind(문자)  -> 처음 나오는 문자의 인덱스 반환\n",
    "print(a_str.find('t'))\n",
    "print(a_str.rfind('t'))\n",
    "a_str[ a_str.find('t') : a_str.rfind('t')+1 ]"
   ]
  },
  {
   "cell_type": "code",
   "execution_count": null,
   "id": "08853290",
   "metadata": {},
   "outputs": [],
   "source": [
    "# 문자열과 in 연산자 : 문자 in 문자열 -> 문자열에 문자가 존재하면 True\n",
    "print('test' in a_str)\n",
    "print('aa' in a_str)"
   ]
  },
  {
   "cell_type": "code",
   "execution_count": null,
   "id": "90f3aa6f",
   "metadata": {},
   "outputs": [],
   "source": [
    "# split(구분자) -> 구분자를 기준으로 문자 나누기, 구분자가 없으면 공백\n",
    "# list로 반환 [ , , ... ]\n",
    "a_str = \"10 20 30 40 50\"\n",
    "print(\"/{}/, /{}/\".format(a_str, a_str.split()))\n",
    "b_str = \"10,test,30,40,50,True\"\n",
    "b_str.split(',')"
   ]
  },
  {
   "cell_type": "code",
   "execution_count": null,
   "id": "866aa47c",
   "metadata": {},
   "outputs": [],
   "source": [
    "'10' in b_str.split(',')"
   ]
  },
  {
   "cell_type": "code",
   "execution_count": null,
   "id": "2559a436",
   "metadata": {},
   "outputs": [],
   "source": [
    "print(b_str.split(',')[2:-1])\n",
    "print(type(b_str.split(',')[2:-1]))\n",
    "b_str.split(',')"
   ]
  },
  {
   "cell_type": "code",
   "execution_count": null,
   "id": "78617af8",
   "metadata": {},
   "outputs": [],
   "source": [
    "# 문자열 관련 함수 -> 문자열.함수명()\n",
    "# object명.함수명()\n",
    "# format(), upper(), lower()  \n",
    "# find(), rfind()   => 인덱스 반환\n",
    "# strip(), lstrip(), rstrip() \n",
    "# split(구분자) -> list 반환\n",
    "# 값 in 배열 , isOO -> Boolean 반환\n",
    "# 문자열[ start : end ]  -> start포함, end는 미 포함, -1 : 마지막 위치\n"
   ]
  },
  {
   "cell_type": "code",
   "execution_count": null,
   "id": "c8408769",
   "metadata": {},
   "outputs": [],
   "source": [
    "# Boolean -> ==, >, <, >=, <=, !=,  and , or, not : True or False 반환\n",
    "print(not 10 == 100)"
   ]
  },
  {
   "cell_type": "code",
   "execution_count": null,
   "id": "fb97c1e9",
   "metadata": {},
   "outputs": [],
   "source": [
    "# if 표현식:  ->  표현식이 True이면 처리문장 실행\n",
    "#     처리문장\n",
    "#     ...\n",
    "if 10==100:  # False -> if의 실행문 실행 안됨\n",
    "    print('if 실행')\n",
    "if True:  \n",
    "    print('True 1행')    \n",
    "    print('True 2행')     \n",
    "print('end')"
   ]
  },
  {
   "cell_type": "code",
   "execution_count": null,
   "id": "061dafa1",
   "metadata": {},
   "outputs": [],
   "source": [
    "# 숫자를 키보드에서 입력받아 100보다 작으면 '100보다 작음'\n",
    "# 100보다 크면 '100이상' 으로 출력\n",
    "# 1. 키보드에서 숫자 입력\n",
    "input_num = input(\"숫자 입력 >\")\n",
    "# 2. 입력 받은 문자를 숫자로 형변환\n",
    "input_num = int(input_num)\n",
    "# 3. 입력받은 숫자가 100보다 작은지 체크\n",
    "if input_num < 100:\n",
    "    print('입력된 숫자는 {} : 100보다 적음 '.format(input_num))\n",
    "# 4. 입력받은 숫자가 100보다 크거나 같은지 체크\n",
    "if input_num >= 100:\n",
    "    print('입력된 숫자는 {} : 100이상 '.format(input_num))"
   ]
  },
  {
   "cell_type": "code",
   "execution_count": null,
   "id": "b57e9a3b",
   "metadata": {},
   "outputs": [],
   "source": [
    "import datetime\n",
    "now = datetime.datetime.now()\n",
    "print(\"{}년 {}월 {}일 {}시 {}분 {}초\".format(now.year, now.month, now.day,\n",
    "                                      now.hour, now.minute, now.second))"
   ]
  },
  {
   "cell_type": "code",
   "execution_count": null,
   "id": "309eec8d",
   "metadata": {},
   "outputs": [],
   "source": [
    "# 계절을 출력\n",
    "\n",
    "if now.month >=3 and now.month <=5:\n",
    "    print(\"{}월은 봄입니다\".format(now.month))\n",
    "if 6<= now.month <=8:\n",
    "    print(\"{}월은 여름입니다\".format(now.month))    \n",
    "if 9<= now.month <=11:\n",
    "    print(\"{}월은 가을입니다\".format(now.month))     \n",
    "if now.month ==1 or now.month ==2 or now.month ==12:\n",
    "    print(\"{}월은 겨울입니다\".format(now.month)) \n",
    "if now.month in [1,2,12]:\n",
    "    print(\"{}월은 겨울입니다\".format(now.month))     \n",
    "a = 12\n",
    "if a in [1,2,12]:\n",
    "    print(\"{}월은 겨울입니다\".format(a))     "
   ]
  },
  {
   "cell_type": "code",
   "execution_count": null,
   "id": "bdeb2c30",
   "metadata": {},
   "outputs": [],
   "source": [
    "# 숫자를 입력받아 숫자가 짝수이면 '입력된숫자 12는 짝수'\n",
    "#                        홀수이면 '입력된숫자 123는 홀수'\n",
    "# 1. 숫자 입력 받음\n",
    "input_number = input(\"정수 입력 > \")\n",
    "# 2. 숫자가 짝수인지 확인 -> 2로 나눈 % 나머지값으로 확인 0이면 짝수\n",
    "if float(input_number) % 2 == 0:\n",
    "    print(\"입력된 숫자 {} 는 짝수 \".format(input_number))\n",
    "if float(input_number) % 2 != 0:\n",
    "    print(\"입력된 숫자 {} 는 홀수 \".format(input_number))"
   ]
  },
  {
   "cell_type": "code",
   "execution_count": null,
   "id": "1134baad",
   "metadata": {},
   "outputs": [],
   "source": [
    "#      마지막 글자가 -> 0,2,4,6,8이면 짝수\n",
    "if input_number[-1] == '0' or input_number[-1] == '2' or \\\n",
    "    input_number[-1] == '4' or input_number[-1] == '6' or \\\n",
    "    input_number[-1] == '8':\n",
    "    print(\"입력된 숫자 {} 는 짝수 \".format(input_number))        \n",
    "#      마지막 글자가 -> 1,3,5,7,9이면 홀수\n",
    "if input_number[-1] == '1' or input_number[-1] == '3' or \\\n",
    "    input_number[-1] == '5' or input_number[-1] == '7' or \\\n",
    "    input_number[-1] == '9':\n",
    "    print(\"입력된 숫자 {} 는 홀수 \".format(input_number)) "
   ]
  },
  {
   "cell_type": "code",
   "execution_count": null,
   "id": "58beb005",
   "metadata": {},
   "outputs": [],
   "source": [
    "if  input_number[-1] in \"02468\":\n",
    "    print(\"입력된 숫자 {} 는 짝수 \".format(input_number))  \n",
    "if  input_number[-1] in \"13579\":\n",
    "    print(\"입력된 숫자 {} 는 홀수 \".format(input_number))      "
   ]
  },
  {
   "cell_type": "code",
   "execution_count": null,
   "id": "0f2bc93c",
   "metadata": {},
   "outputs": [],
   "source": [
    "if  input_number[-1] in \"02468\":\n",
    "    print(\"입력된 숫자 {} 는 짝수 \".format(input_number))\n",
    "else:\n",
    "    print(\"입력된 숫자 {} 는 홀수 \".format(input_number))     "
   ]
  },
  {
   "cell_type": "code",
   "execution_count": null,
   "id": "7231f6c9",
   "metadata": {},
   "outputs": [],
   "source": [
    "if now.month >=3 and now.month <=5:\n",
    "    print(\"{}월은 봄입니다\".format(now.month))\n",
    "elif 6<= now.month <=8:\n",
    "    print(\"{}월은 여름입니다\".format(now.month))    \n",
    "elif 9<= now.month <=11:\n",
    "    print(\"{}월은 가을입니다\".format(now.month))     \n",
    "else:\n",
    "    print(\"{}월은 겨울입니다\".format(now.month)) "
   ]
  },
  {
   "cell_type": "code",
   "execution_count": null,
   "id": "36133a4c",
   "metadata": {},
   "outputs": [],
   "source": [
    "# 키보드에서 자료를 입력받아 숫자인지 확인후 \n",
    "input_data = input(\"자료 입력 :\")\n",
    "# 숫자이면 int형으로 형변환 후 3의배수인지 확인\n",
    "if not input_data.isalpha():\n",
    "    if float(input_data) % 3 == 0:\n",
    "        print(\"{}는 3의 배수임\".format(input_data))\n",
    "    else:\n",
    "        print(\"{}는 3의 배수가 아님\".format(input_data))        \n",
    "else:\n",
    "    # 문자이면 입력한 문자중에 't' 문자가 있는지 확인\n",
    "    if 't' in input_data:\n",
    "        print('t가 입력된 자료 : {}'.format(input_data))\n",
    "    else:\n",
    "        print('t가 없는 자료 : {}'.format(input_data))\n"
   ]
  },
  {
   "cell_type": "code",
   "execution_count": null,
   "id": "76b17e4a",
   "metadata": {},
   "outputs": [],
   "source": [
    "# 숫자 두개와 부호를 입력 받아 계산하는 프로그램 작성\n",
    "# 1. 처음 숫자 입력\n",
    "# 2. 두 번째 숫자 입력\n",
    "# 3. 부호 입력 ( +, -, *, / 가 아니면 '부호에러'출력)\n",
    "# 4. 각 부호에 맞는 계산식과 결과 출력\n",
    "num_1 = float(input(\"처음 숫자 입력 >\"))\n",
    "num_2 = float(input(\"두번째 숫자 입력 >\"))\n",
    "buho = input(\"부호 입력 (+, *, -, /) > \")\n",
    "if buho in '+*-/':  \n",
    "    if buho == '+':\n",
    "#         pass\n",
    "        result = num_1 + num_2\n",
    "    elif buho == '-':\n",
    "        result = num_1 - num_2       \n",
    "    elif buho == '*':\n",
    "        result = num_1 * num_2   \n",
    "    else:\n",
    "        result = num_1 / num_2\n",
    "    print(\"{} {} {} = {}\".format(num_1,buho,num_2,result))\n",
    "else:\n",
    "    print(\"부호 입력 오류 \")"
   ]
  },
  {
   "cell_type": "code",
   "execution_count": 4,
   "id": "df475b79",
   "metadata": {},
   "outputs": [
    {
     "name": "stdout",
     "output_type": "stream",
     "text": [
      "[23, 'test', 'abcd', 45, True, False]\n"
     ]
    }
   ],
   "source": [
    "# list => [ 자료1, 자료2, ...] 자료들의 자료\n",
    "a_list = [23, 'test', 'abcd', 45, True, False]\n",
    "print(a_list)"
   ]
  },
  {
   "cell_type": "code",
   "execution_count": 11,
   "id": "8dc08757",
   "metadata": {},
   "outputs": [
    {
     "name": "stdout",
     "output_type": "stream",
     "text": [
      "test\n",
      "ab\n",
      "['list_a', 'test', 'abcd', 45, True, False]\n"
     ]
    },
    {
     "data": {
      "text/plain": [
       "'b'"
      ]
     },
     "execution_count": 11,
     "metadata": {},
     "output_type": "execute_result"
    }
   ],
   "source": [
    "# test 문자열 추출\n",
    "print(a_list[1])\n",
    "print(a_list[2][ : 2])   # ab\n",
    "a_list[0] = 'list_a'\n",
    "print(a_list)\n",
    "'abce'[1]        # '문자열'[index 숫자]"
   ]
  },
  {
   "cell_type": "code",
   "execution_count": null,
   "id": "06f540dd",
   "metadata": {},
   "outputs": [],
   "source": [
    "# list안에 list 내포\n",
    "b_list = [[1,2,3], [4,5,6], [7,8,9]]\n",
    "print(b_list)\n",
    "print(b_list[1])  #  [4,5,6]\n",
    "print(b_list[2][0])  # 7"
   ]
  },
  {
   "cell_type": "code",
   "execution_count": null,
   "id": "75dbf0c4",
   "metadata": {},
   "outputs": [],
   "source": [
    "# 10 + 20 의 형식으로 입력을 받아 계산하는 프로그램 작성\n",
    "input_data = input(\"계산식 입력 : ( 10 + 20 의 형식 ) > \").split()\n",
    "print(input_data)\n",
    "\n",
    "num_1 = int(input_data[0])\n",
    "num_2 = int(input_data[2])\n",
    "buho = input_data[1]\n",
    "if buho in '+*-/':  \n",
    "    if buho == '+':\n",
    "        result = num_1 + num_2\n",
    "    elif buho == '-':\n",
    "        result = num_1 - num_2       \n",
    "    elif buho == '*':\n",
    "        result = num_1 * num_2   \n",
    "    else:\n",
    "        result = num_1 / num_2\n",
    "    print(\"{} {} {} = {}\".format(num_1,buho,num_2,result))\n",
    "else:\n",
    "    print(\"부호 입력 오류 \")"
   ]
  },
  {
   "cell_type": "code",
   "execution_count": null,
   "id": "3ce95099",
   "metadata": {},
   "outputs": [],
   "source": [
    "# 처음 숫자에 'q'가 입력되면 계산기 종료\n",
    "while True:\n",
    "    input_data = input(\"계산식 입력 : ( 10 + 20 의 형식 ) > \").split()\n",
    "    if input_data[0] == 'q':\n",
    "        break\n",
    "    num_1 = int(input_data[0])\n",
    "    num_2 = int(input_data[2])\n",
    "    buho = input_data[1]\n",
    "    if buho in '+*-/':  \n",
    "        if buho == '+':\n",
    "            result = num_1 + num_2\n",
    "        elif buho == '-':\n",
    "            result = num_1 - num_2       \n",
    "        elif buho == '*':\n",
    "            result = num_1 * num_2   \n",
    "        else:\n",
    "            result = num_1 / num_2\n",
    "        print(\"{} {} {} = {}\".format(num_1,buho,num_2,result))\n",
    "    else:\n",
    "        print(\"부호 입력 오류 \")"
   ]
  },
  {
   "cell_type": "code",
   "execution_count": null,
   "id": "9ceb1000",
   "metadata": {},
   "outputs": [],
   "source": [
    "# 구구단 출력\n",
    "num_1 = 2   #  단\n",
    "while num_1 < 10:\n",
    "    num_2 = 1   # 1 ~ 9 까지 변하는 수\n",
    "    while num_2 < 10:\n",
    "        print(\"{} * {} = {}\".format(num_1, num_2, num_1 * num_2), end='\\t')\n",
    "        num_2 += 1   # 1씩 증가\n",
    "    print()\n",
    "    num_1 += 1   # 단을 1씩 증가 "
   ]
  },
  {
   "cell_type": "code",
   "execution_count": 1,
   "id": "11edb45b",
   "metadata": {},
   "outputs": [
    {
     "name": "stdout",
     "output_type": "stream",
     "text": [
      "두 수 사이의합을 구하세요 ( 10 20 )>10 20\n",
      "10와 20사이의 합은 165\n",
      "두 수 사이의합을 구하세요 ( 10 20 )>q\n"
     ]
    }
   ],
   "source": [
    "# 두 수를 입력받아 두 수사이의 합을 구하세요\n",
    "# 3 10 -> 3 +4 +5 + ... +10\n",
    "while True:\n",
    "    input_data = input(\"두 수 사이의합을 구하세요 ( 10 20 )>\").split()\n",
    "    if input_data[0] == 'q':\n",
    "        break\n",
    "    if len(input_data) !=2:\n",
    "        print(\" 두 수를 입력하세요\")\n",
    "        continue\n",
    "    if input_data[0].isalpha() or input_data[1].isalpha():\n",
    "        print(\" 두 수를 입력하세요\")\n",
    "        continue\n",
    "    num_1 = int(input_data[0]); num_2 = int(input_data[1])  \n",
    "    if num_1 > num_2:   # 큰값 작은값이 입력되면 값을 change\n",
    "        num_1, num_2 = num_2, num_1\n",
    "    total = num_1; ch_num = num_1\n",
    "    while ch_num < num_2:\n",
    "        ch_num += 1;  total += ch_num\n",
    "    print(\"{}와 {}사이의 합은 {}\".format(num_1, num_2, total))"
   ]
  },
  {
   "cell_type": "code",
   "execution_count": 13,
   "id": "e9e272af",
   "metadata": {},
   "outputs": [
    {
     "name": "stdout",
     "output_type": "stream",
     "text": [
      "[1, 2, 3, 4]\n",
      "[1, 'test', 2, 3, 4]\n",
      "[1, 'test', 2, 3, 4, [4, 5, 6]]\n",
      "[1, 'test', 2, 3, 4, [4, 5, 6], 7, 8, 9]\n",
      "[1, 'test', 2, 3, 4, [4, 5, 6], 7, 8, 9, 11, 22, 33]\n",
      "[1, 'test', 2, 3, 4, [4, 5, 6], 7, 8, 9]\n"
     ]
    }
   ],
   "source": [
    "# list 선언, 함수, ...\n",
    "# 리스트에 요소 추가하기 : 리스트.append(값), 리스트.insert(위치, 값)\n",
    "a_list = [1,2,3]\n",
    "a_list.append(4)    # [1,2,3,4]\n",
    "print(a_list)\n",
    "\n",
    "a_list.insert(1,'test')  # [1, 'test', 2,3,4]\n",
    "print(a_list)\n",
    "\n",
    "# a_list에 리스트 요소 추가\n",
    "a_list.append([4,5,6])  # [1,'test',2,3,4,[4,5,6]]\n",
    "print(a_list)\n",
    "\n",
    "# extend(리스트) -> 리스트의 각 요소가 리스트의 요소로 추가\n",
    "a_list.extend([7,8,9])  # [1,'test',2,3,4,[4,5,6], 7,8,9] \n",
    "print(a_list)\n",
    "\n",
    "# 리스트 + 리스트 -> 기존 리스틔 값에 변화 없음\n",
    "print(a_list + [11,22,33])\n",
    "print(a_list)"
   ]
  },
  {
   "cell_type": "code",
   "execution_count": 14,
   "id": "0ec2e8d1",
   "metadata": {},
   "outputs": [
    {
     "name": "stdout",
     "output_type": "stream",
     "text": [
      "[1, 2, 3, 4, [4, 5, 6], 7, 8, 9]\n"
     ]
    }
   ],
   "source": [
    "# 리스트에 요소 추가하기 : 리스트.append(값), 리스트.insert(위치, 값)\n",
    "# 리스트에 리스트의 각 요소를 리스트의 요소로 추가 : 리스트.extend(리스트)\n",
    "# 리스트 요소 삭제 : del 리스트명[인덱스], 리스트명.pop(인덱스)\n",
    "# 리스트의 값으로 삭제 : 리스트명.remove(값)\n",
    "# 리스트의 모든 요소 제거 : 리스트명.clear()\n",
    "\n",
    "# 인덱스 1인 'test' 자료 삭제 : del 명령어 사용\n",
    "del a_list[1]  # [ start : end ]\n",
    "print(a_list)"
   ]
  },
  {
   "cell_type": "code",
   "execution_count": 15,
   "id": "691a1db1",
   "metadata": {},
   "outputs": [
    {
     "name": "stdout",
     "output_type": "stream",
     "text": [
      "[1, 2, 3, 4, 7, 8, 9]\n"
     ]
    }
   ],
   "source": [
    "# [4, 5, 6] 리스트자료 삭제\n",
    "a_list.pop(4)  # 4 인덱스 자료 삭제\n",
    "print(a_list)"
   ]
  },
  {
   "cell_type": "code",
   "execution_count": 16,
   "id": "a9500ffe",
   "metadata": {},
   "outputs": [
    {
     "name": "stdout",
     "output_type": "stream",
     "text": [
      "[1, 4, 5]\n"
     ]
    }
   ],
   "source": [
    "b_list = [1,2,3,4,5]\n",
    "del b_list[1:3]  # 2와 3삭제\n",
    "print(b_list)"
   ]
  },
  {
   "cell_type": "code",
   "execution_count": 17,
   "id": "f04be8b0",
   "metadata": {},
   "outputs": [
    {
     "name": "stdout",
     "output_type": "stream",
     "text": [
      "[1, 4]\n"
     ]
    }
   ],
   "source": [
    "b_list.remove(5)   # 값으로 삭제\n",
    "print(b_list)"
   ]
  },
  {
   "cell_type": "code",
   "execution_count": 18,
   "id": "bcd48049",
   "metadata": {},
   "outputs": [
    {
     "name": "stdout",
     "output_type": "stream",
     "text": [
      "[]\n"
     ]
    }
   ],
   "source": [
    "# 리스트의 모든 요소 제거 : 리스트명.clear()\n",
    "b_list.clear()\n",
    "print(b_list)"
   ]
  },
  {
   "cell_type": "code",
   "execution_count": 21,
   "id": "61ed2649",
   "metadata": {},
   "outputs": [
    {
     "name": "stdout",
     "output_type": "stream",
     "text": [
      "True\n",
      "False\n"
     ]
    }
   ],
   "source": [
    "print(7 in a_list)  # 값 in 반복자료 -> True, False,  not in\n",
    "print(7 not in a_list) "
   ]
  },
  {
   "cell_type": "code",
   "execution_count": 26,
   "id": "6ea01422",
   "metadata": {},
   "outputs": [
    {
     "name": "stdout",
     "output_type": "stream",
     "text": [
      "출력 0\n",
      "출력 1\n",
      "출력 2\n",
      "출력 3\n",
      "출력 4\n",
      "\n",
      "출력 1\n",
      "출력 2\n",
      "출력 3\n",
      "출력 4\n"
     ]
    }
   ],
   "source": [
    "# for 반복자 in 반복 자료:\n",
    "#     처리\n",
    "for i in range(5):   # range(start (0부터 시작), end, step )\n",
    "    print('출력', i)\n",
    "print()\n",
    "for i in range(1,5):   # range(start (0부터 시작), end, step )\n",
    "    print('출력', i) "
   ]
  },
  {
   "cell_type": "code",
   "execution_count": 23,
   "id": "cad6e1ff",
   "metadata": {},
   "outputs": [
    {
     "name": "stdout",
     "output_type": "stream",
     "text": [
      "34\n",
      "56\n",
      "33\n",
      "44\n",
      "\n",
      "- h- e- l- l- o-  - w- o- r- l- d- !- !\n"
     ]
    }
   ],
   "source": [
    "a_list = [34,56,33,44]\n",
    "for i in a_list:\n",
    "    print(i)\n",
    "print()\n",
    "for char in 'hello world!!':\n",
    "    print(\"-\",char,end=\"\")\n",
    "print()    "
   ]
  },
  {
   "cell_type": "code",
   "execution_count": 10,
   "id": "33d92e49",
   "metadata": {},
   "outputs": [
    {
     "ename": "KeyboardInterrupt",
     "evalue": "Interrupted by user",
     "output_type": "error",
     "traceback": [
      "\u001b[1;31m---------------------------------------------------------------------------\u001b[0m",
      "\u001b[1;31mKeyboardInterrupt\u001b[0m                         Traceback (most recent call last)",
      "\u001b[1;32m~\\AppData\\Local\\Temp/ipykernel_1612/29642028.py\u001b[0m in \u001b[0;36m<module>\u001b[1;34m\u001b[0m\n\u001b[0;32m      1\u001b[0m \u001b[1;32mwhile\u001b[0m \u001b[1;32mTrue\u001b[0m\u001b[1;33m:\u001b[0m\u001b[1;33m\u001b[0m\u001b[1;33m\u001b[0m\u001b[0m\n\u001b[1;32m----> 2\u001b[1;33m     \u001b[0minput_data\u001b[0m \u001b[1;33m=\u001b[0m \u001b[0minput\u001b[0m\u001b[1;33m(\u001b[0m\u001b[1;34m\"두 수 사이의합을 구하세요 ( 10 20 )>\"\u001b[0m\u001b[1;33m)\u001b[0m\u001b[1;33m.\u001b[0m\u001b[0msplit\u001b[0m\u001b[1;33m(\u001b[0m\u001b[1;33m)\u001b[0m\u001b[1;33m\u001b[0m\u001b[1;33m\u001b[0m\u001b[0m\n\u001b[0m\u001b[0;32m      3\u001b[0m     \u001b[1;32mif\u001b[0m \u001b[0minput_data\u001b[0m\u001b[1;33m[\u001b[0m\u001b[1;36m0\u001b[0m\u001b[1;33m]\u001b[0m \u001b[1;33m==\u001b[0m \u001b[1;34m'q'\u001b[0m\u001b[1;33m:\u001b[0m\u001b[1;33m\u001b[0m\u001b[1;33m\u001b[0m\u001b[0m\n\u001b[0;32m      4\u001b[0m         \u001b[1;32mbreak\u001b[0m\u001b[1;33m\u001b[0m\u001b[1;33m\u001b[0m\u001b[0m\n\u001b[0;32m      5\u001b[0m     \u001b[1;32mif\u001b[0m \u001b[0mlen\u001b[0m\u001b[1;33m(\u001b[0m\u001b[0minput_data\u001b[0m\u001b[1;33m)\u001b[0m \u001b[1;33m!=\u001b[0m\u001b[1;36m2\u001b[0m\u001b[1;33m:\u001b[0m\u001b[1;33m\u001b[0m\u001b[1;33m\u001b[0m\u001b[0m\n",
      "\u001b[1;32mC:\\ProgramData\\Anaconda3\\lib\\site-packages\\ipykernel\\kernelbase.py\u001b[0m in \u001b[0;36mraw_input\u001b[1;34m(self, prompt)\u001b[0m\n\u001b[0;32m   1004\u001b[0m                 \u001b[1;34m\"raw_input was called, but this frontend does not support input requests.\"\u001b[0m\u001b[1;33m\u001b[0m\u001b[1;33m\u001b[0m\u001b[0m\n\u001b[0;32m   1005\u001b[0m             )\n\u001b[1;32m-> 1006\u001b[1;33m         return self._input_request(\n\u001b[0m\u001b[0;32m   1007\u001b[0m             \u001b[0mstr\u001b[0m\u001b[1;33m(\u001b[0m\u001b[0mprompt\u001b[0m\u001b[1;33m)\u001b[0m\u001b[1;33m,\u001b[0m\u001b[1;33m\u001b[0m\u001b[1;33m\u001b[0m\u001b[0m\n\u001b[0;32m   1008\u001b[0m             \u001b[0mself\u001b[0m\u001b[1;33m.\u001b[0m\u001b[0m_parent_ident\u001b[0m\u001b[1;33m[\u001b[0m\u001b[1;34m\"shell\"\u001b[0m\u001b[1;33m]\u001b[0m\u001b[1;33m,\u001b[0m\u001b[1;33m\u001b[0m\u001b[1;33m\u001b[0m\u001b[0m\n",
      "\u001b[1;32mC:\\ProgramData\\Anaconda3\\lib\\site-packages\\ipykernel\\kernelbase.py\u001b[0m in \u001b[0;36m_input_request\u001b[1;34m(self, prompt, ident, parent, password)\u001b[0m\n\u001b[0;32m   1049\u001b[0m             \u001b[1;32mexcept\u001b[0m \u001b[0mKeyboardInterrupt\u001b[0m\u001b[1;33m:\u001b[0m\u001b[1;33m\u001b[0m\u001b[1;33m\u001b[0m\u001b[0m\n\u001b[0;32m   1050\u001b[0m                 \u001b[1;31m# re-raise KeyboardInterrupt, to truncate traceback\u001b[0m\u001b[1;33m\u001b[0m\u001b[1;33m\u001b[0m\u001b[0m\n\u001b[1;32m-> 1051\u001b[1;33m                 \u001b[1;32mraise\u001b[0m \u001b[0mKeyboardInterrupt\u001b[0m\u001b[1;33m(\u001b[0m\u001b[1;34m\"Interrupted by user\"\u001b[0m\u001b[1;33m)\u001b[0m \u001b[1;32mfrom\u001b[0m \u001b[1;32mNone\u001b[0m\u001b[1;33m\u001b[0m\u001b[1;33m\u001b[0m\u001b[0m\n\u001b[0m\u001b[0;32m   1052\u001b[0m             \u001b[1;32mexcept\u001b[0m \u001b[0mException\u001b[0m\u001b[1;33m:\u001b[0m\u001b[1;33m\u001b[0m\u001b[1;33m\u001b[0m\u001b[0m\n\u001b[0;32m   1053\u001b[0m                 \u001b[0mself\u001b[0m\u001b[1;33m.\u001b[0m\u001b[0mlog\u001b[0m\u001b[1;33m.\u001b[0m\u001b[0mwarning\u001b[0m\u001b[1;33m(\u001b[0m\u001b[1;34m\"Invalid Message:\"\u001b[0m\u001b[1;33m,\u001b[0m \u001b[0mexc_info\u001b[0m\u001b[1;33m=\u001b[0m\u001b[1;32mTrue\u001b[0m\u001b[1;33m)\u001b[0m\u001b[1;33m\u001b[0m\u001b[1;33m\u001b[0m\u001b[0m\n",
      "\u001b[1;31mKeyboardInterrupt\u001b[0m: Interrupted by user"
     ]
    }
   ],
   "source": [
    "while True:\n",
    "    input_data = input(\"두 수 사이의합을 구하세요 ( 10 20 )>\").split()\n",
    "    if input_data[0] == 'q':\n",
    "        break\n",
    "    if len(input_data) !=2:\n",
    "        print(\" 두 수를 입력하세요\")\n",
    "        continue\n",
    "    if input_data[0].isalpha() or input_data[1].isalpha():\n",
    "        print(\" 두 수를 입력하세요\")\n",
    "        continue\n",
    "    num_1 = int(input_data[0])\n",
    "    num_2 = int(input_data[1])  \n",
    "    total = 0\n",
    "    if num_1 < num_2:   \n",
    "        for i in range(num_1, num_2+1):\n",
    "            total += i \n",
    "    else:\n",
    "        for i in range(num_2, num_1+1):\n",
    "            total += i \n",
    "    print(\"{}와 {}사이의 합은 {}\".format(num_1, num_2, total))"
   ]
  },
  {
   "cell_type": "code",
   "execution_count": 36,
   "id": "5eb71188",
   "metadata": {},
   "outputs": [
    {
     "name": "stdout",
     "output_type": "stream",
     "text": [
      "273\t45\t3\t4\t88\t\n",
      "273\t45\t3\t4\t88\t\n"
     ]
    }
   ],
   "source": [
    "# list의 요소 가져오기\n",
    "a_list = [273,45,3,4,88]\n",
    "for i in a_list:\n",
    "    print(i, end='\\t')  # 273, 45, 3,  \n",
    "print()    \n",
    "    \n",
    "# range()함수와 인덱스를 이용하여 자료 가져오기\n",
    "for i in range(len(a_list)):\n",
    "    print(a_list[i], end='\\t')\n",
    "print()    "
   ]
  },
  {
   "cell_type": "code",
   "execution_count": null,
   "id": "ce862c55",
   "metadata": {},
   "outputs": [],
   "source": []
  },
  {
   "cell_type": "code",
   "execution_count": null,
   "id": "132ef6e5",
   "metadata": {},
   "outputs": [],
   "source": []
  }
 ],
 "metadata": {
  "kernelspec": {
   "display_name": "Python 3 (ipykernel)",
   "language": "python",
   "name": "python3"
  },
  "language_info": {
   "codemirror_mode": {
    "name": "ipython",
    "version": 3
   },
   "file_extension": ".py",
   "mimetype": "text/x-python",
   "name": "python",
   "nbconvert_exporter": "python",
   "pygments_lexer": "ipython3",
   "version": "3.9.7"
  }
 },
 "nbformat": 4,
 "nbformat_minor": 5
}
