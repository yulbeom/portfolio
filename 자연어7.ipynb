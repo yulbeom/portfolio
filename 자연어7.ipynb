{
  "cells": [
    {
      "cell_type": "markdown",
      "metadata": {
        "id": "view-in-github",
        "colab_type": "text"
      },
      "source": [
        "<a href=\"https://colab.research.google.com/github/yulbeom/portfolio/blob/main/%EC%9E%90%EC%97%B0%EC%96%B47.ipynb\" target=\"_parent\"><img src=\"https://colab.research.google.com/assets/colab-badge.svg\" alt=\"Open In Colab\"/></a>"
      ]
    },
    {
      "cell_type": "markdown",
      "metadata": {
        "id": "0aZuSnhu550G"
      },
      "source": [
        "### 훈련데이터와 테스트데이터 만들기"
      ]
    },
    {
      "cell_type": "code",
      "execution_count": null,
      "metadata": {
        "id": "iU_D_DPm2uwX"
      },
      "outputs": [],
      "source": [
        "import numpy as np\n",
        "from tensorflow.keras.preprocessing.text import Tokenizer\n",
        "from tensorflow.keras.preprocessing.sequence import pad_sequences\n",
        "from tensorflow.keras.utils import to_categorical"
      ]
    },
    {
      "cell_type": "code",
      "execution_count": null,
      "metadata": {
        "id": "SK0B-p8s3Xpm"
      },
      "outputs": [],
      "source": [
        "text = \"\"\"경마장에 있는 말이 뛰고 있다\n",
        "그의 말이 법이다\n",
        "가는 말이 고와야 오는 말이 곱다\n",
        "\"\"\""
      ]
    },
    {
      "cell_type": "code",
      "execution_count": null,
      "metadata": {
        "colab": {
          "base_uri": "https://localhost:8080/"
        },
        "id": "FZLn1XKR3j3L",
        "outputId": "a38fa834-2b00-4d8e-c7c2-5c6f8e88388c"
      },
      "outputs": [
        {
          "name": "stdout",
          "output_type": "stream",
          "text": [
            "단어 집합의 크기 : 12\n"
          ]
        }
      ],
      "source": [
        "tokenizer = Tokenizer()\n",
        "tokenizer.fit_on_texts([text])\n",
        "vocab_size = len(tokenizer.word_index) + 1\n",
        "print('단어 집합의 크기 : %d' % vocab_size)"
      ]
    },
    {
      "cell_type": "code",
      "execution_count": null,
      "metadata": {
        "colab": {
          "base_uri": "https://localhost:8080/"
        },
        "id": "RKp4qirH3mp0",
        "outputId": "02548d6e-ed81-4a9d-dee3-ef96664562db"
      },
      "outputs": [
        {
          "name": "stdout",
          "output_type": "stream",
          "text": [
            "{'말이': 1, '경마장에': 2, '있는': 3, '뛰고': 4, '있다': 5, '그의': 6, '법이다': 7, '가는': 8, '고와야': 9, '오는': 10, '곱다': 11}\n"
          ]
        }
      ],
      "source": [
        "print(tokenizer.word_index)"
      ]
    },
    {
      "cell_type": "code",
      "execution_count": null,
      "metadata": {
        "id": "YTcG0MhW30Ft"
      },
      "outputs": [],
      "source": [
        "sequences = list()\n",
        "for line in text.split('\\n'): # 줄바꿈 문자를 기준으로 문장 토큰화\n",
        "    encoded = tokenizer.texts_to_sequences([line])[0]\n",
        "    for i in range(1, len(encoded)):\n",
        "        sequence = encoded[:i+1]\n",
        "        sequences.append(sequence)"
      ]
    },
    {
      "cell_type": "code",
      "execution_count": null,
      "metadata": {
        "colab": {
          "base_uri": "https://localhost:8080/"
        },
        "id": "7achm1M04JiB",
        "outputId": "72812680-2a34-4f50-c475-de593253c666"
      },
      "outputs": [
        {
          "data": {
            "text/plain": [
              "['경마장에 있는 말이 뛰고 있다', '그의 말이 법이다', '가는 말이 고와야 오는 말이 곱다', '']"
            ]
          },
          "execution_count": 6,
          "metadata": {},
          "output_type": "execute_result"
        }
      ],
      "source": [
        "text.split('\\n')"
      ]
    },
    {
      "cell_type": "code",
      "execution_count": null,
      "metadata": {
        "colab": {
          "base_uri": "https://localhost:8080/"
        },
        "id": "CZoRnn9K4MGq",
        "outputId": "7b29518e-2b69-4c17-b755-d4486802fd23"
      },
      "outputs": [
        {
          "data": {
            "text/plain": [
              "[[2, 3, 1, 4, 5]]"
            ]
          },
          "execution_count": 7,
          "metadata": {},
          "output_type": "execute_result"
        }
      ],
      "source": [
        "tokenizer.texts_to_sequences(['경마장에 있는 말이 뛰고 있다'])"
      ]
    },
    {
      "cell_type": "code",
      "execution_count": null,
      "metadata": {
        "colab": {
          "base_uri": "https://localhost:8080/"
        },
        "id": "A2OBOHxZ4geJ",
        "outputId": "2e328518-6843-492d-e0ce-715349cb92d4"
      },
      "outputs": [
        {
          "data": {
            "text/plain": [
              "11"
            ]
          },
          "execution_count": 8,
          "metadata": {},
          "output_type": "execute_result"
        }
      ],
      "source": [
        "len(sequences)"
      ]
    },
    {
      "cell_type": "code",
      "execution_count": null,
      "metadata": {
        "colab": {
          "base_uri": "https://localhost:8080/"
        },
        "id": "s9_Dybty6H0_",
        "outputId": "2e06841b-5649-4071-845d-1a41d4cd4f3b"
      },
      "outputs": [
        {
          "name": "stdout",
          "output_type": "stream",
          "text": [
            "[[2, 3], [2, 3, 1], [2, 3, 1, 4], [2, 3, 1, 4, 5], [6, 1], [6, 1, 7], [8, 1], [8, 1, 9], [8, 1, 9, 10], [8, 1, 9, 10, 1], [8, 1, 9, 10, 1, 11]]\n"
          ]
        }
      ],
      "source": [
        "print(sequences)"
      ]
    },
    {
      "cell_type": "markdown",
      "metadata": {
        "id": "RvZ8Ddzk7Muz"
      },
      "source": [
        "### 패딩(padding)"
      ]
    },
    {
      "cell_type": "code",
      "execution_count": null,
      "metadata": {
        "id": "XYnkDspe6H-M"
      },
      "outputs": [],
      "source": [
        "max_length = max(len(i) for i in sequences)"
      ]
    },
    {
      "cell_type": "code",
      "execution_count": null,
      "metadata": {
        "colab": {
          "base_uri": "https://localhost:8080/"
        },
        "id": "EskpWVm379on",
        "outputId": "c084a771-6740-4e19-f4a4-deb7030210e1"
      },
      "outputs": [
        {
          "data": {
            "text/plain": [
              "[2, 3, 4, 5, 2, 3, 2, 3, 4, 5, 6]"
            ]
          },
          "execution_count": 11,
          "metadata": {},
          "output_type": "execute_result"
        }
      ],
      "source": [
        "[len(i) for i in sequences]"
      ]
    },
    {
      "cell_type": "markdown",
      "metadata": {
        "id": "Csu29llO8FEf"
      },
      "source": [
        "##### max(len(i) for i in sequences) 를 풀어서 쓴 표현"
      ]
    },
    {
      "cell_type": "code",
      "execution_count": null,
      "metadata": {
        "id": "h8q-uOv26IG_"
      },
      "outputs": [],
      "source": [
        "a = []\n",
        "for i in sequences:\n",
        "  a.append(len(i))"
      ]
    },
    {
      "cell_type": "code",
      "execution_count": null,
      "metadata": {
        "id": "ZbQDS9ha6IPU"
      },
      "outputs": [],
      "source": [
        "sequences = pad_sequences(sequences, padding='pre', maxlen=max_length) # 앞을 0으로 채움"
      ]
    },
    {
      "cell_type": "code",
      "execution_count": null,
      "metadata": {
        "colab": {
          "base_uri": "https://localhost:8080/"
        },
        "id": "36VA305m_48d",
        "outputId": "d27fe6b5-97ed-4ccc-8be1-73cc2741d689"
      },
      "outputs": [
        {
          "name": "stdout",
          "output_type": "stream",
          "text": [
            "[[ 0  0  0  0  2  3]\n",
            " [ 0  0  0  2  3  1]\n",
            " [ 0  0  2  3  1  4]\n",
            " [ 0  2  3  1  4  5]\n",
            " [ 0  0  0  0  6  1]\n",
            " [ 0  0  0  6  1  7]\n",
            " [ 0  0  0  0  8  1]\n",
            " [ 0  0  0  8  1  9]\n",
            " [ 0  0  8  1  9 10]\n",
            " [ 0  8  1  9 10  1]\n",
            " [ 8  1  9 10  1 11]]\n"
          ]
        }
      ],
      "source": [
        "print(sequences)"
      ]
    },
    {
      "cell_type": "code",
      "execution_count": null,
      "metadata": {
        "id": "EiWKD9DlAlHZ"
      },
      "outputs": [],
      "source": [
        "sequences = np.array(sequences)"
      ]
    },
    {
      "cell_type": "code",
      "execution_count": null,
      "metadata": {
        "colab": {
          "base_uri": "https://localhost:8080/"
        },
        "id": "AyKZ3E7-A0o-",
        "outputId": "460a924a-85f9-4d92-f525-e7e0f39ff7d6"
      },
      "outputs": [
        {
          "data": {
            "text/plain": [
              "array([[ 0,  0,  0,  0,  2,  3],\n",
              "       [ 0,  0,  0,  2,  3,  1],\n",
              "       [ 0,  0,  2,  3,  1,  4],\n",
              "       [ 0,  2,  3,  1,  4,  5],\n",
              "       [ 0,  0,  0,  0,  6,  1],\n",
              "       [ 0,  0,  0,  6,  1,  7],\n",
              "       [ 0,  0,  0,  0,  8,  1],\n",
              "       [ 0,  0,  0,  8,  1,  9],\n",
              "       [ 0,  0,  8,  1,  9, 10],\n",
              "       [ 0,  8,  1,  9, 10,  1],\n",
              "       [ 8,  1,  9, 10,  1, 11]], dtype=int32)"
            ]
          },
          "execution_count": 15,
          "metadata": {},
          "output_type": "execute_result"
        }
      ],
      "source": [
        "sequences"
      ]
    },
    {
      "cell_type": "code",
      "execution_count": null,
      "metadata": {
        "id": "39yGkMzyA0ur"
      },
      "outputs": [],
      "source": [
        "X = sequences[:,:-1]\n",
        "y = sequences[:, -1]"
      ]
    },
    {
      "cell_type": "code",
      "execution_count": null,
      "metadata": {
        "colab": {
          "base_uri": "https://localhost:8080/"
        },
        "id": "IcCx4gPeA00M",
        "outputId": "c8fb8f43-f91f-442b-90e7-44ec0df0b431"
      },
      "outputs": [
        {
          "name": "stdout",
          "output_type": "stream",
          "text": [
            "[[ 0  0  0  0  2]\n",
            " [ 0  0  0  2  3]\n",
            " [ 0  0  2  3  1]\n",
            " [ 0  2  3  1  4]\n",
            " [ 0  0  0  0  6]\n",
            " [ 0  0  0  6  1]\n",
            " [ 0  0  0  0  8]\n",
            " [ 0  0  0  8  1]\n",
            " [ 0  0  8  1  9]\n",
            " [ 0  8  1  9 10]\n",
            " [ 8  1  9 10  1]]\n",
            "[ 3  1  4  5  1  7  1  9 10  1 11]\n"
          ]
        }
      ],
      "source": [
        "print(X)\n",
        "print(y)"
      ]
    },
    {
      "cell_type": "markdown",
      "metadata": {
        "id": "HGP35QB0BWwa"
      },
      "source": [
        "### 원 핫 인코딩"
      ]
    },
    {
      "cell_type": "code",
      "execution_count": null,
      "metadata": {
        "id": "Lw-sHJ4qA04y"
      },
      "outputs": [],
      "source": [
        "y = to_categorical(y, num_classes=vocab_size)"
      ]
    },
    {
      "cell_type": "code",
      "execution_count": null,
      "metadata": {
        "colab": {
          "base_uri": "https://localhost:8080/"
        },
        "id": "6eft7mdhBnLd",
        "outputId": "b6ebd4cc-7b8c-4001-986e-be52374af515"
      },
      "outputs": [
        {
          "name": "stdout",
          "output_type": "stream",
          "text": [
            "[[0. 0. 0. 1. 0. 0. 0. 0. 0. 0. 0. 0.]\n",
            " [0. 1. 0. 0. 0. 0. 0. 0. 0. 0. 0. 0.]\n",
            " [0. 0. 0. 0. 1. 0. 0. 0. 0. 0. 0. 0.]\n",
            " [0. 0. 0. 0. 0. 1. 0. 0. 0. 0. 0. 0.]\n",
            " [0. 1. 0. 0. 0. 0. 0. 0. 0. 0. 0. 0.]\n",
            " [0. 0. 0. 0. 0. 0. 0. 1. 0. 0. 0. 0.]\n",
            " [0. 1. 0. 0. 0. 0. 0. 0. 0. 0. 0. 0.]\n",
            " [0. 0. 0. 0. 0. 0. 0. 0. 0. 1. 0. 0.]\n",
            " [0. 0. 0. 0. 0. 0. 0. 0. 0. 0. 1. 0.]\n",
            " [0. 1. 0. 0. 0. 0. 0. 0. 0. 0. 0. 0.]\n",
            " [0. 0. 0. 0. 0. 0. 0. 0. 0. 0. 0. 1.]]\n"
          ]
        }
      ],
      "source": [
        "print(y)"
      ]
    },
    {
      "cell_type": "code",
      "execution_count": null,
      "metadata": {
        "id": "XuOkzXuSB0Ro"
      },
      "outputs": [],
      "source": [
        "from tensorflow.keras.models import Sequential\n",
        "from tensorflow.keras.layers import Embedding, Dense, SimpleRNN"
      ]
    },
    {
      "cell_type": "code",
      "execution_count": null,
      "metadata": {
        "colab": {
          "base_uri": "https://localhost:8080/"
        },
        "id": "oz_hc-5RJAtZ",
        "outputId": "be800da9-3a1d-4739-c2fe-f2475a634c69"
      },
      "outputs": [
        {
          "data": {
            "text/plain": [
              "(11, 5)"
            ]
          },
          "execution_count": 21,
          "metadata": {},
          "output_type": "execute_result"
        }
      ],
      "source": [
        "X.shape"
      ]
    },
    {
      "cell_type": "code",
      "execution_count": null,
      "metadata": {
        "colab": {
          "base_uri": "https://localhost:8080/"
        },
        "id": "WAjov8w7CIbD",
        "outputId": "73de6168-71f3-4e93-f768-ed653cbe830e"
      },
      "outputs": [
        {
          "name": "stdout",
          "output_type": "stream",
          "text": [
            "Epoch 1/200\n",
            "1/1 - 1s - loss: 2.4642 - accuracy: 0.3636 - 1s/epoch - 1s/step\n",
            "Epoch 2/200\n",
            "1/1 - 0s - loss: 2.4514 - accuracy: 0.3636 - 7ms/epoch - 7ms/step\n",
            "Epoch 3/200\n",
            "1/1 - 0s - loss: 2.4382 - accuracy: 0.3636 - 6ms/epoch - 6ms/step\n",
            "Epoch 4/200\n",
            "1/1 - 0s - loss: 2.4247 - accuracy: 0.4545 - 5ms/epoch - 5ms/step\n",
            "Epoch 5/200\n",
            "1/1 - 0s - loss: 2.4108 - accuracy: 0.4545 - 7ms/epoch - 7ms/step\n",
            "Epoch 6/200\n",
            "1/1 - 0s - loss: 2.3963 - accuracy: 0.4545 - 8ms/epoch - 8ms/step\n",
            "Epoch 7/200\n",
            "1/1 - 0s - loss: 2.3813 - accuracy: 0.5455 - 5ms/epoch - 5ms/step\n",
            "Epoch 8/200\n",
            "1/1 - 0s - loss: 2.3655 - accuracy: 0.5455 - 5ms/epoch - 5ms/step\n",
            "Epoch 9/200\n",
            "1/1 - 0s - loss: 2.3491 - accuracy: 0.5455 - 6ms/epoch - 6ms/step\n",
            "Epoch 10/200\n",
            "1/1 - 0s - loss: 2.3319 - accuracy: 0.5455 - 7ms/epoch - 7ms/step\n",
            "Epoch 11/200\n",
            "1/1 - 0s - loss: 2.3138 - accuracy: 0.5455 - 12ms/epoch - 12ms/step\n",
            "Epoch 12/200\n",
            "1/1 - 0s - loss: 2.2949 - accuracy: 0.5455 - 8ms/epoch - 8ms/step\n",
            "Epoch 13/200\n",
            "1/1 - 0s - loss: 2.2750 - accuracy: 0.5455 - 8ms/epoch - 8ms/step\n",
            "Epoch 14/200\n",
            "1/1 - 0s - loss: 2.2542 - accuracy: 0.5455 - 8ms/epoch - 8ms/step\n",
            "Epoch 15/200\n",
            "1/1 - 0s - loss: 2.2325 - accuracy: 0.5455 - 7ms/epoch - 7ms/step\n",
            "Epoch 16/200\n",
            "1/1 - 0s - loss: 2.2098 - accuracy: 0.5455 - 11ms/epoch - 11ms/step\n",
            "Epoch 17/200\n",
            "1/1 - 0s - loss: 2.1862 - accuracy: 0.5455 - 6ms/epoch - 6ms/step\n",
            "Epoch 18/200\n",
            "1/1 - 0s - loss: 2.1617 - accuracy: 0.5455 - 8ms/epoch - 8ms/step\n",
            "Epoch 19/200\n",
            "1/1 - 0s - loss: 2.1364 - accuracy: 0.4545 - 7ms/epoch - 7ms/step\n",
            "Epoch 20/200\n",
            "1/1 - 0s - loss: 2.1105 - accuracy: 0.4545 - 10ms/epoch - 10ms/step\n",
            "Epoch 21/200\n",
            "1/1 - 0s - loss: 2.0840 - accuracy: 0.4545 - 7ms/epoch - 7ms/step\n",
            "Epoch 22/200\n",
            "1/1 - 0s - loss: 2.0572 - accuracy: 0.4545 - 7ms/epoch - 7ms/step\n",
            "Epoch 23/200\n",
            "1/1 - 0s - loss: 2.0303 - accuracy: 0.4545 - 6ms/epoch - 6ms/step\n",
            "Epoch 24/200\n",
            "1/1 - 0s - loss: 2.0035 - accuracy: 0.4545 - 7ms/epoch - 7ms/step\n",
            "Epoch 25/200\n",
            "1/1 - 0s - loss: 1.9772 - accuracy: 0.4545 - 5ms/epoch - 5ms/step\n",
            "Epoch 26/200\n",
            "1/1 - 0s - loss: 1.9518 - accuracy: 0.3636 - 5ms/epoch - 5ms/step\n",
            "Epoch 27/200\n",
            "1/1 - 0s - loss: 1.9274 - accuracy: 0.3636 - 5ms/epoch - 5ms/step\n",
            "Epoch 28/200\n",
            "1/1 - 0s - loss: 1.9045 - accuracy: 0.3636 - 5ms/epoch - 5ms/step\n",
            "Epoch 29/200\n",
            "1/1 - 0s - loss: 1.8833 - accuracy: 0.3636 - 5ms/epoch - 5ms/step\n",
            "Epoch 30/200\n",
            "1/1 - 0s - loss: 1.8639 - accuracy: 0.3636 - 4ms/epoch - 4ms/step\n",
            "Epoch 31/200\n",
            "1/1 - 0s - loss: 1.8463 - accuracy: 0.3636 - 9ms/epoch - 9ms/step\n",
            "Epoch 32/200\n",
            "1/1 - 0s - loss: 1.8305 - accuracy: 0.3636 - 5ms/epoch - 5ms/step\n",
            "Epoch 33/200\n",
            "1/1 - 0s - loss: 1.8160 - accuracy: 0.3636 - 8ms/epoch - 8ms/step\n",
            "Epoch 34/200\n",
            "1/1 - 0s - loss: 1.8025 - accuracy: 0.3636 - 6ms/epoch - 6ms/step\n",
            "Epoch 35/200\n",
            "1/1 - 0s - loss: 1.7893 - accuracy: 0.4545 - 5ms/epoch - 5ms/step\n",
            "Epoch 36/200\n",
            "1/1 - 0s - loss: 1.7761 - accuracy: 0.4545 - 5ms/epoch - 5ms/step\n",
            "Epoch 37/200\n",
            "1/1 - 0s - loss: 1.7623 - accuracy: 0.4545 - 6ms/epoch - 6ms/step\n",
            "Epoch 38/200\n",
            "1/1 - 0s - loss: 1.7477 - accuracy: 0.4545 - 6ms/epoch - 6ms/step\n",
            "Epoch 39/200\n",
            "1/1 - 0s - loss: 1.7322 - accuracy: 0.4545 - 6ms/epoch - 6ms/step\n",
            "Epoch 40/200\n",
            "1/1 - 0s - loss: 1.7159 - accuracy: 0.4545 - 5ms/epoch - 5ms/step\n",
            "Epoch 41/200\n",
            "1/1 - 0s - loss: 1.6988 - accuracy: 0.4545 - 7ms/epoch - 7ms/step\n",
            "Epoch 42/200\n",
            "1/1 - 0s - loss: 1.6811 - accuracy: 0.4545 - 7ms/epoch - 7ms/step\n",
            "Epoch 43/200\n",
            "1/1 - 0s - loss: 1.6632 - accuracy: 0.4545 - 18ms/epoch - 18ms/step\n",
            "Epoch 44/200\n",
            "1/1 - 0s - loss: 1.6451 - accuracy: 0.4545 - 9ms/epoch - 9ms/step\n",
            "Epoch 45/200\n",
            "1/1 - 0s - loss: 1.6272 - accuracy: 0.4545 - 5ms/epoch - 5ms/step\n",
            "Epoch 46/200\n",
            "1/1 - 0s - loss: 1.6094 - accuracy: 0.4545 - 12ms/epoch - 12ms/step\n",
            "Epoch 47/200\n",
            "1/1 - 0s - loss: 1.5919 - accuracy: 0.4545 - 13ms/epoch - 13ms/step\n",
            "Epoch 48/200\n",
            "1/1 - 0s - loss: 1.5748 - accuracy: 0.4545 - 9ms/epoch - 9ms/step\n",
            "Epoch 49/200\n",
            "1/1 - 0s - loss: 1.5578 - accuracy: 0.4545 - 12ms/epoch - 12ms/step\n",
            "Epoch 50/200\n",
            "1/1 - 0s - loss: 1.5411 - accuracy: 0.4545 - 12ms/epoch - 12ms/step\n",
            "Epoch 51/200\n",
            "1/1 - 0s - loss: 1.5246 - accuracy: 0.5455 - 10ms/epoch - 10ms/step\n",
            "Epoch 52/200\n",
            "1/1 - 0s - loss: 1.5081 - accuracy: 0.5455 - 8ms/epoch - 8ms/step\n",
            "Epoch 53/200\n",
            "1/1 - 0s - loss: 1.4917 - accuracy: 0.5455 - 8ms/epoch - 8ms/step\n",
            "Epoch 54/200\n",
            "1/1 - 0s - loss: 1.4753 - accuracy: 0.5455 - 11ms/epoch - 11ms/step\n",
            "Epoch 55/200\n",
            "1/1 - 0s - loss: 1.4588 - accuracy: 0.5455 - 8ms/epoch - 8ms/step\n",
            "Epoch 56/200\n",
            "1/1 - 0s - loss: 1.4424 - accuracy: 0.5455 - 10ms/epoch - 10ms/step\n",
            "Epoch 57/200\n",
            "1/1 - 0s - loss: 1.4259 - accuracy: 0.5455 - 9ms/epoch - 9ms/step\n",
            "Epoch 58/200\n",
            "1/1 - 0s - loss: 1.4094 - accuracy: 0.5455 - 11ms/epoch - 11ms/step\n",
            "Epoch 59/200\n",
            "1/1 - 0s - loss: 1.3929 - accuracy: 0.5455 - 7ms/epoch - 7ms/step\n",
            "Epoch 60/200\n",
            "1/1 - 0s - loss: 1.3765 - accuracy: 0.5455 - 14ms/epoch - 14ms/step\n",
            "Epoch 61/200\n",
            "1/1 - 0s - loss: 1.3601 - accuracy: 0.5455 - 10ms/epoch - 10ms/step\n",
            "Epoch 62/200\n",
            "1/1 - 0s - loss: 1.3439 - accuracy: 0.5455 - 8ms/epoch - 8ms/step\n",
            "Epoch 63/200\n",
            "1/1 - 0s - loss: 1.3277 - accuracy: 0.5455 - 8ms/epoch - 8ms/step\n",
            "Epoch 64/200\n",
            "1/1 - 0s - loss: 1.3116 - accuracy: 0.5455 - 7ms/epoch - 7ms/step\n",
            "Epoch 65/200\n",
            "1/1 - 0s - loss: 1.2955 - accuracy: 0.5455 - 6ms/epoch - 6ms/step\n",
            "Epoch 66/200\n",
            "1/1 - 0s - loss: 1.2795 - accuracy: 0.5455 - 6ms/epoch - 6ms/step\n",
            "Epoch 67/200\n",
            "1/1 - 0s - loss: 1.2635 - accuracy: 0.5455 - 8ms/epoch - 8ms/step\n",
            "Epoch 68/200\n",
            "1/1 - 0s - loss: 1.2475 - accuracy: 0.5455 - 9ms/epoch - 9ms/step\n",
            "Epoch 69/200\n",
            "1/1 - 0s - loss: 1.2314 - accuracy: 0.5455 - 9ms/epoch - 9ms/step\n",
            "Epoch 70/200\n",
            "1/1 - 0s - loss: 1.2152 - accuracy: 0.5455 - 9ms/epoch - 9ms/step\n",
            "Epoch 71/200\n",
            "1/1 - 0s - loss: 1.1988 - accuracy: 0.5455 - 7ms/epoch - 7ms/step\n",
            "Epoch 72/200\n",
            "1/1 - 0s - loss: 1.1824 - accuracy: 0.5455 - 8ms/epoch - 8ms/step\n",
            "Epoch 73/200\n",
            "1/1 - 0s - loss: 1.1658 - accuracy: 0.6364 - 6ms/epoch - 6ms/step\n",
            "Epoch 74/200\n",
            "1/1 - 0s - loss: 1.1490 - accuracy: 0.6364 - 6ms/epoch - 6ms/step\n",
            "Epoch 75/200\n",
            "1/1 - 0s - loss: 1.1321 - accuracy: 0.6364 - 10ms/epoch - 10ms/step\n",
            "Epoch 76/200\n",
            "1/1 - 0s - loss: 1.1150 - accuracy: 0.6364 - 7ms/epoch - 7ms/step\n",
            "Epoch 77/200\n",
            "1/1 - 0s - loss: 1.0978 - accuracy: 0.6364 - 9ms/epoch - 9ms/step\n",
            "Epoch 78/200\n",
            "1/1 - 0s - loss: 1.0805 - accuracy: 0.6364 - 8ms/epoch - 8ms/step\n",
            "Epoch 79/200\n",
            "1/1 - 0s - loss: 1.0630 - accuracy: 0.7273 - 8ms/epoch - 8ms/step\n",
            "Epoch 80/200\n",
            "1/1 - 0s - loss: 1.0455 - accuracy: 0.7273 - 8ms/epoch - 8ms/step\n",
            "Epoch 81/200\n",
            "1/1 - 0s - loss: 1.0280 - accuracy: 0.7273 - 9ms/epoch - 9ms/step\n",
            "Epoch 82/200\n",
            "1/1 - 0s - loss: 1.0104 - accuracy: 0.7273 - 7ms/epoch - 7ms/step\n",
            "Epoch 83/200\n",
            "1/1 - 0s - loss: 0.9927 - accuracy: 0.7273 - 8ms/epoch - 8ms/step\n",
            "Epoch 84/200\n",
            "1/1 - 0s - loss: 0.9751 - accuracy: 0.7273 - 8ms/epoch - 8ms/step\n",
            "Epoch 85/200\n",
            "1/1 - 0s - loss: 0.9574 - accuracy: 0.7273 - 8ms/epoch - 8ms/step\n",
            "Epoch 86/200\n",
            "1/1 - 0s - loss: 0.9398 - accuracy: 0.7273 - 9ms/epoch - 9ms/step\n",
            "Epoch 87/200\n",
            "1/1 - 0s - loss: 0.9223 - accuracy: 0.7273 - 8ms/epoch - 8ms/step\n",
            "Epoch 88/200\n",
            "1/1 - 0s - loss: 0.9048 - accuracy: 0.7273 - 8ms/epoch - 8ms/step\n",
            "Epoch 89/200\n",
            "1/1 - 0s - loss: 0.8874 - accuracy: 0.7273 - 7ms/epoch - 7ms/step\n",
            "Epoch 90/200\n",
            "1/1 - 0s - loss: 0.8701 - accuracy: 0.7273 - 6ms/epoch - 6ms/step\n",
            "Epoch 91/200\n",
            "1/1 - 0s - loss: 0.8530 - accuracy: 0.7273 - 9ms/epoch - 9ms/step\n",
            "Epoch 92/200\n",
            "1/1 - 0s - loss: 0.8361 - accuracy: 0.8182 - 4ms/epoch - 4ms/step\n",
            "Epoch 93/200\n",
            "1/1 - 0s - loss: 0.8193 - accuracy: 0.8182 - 6ms/epoch - 6ms/step\n",
            "Epoch 94/200\n",
            "1/1 - 0s - loss: 0.8028 - accuracy: 0.8182 - 6ms/epoch - 6ms/step\n",
            "Epoch 95/200\n",
            "1/1 - 0s - loss: 0.7865 - accuracy: 0.8182 - 10ms/epoch - 10ms/step\n",
            "Epoch 96/200\n",
            "1/1 - 0s - loss: 0.7705 - accuracy: 0.8182 - 11ms/epoch - 11ms/step\n",
            "Epoch 97/200\n",
            "1/1 - 0s - loss: 0.7547 - accuracy: 0.8182 - 18ms/epoch - 18ms/step\n",
            "Epoch 98/200\n",
            "1/1 - 0s - loss: 0.7392 - accuracy: 0.8182 - 10ms/epoch - 10ms/step\n",
            "Epoch 99/200\n",
            "1/1 - 0s - loss: 0.7239 - accuracy: 0.8182 - 7ms/epoch - 7ms/step\n",
            "Epoch 100/200\n",
            "1/1 - 0s - loss: 0.7090 - accuracy: 0.8182 - 7ms/epoch - 7ms/step\n",
            "Epoch 101/200\n",
            "1/1 - 0s - loss: 0.6943 - accuracy: 0.8182 - 7ms/epoch - 7ms/step\n",
            "Epoch 102/200\n",
            "1/1 - 0s - loss: 0.6799 - accuracy: 0.8182 - 8ms/epoch - 8ms/step\n",
            "Epoch 103/200\n",
            "1/1 - 0s - loss: 0.6658 - accuracy: 0.8182 - 5ms/epoch - 5ms/step\n",
            "Epoch 104/200\n",
            "1/1 - 0s - loss: 0.6520 - accuracy: 0.8182 - 7ms/epoch - 7ms/step\n",
            "Epoch 105/200\n",
            "1/1 - 0s - loss: 0.6384 - accuracy: 0.8182 - 10ms/epoch - 10ms/step\n",
            "Epoch 106/200\n",
            "1/1 - 0s - loss: 0.6251 - accuracy: 0.8182 - 13ms/epoch - 13ms/step\n",
            "Epoch 107/200\n",
            "1/1 - 0s - loss: 0.6121 - accuracy: 0.8182 - 8ms/epoch - 8ms/step\n",
            "Epoch 108/200\n",
            "1/1 - 0s - loss: 0.5993 - accuracy: 0.8182 - 6ms/epoch - 6ms/step\n",
            "Epoch 109/200\n",
            "1/1 - 0s - loss: 0.5869 - accuracy: 0.8182 - 8ms/epoch - 8ms/step\n",
            "Epoch 110/200\n",
            "1/1 - 0s - loss: 0.5746 - accuracy: 0.8182 - 11ms/epoch - 11ms/step\n",
            "Epoch 111/200\n",
            "1/1 - 0s - loss: 0.5626 - accuracy: 0.8182 - 8ms/epoch - 8ms/step\n",
            "Epoch 112/200\n",
            "1/1 - 0s - loss: 0.5508 - accuracy: 0.9091 - 6ms/epoch - 6ms/step\n",
            "Epoch 113/200\n",
            "1/1 - 0s - loss: 0.5393 - accuracy: 0.9091 - 7ms/epoch - 7ms/step\n",
            "Epoch 114/200\n",
            "1/1 - 0s - loss: 0.5280 - accuracy: 0.9091 - 6ms/epoch - 6ms/step\n",
            "Epoch 115/200\n",
            "1/1 - 0s - loss: 0.5169 - accuracy: 0.9091 - 7ms/epoch - 7ms/step\n",
            "Epoch 116/200\n",
            "1/1 - 0s - loss: 0.5059 - accuracy: 0.9091 - 6ms/epoch - 6ms/step\n",
            "Epoch 117/200\n",
            "1/1 - 0s - loss: 0.4952 - accuracy: 0.9091 - 7ms/epoch - 7ms/step\n",
            "Epoch 118/200\n",
            "1/1 - 0s - loss: 0.4847 - accuracy: 0.9091 - 7ms/epoch - 7ms/step\n",
            "Epoch 119/200\n",
            "1/1 - 0s - loss: 0.4744 - accuracy: 0.9091 - 10ms/epoch - 10ms/step\n",
            "Epoch 120/200\n",
            "1/1 - 0s - loss: 0.4643 - accuracy: 0.9091 - 8ms/epoch - 8ms/step\n",
            "Epoch 121/200\n",
            "1/1 - 0s - loss: 0.4543 - accuracy: 0.9091 - 7ms/epoch - 7ms/step\n",
            "Epoch 122/200\n",
            "1/1 - 0s - loss: 0.4445 - accuracy: 0.9091 - 9ms/epoch - 9ms/step\n",
            "Epoch 123/200\n",
            "1/1 - 0s - loss: 0.4349 - accuracy: 0.9091 - 7ms/epoch - 7ms/step\n",
            "Epoch 124/200\n",
            "1/1 - 0s - loss: 0.4255 - accuracy: 0.9091 - 7ms/epoch - 7ms/step\n",
            "Epoch 125/200\n",
            "1/1 - 0s - loss: 0.4162 - accuracy: 1.0000 - 7ms/epoch - 7ms/step\n",
            "Epoch 126/200\n",
            "1/1 - 0s - loss: 0.4071 - accuracy: 1.0000 - 7ms/epoch - 7ms/step\n",
            "Epoch 127/200\n",
            "1/1 - 0s - loss: 0.3982 - accuracy: 1.0000 - 14ms/epoch - 14ms/step\n",
            "Epoch 128/200\n",
            "1/1 - 0s - loss: 0.3894 - accuracy: 1.0000 - 8ms/epoch - 8ms/step\n",
            "Epoch 129/200\n",
            "1/1 - 0s - loss: 0.3808 - accuracy: 1.0000 - 8ms/epoch - 8ms/step\n",
            "Epoch 130/200\n",
            "1/1 - 0s - loss: 0.3723 - accuracy: 1.0000 - 12ms/epoch - 12ms/step\n",
            "Epoch 131/200\n",
            "1/1 - 0s - loss: 0.3640 - accuracy: 1.0000 - 11ms/epoch - 11ms/step\n",
            "Epoch 132/200\n",
            "1/1 - 0s - loss: 0.3559 - accuracy: 1.0000 - 10ms/epoch - 10ms/step\n",
            "Epoch 133/200\n",
            "1/1 - 0s - loss: 0.3479 - accuracy: 1.0000 - 13ms/epoch - 13ms/step\n",
            "Epoch 134/200\n",
            "1/1 - 0s - loss: 0.3401 - accuracy: 1.0000 - 11ms/epoch - 11ms/step\n",
            "Epoch 135/200\n",
            "1/1 - 0s - loss: 0.3324 - accuracy: 1.0000 - 8ms/epoch - 8ms/step\n",
            "Epoch 136/200\n",
            "1/1 - 0s - loss: 0.3249 - accuracy: 1.0000 - 16ms/epoch - 16ms/step\n",
            "Epoch 137/200\n",
            "1/1 - 0s - loss: 0.3175 - accuracy: 1.0000 - 15ms/epoch - 15ms/step\n",
            "Epoch 138/200\n",
            "1/1 - 0s - loss: 0.3103 - accuracy: 1.0000 - 10ms/epoch - 10ms/step\n",
            "Epoch 139/200\n",
            "1/1 - 0s - loss: 0.3033 - accuracy: 1.0000 - 10ms/epoch - 10ms/step\n",
            "Epoch 140/200\n",
            "1/1 - 0s - loss: 0.2963 - accuracy: 1.0000 - 10ms/epoch - 10ms/step\n",
            "Epoch 141/200\n",
            "1/1 - 0s - loss: 0.2895 - accuracy: 1.0000 - 9ms/epoch - 9ms/step\n",
            "Epoch 142/200\n",
            "1/1 - 0s - loss: 0.2829 - accuracy: 1.0000 - 11ms/epoch - 11ms/step\n",
            "Epoch 143/200\n",
            "1/1 - 0s - loss: 0.2764 - accuracy: 1.0000 - 9ms/epoch - 9ms/step\n",
            "Epoch 144/200\n",
            "1/1 - 0s - loss: 0.2701 - accuracy: 1.0000 - 10ms/epoch - 10ms/step\n",
            "Epoch 145/200\n",
            "1/1 - 0s - loss: 0.2638 - accuracy: 1.0000 - 15ms/epoch - 15ms/step\n",
            "Epoch 146/200\n",
            "1/1 - 0s - loss: 0.2578 - accuracy: 1.0000 - 13ms/epoch - 13ms/step\n",
            "Epoch 147/200\n",
            "1/1 - 0s - loss: 0.2518 - accuracy: 1.0000 - 10ms/epoch - 10ms/step\n",
            "Epoch 148/200\n",
            "1/1 - 0s - loss: 0.2460 - accuracy: 1.0000 - 12ms/epoch - 12ms/step\n",
            "Epoch 149/200\n",
            "1/1 - 0s - loss: 0.2404 - accuracy: 1.0000 - 12ms/epoch - 12ms/step\n",
            "Epoch 150/200\n",
            "1/1 - 0s - loss: 0.2348 - accuracy: 1.0000 - 12ms/epoch - 12ms/step\n",
            "Epoch 151/200\n",
            "1/1 - 0s - loss: 0.2294 - accuracy: 1.0000 - 14ms/epoch - 14ms/step\n",
            "Epoch 152/200\n",
            "1/1 - 0s - loss: 0.2242 - accuracy: 1.0000 - 13ms/epoch - 13ms/step\n",
            "Epoch 153/200\n",
            "1/1 - 0s - loss: 0.2190 - accuracy: 1.0000 - 7ms/epoch - 7ms/step\n",
            "Epoch 154/200\n",
            "1/1 - 0s - loss: 0.2140 - accuracy: 1.0000 - 18ms/epoch - 18ms/step\n",
            "Epoch 155/200\n",
            "1/1 - 0s - loss: 0.2091 - accuracy: 1.0000 - 7ms/epoch - 7ms/step\n",
            "Epoch 156/200\n",
            "1/1 - 0s - loss: 0.2043 - accuracy: 1.0000 - 9ms/epoch - 9ms/step\n",
            "Epoch 157/200\n",
            "1/1 - 0s - loss: 0.1997 - accuracy: 1.0000 - 10ms/epoch - 10ms/step\n",
            "Epoch 158/200\n",
            "1/1 - 0s - loss: 0.1952 - accuracy: 1.0000 - 7ms/epoch - 7ms/step\n",
            "Epoch 159/200\n",
            "1/1 - 0s - loss: 0.1908 - accuracy: 1.0000 - 17ms/epoch - 17ms/step\n",
            "Epoch 160/200\n",
            "1/1 - 0s - loss: 0.1865 - accuracy: 1.0000 - 13ms/epoch - 13ms/step\n",
            "Epoch 161/200\n",
            "1/1 - 0s - loss: 0.1823 - accuracy: 1.0000 - 7ms/epoch - 7ms/step\n",
            "Epoch 162/200\n",
            "1/1 - 0s - loss: 0.1782 - accuracy: 1.0000 - 16ms/epoch - 16ms/step\n",
            "Epoch 163/200\n",
            "1/1 - 0s - loss: 0.1742 - accuracy: 1.0000 - 12ms/epoch - 12ms/step\n",
            "Epoch 164/200\n",
            "1/1 - 0s - loss: 0.1704 - accuracy: 1.0000 - 13ms/epoch - 13ms/step\n",
            "Epoch 165/200\n",
            "1/1 - 0s - loss: 0.1666 - accuracy: 1.0000 - 9ms/epoch - 9ms/step\n",
            "Epoch 166/200\n",
            "1/1 - 0s - loss: 0.1630 - accuracy: 1.0000 - 18ms/epoch - 18ms/step\n",
            "Epoch 167/200\n",
            "1/1 - 0s - loss: 0.1594 - accuracy: 1.0000 - 12ms/epoch - 12ms/step\n",
            "Epoch 168/200\n",
            "1/1 - 0s - loss: 0.1560 - accuracy: 1.0000 - 12ms/epoch - 12ms/step\n",
            "Epoch 169/200\n",
            "1/1 - 0s - loss: 0.1526 - accuracy: 1.0000 - 14ms/epoch - 14ms/step\n",
            "Epoch 170/200\n",
            "1/1 - 0s - loss: 0.1493 - accuracy: 1.0000 - 11ms/epoch - 11ms/step\n",
            "Epoch 171/200\n",
            "1/1 - 0s - loss: 0.1462 - accuracy: 1.0000 - 14ms/epoch - 14ms/step\n",
            "Epoch 172/200\n",
            "1/1 - 0s - loss: 0.1431 - accuracy: 1.0000 - 11ms/epoch - 11ms/step\n",
            "Epoch 173/200\n",
            "1/1 - 0s - loss: 0.1401 - accuracy: 1.0000 - 10ms/epoch - 10ms/step\n",
            "Epoch 174/200\n",
            "1/1 - 0s - loss: 0.1371 - accuracy: 1.0000 - 17ms/epoch - 17ms/step\n",
            "Epoch 175/200\n",
            "1/1 - 0s - loss: 0.1343 - accuracy: 1.0000 - 10ms/epoch - 10ms/step\n",
            "Epoch 176/200\n",
            "1/1 - 0s - loss: 0.1315 - accuracy: 1.0000 - 16ms/epoch - 16ms/step\n",
            "Epoch 177/200\n",
            "1/1 - 0s - loss: 0.1289 - accuracy: 1.0000 - 15ms/epoch - 15ms/step\n",
            "Epoch 178/200\n",
            "1/1 - 0s - loss: 0.1263 - accuracy: 1.0000 - 19ms/epoch - 19ms/step\n",
            "Epoch 179/200\n",
            "1/1 - 0s - loss: 0.1237 - accuracy: 1.0000 - 19ms/epoch - 19ms/step\n",
            "Epoch 180/200\n",
            "1/1 - 0s - loss: 0.1213 - accuracy: 1.0000 - 15ms/epoch - 15ms/step\n",
            "Epoch 181/200\n",
            "1/1 - 0s - loss: 0.1189 - accuracy: 1.0000 - 13ms/epoch - 13ms/step\n",
            "Epoch 182/200\n",
            "1/1 - 0s - loss: 0.1165 - accuracy: 1.0000 - 15ms/epoch - 15ms/step\n",
            "Epoch 183/200\n",
            "1/1 - 0s - loss: 0.1143 - accuracy: 1.0000 - 14ms/epoch - 14ms/step\n",
            "Epoch 184/200\n",
            "1/1 - 0s - loss: 0.1121 - accuracy: 1.0000 - 28ms/epoch - 28ms/step\n",
            "Epoch 185/200\n",
            "1/1 - 0s - loss: 0.1099 - accuracy: 1.0000 - 15ms/epoch - 15ms/step\n",
            "Epoch 186/200\n",
            "1/1 - 0s - loss: 0.1078 - accuracy: 1.0000 - 19ms/epoch - 19ms/step\n",
            "Epoch 187/200\n",
            "1/1 - 0s - loss: 0.1058 - accuracy: 1.0000 - 13ms/epoch - 13ms/step\n",
            "Epoch 188/200\n",
            "1/1 - 0s - loss: 0.1038 - accuracy: 1.0000 - 20ms/epoch - 20ms/step\n",
            "Epoch 189/200\n",
            "1/1 - 0s - loss: 0.1019 - accuracy: 1.0000 - 16ms/epoch - 16ms/step\n",
            "Epoch 190/200\n",
            "1/1 - 0s - loss: 0.1001 - accuracy: 1.0000 - 21ms/epoch - 21ms/step\n",
            "Epoch 191/200\n",
            "1/1 - 0s - loss: 0.0983 - accuracy: 1.0000 - 15ms/epoch - 15ms/step\n",
            "Epoch 192/200\n",
            "1/1 - 0s - loss: 0.0965 - accuracy: 1.0000 - 12ms/epoch - 12ms/step\n",
            "Epoch 193/200\n",
            "1/1 - 0s - loss: 0.0948 - accuracy: 1.0000 - 12ms/epoch - 12ms/step\n",
            "Epoch 194/200\n",
            "1/1 - 0s - loss: 0.0931 - accuracy: 1.0000 - 21ms/epoch - 21ms/step\n",
            "Epoch 195/200\n",
            "1/1 - 0s - loss: 0.0915 - accuracy: 1.0000 - 11ms/epoch - 11ms/step\n",
            "Epoch 196/200\n",
            "1/1 - 0s - loss: 0.0899 - accuracy: 1.0000 - 12ms/epoch - 12ms/step\n",
            "Epoch 197/200\n",
            "1/1 - 0s - loss: 0.0883 - accuracy: 1.0000 - 12ms/epoch - 12ms/step\n",
            "Epoch 198/200\n",
            "1/1 - 0s - loss: 0.0868 - accuracy: 1.0000 - 10ms/epoch - 10ms/step\n",
            "Epoch 199/200\n",
            "1/1 - 0s - loss: 0.0854 - accuracy: 1.0000 - 11ms/epoch - 11ms/step\n",
            "Epoch 200/200\n",
            "1/1 - 0s - loss: 0.0840 - accuracy: 1.0000 - 11ms/epoch - 11ms/step\n"
          ]
        },
        {
          "data": {
            "text/plain": [
              "<keras.callbacks.History at 0x7f91a4325650>"
            ]
          },
          "execution_count": 22,
          "metadata": {},
          "output_type": "execute_result"
        }
      ],
      "source": [
        "embedding_dim = 10\n",
        "hidden_units = 32\n",
        "\n",
        "model = Sequential()\n",
        "model.add(Embedding(vocab_size, embedding_dim))\n",
        "model.add(SimpleRNN(hidden_units)) # hidden state의 node 수를 줄이면 성능 저하, 늘리면 과적합\n",
        "model.add(Dense(vocab_size, activation='softmax'))\n",
        "model.compile(loss='categorical_crossentropy', optimizer='adam', metrics=['accuracy'])\n",
        "model.fit(X, y, epochs=200, verbose=2)"
      ]
    },
    {
      "cell_type": "code",
      "execution_count": null,
      "metadata": {
        "id": "iIpRcqBRCa16"
      },
      "outputs": [],
      "source": [
        "# model.predict('경마장에') -> 불가능"
      ]
    },
    {
      "cell_type": "code",
      "execution_count": null,
      "metadata": {
        "id": "XOrt8Rk5Ca_g"
      },
      "outputs": [],
      "source": [
        "encoded = tokenizer.texts_to_sequences(['경마장에'])[0]"
      ]
    },
    {
      "cell_type": "code",
      "execution_count": null,
      "metadata": {
        "colab": {
          "base_uri": "https://localhost:8080/"
        },
        "id": "dy6Aa3DaEscZ",
        "outputId": "b90755f0-0549-4b33-d413-7fd4e1110249"
      },
      "outputs": [
        {
          "data": {
            "text/plain": [
              "[2]"
            ]
          },
          "execution_count": 25,
          "metadata": {},
          "output_type": "execute_result"
        }
      ],
      "source": [
        "encoded"
      ]
    },
    {
      "cell_type": "code",
      "execution_count": null,
      "metadata": {
        "id": "2Qc50Cs5FGbh"
      },
      "outputs": [],
      "source": [
        "encoded = pad_sequences([encoded], padding='pre', maxlen=5)"
      ]
    },
    {
      "cell_type": "code",
      "execution_count": null,
      "metadata": {
        "colab": {
          "base_uri": "https://localhost:8080/"
        },
        "id": "1Pnbal5xFnhW",
        "outputId": "048796d7-2c9b-4ce9-eb1d-47ba322e1904"
      },
      "outputs": [
        {
          "data": {
            "text/plain": [
              "array([[0, 0, 0, 0, 2]], dtype=int32)"
            ]
          },
          "execution_count": 27,
          "metadata": {},
          "output_type": "execute_result"
        }
      ],
      "source": [
        "encoded"
      ]
    },
    {
      "cell_type": "code",
      "execution_count": null,
      "metadata": {
        "colab": {
          "base_uri": "https://localhost:8080/"
        },
        "id": "_X5ds_6xFzGD",
        "outputId": "917edcfd-32db-4a46-f3e3-05d445ad0990"
      },
      "outputs": [
        {
          "name": "stdout",
          "output_type": "stream",
          "text": [
            "1/1 [==============================] - 0s 296ms/step\n"
          ]
        }
      ],
      "source": [
        "result = model.predict(encoded, verbose=1)"
      ]
    },
    {
      "cell_type": "code",
      "execution_count": null,
      "metadata": {
        "colab": {
          "base_uri": "https://localhost:8080/"
        },
        "id": "VW8RbNESF53q",
        "outputId": "7760b5c0-8245-4ea1-f875-fe5b8d071c8c"
      },
      "outputs": [
        {
          "data": {
            "text/plain": [
              "array([[1.2917155e-03, 1.1714405e-01, 1.6430803e-03, 8.2645637e-01,\n",
              "        3.0819587e-03, 7.7223862e-03, 1.0095346e-03, 1.5391017e-02,\n",
              "        3.3253455e-03, 7.6737823e-03, 1.4644008e-02, 6.1682716e-04]],\n",
              "      dtype=float32)"
            ]
          },
          "execution_count": 29,
          "metadata": {},
          "output_type": "execute_result"
        }
      ],
      "source": [
        "result"
      ]
    },
    {
      "cell_type": "code",
      "execution_count": null,
      "metadata": {
        "colab": {
          "base_uri": "https://localhost:8080/"
        },
        "id": "Ut6Xj9bRF_dM",
        "outputId": "7f79c48f-b137-4b47-b4d7-015593eeb64e"
      },
      "outputs": [
        {
          "data": {
            "text/plain": [
              "12"
            ]
          },
          "execution_count": 30,
          "metadata": {},
          "output_type": "execute_result"
        }
      ],
      "source": [
        "len(result[0])"
      ]
    },
    {
      "cell_type": "code",
      "execution_count": null,
      "metadata": {
        "colab": {
          "base_uri": "https://localhost:8080/"
        },
        "id": "u2ewfXM3GIxK",
        "outputId": "18d8f7ec-5d45-4171-afb7-83d45c3be35e"
      },
      "outputs": [
        {
          "data": {
            "text/plain": [
              "1.0000000718282536"
            ]
          },
          "execution_count": 31,
          "metadata": {},
          "output_type": "execute_result"
        }
      ],
      "source": [
        "sum(result[0]) # 거의 1에 근접"
      ]
    },
    {
      "cell_type": "code",
      "execution_count": null,
      "metadata": {
        "id": "ln1IBg88GYNa"
      },
      "outputs": [],
      "source": [
        "result = np.argmax(result, axis=1)"
      ]
    },
    {
      "cell_type": "code",
      "execution_count": null,
      "metadata": {
        "colab": {
          "base_uri": "https://localhost:8080/"
        },
        "id": "NNUbooN9GmK8",
        "outputId": "43eb4706-7d15-4ea8-d079-08a93a72080e"
      },
      "outputs": [
        {
          "data": {
            "text/plain": [
              "array([3])"
            ]
          },
          "execution_count": 33,
          "metadata": {},
          "output_type": "execute_result"
        }
      ],
      "source": [
        "result"
      ]
    },
    {
      "cell_type": "code",
      "execution_count": null,
      "metadata": {
        "colab": {
          "base_uri": "https://localhost:8080/"
        },
        "id": "4AO7SX31Gqaz",
        "outputId": "7b85404c-035c-403d-bd98-e9271872dc1b"
      },
      "outputs": [
        {
          "data": {
            "text/plain": [
              "dict_items([('말이', 1), ('경마장에', 2), ('있는', 3), ('뛰고', 4), ('있다', 5), ('그의', 6), ('법이다', 7), ('가는', 8), ('고와야', 9), ('오는', 10), ('곱다', 11)])"
            ]
          },
          "execution_count": 34,
          "metadata": {},
          "output_type": "execute_result"
        }
      ],
      "source": [
        "tokenizer.word_index.items()"
      ]
    },
    {
      "cell_type": "code",
      "execution_count": null,
      "metadata": {
        "colab": {
          "base_uri": "https://localhost:8080/"
        },
        "id": "8tXeYUS0Gzl4",
        "outputId": "282e41ef-4a58-4965-c89c-d6ba1ad1ad1c"
      },
      "outputs": [
        {
          "name": "stdout",
          "output_type": "stream",
          "text": [
            "('말이', 1)\n",
            "('경마장에', 2)\n",
            "('있는', 3)\n",
            "('뛰고', 4)\n",
            "('있다', 5)\n",
            "('그의', 6)\n",
            "('법이다', 7)\n",
            "('가는', 8)\n",
            "('고와야', 9)\n",
            "('오는', 10)\n",
            "('곱다', 11)\n"
          ]
        }
      ],
      "source": [
        "for i in tokenizer.word_index.items():\n",
        "  print(i)"
      ]
    },
    {
      "cell_type": "code",
      "execution_count": null,
      "metadata": {
        "colab": {
          "base_uri": "https://localhost:8080/"
        },
        "id": "nO7L6XkgG8rB",
        "outputId": "478cdda5-bc7a-4769-a1d3-5a42bc0f9bd3"
      },
      "outputs": [
        {
          "name": "stdout",
          "output_type": "stream",
          "text": [
            "말이 1\n",
            "경마장에 2\n",
            "있는 3\n",
            "뛰고 4\n",
            "있다 5\n",
            "그의 6\n",
            "법이다 7\n",
            "가는 8\n",
            "고와야 9\n",
            "오는 10\n",
            "곱다 11\n"
          ]
        }
      ],
      "source": [
        "for word, index in tokenizer.word_index.items():\n",
        "  print(word, index)"
      ]
    },
    {
      "cell_type": "code",
      "execution_count": null,
      "metadata": {
        "colab": {
          "base_uri": "https://localhost:8080/"
        },
        "id": "xxAaArx5HNP-",
        "outputId": "a1d88269-f7b7-402b-a7dd-df4de67b5411"
      },
      "outputs": [
        {
          "name": "stdout",
          "output_type": "stream",
          "text": [
            "있는\n"
          ]
        }
      ],
      "source": [
        "for word, index in tokenizer.word_index.items():\n",
        "  if index == result:\n",
        "    break\n",
        "print(word)"
      ]
    },
    {
      "cell_type": "code",
      "execution_count": null,
      "metadata": {
        "id": "01lJsa_0Ioo4"
      },
      "outputs": [],
      "source": [
        "current_word = '경마장에'\n",
        "current_word = current_word + ' ' + word"
      ]
    },
    {
      "cell_type": "code",
      "execution_count": null,
      "metadata": {
        "colab": {
          "base_uri": "https://localhost:8080/",
          "height": 36
        },
        "id": "EbFCkERcK9IS",
        "outputId": "eac355c8-69e3-4472-d019-97de9747324a"
      },
      "outputs": [
        {
          "data": {
            "application/vnd.google.colaboratory.intrinsic+json": {
              "type": "string"
            },
            "text/plain": [
              "'경마장에 있는'"
            ]
          },
          "execution_count": 39,
          "metadata": {},
          "output_type": "execute_result"
        }
      ],
      "source": [
        "current_word"
      ]
    },
    {
      "cell_type": "code",
      "execution_count": null,
      "metadata": {
        "id": "BanSfXzfLCBv"
      },
      "outputs": [],
      "source": [
        "encoded = tokenizer.texts_to_sequences(['경마장에'])[0]"
      ]
    },
    {
      "cell_type": "code",
      "execution_count": null,
      "metadata": {
        "colab": {
          "base_uri": "https://localhost:8080/"
        },
        "id": "5GEoRYn_LNQN",
        "outputId": "31a8c811-c4d0-41ff-aaef-d688f86481d4"
      },
      "outputs": [
        {
          "data": {
            "text/plain": [
              "[2]"
            ]
          },
          "execution_count": 41,
          "metadata": {},
          "output_type": "execute_result"
        }
      ],
      "source": [
        "encoded"
      ]
    },
    {
      "cell_type": "code",
      "execution_count": null,
      "metadata": {
        "id": "BEviINlyLOeD"
      },
      "outputs": [],
      "source": [
        "def sentence_generation(model, tokenizer, current_word, n):\n",
        "  init_word = current_word\n",
        "  sentence = ''\n",
        "\n",
        "  for _ in range(n):\n",
        "    encoded = tokenizer.texts_to_sequences([current_word])[0]\n",
        "    encoded_pad = pad_sequences([encoded], padding='pre', maxlen=5)\n",
        "    result = model.predict(encoded_pad, verbose=0)\n",
        "    result = np.argmax(result, axis=1)\n",
        "    for word, index in tokenizer.word_index.items():\n",
        "      if index == result:\n",
        "        break\n",
        "    current_word = current_word + ' ' + word\n",
        "    sentence = sentence + current_word\n",
        "    sentence"
      ]
    },
    {
      "cell_type": "code",
      "execution_count": null,
      "metadata": {
        "colab": {
          "base_uri": "https://localhost:8080/"
        },
        "id": "vjYgT0gvMv7Z",
        "outputId": "8b2d5e87-343f-4c58-fb47-091c27ee638a"
      },
      "outputs": [
        {
          "name": "stdout",
          "output_type": "stream",
          "text": [
            "None\n"
          ]
        }
      ],
      "source": [
        "print(sentence_generation(model, tokenizer, '경마장에', 4))"
      ]
    },
    {
      "cell_type": "code",
      "execution_count": null,
      "metadata": {
        "colab": {
          "base_uri": "https://localhost:8080/"
        },
        "id": "HfoUKD1DSKEV",
        "outputId": "ff3adfc0-a7fd-4999-c0fa-17348fbe957f"
      },
      "outputs": [
        {
          "name": "stdout",
          "output_type": "stream",
          "text": [
            "None\n"
          ]
        }
      ],
      "source": [
        "print(sentence_generation(model, tokenizer, '그의', 2))"
      ]
    },
    {
      "cell_type": "code",
      "execution_count": null,
      "metadata": {
        "colab": {
          "base_uri": "https://localhost:8080/"
        },
        "id": "q_6_YGZjSSvh",
        "outputId": "ea004177-f3ab-4e17-8c53-f96735fc1996"
      },
      "outputs": [
        {
          "name": "stdout",
          "output_type": "stream",
          "text": [
            "None\n"
          ]
        }
      ],
      "source": [
        "print(sentence_generation(model, tokenizer, '가는', 5))"
      ]
    },
    {
      "cell_type": "markdown",
      "metadata": {
        "id": "Lg7rzqAt6hBW"
      },
      "source": [
        "##### 챗봇데이터 Question 열만 추출하여 생성 모델 구현하고 히든스테이트의 노드수, 임베딩 벡터 차원등을 수업 중 했던 값으로 시작해서 변경하여 정확도를 업데이트 해보자.\n",
        "##### RNN을 LSTM으로도 변경해서 학습 후 결과 비교해 봅니다. Colab의 GPU,TPU를 활용"
      ]
    },
    {
      "cell_type": "code",
      "execution_count": null,
      "metadata": {
        "id": "dEURhYfTSU_V"
      },
      "outputs": [],
      "source": [
        "import pandas as pd\n",
        "df = pd.read_csv('ChatbotData.csv')"
      ]
    },
    {
      "cell_type": "code",
      "execution_count": null,
      "metadata": {
        "colab": {
          "base_uri": "https://localhost:8080/",
          "height": 206
        },
        "id": "qNzRnwAe3ucz",
        "outputId": "9d59bed4-e9bb-4bbf-d870-f34fa9e62119"
      },
      "outputs": [
        {
          "data": {
            "text/html": [
              "\n",
              "  <div id=\"df-f8d071f2-7850-4f34-be57-0054998ca9e6\">\n",
              "    <div class=\"colab-df-container\">\n",
              "      <div>\n",
              "<style scoped>\n",
              "    .dataframe tbody tr th:only-of-type {\n",
              "        vertical-align: middle;\n",
              "    }\n",
              "\n",
              "    .dataframe tbody tr th {\n",
              "        vertical-align: top;\n",
              "    }\n",
              "\n",
              "    .dataframe thead th {\n",
              "        text-align: right;\n",
              "    }\n",
              "</style>\n",
              "<table border=\"1\" class=\"dataframe\">\n",
              "  <thead>\n",
              "    <tr style=\"text-align: right;\">\n",
              "      <th></th>\n",
              "      <th>Q</th>\n",
              "      <th>A</th>\n",
              "      <th>label</th>\n",
              "    </tr>\n",
              "  </thead>\n",
              "  <tbody>\n",
              "    <tr>\n",
              "      <th>0</th>\n",
              "      <td>12시 땡!</td>\n",
              "      <td>하루가 또 가네요.</td>\n",
              "      <td>0</td>\n",
              "    </tr>\n",
              "    <tr>\n",
              "      <th>1</th>\n",
              "      <td>1지망 학교 떨어졌어</td>\n",
              "      <td>위로해 드립니다.</td>\n",
              "      <td>0</td>\n",
              "    </tr>\n",
              "    <tr>\n",
              "      <th>2</th>\n",
              "      <td>3박4일 놀러가고 싶다</td>\n",
              "      <td>여행은 언제나 좋죠.</td>\n",
              "      <td>0</td>\n",
              "    </tr>\n",
              "    <tr>\n",
              "      <th>3</th>\n",
              "      <td>3박4일 정도 놀러가고 싶다</td>\n",
              "      <td>여행은 언제나 좋죠.</td>\n",
              "      <td>0</td>\n",
              "    </tr>\n",
              "    <tr>\n",
              "      <th>4</th>\n",
              "      <td>PPL 심하네</td>\n",
              "      <td>눈살이 찌푸려지죠.</td>\n",
              "      <td>0</td>\n",
              "    </tr>\n",
              "  </tbody>\n",
              "</table>\n",
              "</div>\n",
              "      <button class=\"colab-df-convert\" onclick=\"convertToInteractive('df-f8d071f2-7850-4f34-be57-0054998ca9e6')\"\n",
              "              title=\"Convert this dataframe to an interactive table.\"\n",
              "              style=\"display:none;\">\n",
              "        \n",
              "  <svg xmlns=\"http://www.w3.org/2000/svg\" height=\"24px\"viewBox=\"0 0 24 24\"\n",
              "       width=\"24px\">\n",
              "    <path d=\"M0 0h24v24H0V0z\" fill=\"none\"/>\n",
              "    <path d=\"M18.56 5.44l.94 2.06.94-2.06 2.06-.94-2.06-.94-.94-2.06-.94 2.06-2.06.94zm-11 1L8.5 8.5l.94-2.06 2.06-.94-2.06-.94L8.5 2.5l-.94 2.06-2.06.94zm10 10l.94 2.06.94-2.06 2.06-.94-2.06-.94-.94-2.06-.94 2.06-2.06.94z\"/><path d=\"M17.41 7.96l-1.37-1.37c-.4-.4-.92-.59-1.43-.59-.52 0-1.04.2-1.43.59L10.3 9.45l-7.72 7.72c-.78.78-.78 2.05 0 2.83L4 21.41c.39.39.9.59 1.41.59.51 0 1.02-.2 1.41-.59l7.78-7.78 2.81-2.81c.8-.78.8-2.07 0-2.86zM5.41 20L4 18.59l7.72-7.72 1.47 1.35L5.41 20z\"/>\n",
              "  </svg>\n",
              "      </button>\n",
              "      \n",
              "  <style>\n",
              "    .colab-df-container {\n",
              "      display:flex;\n",
              "      flex-wrap:wrap;\n",
              "      gap: 12px;\n",
              "    }\n",
              "\n",
              "    .colab-df-convert {\n",
              "      background-color: #E8F0FE;\n",
              "      border: none;\n",
              "      border-radius: 50%;\n",
              "      cursor: pointer;\n",
              "      display: none;\n",
              "      fill: #1967D2;\n",
              "      height: 32px;\n",
              "      padding: 0 0 0 0;\n",
              "      width: 32px;\n",
              "    }\n",
              "\n",
              "    .colab-df-convert:hover {\n",
              "      background-color: #E2EBFA;\n",
              "      box-shadow: 0px 1px 2px rgba(60, 64, 67, 0.3), 0px 1px 3px 1px rgba(60, 64, 67, 0.15);\n",
              "      fill: #174EA6;\n",
              "    }\n",
              "\n",
              "    [theme=dark] .colab-df-convert {\n",
              "      background-color: #3B4455;\n",
              "      fill: #D2E3FC;\n",
              "    }\n",
              "\n",
              "    [theme=dark] .colab-df-convert:hover {\n",
              "      background-color: #434B5C;\n",
              "      box-shadow: 0px 1px 3px 1px rgba(0, 0, 0, 0.15);\n",
              "      filter: drop-shadow(0px 1px 2px rgba(0, 0, 0, 0.3));\n",
              "      fill: #FFFFFF;\n",
              "    }\n",
              "  </style>\n",
              "\n",
              "      <script>\n",
              "        const buttonEl =\n",
              "          document.querySelector('#df-f8d071f2-7850-4f34-be57-0054998ca9e6 button.colab-df-convert');\n",
              "        buttonEl.style.display =\n",
              "          google.colab.kernel.accessAllowed ? 'block' : 'none';\n",
              "\n",
              "        async function convertToInteractive(key) {\n",
              "          const element = document.querySelector('#df-f8d071f2-7850-4f34-be57-0054998ca9e6');\n",
              "          const dataTable =\n",
              "            await google.colab.kernel.invokeFunction('convertToInteractive',\n",
              "                                                     [key], {});\n",
              "          if (!dataTable) return;\n",
              "\n",
              "          const docLinkHtml = 'Like what you see? Visit the ' +\n",
              "            '<a target=\"_blank\" href=https://colab.research.google.com/notebooks/data_table.ipynb>data table notebook</a>'\n",
              "            + ' to learn more about interactive tables.';\n",
              "          element.innerHTML = '';\n",
              "          dataTable['output_type'] = 'display_data';\n",
              "          await google.colab.output.renderOutput(dataTable, element);\n",
              "          const docLink = document.createElement('div');\n",
              "          docLink.innerHTML = docLinkHtml;\n",
              "          element.appendChild(docLink);\n",
              "        }\n",
              "      </script>\n",
              "    </div>\n",
              "  </div>\n",
              "  "
            ],
            "text/plain": [
              "                 Q            A  label\n",
              "0           12시 땡!   하루가 또 가네요.      0\n",
              "1      1지망 학교 떨어졌어    위로해 드립니다.      0\n",
              "2     3박4일 놀러가고 싶다  여행은 언제나 좋죠.      0\n",
              "3  3박4일 정도 놀러가고 싶다  여행은 언제나 좋죠.      0\n",
              "4          PPL 심하네   눈살이 찌푸려지죠.      0"
            ]
          },
          "execution_count": 55,
          "metadata": {},
          "output_type": "execute_result"
        }
      ],
      "source": [
        "df.head()"
      ]
    },
    {
      "cell_type": "code",
      "execution_count": null,
      "metadata": {
        "colab": {
          "base_uri": "https://localhost:8080/"
        },
        "id": "4vMoFE2y9oe3",
        "outputId": "21a01ed9-963c-4b63-c4b2-fc07a12f389b"
      },
      "outputs": [
        {
          "data": {
            "text/plain": [
              "0                         12시 땡!\n",
              "1                    1지망 학교 떨어졌어\n",
              "2                   3박4일 놀러가고 싶다\n",
              "3                3박4일 정도 놀러가고 싶다\n",
              "4                        PPL 심하네\n",
              "                  ...           \n",
              "11818             훔쳐보는 것도 눈치 보임.\n",
              "11819             훔쳐보는 것도 눈치 보임.\n",
              "11820                흑기사 해주는 짝남.\n",
              "11821    힘든 연애 좋은 연애라는게 무슨 차이일까?\n",
              "11822                 힘들어서 결혼할까봐\n",
              "Name: Q, Length: 11823, dtype: object"
            ]
          },
          "execution_count": 56,
          "metadata": {},
          "output_type": "execute_result"
        }
      ],
      "source": [
        "df = df['Q']\n",
        "df"
      ]
    },
    {
      "cell_type": "code",
      "execution_count": null,
      "metadata": {
        "colab": {
          "base_uri": "https://localhost:8080/"
        },
        "id": "Bl7SMYof905F",
        "outputId": "fb6f92b6-73ab-46a6-b91d-3397574a9fa2"
      },
      "outputs": [
        {
          "name": "stdout",
          "output_type": "stream",
          "text": [
            "단어 집합의 크기 : 13399\n"
          ]
        }
      ],
      "source": [
        "tokenizer = Tokenizer()\n",
        "tokenizer.fit_on_texts(df)\n",
        "vocab_size = len(tokenizer.word_index) + 1\n",
        "print('단어 집합의 크기 : %d' % vocab_size)"
      ]
    },
    {
      "cell_type": "code",
      "execution_count": null,
      "metadata": {
        "id": "9-nYNsxw-38t"
      },
      "outputs": [],
      "source": [
        "sequences = list()\n",
        "for line in df: # 줄바꿈 문자를 기준으로 문장 토큰화\n",
        "    encoded = tokenizer.texts_to_sequences([line])[0]\n",
        "    for i in range(1, len(encoded)):\n",
        "        sequence = encoded[:i+1]\n",
        "        sequences.append(sequence)"
      ]
    },
    {
      "cell_type": "code",
      "execution_count": null,
      "metadata": {
        "colab": {
          "base_uri": "https://localhost:8080/"
        },
        "id": "OpqyI36KFWlB",
        "outputId": "d60df36e-e4b3-4e59-b58b-6cdc31887a40"
      },
      "outputs": [
        {
          "data": {
            "text/plain": [
              "array([[    0,     0,     0, ...,     0,  4646,  4647],\n",
              "       [    0,     0,     0, ...,     0,  4648,   343],\n",
              "       [    0,     0,     0, ...,  4648,   343,   448],\n",
              "       ...,\n",
              "       [    0,     0,     0, ...,    91, 13396,   112],\n",
              "       [    0,     0,     0, ..., 13396,   112, 13397],\n",
              "       [    0,     0,     0, ...,     0,   555, 13398]], dtype=int32)"
            ]
          },
          "execution_count": 71,
          "metadata": {},
          "output_type": "execute_result"
        }
      ],
      "source": [
        "sequences"
      ]
    },
    {
      "cell_type": "code",
      "execution_count": null,
      "metadata": {
        "id": "bkJmYSV3CJS7"
      },
      "outputs": [],
      "source": [
        "max_len = max(len(i) for i in sequences)"
      ]
    },
    {
      "cell_type": "code",
      "execution_count": null,
      "metadata": {
        "colab": {
          "base_uri": "https://localhost:8080/"
        },
        "id": "iuPW3I9DEfUD",
        "outputId": "3b55c13e-351d-468f-ae34-ae54cbd1fa07"
      },
      "outputs": [
        {
          "data": {
            "text/plain": [
              "15"
            ]
          },
          "execution_count": 65,
          "metadata": {},
          "output_type": "execute_result"
        }
      ],
      "source": [
        "max_len"
      ]
    },
    {
      "cell_type": "code",
      "execution_count": null,
      "metadata": {
        "id": "slt53X-fEgyD"
      },
      "outputs": [],
      "source": [
        "sequences_pad = pad_sequences(sequences, maxlen=max_len, padding='pre')"
      ]
    },
    {
      "cell_type": "code",
      "execution_count": null,
      "metadata": {
        "colab": {
          "base_uri": "https://localhost:8080/"
        },
        "id": "k_Te0V-XEqCM",
        "outputId": "aa890fcd-aab5-4fc0-8df8-b4260454193a"
      },
      "outputs": [
        {
          "data": {
            "text/plain": [
              "array([[    0,     0,     0, ...,     0,  4646,  4647],\n",
              "       [    0,     0,     0, ...,     0,  4648,   343],\n",
              "       [    0,     0,     0, ...,  4648,   343,   448],\n",
              "       ...,\n",
              "       [    0,     0,     0, ...,    91, 13396,   112],\n",
              "       [    0,     0,     0, ..., 13396,   112, 13397],\n",
              "       [    0,     0,     0, ...,     0,   555, 13398]], dtype=int32)"
            ]
          },
          "execution_count": 67,
          "metadata": {},
          "output_type": "execute_result"
        }
      ],
      "source": [
        "sequences_pad"
      ]
    },
    {
      "cell_type": "code",
      "execution_count": null,
      "metadata": {
        "id": "zhFbm8EEEqKR"
      },
      "outputs": [],
      "source": [
        "sequences = np.array(sequences_pad)\n",
        "X = sequences[:,:-1]\n",
        "y = sequences[:, -1]"
      ]
    },
    {
      "cell_type": "code",
      "execution_count": null,
      "metadata": {
        "colab": {
          "base_uri": "https://localhost:8080/"
        },
        "id": "yarryj4gEqmq",
        "outputId": "ef329889-d2a5-4989-c791-db67f92b46b7"
      },
      "outputs": [
        {
          "name": "stdout",
          "output_type": "stream",
          "text": [
            "[ 4647   343   448 ...   112 13397 13398]\n"
          ]
        }
      ],
      "source": [
        "print(y)"
      ]
    },
    {
      "cell_type": "code",
      "execution_count": null,
      "metadata": {
        "id": "UgZ_Nt7uGqud"
      },
      "outputs": [],
      "source": [
        "y = to_categorical(y, num_classes=vocab_size)"
      ]
    },
    {
      "cell_type": "code",
      "execution_count": null,
      "metadata": {
        "colab": {
          "base_uri": "https://localhost:8080/"
        },
        "id": "1tCWRpHkGvzf",
        "outputId": "d0138083-da7c-4e0f-dae8-be48e7f15525"
      },
      "outputs": [
        {
          "name": "stdout",
          "output_type": "stream",
          "text": [
            "[[0. 0. 0. ... 0. 0. 0.]\n",
            " [0. 0. 0. ... 0. 0. 0.]\n",
            " [0. 0. 0. ... 0. 0. 0.]\n",
            " ...\n",
            " [0. 0. 0. ... 0. 0. 0.]\n",
            " [0. 0. 0. ... 0. 1. 0.]\n",
            " [0. 0. 0. ... 0. 0. 1.]]\n"
          ]
        }
      ],
      "source": [
        "print(y)"
      ]
    },
    {
      "cell_type": "markdown",
      "metadata": {
        "id": "OwlFDTk0G3wX"
      },
      "source": [
        "##### 모델 설계"
      ]
    },
    {
      "cell_type": "code",
      "execution_count": null,
      "metadata": {
        "id": "VWFhkTkpGzO0"
      },
      "outputs": [],
      "source": [
        "from tensorflow.keras.models import Sequential\n",
        "from tensorflow.keras.layers import Embedding, Dense, SimpleRNN"
      ]
    },
    {
      "cell_type": "code",
      "execution_count": null,
      "metadata": {
        "colab": {
          "base_uri": "https://localhost:8080/"
        },
        "id": "1RybCuyhG8UM",
        "outputId": "b49692e8-7f20-40f6-98ed-0bfb2c2de687"
      },
      "outputs": [
        {
          "name": "stdout",
          "output_type": "stream",
          "text": [
            "Epoch 1/200\n",
            "958/958 - 13s - loss: 8.6897 - accuracy: 0.0134 - 13s/epoch - 14ms/step\n",
            "Epoch 2/200\n",
            "958/958 - 12s - loss: 8.0614 - accuracy: 0.0205 - 12s/epoch - 12ms/step\n",
            "Epoch 3/200\n",
            "958/958 - 12s - loss: 7.8185 - accuracy: 0.0235 - 12s/epoch - 13ms/step\n",
            "Epoch 4/200\n",
            "958/958 - 11s - loss: 7.6012 - accuracy: 0.0286 - 11s/epoch - 12ms/step\n",
            "Epoch 5/200\n",
            "958/958 - 12s - loss: 7.3893 - accuracy: 0.0335 - 12s/epoch - 13ms/step\n",
            "Epoch 6/200\n",
            "958/958 - 13s - loss: 7.1753 - accuracy: 0.0390 - 13s/epoch - 13ms/step\n",
            "Epoch 7/200\n",
            "958/958 - 15s - loss: 6.9666 - accuracy: 0.0460 - 15s/epoch - 16ms/step\n",
            "Epoch 8/200\n",
            "958/958 - 15s - loss: 6.7656 - accuracy: 0.0536 - 15s/epoch - 16ms/step\n",
            "Epoch 9/200\n",
            "958/958 - 13s - loss: 6.5697 - accuracy: 0.0611 - 13s/epoch - 13ms/step\n",
            "Epoch 10/200\n",
            "958/958 - 12s - loss: 6.3763 - accuracy: 0.0692 - 12s/epoch - 13ms/step\n",
            "Epoch 11/200\n",
            "958/958 - 12s - loss: 6.1872 - accuracy: 0.0806 - 12s/epoch - 12ms/step\n",
            "Epoch 12/200\n",
            "958/958 - 12s - loss: 6.0027 - accuracy: 0.0924 - 12s/epoch - 12ms/step\n",
            "Epoch 13/200\n",
            "958/958 - 12s - loss: 5.8235 - accuracy: 0.1050 - 12s/epoch - 12ms/step\n",
            "Epoch 14/200\n",
            "958/958 - 13s - loss: 5.6510 - accuracy: 0.1171 - 13s/epoch - 13ms/step\n",
            "Epoch 15/200\n",
            "958/958 - 11s - loss: 5.4845 - accuracy: 0.1298 - 11s/epoch - 12ms/step\n",
            "Epoch 16/200\n",
            "958/958 - 13s - loss: 5.3229 - accuracy: 0.1461 - 13s/epoch - 14ms/step\n",
            "Epoch 17/200\n",
            "958/958 - 12s - loss: 5.1677 - accuracy: 0.1597 - 12s/epoch - 12ms/step\n",
            "Epoch 18/200\n",
            "958/958 - 11s - loss: 5.0169 - accuracy: 0.1784 - 11s/epoch - 12ms/step\n",
            "Epoch 19/200\n",
            "958/958 - 12s - loss: 4.8716 - accuracy: 0.1948 - 12s/epoch - 13ms/step\n",
            "Epoch 20/200\n",
            "958/958 - 12s - loss: 4.7318 - accuracy: 0.2125 - 12s/epoch - 12ms/step\n",
            "Epoch 21/200\n",
            "958/958 - 11s - loss: 4.5995 - accuracy: 0.2303 - 11s/epoch - 12ms/step\n",
            "Epoch 22/200\n",
            "958/958 - 11s - loss: 4.4708 - accuracy: 0.2447 - 11s/epoch - 12ms/step\n",
            "Epoch 23/200\n",
            "958/958 - 12s - loss: 4.3467 - accuracy: 0.2614 - 12s/epoch - 12ms/step\n",
            "Epoch 24/200\n",
            "958/958 - 11s - loss: 4.2297 - accuracy: 0.2784 - 11s/epoch - 12ms/step\n",
            "Epoch 25/200\n",
            "958/958 - 12s - loss: 4.1156 - accuracy: 0.2945 - 12s/epoch - 12ms/step\n",
            "Epoch 26/200\n",
            "958/958 - 11s - loss: 4.0065 - accuracy: 0.3091 - 11s/epoch - 11ms/step\n",
            "Epoch 27/200\n",
            "958/958 - 11s - loss: 3.9032 - accuracy: 0.3259 - 11s/epoch - 12ms/step\n",
            "Epoch 28/200\n",
            "958/958 - 12s - loss: 3.8034 - accuracy: 0.3406 - 12s/epoch - 12ms/step\n",
            "Epoch 29/200\n",
            "958/958 - 11s - loss: 3.7093 - accuracy: 0.3554 - 11s/epoch - 12ms/step\n",
            "Epoch 30/200\n",
            "958/958 - 11s - loss: 3.6167 - accuracy: 0.3692 - 11s/epoch - 12ms/step\n",
            "Epoch 31/200\n",
            "958/958 - 12s - loss: 3.5304 - accuracy: 0.3827 - 12s/epoch - 12ms/step\n",
            "Epoch 32/200\n",
            "958/958 - 13s - loss: 3.4484 - accuracy: 0.3945 - 13s/epoch - 13ms/step\n",
            "Epoch 33/200\n",
            "958/958 - 14s - loss: 3.3688 - accuracy: 0.4058 - 14s/epoch - 15ms/step\n",
            "Epoch 34/200\n",
            "958/958 - 13s - loss: 3.2947 - accuracy: 0.4169 - 13s/epoch - 14ms/step\n",
            "Epoch 35/200\n",
            "958/958 - 13s - loss: 3.2219 - accuracy: 0.4269 - 13s/epoch - 13ms/step\n",
            "Epoch 36/200\n",
            "958/958 - 12s - loss: 3.1531 - accuracy: 0.4371 - 12s/epoch - 12ms/step\n",
            "Epoch 37/200\n",
            "958/958 - 13s - loss: 3.0883 - accuracy: 0.4456 - 13s/epoch - 14ms/step\n",
            "Epoch 38/200\n",
            "958/958 - 12s - loss: 3.0263 - accuracy: 0.4551 - 12s/epoch - 12ms/step\n",
            "Epoch 39/200\n",
            "958/958 - 12s - loss: 2.9674 - accuracy: 0.4642 - 12s/epoch - 13ms/step\n",
            "Epoch 40/200\n",
            "958/958 - 13s - loss: 2.9093 - accuracy: 0.4722 - 13s/epoch - 13ms/step\n",
            "Epoch 41/200\n",
            "958/958 - 11s - loss: 2.8558 - accuracy: 0.4783 - 11s/epoch - 12ms/step\n",
            "Epoch 42/200\n",
            "958/958 - 12s - loss: 2.8057 - accuracy: 0.4849 - 12s/epoch - 13ms/step\n",
            "Epoch 43/200\n",
            "958/958 - 11s - loss: 2.7655 - accuracy: 0.4901 - 11s/epoch - 12ms/step\n",
            "Epoch 44/200\n",
            "958/958 - 15s - loss: 2.7071 - accuracy: 0.4981 - 15s/epoch - 15ms/step\n",
            "Epoch 45/200\n",
            "958/958 - 15s - loss: 2.6656 - accuracy: 0.5048 - 15s/epoch - 16ms/step\n",
            "Epoch 46/200\n",
            "958/958 - 13s - loss: 2.6265 - accuracy: 0.5106 - 13s/epoch - 13ms/step\n",
            "Epoch 47/200\n",
            "958/958 - 12s - loss: 2.5835 - accuracy: 0.5173 - 12s/epoch - 13ms/step\n",
            "Epoch 48/200\n",
            "958/958 - 12s - loss: 2.5537 - accuracy: 0.5192 - 12s/epoch - 13ms/step\n",
            "Epoch 49/200\n",
            "958/958 - 12s - loss: 2.5104 - accuracy: 0.5250 - 12s/epoch - 12ms/step\n",
            "Epoch 50/200\n",
            "958/958 - 11s - loss: 2.4741 - accuracy: 0.5302 - 11s/epoch - 12ms/step\n",
            "Epoch 51/200\n",
            "958/958 - 11s - loss: 2.4409 - accuracy: 0.5364 - 11s/epoch - 12ms/step\n",
            "Epoch 52/200\n",
            "958/958 - 11s - loss: 2.4075 - accuracy: 0.5403 - 11s/epoch - 11ms/step\n",
            "Epoch 53/200\n",
            "958/958 - 11s - loss: 2.3756 - accuracy: 0.5450 - 11s/epoch - 11ms/step\n",
            "Epoch 54/200\n",
            "958/958 - 12s - loss: 2.3462 - accuracy: 0.5486 - 12s/epoch - 12ms/step\n",
            "Epoch 55/200\n",
            "958/958 - 11s - loss: 2.3215 - accuracy: 0.5529 - 11s/epoch - 12ms/step\n",
            "Epoch 56/200\n",
            "958/958 - 12s - loss: 2.2915 - accuracy: 0.5547 - 12s/epoch - 13ms/step\n",
            "Epoch 57/200\n",
            "958/958 - 11s - loss: 2.2664 - accuracy: 0.5580 - 11s/epoch - 12ms/step\n",
            "Epoch 58/200\n",
            "958/958 - 11s - loss: 2.2396 - accuracy: 0.5616 - 11s/epoch - 12ms/step\n",
            "Epoch 59/200\n",
            "958/958 - 11s - loss: 2.2140 - accuracy: 0.5634 - 11s/epoch - 12ms/step\n",
            "Epoch 60/200\n",
            "958/958 - 11s - loss: 2.1946 - accuracy: 0.5681 - 11s/epoch - 12ms/step\n",
            "Epoch 61/200\n",
            "958/958 - 11s - loss: 2.1712 - accuracy: 0.5700 - 11s/epoch - 11ms/step\n",
            "Epoch 62/200\n",
            "958/958 - 12s - loss: 2.1465 - accuracy: 0.5760 - 12s/epoch - 12ms/step\n",
            "Epoch 63/200\n",
            "958/958 - 14s - loss: 2.1254 - accuracy: 0.5747 - 14s/epoch - 14ms/step\n",
            "Epoch 64/200\n",
            "958/958 - 12s - loss: 2.1077 - accuracy: 0.5780 - 12s/epoch - 12ms/step\n",
            "Epoch 65/200\n",
            "958/958 - 13s - loss: 2.0890 - accuracy: 0.5811 - 13s/epoch - 13ms/step\n",
            "Epoch 66/200\n",
            "958/958 - 12s - loss: 2.0667 - accuracy: 0.5840 - 12s/epoch - 12ms/step\n",
            "Epoch 67/200\n",
            "958/958 - 11s - loss: 2.0500 - accuracy: 0.5843 - 11s/epoch - 12ms/step\n",
            "Epoch 68/200\n",
            "958/958 - 12s - loss: 2.0346 - accuracy: 0.5873 - 12s/epoch - 12ms/step\n",
            "Epoch 69/200\n",
            "958/958 - 11s - loss: 2.0196 - accuracy: 0.5901 - 11s/epoch - 12ms/step\n",
            "Epoch 70/200\n",
            "958/958 - 11s - loss: 1.9997 - accuracy: 0.5909 - 11s/epoch - 12ms/step\n",
            "Epoch 71/200\n",
            "958/958 - 11s - loss: 1.9853 - accuracy: 0.5931 - 11s/epoch - 12ms/step\n",
            "Epoch 72/200\n",
            "958/958 - 12s - loss: 1.9668 - accuracy: 0.5956 - 12s/epoch - 12ms/step\n",
            "Epoch 73/200\n",
            "958/958 - 11s - loss: 1.9558 - accuracy: 0.5960 - 11s/epoch - 12ms/step\n",
            "Epoch 74/200\n",
            "958/958 - 12s - loss: 1.9427 - accuracy: 0.5976 - 12s/epoch - 12ms/step\n",
            "Epoch 75/200\n",
            "958/958 - 11s - loss: 1.9248 - accuracy: 0.6010 - 11s/epoch - 12ms/step\n",
            "Epoch 76/200\n",
            "958/958 - 11s - loss: 1.9165 - accuracy: 0.6011 - 11s/epoch - 12ms/step\n",
            "Epoch 77/200\n",
            "958/958 - 11s - loss: 1.8997 - accuracy: 0.6027 - 11s/epoch - 12ms/step\n",
            "Epoch 78/200\n",
            "958/958 - 11s - loss: 1.8919 - accuracy: 0.6037 - 11s/epoch - 12ms/step\n",
            "Epoch 79/200\n",
            "958/958 - 11s - loss: 1.8766 - accuracy: 0.6037 - 11s/epoch - 12ms/step\n",
            "Epoch 80/200\n",
            "958/958 - 11s - loss: 1.8606 - accuracy: 0.6060 - 11s/epoch - 12ms/step\n",
            "Epoch 81/200\n",
            "958/958 - 11s - loss: 1.8506 - accuracy: 0.6097 - 11s/epoch - 12ms/step\n",
            "Epoch 82/200\n",
            "958/958 - 11s - loss: 1.8381 - accuracy: 0.6131 - 11s/epoch - 12ms/step\n",
            "Epoch 83/200\n",
            "958/958 - 11s - loss: 1.8275 - accuracy: 0.6121 - 11s/epoch - 12ms/step\n",
            "Epoch 84/200\n",
            "958/958 - 11s - loss: 1.8218 - accuracy: 0.6113 - 11s/epoch - 12ms/step\n",
            "Epoch 85/200\n",
            "958/958 - 11s - loss: 1.8105 - accuracy: 0.6133 - 11s/epoch - 12ms/step\n",
            "Epoch 86/200\n",
            "958/958 - 11s - loss: 1.7959 - accuracy: 0.6136 - 11s/epoch - 12ms/step\n",
            "Epoch 87/200\n",
            "958/958 - 12s - loss: 1.7934 - accuracy: 0.6152 - 12s/epoch - 12ms/step\n",
            "Epoch 88/200\n",
            "958/958 - 11s - loss: 1.7863 - accuracy: 0.6165 - 11s/epoch - 12ms/step\n",
            "Epoch 89/200\n",
            "958/958 - 11s - loss: 1.7851 - accuracy: 0.6145 - 11s/epoch - 12ms/step\n",
            "Epoch 90/200\n",
            "958/958 - 11s - loss: 1.7585 - accuracy: 0.6187 - 11s/epoch - 12ms/step\n",
            "Epoch 91/200\n",
            "958/958 - 11s - loss: 1.7505 - accuracy: 0.6210 - 11s/epoch - 12ms/step\n",
            "Epoch 92/200\n",
            "958/958 - 11s - loss: 1.7482 - accuracy: 0.6194 - 11s/epoch - 12ms/step\n",
            "Epoch 93/200\n",
            "958/958 - 11s - loss: 1.7413 - accuracy: 0.6212 - 11s/epoch - 12ms/step\n",
            "Epoch 94/200\n",
            "958/958 - 11s - loss: 1.7225 - accuracy: 0.6239 - 11s/epoch - 12ms/step\n",
            "Epoch 95/200\n",
            "958/958 - 11s - loss: 1.7136 - accuracy: 0.6248 - 11s/epoch - 12ms/step\n",
            "Epoch 96/200\n",
            "958/958 - 11s - loss: 1.7106 - accuracy: 0.6238 - 11s/epoch - 12ms/step\n",
            "Epoch 97/200\n",
            "958/958 - 11s - loss: 1.7078 - accuracy: 0.6236 - 11s/epoch - 12ms/step\n",
            "Epoch 98/200\n",
            "958/958 - 11s - loss: 1.6957 - accuracy: 0.6255 - 11s/epoch - 12ms/step\n",
            "Epoch 99/200\n",
            "958/958 - 11s - loss: 1.6940 - accuracy: 0.6264 - 11s/epoch - 12ms/step\n",
            "Epoch 100/200\n",
            "958/958 - 12s - loss: 1.6803 - accuracy: 0.6295 - 12s/epoch - 12ms/step\n",
            "Epoch 101/200\n",
            "958/958 - 11s - loss: 1.6749 - accuracy: 0.6267 - 11s/epoch - 12ms/step\n",
            "Epoch 102/200\n",
            "958/958 - 12s - loss: 1.6821 - accuracy: 0.6265 - 12s/epoch - 12ms/step\n",
            "Epoch 103/200\n",
            "958/958 - 11s - loss: 1.6665 - accuracy: 0.6285 - 11s/epoch - 12ms/step\n",
            "Epoch 104/200\n",
            "958/958 - 11s - loss: 1.6587 - accuracy: 0.6298 - 11s/epoch - 12ms/step\n",
            "Epoch 105/200\n",
            "958/958 - 11s - loss: 1.6480 - accuracy: 0.6330 - 11s/epoch - 12ms/step\n",
            "Epoch 106/200\n",
            "958/958 - 11s - loss: 1.6391 - accuracy: 0.6338 - 11s/epoch - 11ms/step\n",
            "Epoch 107/200\n",
            "958/958 - 11s - loss: 1.6392 - accuracy: 0.6330 - 11s/epoch - 12ms/step\n",
            "Epoch 108/200\n",
            "958/958 - 11s - loss: 1.6273 - accuracy: 0.6346 - 11s/epoch - 12ms/step\n",
            "Epoch 109/200\n",
            "958/958 - 11s - loss: 1.6263 - accuracy: 0.6326 - 11s/epoch - 12ms/step\n",
            "Epoch 110/200\n",
            "958/958 - 11s - loss: 1.6201 - accuracy: 0.6337 - 11s/epoch - 12ms/step\n",
            "Epoch 111/200\n",
            "958/958 - 12s - loss: 1.6110 - accuracy: 0.6355 - 12s/epoch - 12ms/step\n",
            "Epoch 112/200\n",
            "958/958 - 11s - loss: 1.6034 - accuracy: 0.6366 - 11s/epoch - 12ms/step\n",
            "Epoch 113/200\n",
            "958/958 - 12s - loss: 1.6020 - accuracy: 0.6360 - 12s/epoch - 12ms/step\n",
            "Epoch 114/200\n",
            "958/958 - 11s - loss: 1.6066 - accuracy: 0.6333 - 11s/epoch - 12ms/step\n",
            "Epoch 115/200\n",
            "958/958 - 11s - loss: 1.5931 - accuracy: 0.6396 - 11s/epoch - 12ms/step\n",
            "Epoch 116/200\n",
            "958/958 - 12s - loss: 1.5878 - accuracy: 0.6384 - 12s/epoch - 12ms/step\n",
            "Epoch 117/200\n",
            "958/958 - 11s - loss: 1.5823 - accuracy: 0.6381 - 11s/epoch - 12ms/step\n",
            "Epoch 118/200\n",
            "958/958 - 11s - loss: 1.5815 - accuracy: 0.6386 - 11s/epoch - 12ms/step\n",
            "Epoch 119/200\n",
            "958/958 - 11s - loss: 1.5768 - accuracy: 0.6410 - 11s/epoch - 12ms/step\n",
            "Epoch 120/200\n",
            "958/958 - 11s - loss: 1.5690 - accuracy: 0.6385 - 11s/epoch - 12ms/step\n",
            "Epoch 121/200\n",
            "958/958 - 11s - loss: 1.5668 - accuracy: 0.6370 - 11s/epoch - 12ms/step\n",
            "Epoch 122/200\n",
            "958/958 - 11s - loss: 1.5570 - accuracy: 0.6408 - 11s/epoch - 12ms/step\n",
            "Epoch 123/200\n",
            "958/958 - 11s - loss: 1.5520 - accuracy: 0.6414 - 11s/epoch - 12ms/step\n",
            "Epoch 124/200\n",
            "958/958 - 11s - loss: 1.5498 - accuracy: 0.6410 - 11s/epoch - 12ms/step\n",
            "Epoch 125/200\n",
            "958/958 - 12s - loss: 1.5447 - accuracy: 0.6412 - 12s/epoch - 12ms/step\n",
            "Epoch 126/200\n",
            "958/958 - 12s - loss: 1.5422 - accuracy: 0.6434 - 12s/epoch - 12ms/step\n",
            "Epoch 127/200\n",
            "958/958 - 13s - loss: 1.5394 - accuracy: 0.6431 - 13s/epoch - 14ms/step\n",
            "Epoch 128/200\n",
            "958/958 - 15s - loss: 1.5337 - accuracy: 0.6420 - 15s/epoch - 16ms/step\n",
            "Epoch 129/200\n",
            "958/958 - 16s - loss: 1.5279 - accuracy: 0.6455 - 16s/epoch - 17ms/step\n",
            "Epoch 130/200\n",
            "958/958 - 13s - loss: 1.5252 - accuracy: 0.6450 - 13s/epoch - 13ms/step\n",
            "Epoch 131/200\n",
            "958/958 - 12s - loss: 1.5276 - accuracy: 0.6434 - 12s/epoch - 13ms/step\n",
            "Epoch 132/200\n",
            "958/958 - 12s - loss: 1.5122 - accuracy: 0.6443 - 12s/epoch - 12ms/step\n",
            "Epoch 133/200\n",
            "958/958 - 11s - loss: 1.5129 - accuracy: 0.6455 - 11s/epoch - 12ms/step\n",
            "Epoch 134/200\n",
            "958/958 - 13s - loss: 1.5098 - accuracy: 0.6454 - 13s/epoch - 13ms/step\n",
            "Epoch 135/200\n",
            "958/958 - 12s - loss: 1.5065 - accuracy: 0.6485 - 12s/epoch - 12ms/step\n",
            "Epoch 136/200\n",
            "958/958 - 12s - loss: 1.4995 - accuracy: 0.6461 - 12s/epoch - 13ms/step\n",
            "Epoch 137/200\n",
            "958/958 - 12s - loss: 1.4964 - accuracy: 0.6469 - 12s/epoch - 13ms/step\n",
            "Epoch 138/200\n",
            "958/958 - 13s - loss: 1.4939 - accuracy: 0.6488 - 13s/epoch - 14ms/step\n",
            "Epoch 139/200\n",
            "958/958 - 12s - loss: 1.4930 - accuracy: 0.6476 - 12s/epoch - 13ms/step\n",
            "Epoch 140/200\n",
            "958/958 - 13s - loss: 1.4826 - accuracy: 0.6500 - 13s/epoch - 13ms/step\n",
            "Epoch 141/200\n",
            "958/958 - 12s - loss: 1.4838 - accuracy: 0.6495 - 12s/epoch - 13ms/step\n",
            "Epoch 142/200\n",
            "958/958 - 12s - loss: 1.4973 - accuracy: 0.6431 - 12s/epoch - 13ms/step\n",
            "Epoch 143/200\n",
            "958/958 - 11s - loss: 1.4778 - accuracy: 0.6492 - 11s/epoch - 12ms/step\n",
            "Epoch 144/200\n",
            "958/958 - 11s - loss: 1.4741 - accuracy: 0.6511 - 11s/epoch - 12ms/step\n",
            "Epoch 145/200\n",
            "958/958 - 12s - loss: 1.4721 - accuracy: 0.6487 - 12s/epoch - 13ms/step\n",
            "Epoch 146/200\n",
            "958/958 - 11s - loss: 1.4695 - accuracy: 0.6515 - 11s/epoch - 12ms/step\n",
            "Epoch 147/200\n",
            "958/958 - 11s - loss: 1.4667 - accuracy: 0.6508 - 11s/epoch - 12ms/step\n",
            "Epoch 148/200\n",
            "958/958 - 11s - loss: 1.4634 - accuracy: 0.6511 - 11s/epoch - 12ms/step\n",
            "Epoch 149/200\n",
            "958/958 - 12s - loss: 1.4666 - accuracy: 0.6497 - 12s/epoch - 12ms/step\n",
            "Epoch 150/200\n",
            "958/958 - 12s - loss: 1.4511 - accuracy: 0.6536 - 12s/epoch - 13ms/step\n",
            "Epoch 151/200\n",
            "958/958 - 12s - loss: 1.4519 - accuracy: 0.6532 - 12s/epoch - 12ms/step\n",
            "Epoch 152/200\n",
            "958/958 - 12s - loss: 1.4523 - accuracy: 0.6522 - 12s/epoch - 13ms/step\n",
            "Epoch 153/200\n",
            "958/958 - 12s - loss: 1.4530 - accuracy: 0.6505 - 12s/epoch - 12ms/step\n",
            "Epoch 154/200\n",
            "958/958 - 12s - loss: 1.4448 - accuracy: 0.6549 - 12s/epoch - 12ms/step\n",
            "Epoch 155/200\n",
            "958/958 - 13s - loss: 1.4448 - accuracy: 0.6533 - 13s/epoch - 14ms/step\n",
            "Epoch 156/200\n",
            "958/958 - 15s - loss: 1.4440 - accuracy: 0.6540 - 15s/epoch - 15ms/step\n",
            "Epoch 157/200\n",
            "958/958 - 13s - loss: 1.4407 - accuracy: 0.6528 - 13s/epoch - 14ms/step\n",
            "Epoch 158/200\n",
            "958/958 - 13s - loss: 1.4489 - accuracy: 0.6499 - 13s/epoch - 14ms/step\n",
            "Epoch 159/200\n",
            "958/958 - 13s - loss: 1.4316 - accuracy: 0.6546 - 13s/epoch - 14ms/step\n",
            "Epoch 160/200\n",
            "958/958 - 13s - loss: 1.4242 - accuracy: 0.6563 - 13s/epoch - 14ms/step\n",
            "Epoch 161/200\n",
            "958/958 - 13s - loss: 1.4260 - accuracy: 0.6541 - 13s/epoch - 13ms/step\n",
            "Epoch 162/200\n",
            "958/958 - 12s - loss: 1.4245 - accuracy: 0.6556 - 12s/epoch - 12ms/step\n",
            "Epoch 163/200\n",
            "958/958 - 11s - loss: 1.4318 - accuracy: 0.6533 - 11s/epoch - 12ms/step\n",
            "Epoch 164/200\n",
            "958/958 - 12s - loss: 1.4214 - accuracy: 0.6556 - 12s/epoch - 13ms/step\n",
            "Epoch 165/200\n",
            "958/958 - 12s - loss: 1.4121 - accuracy: 0.6582 - 12s/epoch - 13ms/step\n",
            "Epoch 166/200\n",
            "958/958 - 11s - loss: 1.4075 - accuracy: 0.6594 - 11s/epoch - 12ms/step\n",
            "Epoch 167/200\n",
            "958/958 - 12s - loss: 1.4185 - accuracy: 0.6565 - 12s/epoch - 12ms/step\n",
            "Epoch 168/200\n",
            "958/958 - 12s - loss: 1.4120 - accuracy: 0.6570 - 12s/epoch - 12ms/step\n",
            "Epoch 169/200\n",
            "958/958 - 11s - loss: 1.4050 - accuracy: 0.6590 - 11s/epoch - 12ms/step\n",
            "Epoch 170/200\n",
            "958/958 - 12s - loss: 1.4033 - accuracy: 0.6587 - 12s/epoch - 12ms/step\n",
            "Epoch 171/200\n",
            "958/958 - 11s - loss: 1.4062 - accuracy: 0.6560 - 11s/epoch - 12ms/step\n",
            "Epoch 172/200\n",
            "958/958 - 11s - loss: 1.4071 - accuracy: 0.6589 - 11s/epoch - 12ms/step\n",
            "Epoch 173/200\n",
            "958/958 - 11s - loss: 1.4073 - accuracy: 0.6553 - 11s/epoch - 11ms/step\n",
            "Epoch 174/200\n",
            "958/958 - 11s - loss: 1.3965 - accuracy: 0.6589 - 11s/epoch - 11ms/step\n",
            "Epoch 175/200\n",
            "958/958 - 11s - loss: 1.3923 - accuracy: 0.6592 - 11s/epoch - 11ms/step\n",
            "Epoch 176/200\n",
            "958/958 - 11s - loss: 1.3924 - accuracy: 0.6597 - 11s/epoch - 12ms/step\n",
            "Epoch 177/200\n",
            "958/958 - 11s - loss: 1.3916 - accuracy: 0.6612 - 11s/epoch - 11ms/step\n",
            "Epoch 178/200\n",
            "958/958 - 11s - loss: 1.3901 - accuracy: 0.6600 - 11s/epoch - 11ms/step\n",
            "Epoch 179/200\n",
            "958/958 - 11s - loss: 1.3882 - accuracy: 0.6591 - 11s/epoch - 12ms/step\n",
            "Epoch 180/200\n",
            "958/958 - 11s - loss: 1.3956 - accuracy: 0.6583 - 11s/epoch - 11ms/step\n",
            "Epoch 181/200\n",
            "958/958 - 11s - loss: 1.3778 - accuracy: 0.6618 - 11s/epoch - 12ms/step\n",
            "Epoch 182/200\n",
            "958/958 - 11s - loss: 1.3845 - accuracy: 0.6594 - 11s/epoch - 11ms/step\n",
            "Epoch 183/200\n",
            "958/958 - 11s - loss: 1.3801 - accuracy: 0.6615 - 11s/epoch - 12ms/step\n",
            "Epoch 184/200\n",
            "958/958 - 11s - loss: 1.3754 - accuracy: 0.6601 - 11s/epoch - 11ms/step\n",
            "Epoch 185/200\n",
            "958/958 - 12s - loss: 1.3762 - accuracy: 0.6610 - 12s/epoch - 12ms/step\n",
            "Epoch 186/200\n",
            "958/958 - 12s - loss: 1.3741 - accuracy: 0.6618 - 12s/epoch - 13ms/step\n",
            "Epoch 187/200\n",
            "958/958 - 12s - loss: 1.3764 - accuracy: 0.6597 - 12s/epoch - 13ms/step\n",
            "Epoch 188/200\n",
            "958/958 - 13s - loss: 1.3726 - accuracy: 0.6614 - 13s/epoch - 14ms/step\n",
            "Epoch 189/200\n",
            "958/958 - 13s - loss: 1.3775 - accuracy: 0.6608 - 13s/epoch - 14ms/step\n",
            "Epoch 190/200\n",
            "958/958 - 12s - loss: 1.3796 - accuracy: 0.6590 - 12s/epoch - 13ms/step\n",
            "Epoch 191/200\n",
            "958/958 - 12s - loss: 1.3719 - accuracy: 0.6609 - 12s/epoch - 12ms/step\n",
            "Epoch 192/200\n",
            "958/958 - 12s - loss: 1.3622 - accuracy: 0.6623 - 12s/epoch - 12ms/step\n",
            "Epoch 193/200\n",
            "958/958 - 12s - loss: 1.3609 - accuracy: 0.6632 - 12s/epoch - 12ms/step\n",
            "Epoch 194/200\n",
            "958/958 - 12s - loss: 1.3609 - accuracy: 0.6613 - 12s/epoch - 12ms/step\n",
            "Epoch 195/200\n",
            "958/958 - 12s - loss: 1.3573 - accuracy: 0.6643 - 12s/epoch - 12ms/step\n",
            "Epoch 196/200\n",
            "958/958 - 12s - loss: 1.3625 - accuracy: 0.6612 - 12s/epoch - 13ms/step\n",
            "Epoch 197/200\n",
            "958/958 - 12s - loss: 1.3633 - accuracy: 0.6633 - 12s/epoch - 13ms/step\n",
            "Epoch 198/200\n",
            "958/958 - 12s - loss: 1.3533 - accuracy: 0.6637 - 12s/epoch - 13ms/step\n",
            "Epoch 199/200\n",
            "958/958 - 12s - loss: 1.3560 - accuracy: 0.6633 - 12s/epoch - 12ms/step\n",
            "Epoch 200/200\n",
            "958/958 - 15s - loss: 1.3482 - accuracy: 0.6657 - 15s/epoch - 16ms/step\n"
          ]
        },
        {
          "data": {
            "text/plain": [
              "<keras.callbacks.History at 0x7f919937ce10>"
            ]
          },
          "execution_count": 77,
          "metadata": {},
          "output_type": "execute_result"
        }
      ],
      "source": [
        "embedding_dim = 10\n",
        "hidden_units = 32\n",
        "\n",
        "model = Sequential()\n",
        "model.add(Embedding(vocab_size, embedding_dim))\n",
        "model.add(SimpleRNN(hidden_units))\n",
        "model.add(Dense(vocab_size, activation='softmax'))\n",
        "model.compile(loss='categorical_crossentropy', optimizer='adam', metrics=['accuracy'])\n",
        "model.fit(X, y, epochs=200, verbose=2)"
      ]
    },
    {
      "cell_type": "code",
      "execution_count": null,
      "metadata": {
        "colab": {
          "background_save": true
        },
        "id": "d3twOR_rHJ39"
      },
      "outputs": [],
      "source": [
        "def sentence_generation(model, tokenizer, current_word, n): # 모델, 토크나이저, 현재 단어, 반복할 횟수\n",
        "    init_word = current_word\n",
        "    sentence = ''\n",
        "\n",
        "    # n번 반복\n",
        "    for _ in range(n):\n",
        "        # 현재 단어에 대한 정수 인코딩과 패딩\n",
        "        encoded = tokenizer.texts_to_sequences([current_word])[0]\n",
        "        encoded = pad_sequences([encoded], maxlen=5, padding='pre')\n",
        "        # 입력한 X(현재 단어)에 대해서 Y를 예측하고 Y(예측한 단어)를 result에 저장.\n",
        "        result = model.predict(encoded, verbose=0)\n",
        "        result = np.argmax(result, axis=1)\n",
        "\n",
        "        for word, index in tokenizer.word_index.items(): \n",
        "            # 만약 예측한 단어와 인덱스와 동일한 단어가 있다면 break\n",
        "            if index == result:\n",
        "                break\n",
        "\n",
        "        # 현재 단어 + ' ' + 예측 단어를 현재 단어로 변경\n",
        "        current_word = current_word + ' '  + word\n",
        "\n",
        "        # 예측 단어를 문장에 저장\n",
        "        sentence = sentence + ' ' + word\n",
        "\n",
        "    sentence = init_word + sentence\n",
        "    return sentence"
      ]
    }
  ],
  "metadata": {
    "colab": {
      "collapsed_sections": [],
      "name": "자연어7.ipynb",
      "provenance": [],
      "authorship_tag": "ABX9TyNLkgkI/mmJRZF0MN1Lulom",
      "include_colab_link": true
    },
    "kernelspec": {
      "display_name": "Python 3",
      "name": "python3"
    },
    "language_info": {
      "name": "python"
    }
  },
  "nbformat": 4,
  "nbformat_minor": 0
}